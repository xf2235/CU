{
 "cells": [
  {
   "cell_type": "markdown",
   "id": "e27de846-ec65-40f0-b9aa-dc864acbe83f",
   "metadata": {
    "tags": []
   },
   "source": [
    "# Module 8 -- Modeling Strategies & Supervised ML"
   ]
  },
  {
   "cell_type": "markdown",
   "id": "72cb3b02-41a3-4431-a076-acab24ace4b4",
   "metadata": {
    "tags": []
   },
   "source": [
    "## Table of Contents <span id=\"toc\" class=\"anchor\">\n",
    "* [Section 1: data preparation](#Section_1)\n",
    "    * [Section 1.1: Load data](#Section_11)\n",
    "    * [Section 1.2: data preparation](#Section_12)\n",
    "* [Section 2: EDA](#Section_2)\n",
    "    * [Section 2.1: Distribution plots](#Section_21)\n",
    "    * [Section 2.2: Count by state(#Sect](#Section_22)    \n",
    "    * [Section 2.3: Count of top cities](#Section_23)\n",
    "* [Section 3: Feature engineering](#Section_3)\n",
    "    * [Section 3.1: Create the benchmark table](#Section_31)\n",
    "        * [3.2.1 Feature 1: Average Total Payment by State & DRG](#Section_311)\n",
    "        * [3.2.2 Feature 2: Average Total Discharge by City](#Section_312)\n",
    "        * [3.2.3 Feature 3: Average Total Discharges by State & DRG](#Section_313)\n",
    "        * [3.2.4 Feature 4: Average Medicare by City & DRG](#Section_314)\n",
    "        * [3.2.5 Feature 5: Average Medicare Payments by State & DRG](#Section_315)\n",
    "        * [3.2.6 Feature 6: Average Total Payments by City](#Section_316)\n",
    "        * [3.2.7 Feature 7: Average Total Payments by Region & DRG](#Section_317)\n",
    "        * [3.2.8 Feature 8: Average Total Discharges by Region & DRG](#Section_318)\n",
    "        * [3.2.9 Feature 9: Average Medicare Payments by Region & DRG](#Section_319)\n",
    "        * [3.2.10 Feature 10: Average Total Payments by Region & DRG](#Section_3110)\n",
    "    * [Section 3.2: Create features](#Section_32)    \n",
    "        * [3.2.1 Feature 1: The ratio to average payment by state and DRG](#Section_321)\n",
    "        * [3.2.2 Feature 2: The ratio to average total discharges by city](#Section_322)\n",
    "        * [3.2.3 Feature 3: The ratio to total discharges by state and DRG](#Section_323)\n",
    "        * [3.2.4 Feature 4: The ratio to average medicare by city and DRG](#Section_324)\n",
    "        * [3.2.5 Feature 5: The ratio to average medicare payment by state and DRG](#Section_325)\n",
    "        * [3.2.6 Feature 6: The ratio to average total payment by city](#Section_326)\n",
    "        * [3.2.7 Feature 7: The ratio to average payment by region and DRG](#Section_327)\n",
    "        * [3.2.8 Feature 8: The ratio to total discharges by state and DRG](#Section_328)\n",
    "        * [3.2.9 Feature 9: The ratio to average medicare payment by region and DRG](#Section_329)\n",
    "        * [3.2.10 Feature 10: The ratio to total payment by region and DRG](#Section_3210)\n",
    "* [Section 4: Unsupervised Machine Learning Techniques II](#Section_4)\n",
    "    * [4.1 Autoencoders](#Section_41)\n",
    "        * [4.1.1 Model 1: [10, 2, 2, 10]](#Section_411)\n",
    "            * [4.1.1.1 Build your model](#Section_4111)\n",
    "            * [4.1.1.2 Determine a reasonable boundary](#Section_4112)\n",
    "            * [4.1.1.3 Present the summary statistics of the normal and abnormal clusters](#Section_4113)\n",
    "        * [4.1.2 Model 2: [10, 5, 2, 2, 5, 10]](#Section_412)\n",
    "            * [4.1.1.1 Build your model](#Section_4121)\n",
    "            * [4.1.1.2 Determine a reasonable boundary](#Section_4122)\n",
    "            * [4.1.1.3 Present the summary statistics of the normal and abnormal clusters](#Section_4123)\n",
    "        * [4.1.3 Model 3: [10, 8, 5, 2, 2, 5, 8, 10]](#Section_413)\n",
    "            * [4.1.3.1 Build your model](#Section_4131)\n",
    "            * [4.1.3.2 Determine a reasonable boundary](#Section_4132)\n",
    "            * [4.1.3.3 Present the summary statistics of the normal and abnormal clusters](#Section_4133)\n",
    "    * [4.2 Isolation Forest (iForest)](#Section_42)\n",
    "        * [4.2.1 Model 1: max_samples = 100](#Section_421)\n",
    "            * [4.2.1 Build your model](#Section_4211)\n",
    "            * [4.2.2 Determine a reasonable boundary](#Section_4212)\n",
    "            * [4.2.3 Present the summary statistics of the normal and abnormal clusters](#Section_4213)\n",
    "        * [4.2.2 Model 2: max_samples = 80](#Section_421)\n",
    "            * [4.2.2.1 Build your model](#Section_4221)\n",
    "            * [4.2.2.2 Determine a reasonable boundary](#Section_4222)\n",
    "            * [4.2.2.3 Present the summary statistics of the normal and abnormal clusters](#Section_4223)\n",
    "        * [4.2.3 Model 3: max_samples = 60](#Section_423)\n",
    "            * [4.2.3.1 Build your model](#Section_4231)\n",
    "            * [4.2.3.2 Determine a reasonable boundary](#Section_4232)\n",
    "            * [4.2.3.3 Present the summary statistics of the normal and abnormal clusters](#Section_4233)"
   ]
  },
  {
   "cell_type": "code",
   "execution_count": null,
   "id": "6eeb1c9a-a80d-4e19-9aa2-6e4222bc9078",
   "metadata": {},
   "outputs": [],
   "source": []
  },
  {
   "cell_type": "markdown",
   "id": "dac43237-76d9-41a1-a07a-5db4d337ae13",
   "metadata": {},
   "source": [
    "## Section 1: Data preparation <a class=\"anchor\" id=\"Section_1\"></a>\n",
    "[Back to Table of Content](#toc)\n",
    "### Section 1.1: Load Data <a class=\"anchor\" id=\"Section_11\"></a>\n",
    "* Import packages and data \n",
    "* Rename column\n",
    "* Change data type and transfer spending amount with dollar sign into numeric\n",
    "* Understand the data strcuture. "
   ]
  }
 ],
 "metadata": {
  "kernelspec": {
   "display_name": "Python 3 (ipykernel)",
   "language": "python",
   "name": "python3"
  },
  "language_info": {
   "codemirror_mode": {
    "name": "ipython",
    "version": 3
   },
   "file_extension": ".py",
   "mimetype": "text/x-python",
   "name": "python",
   "nbconvert_exporter": "python",
   "pygments_lexer": "ipython3",
   "version": "3.9.7"
  }
 },
 "nbformat": 4,
 "nbformat_minor": 5
}
