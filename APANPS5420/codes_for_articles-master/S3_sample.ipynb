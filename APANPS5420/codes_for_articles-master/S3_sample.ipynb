{
 "cells": [
  {
   "cell_type": "markdown",
   "id": "9a1b92a5-8216-4784-abcb-bbaa6d5001e8",
   "metadata": {},
   "source": [
    "## Run AWS BOTO3"
   ]
  },
  {
   "cell_type": "code",
   "execution_count": 1,
   "id": "e04f5082-e399-4927-a86e-a0270bce9542",
   "metadata": {},
   "outputs": [
    {
     "name": "stdout",
     "output_type": "stream",
     "text": [
      "put-everything\n",
      "speech-aid\n"
     ]
    }
   ],
   "source": [
    "import boto3\n",
    "\n",
    "# Let's use Amazon S3\n",
    "s3 = boto3.resource('s3')\n",
    "\n",
    "# Print out bucket names\n",
    "for bucket in s3.buckets.all():\n",
    "    print(bucket.name)"
   ]
  },
  {
   "cell_type": "markdown",
   "id": "8d48b45a-1d6e-4450-afaa-a98b7920ae6c",
   "metadata": {},
   "source": [
    "### Upload a file"
   ]
  },
  {
   "cell_type": "code",
   "execution_count": 2,
   "id": "e263bd42",
   "metadata": {},
   "outputs": [
    {
     "data": {
      "text/plain": [
       "s3.Object(bucket_name='put-everything', key='sample.mp3')"
      ]
     },
     "execution_count": 2,
     "metadata": {},
     "output_type": "execute_result"
    }
   ],
   "source": [
    "data = open('C:/Users/sample.mp3', 'rb')\n",
    "s3.Bucket('put-everything').put_object(Key='sample.mp3', Body=data)"
   ]
  },
  {
   "cell_type": "markdown",
   "id": "af2778da-762c-4f17-9350-1c7199314eea",
   "metadata": {},
   "source": [
    "### Download a file"
   ]
  },
  {
   "cell_type": "code",
   "execution_count": 3,
   "id": "59ef773d-bad9-47db-b363-0e00c27fcd20",
   "metadata": {},
   "outputs": [],
   "source": [
    "s3 = boto3.client('s3')\n",
    "ff = 'C:/Users/sun2.jpg'\n",
    "s3.download_file('put-everything', 'sun.jpg', 'C:/Users/sample2.mp3')"
   ]
  },
  {
   "cell_type": "markdown",
   "id": "2253bcec-15fc-44e5-8717-57529dcffd00",
   "metadata": {},
   "source": [
    "### Use AWS Transcribe"
   ]
  },
  {
   "cell_type": "code",
   "execution_count": 4,
   "id": "a2212c02-6e4f-4a93-aaa4-8ec146d43570",
   "metadata": {},
   "outputs": [
    {
     "name": "stdout",
     "output_type": "stream",
     "text": [
      "What is a little bear with no teeth is called a gummy bear?\n"
     ]
    }
   ],
   "source": [
    "from __future__ import print_function\n",
    "import time\n",
    "import boto3\n",
    "import urllib.request\n",
    "import json\n",
    "transcribe = boto3.client('transcribe')\n",
    "job_name = \"job10\"\n",
    "job_uri = \"s3://put-everything/sample.mp3\"\n",
    "transcribe.start_transcription_job(\n",
    "    TranscriptionJobName=job_name,\n",
    "    Media={'MediaFileUri': job_uri},\n",
    "    MediaFormat='mp3',\n",
    "    LanguageCode='en-US'\n",
    ")\n",
    "while True:\n",
    "    status = transcribe.get_transcription_job(TranscriptionJobName=job_name)\n",
    "    if status['TranscriptionJob']['TranscriptionJobStatus'] in ['COMPLETED', 'FAILED']:\n",
    "        response = urllib.request.urlopen(status['TranscriptionJob']['Transcript']['TranscriptFileUri'])\n",
    "        data = json.loads(response.read())\n",
    "        text = data['results']['transcripts'][0]['transcript']\n",
    "        print(text)\n",
    "        break\n"
   ]
  },
  {
   "cell_type": "code",
   "execution_count": null,
   "id": "688cb344-62f5-4eef-aa4f-bfe91cb107d8",
   "metadata": {},
   "outputs": [],
   "source": []
  },
  {
   "cell_type": "code",
   "execution_count": null,
   "id": "13ddf2bd-568b-4080-81dc-ebbdc651da24",
   "metadata": {},
   "outputs": [],
   "source": []
  },
  {
   "cell_type": "code",
   "execution_count": null,
   "id": "fdedff61-de70-43f5-a2d4-7677d14bf8d9",
   "metadata": {},
   "outputs": [],
   "source": []
  }
 ],
 "metadata": {
  "kernelspec": {
   "display_name": "Python 3 (ipykernel)",
   "language": "python",
   "name": "python3"
  },
  "language_info": {
   "codemirror_mode": {
    "name": "ipython",
    "version": 3
   },
   "file_extension": ".py",
   "mimetype": "text/x-python",
   "name": "python",
   "nbconvert_exporter": "python",
   "pygments_lexer": "ipython3",
   "version": "3.8.12"
  }
 },
 "nbformat": 4,
 "nbformat_minor": 5
}
