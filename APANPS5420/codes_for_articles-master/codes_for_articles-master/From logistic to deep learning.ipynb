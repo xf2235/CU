{
 "cells": [
  {
   "cell_type": "markdown",
   "metadata": {},
   "source": [
    "<img style = \"float: right\" src = \"https://brighterion.com/wp-content/uploads/2016/07/Neural.jpg\" width = \"300\"/>\n",
    "\n",
    "## From Logistic Regression to Deep Learning\n",
    "\n",
    "Learning objectives:\n",
    "* [Objective 1] OLS\n",
    "* [Objective 2] Logistic Regression\n",
    "* [Objective 3] Neural Network\n",
    "* [Objective 4] OLS Cannot Handle Multicolinearity\n",
    "* [Objective 5] Deep learning is imune of multicolinearity\n",
    "* [Objective 6] Decision Tree is imune of multicolinearity\n",
    "* [Objective 7] Which one is more complex (more weighting coefficients)?\n",
    "* [Objective 8] Build more hidden layers\n",
    "* [Objective 9] Standardize data for better modeling performance\n",
    "* [Objective 10] L1 and L2 Regularization\n",
    "* [Objective 11] Dropout Regularization"
   ]
  },
  {
   "cell_type": "markdown",
   "metadata": {},
   "source": [
    "### Load a dataset"
   ]
  },
  {
   "cell_type": "code",
   "execution_count": 1,
   "metadata": {},
   "outputs": [
    {
     "name": "stdout",
     "output_type": "stream",
     "text": [
      "(506, 6)\n"
     ]
    }
   ],
   "source": [
    "from sklearn.datasets import load_boston\n",
    "import pandas as pd\n",
    "import numpy as np\n",
    "X, y = load_boston(return_X_y=True)\n",
    "X = pd.DataFrame(X)\n",
    "y = pd.DataFrame(y)\n",
    "X.columns = load_boston().feature_names\n",
    "          # 'CRIM', 'ZN', 'INDUS', 'CHAS', 'NOX', 'RM', 'AGE', 'DIS', 'RAD',\n",
    "          # 'TAX', 'PTRATIO', 'B', 'LSTAT'\n",
    "features = ['CRIM','ZN','RM','AGE','DIS','LSTAT']\n",
    "X = X[features]\n",
    "y.columns = ['MEDV']   # MEDV - Median value of owner-occupied homes in $1000's\n",
    "y['Y'] = np.where(y>y.mean(),1,0)\n",
    "print(X.shape)"
   ]
  },
  {
   "cell_type": "code",
   "execution_count": 2,
   "metadata": {},
   "outputs": [
    {
     "data": {
      "text/html": [
       "<div>\n",
       "<style scoped>\n",
       "    .dataframe tbody tr th:only-of-type {\n",
       "        vertical-align: middle;\n",
       "    }\n",
       "\n",
       "    .dataframe tbody tr th {\n",
       "        vertical-align: top;\n",
       "    }\n",
       "\n",
       "    .dataframe thead th {\n",
       "        text-align: right;\n",
       "    }\n",
       "</style>\n",
       "<table border=\"1\" class=\"dataframe\">\n",
       "  <thead>\n",
       "    <tr style=\"text-align: right;\">\n",
       "      <th></th>\n",
       "      <th>MEDV</th>\n",
       "      <th>Y</th>\n",
       "    </tr>\n",
       "  </thead>\n",
       "  <tbody>\n",
       "    <tr>\n",
       "      <th>0</th>\n",
       "      <td>24.0</td>\n",
       "      <td>1</td>\n",
       "    </tr>\n",
       "    <tr>\n",
       "      <th>1</th>\n",
       "      <td>21.6</td>\n",
       "      <td>0</td>\n",
       "    </tr>\n",
       "    <tr>\n",
       "      <th>2</th>\n",
       "      <td>34.7</td>\n",
       "      <td>1</td>\n",
       "    </tr>\n",
       "    <tr>\n",
       "      <th>3</th>\n",
       "      <td>33.4</td>\n",
       "      <td>1</td>\n",
       "    </tr>\n",
       "    <tr>\n",
       "      <th>4</th>\n",
       "      <td>36.2</td>\n",
       "      <td>1</td>\n",
       "    </tr>\n",
       "  </tbody>\n",
       "</table>\n",
       "</div>"
      ],
      "text/plain": [
       "   MEDV  Y\n",
       "0  24.0  1\n",
       "1  21.6  0\n",
       "2  34.7  1\n",
       "3  33.4  1\n",
       "4  36.2  1"
      ]
     },
     "execution_count": 2,
     "metadata": {},
     "output_type": "execute_result"
    }
   ],
   "source": [
    "y.head()"
   ]
  },
  {
   "cell_type": "code",
   "execution_count": 3,
   "metadata": {},
   "outputs": [],
   "source": [
    "from sklearn.preprocessing import StandardScaler\n",
    "from sklearn.model_selection import train_test_split\n",
    "#split the final dataset into train and test with 80:20 \n",
    "x_train, x_test, y_train, y_test = train_test_split(X[features], y['Y'], test_size=0.2,random_state=1234)\n",
    "\n",
    "scaler = StandardScaler() \n",
    "scaler.fit(x_train)    # Only the training data are used to fit the scaler transformation,\n",
    "x_train_scaled = scaler.transform(x_train) \n",
    "x_test_scaled = scaler.transform(x_test)  # then the scaler is used to transform the test input data."
   ]
  },
  {
   "cell_type": "markdown",
   "metadata": {},
   "source": [
    "### [Learning Objective 1] OLS"
   ]
  },
  {
   "cell_type": "code",
   "execution_count": 4,
   "metadata": {},
   "outputs": [
    {
     "data": {
      "text/html": [
       "<table class=\"simpletable\">\n",
       "<caption>OLS Regression Results</caption>\n",
       "<tr>\n",
       "  <th>Dep. Variable:</th>            <td>Y</td>        <th>  R-squared (uncentered):</th>      <td>   0.682</td>\n",
       "</tr>\n",
       "<tr>\n",
       "  <th>Model:</th>                   <td>OLS</td>       <th>  Adj. R-squared (uncentered):</th> <td>   0.677</td>\n",
       "</tr>\n",
       "<tr>\n",
       "  <th>Method:</th>             <td>Least Squares</td>  <th>  F-statistic:       </th>          <td>   142.1</td>\n",
       "</tr>\n",
       "<tr>\n",
       "  <th>Date:</th>             <td>Thu, 19 Nov 2020</td> <th>  Prob (F-statistic):</th>          <td>1.08e-95</td>\n",
       "</tr>\n",
       "<tr>\n",
       "  <th>Time:</th>                 <td>12:01:31</td>     <th>  Log-Likelihood:    </th>          <td> -159.89</td>\n",
       "</tr>\n",
       "<tr>\n",
       "  <th>No. Observations:</th>      <td>   404</td>      <th>  AIC:               </th>          <td>   331.8</td>\n",
       "</tr>\n",
       "<tr>\n",
       "  <th>Df Residuals:</th>          <td>   398</td>      <th>  BIC:               </th>          <td>   355.8</td>\n",
       "</tr>\n",
       "<tr>\n",
       "  <th>Df Model:</th>              <td>     6</td>      <th>                     </th>              <td> </td>   \n",
       "</tr>\n",
       "<tr>\n",
       "  <th>Covariance Type:</th>      <td>nonrobust</td>    <th>                     </th>              <td> </td>   \n",
       "</tr>\n",
       "</table>\n",
       "<table class=\"simpletable\">\n",
       "<tr>\n",
       "    <td></td>       <th>coef</th>     <th>std err</th>      <th>t</th>      <th>P>|t|</th>  <th>[0.025</th>    <th>0.975]</th>  \n",
       "</tr>\n",
       "<tr>\n",
       "  <th>CRIM</th>  <td>   -0.0025</td> <td>    0.002</td> <td>   -1.008</td> <td> 0.314</td> <td>   -0.007</td> <td>    0.002</td>\n",
       "</tr>\n",
       "<tr>\n",
       "  <th>ZN</th>    <td>    0.0028</td> <td>    0.001</td> <td>    2.694</td> <td> 0.007</td> <td>    0.001</td> <td>    0.005</td>\n",
       "</tr>\n",
       "<tr>\n",
       "  <th>RM</th>    <td>    0.1901</td> <td>    0.015</td> <td>   12.486</td> <td> 0.000</td> <td>    0.160</td> <td>    0.220</td>\n",
       "</tr>\n",
       "<tr>\n",
       "  <th>AGE</th>   <td>   -0.0042</td> <td>    0.001</td> <td>   -3.898</td> <td> 0.000</td> <td>   -0.006</td> <td>   -0.002</td>\n",
       "</tr>\n",
       "<tr>\n",
       "  <th>DIS</th>   <td>   -0.0548</td> <td>    0.014</td> <td>   -3.930</td> <td> 0.000</td> <td>   -0.082</td> <td>   -0.027</td>\n",
       "</tr>\n",
       "<tr>\n",
       "  <th>LSTAT</th> <td>   -0.0247</td> <td>    0.003</td> <td>   -7.417</td> <td> 0.000</td> <td>   -0.031</td> <td>   -0.018</td>\n",
       "</tr>\n",
       "</table>\n",
       "<table class=\"simpletable\">\n",
       "<tr>\n",
       "  <th>Omnibus:</th>       <td>17.764</td> <th>  Durbin-Watson:     </th> <td>   2.037</td>\n",
       "</tr>\n",
       "<tr>\n",
       "  <th>Prob(Omnibus):</th> <td> 0.000</td> <th>  Jarque-Bera (JB):  </th> <td>  13.090</td>\n",
       "</tr>\n",
       "<tr>\n",
       "  <th>Skew:</th>          <td> 0.334</td> <th>  Prob(JB):          </th> <td> 0.00144</td>\n",
       "</tr>\n",
       "<tr>\n",
       "  <th>Kurtosis:</th>      <td> 2.424</td> <th>  Cond. No.          </th> <td>    82.4</td>\n",
       "</tr>\n",
       "</table><br/><br/>Notes:<br/>[1] R² is computed without centering (uncentered) since the model does not contain a constant.<br/>[2] Standard Errors assume that the covariance matrix of the errors is correctly specified."
      ],
      "text/plain": [
       "<class 'statsmodels.iolib.summary.Summary'>\n",
       "\"\"\"\n",
       "                                 OLS Regression Results                                \n",
       "=======================================================================================\n",
       "Dep. Variable:                      Y   R-squared (uncentered):                   0.682\n",
       "Model:                            OLS   Adj. R-squared (uncentered):              0.677\n",
       "Method:                 Least Squares   F-statistic:                              142.1\n",
       "Date:                Thu, 19 Nov 2020   Prob (F-statistic):                    1.08e-95\n",
       "Time:                        12:01:31   Log-Likelihood:                         -159.89\n",
       "No. Observations:                 404   AIC:                                      331.8\n",
       "Df Residuals:                     398   BIC:                                      355.8\n",
       "Df Model:                           6                                                  \n",
       "Covariance Type:            nonrobust                                                  \n",
       "==============================================================================\n",
       "                 coef    std err          t      P>|t|      [0.025      0.975]\n",
       "------------------------------------------------------------------------------\n",
       "CRIM          -0.0025      0.002     -1.008      0.314      -0.007       0.002\n",
       "ZN             0.0028      0.001      2.694      0.007       0.001       0.005\n",
       "RM             0.1901      0.015     12.486      0.000       0.160       0.220\n",
       "AGE           -0.0042      0.001     -3.898      0.000      -0.006      -0.002\n",
       "DIS           -0.0548      0.014     -3.930      0.000      -0.082      -0.027\n",
       "LSTAT         -0.0247      0.003     -7.417      0.000      -0.031      -0.018\n",
       "==============================================================================\n",
       "Omnibus:                       17.764   Durbin-Watson:                   2.037\n",
       "Prob(Omnibus):                  0.000   Jarque-Bera (JB):               13.090\n",
       "Skew:                           0.334   Prob(JB):                      0.00144\n",
       "Kurtosis:                       2.424   Cond. No.                         82.4\n",
       "==============================================================================\n",
       "\n",
       "Notes:\n",
       "[1] R² is computed without centering (uncentered) since the model does not contain a constant.\n",
       "[2] Standard Errors assume that the covariance matrix of the errors is correctly specified.\n",
       "\"\"\""
      ]
     },
     "execution_count": 4,
     "metadata": {},
     "output_type": "execute_result"
    }
   ],
   "source": [
    "import statsmodels.api as sm\n",
    "from sklearn.metrics import mean_squared_error\\\n",
    "# Fit and summarize OLS model\n",
    "ols_mod = sm.OLS(y_train, x_train)\n",
    "ols_res = ols_mod.fit()\n",
    "ols_res.summary()"
   ]
  },
  {
   "cell_type": "code",
   "execution_count": 5,
   "metadata": {},
   "outputs": [
    {
     "data": {
      "text/plain": [
       "0.12065916075669458"
      ]
     },
     "execution_count": 5,
     "metadata": {},
     "output_type": "execute_result"
    }
   ],
   "source": [
    "OLS_ypred = ols_res.predict(x_test)\n",
    "mean_squared_error(y_test, OLS_ypred)"
   ]
  },
  {
   "cell_type": "markdown",
   "metadata": {},
   "source": [
    "### [Learning objective 2] Logistic regression"
   ]
  },
  {
   "cell_type": "code",
   "execution_count": 6,
   "metadata": {},
   "outputs": [
    {
     "data": {
      "text/plain": [
       "0.10680833477413351"
      ]
     },
     "execution_count": 6,
     "metadata": {},
     "output_type": "execute_result"
    }
   ],
   "source": [
    "from sklearn.linear_model import LogisticRegression\n",
    "clf = LogisticRegression(random_state=0).fit(x_train, y_train)\n",
    "clf_pred = clf.predict_proba(x_test)[:,1]\n",
    "clf.score(x_test, y_test)\n",
    "mean_squared_error(y_test, clf_pred)"
   ]
  },
  {
   "cell_type": "code",
   "execution_count": 7,
   "metadata": {},
   "outputs": [
    {
     "data": {
      "text/plain": [
       "{'CRIM': array([-0.04244221,  0.02904445,  0.81027456, -0.03071539, -0.67809648,\n",
       "        -0.38792817])}"
      ]
     },
     "execution_count": 7,
     "metadata": {},
     "output_type": "execute_result"
    }
   ],
   "source": [
    "coef_dict = {}\n",
    "for coef, feat in zip(clf.coef_,X[features].columns):\n",
    "    coef_dict[feat] = coef\n",
    "coef_dict"
   ]
  },
  {
   "cell_type": "code",
   "execution_count": 8,
   "metadata": {},
   "outputs": [
    {
     "data": {
      "text/html": [
       "<div>\n",
       "<style scoped>\n",
       "    .dataframe tbody tr th:only-of-type {\n",
       "        vertical-align: middle;\n",
       "    }\n",
       "\n",
       "    .dataframe tbody tr th {\n",
       "        vertical-align: top;\n",
       "    }\n",
       "\n",
       "    .dataframe thead th {\n",
       "        text-align: right;\n",
       "    }\n",
       "</style>\n",
       "<table border=\"1\" class=\"dataframe\">\n",
       "  <thead>\n",
       "    <tr style=\"text-align: right;\">\n",
       "      <th></th>\n",
       "      <th>Var</th>\n",
       "      <th>Coef</th>\n",
       "    </tr>\n",
       "  </thead>\n",
       "  <tbody>\n",
       "    <tr>\n",
       "      <th>0</th>\n",
       "      <td>CRIM</td>\n",
       "      <td>-0.042442</td>\n",
       "    </tr>\n",
       "    <tr>\n",
       "      <th>1</th>\n",
       "      <td>ZN</td>\n",
       "      <td>0.029044</td>\n",
       "    </tr>\n",
       "    <tr>\n",
       "      <th>2</th>\n",
       "      <td>RM</td>\n",
       "      <td>0.810275</td>\n",
       "    </tr>\n",
       "    <tr>\n",
       "      <th>3</th>\n",
       "      <td>AGE</td>\n",
       "      <td>-0.030715</td>\n",
       "    </tr>\n",
       "    <tr>\n",
       "      <th>4</th>\n",
       "      <td>DIS</td>\n",
       "      <td>-0.678096</td>\n",
       "    </tr>\n",
       "    <tr>\n",
       "      <th>5</th>\n",
       "      <td>LSTAT</td>\n",
       "      <td>-0.387928</td>\n",
       "    </tr>\n",
       "  </tbody>\n",
       "</table>\n",
       "</div>"
      ],
      "text/plain": [
       "     Var      Coef\n",
       "0   CRIM -0.042442\n",
       "1     ZN  0.029044\n",
       "2     RM  0.810275\n",
       "3    AGE -0.030715\n",
       "4    DIS -0.678096\n",
       "5  LSTAT -0.387928"
      ]
     },
     "execution_count": 8,
     "metadata": {},
     "output_type": "execute_result"
    }
   ],
   "source": [
    "out = pd.DataFrame({'Var':features,'Coef':clf.coef_[0]})\n",
    "out "
   ]
  },
  {
   "attachments": {
    "c38dac4d-00d0-42db-91a1-bacd4340399b.png": {
     "image/png": "[encoded data removed]"
    }
   },
   "cell_type": "markdown",
   "metadata": {},
   "source": [
    "### [Learning objective 3] Design a deep learning model doing logistic regression\n",
    "\n",
    "* **Dense** implements the operation: output = activation(dot(input, kernel) + bias). It calculates the dot product of the input X matrix and the weights matrix, then adds a bias vector. The activation is the element-wise activation function passed as the activation argument. \n",
    "* **input_dim** is the number of dimensions. For example, if there are six variables, input_dim = 6. Suppose there are 500 observations and six variables. X becomes a matrix of (500,6). W is a matrix of (6,1). The dot product for X and W becomes (500,1).\n",
    "\n",
    "\n",
    "![image.png](attachment:c38dac4d-00d0-42db-91a1-bacd4340399b.png)\n",
    "\n",
    "* Notice that the deep learning model take much more time than the logistic model.\n"
   ]
  },
  {
   "cell_type": "code",
   "execution_count": 9,
   "metadata": {},
   "outputs": [
    {
     "name": "stdout",
     "output_type": "stream",
     "text": [
      "['loss', 'mean_squared_error'] [0.11228352040052414, 0.11228352040052414]\n"
     ]
    }
   ],
   "source": [
    "import numpy as np\n",
    "from keras.models import Sequential\n",
    "from keras.layers import Dense, Activation \n",
    "#from keras.utils.visualize_util import plot\n",
    "dl_mod = Sequential()\n",
    "dl_mod.add(Dense(1, input_dim=6)) \n",
    "dl_mod.add(Activation(activation='sigmoid'))\n",
    "#dl_mod.add(Dense(1))\n",
    "#dl_mod.add(Activation(activation='sigmoid'))\n",
    "dl_mod.compile(optimizer='RMSprop', loss='mse', metrics=['mean_squared_error'])\n",
    "dl_mod.fit(x_train, y_train, epochs=600, verbose=0)\n",
    "score = dl_mod.evaluate(x_test,y_test, verbose=0)\n",
    "print( dl_mod.metrics_names, score)"
   ]
  },
  {
   "cell_type": "code",
   "execution_count": 10,
   "metadata": {},
   "outputs": [
    {
     "data": {
      "text/html": [
       "<div>\n",
       "<style scoped>\n",
       "    .dataframe tbody tr th:only-of-type {\n",
       "        vertical-align: middle;\n",
       "    }\n",
       "\n",
       "    .dataframe tbody tr th {\n",
       "        vertical-align: top;\n",
       "    }\n",
       "\n",
       "    .dataframe thead th {\n",
       "        text-align: right;\n",
       "    }\n",
       "</style>\n",
       "<table border=\"1\" class=\"dataframe\">\n",
       "  <thead>\n",
       "    <tr style=\"text-align: right;\">\n",
       "      <th></th>\n",
       "      <th>0</th>\n",
       "    </tr>\n",
       "  </thead>\n",
       "  <tbody>\n",
       "    <tr>\n",
       "      <th>0</th>\n",
       "      <td>0.002381</td>\n",
       "    </tr>\n",
       "    <tr>\n",
       "      <th>1</th>\n",
       "      <td>0.221999</td>\n",
       "    </tr>\n",
       "    <tr>\n",
       "      <th>2</th>\n",
       "      <td>0.025847</td>\n",
       "    </tr>\n",
       "    <tr>\n",
       "      <th>3</th>\n",
       "      <td>0.990582</td>\n",
       "    </tr>\n",
       "    <tr>\n",
       "      <th>4</th>\n",
       "      <td>0.005449</td>\n",
       "    </tr>\n",
       "    <tr>\n",
       "      <th>...</th>\n",
       "      <td>...</td>\n",
       "    </tr>\n",
       "    <tr>\n",
       "      <th>399</th>\n",
       "      <td>0.992567</td>\n",
       "    </tr>\n",
       "    <tr>\n",
       "      <th>400</th>\n",
       "      <td>0.458391</td>\n",
       "    </tr>\n",
       "    <tr>\n",
       "      <th>401</th>\n",
       "      <td>0.250994</td>\n",
       "    </tr>\n",
       "    <tr>\n",
       "      <th>402</th>\n",
       "      <td>0.000392</td>\n",
       "    </tr>\n",
       "    <tr>\n",
       "      <th>403</th>\n",
       "      <td>0.920506</td>\n",
       "    </tr>\n",
       "  </tbody>\n",
       "</table>\n",
       "<p>404 rows × 1 columns</p>\n",
       "</div>"
      ],
      "text/plain": [
       "            0\n",
       "0    0.002381\n",
       "1    0.221999\n",
       "2    0.025847\n",
       "3    0.990582\n",
       "4    0.005449\n",
       "..        ...\n",
       "399  0.992567\n",
       "400  0.458391\n",
       "401  0.250994\n",
       "402  0.000392\n",
       "403  0.920506\n",
       "\n",
       "[404 rows x 1 columns]"
      ]
     },
     "execution_count": 10,
     "metadata": {},
     "output_type": "execute_result"
    }
   ],
   "source": [
    "dl_ypred = dl_mod.predict(x_train)\n",
    "pd.DataFrame(dl_ypred)"
   ]
  },
  {
   "cell_type": "code",
   "execution_count": 11,
   "metadata": {},
   "outputs": [
    {
     "data": {
      "text/plain": [
       "0.11228351080999227"
      ]
     },
     "execution_count": 11,
     "metadata": {},
     "output_type": "execute_result"
    }
   ],
   "source": [
    "from sklearn.metrics import mean_squared_error, r2_score\n",
    "dl_ypred = dl_mod.predict(x_test)\n",
    "mean_squared_error(y_test, dl_ypred)"
   ]
  },
  {
   "cell_type": "markdown",
   "metadata": {},
   "source": [
    "Notice that Dense() and Activation() can be combined into one line of code as below:"
   ]
  },
  {
   "cell_type": "code",
   "execution_count": 12,
   "metadata": {},
   "outputs": [
    {
     "name": "stdout",
     "output_type": "stream",
     "text": [
      "['loss', 'mean_squared_error'] [0.5588235259056091, 0.5588235259056091]\n"
     ]
    }
   ],
   "source": [
    "import numpy as np\n",
    "from keras.models import Sequential\n",
    "from keras.layers import Dense, Activation \n",
    "dl_mod = Sequential()\n",
    "dl_mod.add(Dense(1, input_dim=6, activation='sigmoid'))\n",
    "dl_mod.compile(optimizer='rmsprop', loss='mse', metrics=['mean_squared_error'])\n",
    "dl_mod.fit(x_train, y_train, epochs=1000, verbose=0)\n",
    "score = dl_mod.evaluate(x_test,y_test, verbose=0)\n",
    "print( dl_mod.metrics_names, score)"
   ]
  },
  {
   "cell_type": "markdown",
   "metadata": {},
   "source": [
    "### [Learning objective 4] Regression cannot handle multicolinearity\n",
    "* Notie the warning notes in the end of the summary"
   ]
  },
  {
   "cell_type": "code",
   "execution_count": 13,
   "metadata": {},
   "outputs": [
    {
     "data": {
      "text/html": [
       "<table class=\"simpletable\">\n",
       "<caption>OLS Regression Results</caption>\n",
       "<tr>\n",
       "  <th>Dep. Variable:</th>            <td>Y</td>        <th>  R-squared (uncentered):</th>      <td>   0.692</td> \n",
       "</tr>\n",
       "<tr>\n",
       "  <th>Model:</th>                   <td>OLS</td>       <th>  Adj. R-squared (uncentered):</th> <td>   0.688</td> \n",
       "</tr>\n",
       "<tr>\n",
       "  <th>Method:</th>             <td>Least Squares</td>  <th>  F-statistic:       </th>          <td>   187.2</td> \n",
       "</tr>\n",
       "<tr>\n",
       "  <th>Date:</th>             <td>Thu, 19 Nov 2020</td> <th>  Prob (F-statistic):</th>          <td>2.22e-124</td>\n",
       "</tr>\n",
       "<tr>\n",
       "  <th>Time:</th>                 <td>12:01:57</td>     <th>  Log-Likelihood:    </th>          <td> -196.40</td> \n",
       "</tr>\n",
       "<tr>\n",
       "  <th>No. Observations:</th>      <td>   506</td>      <th>  AIC:               </th>          <td>   404.8</td> \n",
       "</tr>\n",
       "<tr>\n",
       "  <th>Df Residuals:</th>          <td>   500</td>      <th>  BIC:               </th>          <td>   430.2</td> \n",
       "</tr>\n",
       "<tr>\n",
       "  <th>Df Model:</th>              <td>     6</td>      <th>                     </th>              <td> </td>    \n",
       "</tr>\n",
       "<tr>\n",
       "  <th>Covariance Type:</th>      <td>nonrobust</td>    <th>                     </th>              <td> </td>    \n",
       "</tr>\n",
       "</table>\n",
       "<table class=\"simpletable\">\n",
       "<tr>\n",
       "     <td></td>       <th>coef</th>     <th>std err</th>      <th>t</th>      <th>P>|t|</th>  <th>[0.025</th>    <th>0.975]</th>  \n",
       "</tr>\n",
       "<tr>\n",
       "  <th>CRIM</th>   <td>   -0.0009</td> <td>    0.002</td> <td>   -0.424</td> <td> 0.672</td> <td>   -0.005</td> <td>    0.003</td>\n",
       "</tr>\n",
       "<tr>\n",
       "  <th>ZN</th>     <td>    0.0025</td> <td>    0.001</td> <td>    2.715</td> <td> 0.007</td> <td>    0.001</td> <td>    0.004</td>\n",
       "</tr>\n",
       "<tr>\n",
       "  <th>RM</th>     <td>    0.1932</td> <td>    0.013</td> <td>   15.055</td> <td> 0.000</td> <td>    0.168</td> <td>    0.218</td>\n",
       "</tr>\n",
       "<tr>\n",
       "  <th>AGE</th>    <td>   -0.0042</td> <td>    0.001</td> <td>   -4.514</td> <td> 0.000</td> <td>   -0.006</td> <td>   -0.002</td>\n",
       "</tr>\n",
       "<tr>\n",
       "  <th>DIS</th>    <td>   -0.0548</td> <td>    0.012</td> <td>   -4.664</td> <td> 0.000</td> <td>   -0.078</td> <td>   -0.032</td>\n",
       "</tr>\n",
       "<tr>\n",
       "  <th>LSTAT</th>  <td>   -0.0009</td> <td>    0.000</td> <td>   -8.629</td> <td> 0.000</td> <td>   -0.001</td> <td>   -0.001</td>\n",
       "</tr>\n",
       "<tr>\n",
       "  <th>LSTAT2</th> <td>   -0.0017</td> <td>    0.000</td> <td>   -8.629</td> <td> 0.000</td> <td>   -0.002</td> <td>   -0.001</td>\n",
       "</tr>\n",
       "<tr>\n",
       "  <th>LSTAT3</th> <td>   -0.0026</td> <td>    0.000</td> <td>   -8.629</td> <td> 0.000</td> <td>   -0.003</td> <td>   -0.002</td>\n",
       "</tr>\n",
       "<tr>\n",
       "  <th>LSTAT4</th> <td>   -0.0035</td> <td>    0.000</td> <td>   -8.629</td> <td> 0.000</td> <td>   -0.004</td> <td>   -0.003</td>\n",
       "</tr>\n",
       "</table>\n",
       "<table class=\"simpletable\">\n",
       "<tr>\n",
       "  <th>Omnibus:</th>       <td>19.421</td> <th>  Durbin-Watson:     </th> <td>   1.325</td>\n",
       "</tr>\n",
       "<tr>\n",
       "  <th>Prob(Omnibus):</th> <td> 0.000</td> <th>  Jarque-Bera (JB):  </th> <td>  13.852</td>\n",
       "</tr>\n",
       "<tr>\n",
       "  <th>Skew:</th>          <td> 0.292</td> <th>  Prob(JB):          </th> <td>0.000982</td>\n",
       "</tr>\n",
       "<tr>\n",
       "  <th>Kurtosis:</th>      <td> 2.439</td> <th>  Cond. No.          </th> <td>1.14e+17</td>\n",
       "</tr>\n",
       "</table><br/><br/>Notes:<br/>[1] R² is computed without centering (uncentered) since the model does not contain a constant.<br/>[2] Standard Errors assume that the covariance matrix of the errors is correctly specified.<br/>[3] The smallest eigenvalue is 4.48e-28. This might indicate that there are<br/>strong multicollinearity problems or that the design matrix is singular."
      ],
      "text/plain": [
       "<class 'statsmodels.iolib.summary.Summary'>\n",
       "\"\"\"\n",
       "                                 OLS Regression Results                                \n",
       "=======================================================================================\n",
       "Dep. Variable:                      Y   R-squared (uncentered):                   0.692\n",
       "Model:                            OLS   Adj. R-squared (uncentered):              0.688\n",
       "Method:                 Least Squares   F-statistic:                              187.2\n",
       "Date:                Thu, 19 Nov 2020   Prob (F-statistic):                   2.22e-124\n",
       "Time:                        12:01:57   Log-Likelihood:                         -196.40\n",
       "No. Observations:                 506   AIC:                                      404.8\n",
       "Df Residuals:                     500   BIC:                                      430.2\n",
       "Df Model:                           6                                                  \n",
       "Covariance Type:            nonrobust                                                  \n",
       "==============================================================================\n",
       "                 coef    std err          t      P>|t|      [0.025      0.975]\n",
       "------------------------------------------------------------------------------\n",
       "CRIM          -0.0009      0.002     -0.424      0.672      -0.005       0.003\n",
       "ZN             0.0025      0.001      2.715      0.007       0.001       0.004\n",
       "RM             0.1932      0.013     15.055      0.000       0.168       0.218\n",
       "AGE           -0.0042      0.001     -4.514      0.000      -0.006      -0.002\n",
       "DIS           -0.0548      0.012     -4.664      0.000      -0.078      -0.032\n",
       "LSTAT         -0.0009      0.000     -8.629      0.000      -0.001      -0.001\n",
       "LSTAT2        -0.0017      0.000     -8.629      0.000      -0.002      -0.001\n",
       "LSTAT3        -0.0026      0.000     -8.629      0.000      -0.003      -0.002\n",
       "LSTAT4        -0.0035      0.000     -8.629      0.000      -0.004      -0.003\n",
       "==============================================================================\n",
       "Omnibus:                       19.421   Durbin-Watson:                   1.325\n",
       "Prob(Omnibus):                  0.000   Jarque-Bera (JB):               13.852\n",
       "Skew:                           0.292   Prob(JB):                     0.000982\n",
       "Kurtosis:                       2.439   Cond. No.                     1.14e+17\n",
       "==============================================================================\n",
       "\n",
       "Notes:\n",
       "[1] R² is computed without centering (uncentered) since the model does not contain a constant.\n",
       "[2] Standard Errors assume that the covariance matrix of the errors is correctly specified.\n",
       "[3] The smallest eigenvalue is 4.48e-28. This might indicate that there are\n",
       "strong multicollinearity problems or that the design matrix is singular.\n",
       "\"\"\""
      ]
     },
     "execution_count": 13,
     "metadata": {},
     "output_type": "execute_result"
    }
   ],
   "source": [
    "# OLS\n",
    "X_dup = X[features].copy()\n",
    "X_dup['LSTAT2'] = X_dup['LSTAT'] *2\n",
    "X_dup['LSTAT3'] = X_dup['LSTAT'] *3\n",
    "X_dup['LSTAT4'] = X_dup['LSTAT'] *4\n",
    "mod = sm.OLS(y['Y'], X_dup)\n",
    "res = mod.fit()\n",
    "res.summary()"
   ]
  },
  {
   "cell_type": "code",
   "execution_count": 14,
   "metadata": {},
   "outputs": [
    {
     "data": {
      "text/plain": [
       "0.09566923935424808"
      ]
     },
     "execution_count": 14,
     "metadata": {},
     "output_type": "execute_result"
    }
   ],
   "source": [
    "# Logistic regression cannot handle multicolinearity\n",
    "from sklearn.linear_model import LogisticRegression\n",
    "clf = LogisticRegression(random_state=0).fit(X_dup, y['Y'])\n",
    "clf_pred = clf.predict_proba(X_dup)[:,1]\n",
    "clf.score(X_dup, y['Y'])\n",
    "mean_squared_error(y['Y'], clf_pred)"
   ]
  },
  {
   "cell_type": "code",
   "execution_count": 15,
   "metadata": {},
   "outputs": [
    {
     "data": {
      "text/plain": [
       "array([[-0.03126084,  0.0202013 ,  1.15042326, -0.02406476, -0.55078628,\n",
       "        -0.01245061, -0.02490122, -0.03735183, -0.04980244]])"
      ]
     },
     "execution_count": 15,
     "metadata": {},
     "output_type": "execute_result"
    }
   ],
   "source": [
    "clf.coef_"
   ]
  },
  {
   "cell_type": "markdown",
   "metadata": {},
   "source": [
    "### [Learning objective 5] Deep learning is imune of multicolinearity\n",
    "* Try to change epochs from 1000 to 3000\n",
    "* Keras does not have a parameter to set the random seed. There are two ways to set seed. \n",
    "    * use numpy seed - the best\n",
    "    * use tensorflow set_random_seed"
   ]
  },
  {
   "cell_type": "code",
   "execution_count": 16,
   "metadata": {},
   "outputs": [],
   "source": [
    "from numpy.random import seed\n",
    "seed(1)\n",
    "\n",
    "#from tensorflow import set_random_seed\n",
    "#set_random_seed(2)"
   ]
  },
  {
   "cell_type": "code",
   "execution_count": 28,
   "metadata": {},
   "outputs": [
    {
     "name": "stdout",
     "output_type": "stream",
     "text": [
      "['loss', 'mean_squared_error'] [0.09585237503051758, 0.09585237503051758]\n"
     ]
    }
   ],
   "source": [
    "import numpy as np\n",
    "from keras.models import Sequential\n",
    "from keras.layers import Dense, Activation \n",
    "#from keras.utils.visualize_util import plot\n",
    "dl_dup = Sequential()\n",
    "dl_dup.add(Dense(1, input_dim=9, activation='sigmoid')) \n",
    "\n",
    "dl_dup.compile(optimizer='rmsprop', loss='mse', metrics=['mean_squared_error'])\n",
    "dl_dup.fit(X_dup, y['Y'], epochs=600, verbose=0)\n",
    "dl_dup_score = dl_dup.evaluate(X_dup,y['Y'], verbose=0)\n",
    "print( dl_dup.metrics_names, dl_dup_score)"
   ]
  },
  {
   "cell_type": "markdown",
   "metadata": {},
   "source": [
    "### [Learning objective 6] Deep learning is imune of multicolinearity"
   ]
  },
  {
   "cell_type": "code",
   "execution_count": 18,
   "metadata": {},
   "outputs": [
    {
     "data": {
      "text/plain": [
       "DecisionTreeClassifier(max_depth=10, min_samples_leaf=10)"
      ]
     },
     "execution_count": 18,
     "metadata": {},
     "output_type": "execute_result"
    }
   ],
   "source": [
    "from sklearn.tree import DecisionTreeClassifier # for classification\n",
    "from sklearn.tree import DecisionTreeRegressor # for regression\n",
    "\n",
    "# First, specify the model. \n",
    "dtree = DecisionTreeClassifier(min_samples_leaf = 10, max_depth = 10)\n",
    "# Then, train the model.\n",
    "dtree.fit(X_dup,y['Y'])"
   ]
  },
  {
   "cell_type": "code",
   "execution_count": 19,
   "metadata": {},
   "outputs": [
    {
     "data": {
      "text/plain": [
       "0.06957760715607728"
      ]
     },
     "execution_count": 19,
     "metadata": {},
     "output_type": "execute_result"
    }
   ],
   "source": [
    "dtree_pred = dtree.predict_proba(X_dup)[:,1]\n",
    "mean_squared_error(y['Y'], dtree_pred)"
   ]
  },
  {
   "cell_type": "markdown",
   "metadata": {},
   "source": [
    "### [Learning objective 7] Understanding Model Complexity\n",
    "\n",
    "Assume you are given \n",
    "* 10 billion rows, 1111 columns (variables)\n",
    "* Of these 1111 variables, 1100 are numerical and 10 are categorical with 400 levels each\n",
    "* 1 target variable (0 or 1)\t\n",
    "\n",
    "Consider two models, which DL model is more complex (more weighting parameters)?\n",
    "* Model 1: 4 hidden layers with 400 neurons each.\n",
    "* Model 2: 1 hidden layer with 500 neurons\n",
    "\n",
    "Let’s compute the number of weightings for each model and compare. In general we multiply the number of neurons in adjacent layers, then add up all the pairs.\n",
    "(Input layer nodes x hidden layer 1 nodes) + (hidden layer 1 nodes + hidden layer 2 nodes) + … + (final hidden layer nodes x output layer nodes)\n",
    "\n",
    "In this question we are told we have some categorical variables as inputs. These must be one-hot encoded, with a separate neuron each, for each input. So the 10 categorical will be transformed to 10 x 400 = 4000 dummy variables. Now we have a total of 1100 + 4000 = 5100 input neurons.\n",
    "\n",
    "Model 1: \n",
    "5100 x 400 + 400 x 400 + 400 x 400 + 400 x 400 + 400 x 1 = 2,520,400 weights\n",
    "\n",
    "Model 2: 5100 x 500 + 500 x 1 = 2,550,500 weights\n",
    "\n",
    "So Model 2 is more complex."
   ]
  },
  {
   "attachments": {
    "192210c0-87eb-4236-8ecf-9ea58b870c2a.png": {
     "image/png": "[encoded data removed]"
    },
    "bb80ccac-f394-4386-938a-69e6f479494a.png": {
     "image/png": "[encoded data removed]"
    }
   },
   "cell_type": "markdown",
   "metadata": {},
   "source": [
    "### [Learning objective 8] Build more hidden layers\n",
    "* Add one hidden layer\n",
    "\n",
    "![image.png](attachment:bb80ccac-f394-4386-938a-69e6f479494a.png)\n",
    "\n",
    "* There is an activation function (sigmod)\n",
    "\n",
    "![image.png](attachment:192210c0-87eb-4236-8ecf-9ea58b870c2a.png)\n"
   ]
  },
  {
   "cell_type": "code",
   "execution_count": 29,
   "metadata": {},
   "outputs": [
    {
     "name": "stdout",
     "output_type": "stream",
     "text": [
      "['loss', 'mean_squared_error'] [0.10282432287931442, 0.10282432287931442]\n"
     ]
    }
   ],
   "source": [
    "import numpy as np\n",
    "from keras.models import Sequential\n",
    "from keras.layers import Dense, Activation \n",
    "#from keras.utils.visualize_util import plot\n",
    "dl_mod = Sequential()\n",
    "dl_mod.add(Dense(4, input_dim=6, activation='sigmoid'))\n",
    "dl_mod.add(Dense(1, activation='sigmoid'))\n",
    "dl_mod.compile(optimizer='rmsprop', loss='mse', metrics=['mean_squared_error'])\n",
    "dl_mod.fit(x_train, y_train, epochs=1000, verbose=0)\n",
    "score = dl_mod.evaluate(x_test,y_test, verbose=0)\n",
    "print( dl_mod.metrics_names, score)"
   ]
  },
  {
   "cell_type": "code",
   "execution_count": 30,
   "metadata": {},
   "outputs": [
    {
     "name": "stdout",
     "output_type": "stream",
     "text": [
      "['loss', 'mean_squared_error'] [0.11216876655817032, 0.11216876655817032]\n"
     ]
    }
   ],
   "source": [
    "from keras.models import Sequential\n",
    "from keras.layers import Dense, Activation \n",
    "dl_mod = Sequential()\n",
    "dl_mod.add(Dense(4, input_dim=6, activation='sigmoid')) \n",
    "dl_mod.add(Dense(2, activation='sigmoid'))\n",
    "dl_mod.add(Dense(1, activation='sigmoid'))\n",
    "dl_mod.compile(optimizer='rmsprop', loss='mse', metrics=['mean_squared_error'])\n",
    "dl_mod.fit(x_train, y_train, epochs=600, verbose=0)\n",
    "score = dl_mod.evaluate(x_test,y_test, verbose=0)\n",
    "print( dl_mod.metrics_names, score)"
   ]
  },
  {
   "cell_type": "markdown",
   "metadata": {},
   "source": [
    "### [Learning objective 9] Standardize data for better modeling performance\n",
    "* For a classification model, you are advised to standardize the predictors."
   ]
  },
  {
   "cell_type": "code",
   "execution_count": 31,
   "metadata": {},
   "outputs": [
    {
     "name": "stdout",
     "output_type": "stream",
     "text": [
      "['loss', 'mean_squared_error'] [0.09813830256462097, 0.09813830256462097]\n"
     ]
    }
   ],
   "source": [
    "from keras.models import Sequential\n",
    "from keras.layers import Dense, Activation \n",
    "dl_mod = Sequential()\n",
    "dl_mod.add(Dense(4, input_dim=6, activation='sigmoid')) \n",
    "dl_mod.add(Dense(2, activation='sigmoid'))\n",
    "dl_mod.add(Dense(1, activation='sigmoid'))\n",
    "dl_mod.compile(optimizer='rmsprop', loss='mse', metrics=['mean_squared_error'])\n",
    "dl_mod.fit(x_train_scaled, y_train, epochs=600, verbose=0)\n",
    "score = dl_mod.evaluate(x_test_scaled,y_test, verbose=0)\n",
    "print( dl_mod.metrics_names, score)"
   ]
  },
  {
   "cell_type": "markdown",
   "metadata": {},
   "source": [
    "### [Learning objective 10] L1 and L2 Regularization"
   ]
  },
  {
   "cell_type": "code",
   "execution_count": 32,
   "metadata": {},
   "outputs": [
    {
     "name": "stdout",
     "output_type": "stream",
     "text": [
      "['loss', 'mean_squared_error'] [0.09434328973293304, 0.09434328973293304]\n"
     ]
    }
   ],
   "source": [
    "from keras.models import Sequential\n",
    "from keras.layers import Dense, Activation \n",
    "from keras import regularizers\n",
    "dl_mod = Sequential()\n",
    "dl_mod.add(Dense(4, input_dim=6, activation='sigmoid')) \n",
    "dl_mod.add(Dense(2, activation='sigmoid'))\n",
    "dl_mod.add(Dense(1, activation='sigmoid'))\n",
    "kernel_regularizer=regularizers.l1(0.01)\n",
    "dl_mod.compile(optimizer='rmsprop', loss='mse', metrics=['mean_squared_error'])\n",
    "dl_mod.fit(x_train_scaled, y_train, epochs=600, verbose=0)\n",
    "score = dl_mod.evaluate(x_test_scaled,y_test, verbose=0)\n",
    "print( dl_mod.metrics_names, score)"
   ]
  },
  {
   "cell_type": "code",
   "execution_count": 33,
   "metadata": {},
   "outputs": [
    {
     "name": "stdout",
     "output_type": "stream",
     "text": [
      "['loss', 'mean_squared_error'] [0.09841769188642502, 0.09841769188642502]\n"
     ]
    }
   ],
   "source": [
    "from keras.models import Sequential\n",
    "from keras.layers import Dense, Activation \n",
    "from keras import regularizers\n",
    "dl_mod = Sequential()\n",
    "dl_mod.add(Dense(4, input_dim=6, activation='sigmoid')) \n",
    "dl_mod.add(Dense(2, activation='sigmoid'))\n",
    "dl_mod.add(Dense(1, activation='sigmoid'))\n",
    "kernel_regularizer=regularizers.l2(0.01)\n",
    "dl_mod.compile(optimizer='rmsprop', loss='mse', metrics=['mean_squared_error'])\n",
    "dl_mod.fit(x_train_scaled, y_train, epochs=600, verbose=0)\n",
    "score = dl_mod.evaluate(x_test_scaled,y_test, verbose=0)\n",
    "print( dl_mod.metrics_names, score)"
   ]
  },
  {
   "cell_type": "markdown",
   "metadata": {},
   "source": [
    "### [Learning objective 11] Dropout Regularization"
   ]
  },
  {
   "cell_type": "code",
   "execution_count": 34,
   "metadata": {},
   "outputs": [
    {
     "name": "stdout",
     "output_type": "stream",
     "text": [
      "['loss', 'mean_squared_error'] [0.0974554643034935, 0.0974554643034935]\n"
     ]
    }
   ],
   "source": [
    "from keras.models import Sequential\n",
    "from keras.layers import Dense, Activation , Dropout\n",
    "from keras import regularizers\n",
    "dl_mod = Sequential()\n",
    "dl_mod.add(Dense(4, input_dim=6, activation='sigmoid')) \n",
    "dl_mod.add(Dropout(0.25))\n",
    "dl_mod.add(Dense(2, activation='sigmoid'))\n",
    "dl_mod.add(Dropout(0.25))\n",
    "dl_mod.add(Dense(1, activation='sigmoid'))\n",
    "dl_mod.compile(optimizer='rmsprop', loss='mse', metrics=['mean_squared_error'])\n",
    "dl_mod.fit(x_train_scaled, y_train, epochs=600, verbose=0)\n",
    "score = dl_mod.evaluate(x_test_scaled,y_test, verbose=0)\n",
    "print( dl_mod.metrics_names, score)"
   ]
  }
 ],
 "metadata": {
  "kernelspec": {
   "display_name": "Python 3",
   "language": "python",
   "name": "python3"
  },
  "language_info": {
   "codemirror_mode": {
    "name": "ipython",
    "version": 3
   },
   "file_extension": ".py",
   "mimetype": "text/x-python",
   "name": "python",
   "nbconvert_exporter": "python",
   "pygments_lexer": "ipython3",
   "version": "3.8.2"
  }
 },
 "nbformat": 4,
 "nbformat_minor": 4
}
