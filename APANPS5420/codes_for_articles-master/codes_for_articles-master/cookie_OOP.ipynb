{
 "cells": [
  {
   "cell_type": "markdown",
   "metadata": {},
   "source": [
    "# Object-oriend programming (OOP)\n",
    "\n",
    "## [Part 1: Learning Object-Orient Programming with Python in 10 Minutes](https://python.plainenglish.io/learning-object-orient-programming-and-if-name-main-in-python-in-10-minutes-9b43504a739b)"
   ]
  },
  {
   "cell_type": "code",
   "execution_count": 1,
   "metadata": {},
   "outputs": [],
   "source": [
    "class cookie():\n",
    "    def __init__(self, r,flavor):\n",
    "        self.radius = r\n",
    "        self.theFlavor = flavor\n",
    "\n",
    "    def area(self):\n",
    "        return 3.1416 * self.radius * self.radius\n",
    "    \n",
    "    def perimeter(self):\n",
    "        return 2 * 3.1416 * self.radius\n",
    "\n",
    "smallCookie = cookie(3,'rasin')\n",
    "largeCookie = cookie(10,'chocolate')"
   ]
  },
  {
   "cell_type": "code",
   "execution_count": 2,
   "metadata": {},
   "outputs": [
    {
     "name": "stdout",
     "output_type": "stream",
     "text": [
      "My small cookie is a rasin cookie.\n",
      "It's area is: \n",
      "28.2744\n",
      "And it's perimeter is: \n",
      "18.8496\n"
     ]
    }
   ],
   "source": [
    "print(\"My small cookie is a \" + smallCookie.theFlavor + \" cookie.\")\n",
    "print(\"It's area is: \")\n",
    "print(smallCookie.area())\n",
    "print(\"And it's perimeter is: \")\n",
    "print(smallCookie.perimeter())"
   ]
  },
  {
   "cell_type": "code",
   "execution_count": 3,
   "metadata": {},
   "outputs": [
    {
     "name": "stdout",
     "output_type": "stream",
     "text": [
      "My large cookie is a chocolate cookie.\n",
      "It's area is: \n",
      "314.16\n",
      "And it's perimeter is: \n",
      "62.832\n"
     ]
    }
   ],
   "source": [
    "print(\"My large cookie is a \" + largeCookie.theFlavor + \" cookie.\")\n",
    "print(\"It's area is: \")\n",
    "print(largeCookie.area())\n",
    "print(\"And it's perimeter is: \")\n",
    "print(largeCookie.perimeter())"
   ]
  },
  {
   "cell_type": "code",
   "execution_count": null,
   "metadata": {},
   "outputs": [],
   "source": []
  },
  {
   "cell_type": "code",
   "execution_count": 4,
   "metadata": {},
   "outputs": [
    {
     "name": "stdout",
     "output_type": "stream",
     "text": [
      "I am making cookies with cookie cutters,\n"
     ]
    }
   ],
   "source": [
    "# Python program to execute \n",
    "def my_function(): \n",
    "    print (\"I am making cookies with cookie cutters,\")\n",
    "\n",
    "# Test it\n",
    "my_function() "
   ]
  },
  {
   "cell_type": "code",
   "execution_count": null,
   "metadata": {},
   "outputs": [],
   "source": []
  },
  {
   "cell_type": "markdown",
   "metadata": {},
   "source": [
    "## [Part II: Class Inheritance](https://python.plainenglish.io/learning-object-orient-programming-and-if-name-main-in-python-in-10-minutes-9b43504a739b)"
   ]
  },
  {
   "cell_type": "code",
   "execution_count": 43,
   "metadata": {},
   "outputs": [
    {
     "name": "stdout",
     "output_type": "stream",
     "text": [
      "My small cookie is a rasin cookie.\n",
      "It's area is: \n",
      "28.2744\n",
      "And it's perimeter is: \n",
      "18.8496\n"
     ]
    }
   ],
   "source": [
    "class cookie():\n",
    "    def __init__(self, r,flavor):\n",
    "        self.radius = r\n",
    "        self.theFlavor = flavor\n",
    "\n",
    "    def area(self):\n",
    "        return 3.1416 * self.radius * self.radius\n",
    "    \n",
    "    def perimeter(self):\n",
    "        return 2 * 3.1416 * self.radius\n",
    "\n",
    "smallCookie = cookie(3,'rasin')\n",
    "\n",
    "print(\"My small cookie is a \" + smallCookie.theFlavor + \" cookie.\")\n",
    "print(\"It's area is: \")\n",
    "print(smallCookie.area())\n",
    "print(\"And it's perimeter is: \")\n",
    "print(smallCookie.perimeter())"
   ]
  },
  {
   "cell_type": "code",
   "execution_count": 40,
   "metadata": {},
   "outputs": [
    {
     "name": "stdout",
     "output_type": "stream",
     "text": [
      "We just made a glazed donut.\n",
      "It's area is: \n",
      "84.8232\n",
      "And it's perimeter is: \n",
      "56.5488\n"
     ]
    }
   ],
   "source": [
    "class Doughnut(cookie):\n",
    "    def __init__(self, r_in, r_out, topping):\n",
    "        self.insideRadius   = r_in\n",
    "        self.outsideRadius  = r_out\n",
    "        self.topping = topping\n",
    "\n",
    "    def area(self):\n",
    "        return 3.1416 * (self.outsideRadius ** 2 - self.insideRadius ** 2)\n",
    "    \n",
    "    def perimeter(self):\n",
    "        return 2 * 3.1416 * (self.insideRadius +  self.outsideRadius)\n",
    "\n",
    "glazedDonut = Doughnut(3,6,'glazed')\n",
    "\n",
    "print(\"We just made a \" + glazedDonut.topping + \" donut.\")\n",
    "print(\"It's area is: \")\n",
    "print(glazedDonut.area())\n",
    "print(\"And it's perimeter is: \")\n",
    "print(glazedDonut.perimeter())"
   ]
  },
  {
   "cell_type": "code",
   "execution_count": 49,
   "metadata": {},
   "outputs": [
    {
     "name": "stdout",
     "output_type": "stream",
     "text": [
      "We just made a glazed chocolate donut.\n",
      "It's area is: \n",
      "84.8232\n",
      "And it's perimeter is: \n",
      "56.5488\n",
      "And the inside hollow area is: \n",
      "28.2744\n"
     ]
    }
   ],
   "source": [
    "# Invoking the parent\n",
    "class Doughnut(cookie):\n",
    "    def __init__(self, flavor, r_in, r_out, topping):\n",
    "        self.insideRadius   = r_in\n",
    "        self.outsideRadius  = r_out\n",
    "        self.topping = topping\n",
    "        \n",
    "       # invoking the __init__ of the parent class  \n",
    "        cookie.__init__(self, r_in, flavor)  \n",
    "\n",
    "    def donutarea(self):\n",
    "        return 3.1416 * (self.outsideRadius ** 2 - self.insideRadius ** 2)\n",
    "    \n",
    "    def donutperimeter(self):\n",
    "        return 2 * 3.1416 * (self.insideRadius +  self.outsideRadius)\n",
    "\n",
    "glazedDonut = Doughnut(flavor = 'chocolate',\n",
    "                       r_in = 3,\n",
    "                       r_out = 6,\n",
    "                       topping = 'glazed')\n",
    "\n",
    "print(\"We just made a \" + glazedDonut.topping + ' ' + glazedDonut.theFlavor + \" donut.\")\n",
    "print(\"It's area is: \")\n",
    "print(glazedDonut.donutarea())\n",
    "print(\"And it's perimeter is: \")\n",
    "print(glazedDonut.donutperimeter())\n",
    "print(\"And the inside hollow area is: \")\n",
    "print(glazedDonut.area())"
   ]
  },
  {
   "cell_type": "code",
   "execution_count": 35,
   "metadata": {},
   "outputs": [
    {
     "ename": "AttributeError",
     "evalue": "'Doughnut' object has no attribute 'theFlavor'",
     "output_type": "error",
     "traceback": [
      "\u001b[0;31m---------------------------------------------------------------------------\u001b[0m",
      "\u001b[0;31mAttributeError\u001b[0m                            Traceback (most recent call last)",
      "\u001b[0;32m<ipython-input-35-51cb8d4cdc2c>\u001b[0m in \u001b[0;36m<module>\u001b[0;34m\u001b[0m\n\u001b[1;32m     20\u001b[0m                        topping = 'glazed')\n\u001b[1;32m     21\u001b[0m \u001b[0;34m\u001b[0m\u001b[0m\n\u001b[0;32m---> 22\u001b[0;31m \u001b[0mprint\u001b[0m\u001b[0;34m(\u001b[0m\u001b[0;34m\"We just made a \"\u001b[0m \u001b[0;34m+\u001b[0m \u001b[0mglazedDonut\u001b[0m\u001b[0;34m.\u001b[0m\u001b[0mtopping\u001b[0m \u001b[0;34m+\u001b[0m \u001b[0;34m' '\u001b[0m \u001b[0;34m+\u001b[0m \u001b[0mglazedDonut\u001b[0m\u001b[0;34m.\u001b[0m\u001b[0mtheFlavor\u001b[0m \u001b[0;34m+\u001b[0m \u001b[0;34m\" donut.\"\u001b[0m\u001b[0;34m)\u001b[0m\u001b[0;34m\u001b[0m\u001b[0;34m\u001b[0m\u001b[0m\n\u001b[0m\u001b[1;32m     23\u001b[0m \u001b[0mprint\u001b[0m\u001b[0;34m(\u001b[0m\u001b[0;34m\"It's area is: \"\u001b[0m\u001b[0;34m)\u001b[0m\u001b[0;34m\u001b[0m\u001b[0;34m\u001b[0m\u001b[0m\n\u001b[1;32m     24\u001b[0m \u001b[0mprint\u001b[0m\u001b[0;34m(\u001b[0m\u001b[0mglazedDonut\u001b[0m\u001b[0;34m.\u001b[0m\u001b[0marea\u001b[0m\u001b[0;34m(\u001b[0m\u001b[0;34m)\u001b[0m\u001b[0;34m)\u001b[0m\u001b[0;34m\u001b[0m\u001b[0;34m\u001b[0m\u001b[0m\n",
      "\u001b[0;31mAttributeError\u001b[0m: 'Doughnut' object has no attribute 'theFlavor'"
     ]
    }
   ],
   "source": [
    "# An errorous example\n",
    "class Doughnut(cookie):\n",
    "    def __init__(self, r, flavor, r_in, r_out, topping):\n",
    "        self.insideRadius   = r_in\n",
    "        self.outsideRadius  = r_out\n",
    "        self.topping = topping\n",
    "        \n",
    "       # If you forget to invoke the __init__ of the parent class,\n",
    "       # you will get an error message. This is because it does not know where flavor comes from.\n",
    "       # cookie.__init__(self, r, flavor)  \n",
    "\n",
    "    def area(self):\n",
    "        return 3.1416 * (self.outsideRadius ** 2 - self.insideRadius ** 2)\n",
    "    \n",
    "    def perimeter(self):\n",
    "        return 2 * 3.1416 * (self.insideRadius +  self.outsideRadius)\n",
    "\n",
    "glazedDonut = Doughnut(r = 3,\n",
    "                       flavor = 'chocolate',\n",
    "                       r_in = 3,\n",
    "                       r_out = 6,\n",
    "                       topping = 'glazed')\n",
    "\n",
    "print(\"We just made a \" + glazedDonut.topping + ' ' + glazedDonut.theFlavor + \" donut.\")\n",
    "print(\"It's area is: \")\n",
    "print(glazedDonut.area())\n",
    "print(\"And it's perimeter is: \")\n",
    "print(glazedDonut.perimeter())"
   ]
  },
  {
   "cell_type": "code",
   "execution_count": 48,
   "metadata": {},
   "outputs": [
    {
     "name": "stdout",
     "output_type": "stream",
     "text": [
      "We just made a glazed chocolate donut.\n",
      "It's area is: \n",
      "84.8232\n",
      "And it's perimeter is: \n",
      "56.5488\n",
      "And the inside hollow area is: \n",
      "28.2744\n"
     ]
    }
   ],
   "source": [
    "# Use super()\n",
    "class Doughnut(cookie):\n",
    "    def __init__(self, r, flavor, r_in, r_out, topping):\n",
    "        self.insideRadius   = r_in\n",
    "        self.outsideRadius  = r_out\n",
    "        self.topping = topping\n",
    "        \n",
    "       # invoking the __init__ of the parent class  \n",
    "        super().__init__(r, flavor)  \n",
    "        # super().__init__(self, r, flavor)  # This is wrong. YOu do not need 'self'\n",
    "\n",
    "    def donutarea(self):\n",
    "        return 3.1416 * (self.outsideRadius ** 2 - self.insideRadius ** 2)\n",
    "    \n",
    "    def donutperimeter(self):\n",
    "        return 2 * 3.1416 * (self.insideRadius +  self.outsideRadius)\n",
    "\n",
    "glazedDonut = Doughnut(r = 3,\n",
    "                       flavor = 'chocolate',\n",
    "                       r_in = 3,\n",
    "                       r_out = 6,\n",
    "                       topping = 'glazed')\n",
    "\n",
    "print(\"We just made a \" + glazedDonut.topping + ' ' + glazedDonut.theFlavor + \" donut.\")\n",
    "print(\"It's area is: \")\n",
    "print(glazedDonut.donutarea())\n",
    "print(\"And it's perimeter is: \")\n",
    "print(glazedDonut.donutperimeter())\n",
    "print(\"And the inside hollow area is: \")\n",
    "print(glazedDonut.area())"
   ]
  },
  {
   "cell_type": "code",
   "execution_count": null,
   "metadata": {},
   "outputs": [],
   "source": []
  },
  {
   "cell_type": "code",
   "execution_count": null,
   "metadata": {},
   "outputs": [],
   "source": []
  }
 ],
 "metadata": {
  "kernelspec": {
   "display_name": "Python 3",
   "language": "python",
   "name": "python3"
  },
  "language_info": {
   "codemirror_mode": {
    "name": "ipython",
    "version": 3
   },
   "file_extension": ".py",
   "mimetype": "text/x-python",
   "name": "python",
   "nbconvert_exporter": "python",
   "pygments_lexer": "ipython3",
   "version": "3.8.2"
  }
 },
 "nbformat": 4,
 "nbformat_minor": 4
}
