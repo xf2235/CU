{
 "cells": [
  {
   "cell_type": "code",
   "execution_count": 21,
   "metadata": {},
   "outputs": [
    {
     "data": {
      "text/plain": [
       "array([[  0,   0,   0,   0,   0,   0,   0,   0,   0,   0,   0,   0,   0,\n",
       "          0,   0,   0,   0,   0,   0,   0,   0,   0,   0,   0,   0,   0,\n",
       "          0,   0],\n",
       "       [  0,   0,   0,   0,   0,   0,   0,   0,   0,   0,   0,   0,   0,\n",
       "          0,   0,   0,   0,   0,   0,   0,   0,   0,   0,   0,   0,   0,\n",
       "          0,   0],\n",
       "       [  0,   0,   0,   0,   0,   0,   0,   0,   0,   0,   0,   0,   0,\n",
       "          0,   0,   0,   0,   0,   0,   0,   0,   0,   0,   0,   0,   0,\n",
       "          0,   0],\n",
       "       [  0,   0,   0,   0,   0,   0,   0,   0,   0,   0,   0,   0,   0,\n",
       "          0,   0,   0,   0,   0,   0,   0,   0,   0,   0,   0,   0,   0,\n",
       "          0,   0],\n",
       "       [  0,   0,   0,   0,   0,   0,   0,   0,   0,   0,   0,   0,   0,\n",
       "          0,   0,  51, 159, 253, 159,  50,   0,   0,   0,   0,   0,   0,\n",
       "          0,   0],\n",
       "       [  0,   0,   0,   0,   0,   0,   0,   0,   0,   0,   0,   0,   0,\n",
       "          0,  48, 238, 252, 252, 252, 237,   0,   0,   0,   0,   0,   0,\n",
       "          0,   0],\n",
       "       [  0,   0,   0,   0,   0,   0,   0,   0,   0,   0,   0,   0,   0,\n",
       "         54, 227, 253, 252, 239, 233, 252,  57,   6,   0,   0,   0,   0,\n",
       "          0,   0],\n",
       "       [  0,   0,   0,   0,   0,   0,   0,   0,   0,   0,   0,  10,  60,\n",
       "        224, 252, 253, 252, 202,  84, 252, 253, 122,   0,   0,   0,   0,\n",
       "          0,   0],\n",
       "       [  0,   0,   0,   0,   0,   0,   0,   0,   0,   0,   0, 163, 252,\n",
       "        252, 252, 253, 252, 252,  96, 189, 253, 167,   0,   0,   0,   0,\n",
       "          0,   0],\n",
       "       [  0,   0,   0,   0,   0,   0,   0,   0,   0,   0,  51, 238, 253,\n",
       "        253, 190, 114, 253, 228,  47,  79, 255, 168,   0,   0,   0,   0,\n",
       "          0,   0],\n",
       "       [  0,   0,   0,   0,   0,   0,   0,   0,   0,  48, 238, 252, 252,\n",
       "        179,  12,  75, 121,  21,   0,   0, 253, 243,  50,   0,   0,   0,\n",
       "          0,   0],\n",
       "       [  0,   0,   0,   0,   0,   0,   0,   0,  38, 165, 253, 233, 208,\n",
       "         84,   0,   0,   0,   0,   0,   0, 253, 252, 165,   0,   0,   0,\n",
       "          0,   0],\n",
       "       [  0,   0,   0,   0,   0,   0,   0,   7, 178, 252, 240,  71,  19,\n",
       "         28,   0,   0,   0,   0,   0,   0, 253, 252, 195,   0,   0,   0,\n",
       "          0,   0],\n",
       "       [  0,   0,   0,   0,   0,   0,   0,  57, 252, 252,  63,   0,   0,\n",
       "          0,   0,   0,   0,   0,   0,   0, 253, 252, 195,   0,   0,   0,\n",
       "          0,   0],\n",
       "       [  0,   0,   0,   0,   0,   0,   0, 198, 253, 190,   0,   0,   0,\n",
       "          0,   0,   0,   0,   0,   0,   0, 255, 253, 196,   0,   0,   0,\n",
       "          0,   0],\n",
       "       [  0,   0,   0,   0,   0,   0,  76, 246, 252, 112,   0,   0,   0,\n",
       "          0,   0,   0,   0,   0,   0,   0, 253, 252, 148,   0,   0,   0,\n",
       "          0,   0],\n",
       "       [  0,   0,   0,   0,   0,   0,  85, 252, 230,  25,   0,   0,   0,\n",
       "          0,   0,   0,   0,   0,   7, 135, 253, 186,  12,   0,   0,   0,\n",
       "          0,   0],\n",
       "       [  0,   0,   0,   0,   0,   0,  85, 252, 223,   0,   0,   0,   0,\n",
       "          0,   0,   0,   0,   7, 131, 252, 225,  71,   0,   0,   0,   0,\n",
       "          0,   0],\n",
       "       [  0,   0,   0,   0,   0,   0,  85, 252, 145,   0,   0,   0,   0,\n",
       "          0,   0,   0,  48, 165, 252, 173,   0,   0,   0,   0,   0,   0,\n",
       "          0,   0],\n",
       "       [  0,   0,   0,   0,   0,   0,  86, 253, 225,   0,   0,   0,   0,\n",
       "          0,   0, 114, 238, 253, 162,   0,   0,   0,   0,   0,   0,   0,\n",
       "          0,   0],\n",
       "       [  0,   0,   0,   0,   0,   0,  85, 252, 249, 146,  48,  29,  85,\n",
       "        178, 225, 253, 223, 167,  56,   0,   0,   0,   0,   0,   0,   0,\n",
       "          0,   0],\n",
       "       [  0,   0,   0,   0,   0,   0,  85, 252, 252, 252, 229, 215, 252,\n",
       "        252, 252, 196, 130,   0,   0,   0,   0,   0,   0,   0,   0,   0,\n",
       "          0,   0],\n",
       "       [  0,   0,   0,   0,   0,   0,  28, 199, 252, 252, 253, 252, 252,\n",
       "        233, 145,   0,   0,   0,   0,   0,   0,   0,   0,   0,   0,   0,\n",
       "          0,   0],\n",
       "       [  0,   0,   0,   0,   0,   0,   0,  25, 128, 252, 253, 252, 141,\n",
       "         37,   0,   0,   0,   0,   0,   0,   0,   0,   0,   0,   0,   0,\n",
       "          0,   0],\n",
       "       [  0,   0,   0,   0,   0,   0,   0,   0,   0,   0,   0,   0,   0,\n",
       "          0,   0,   0,   0,   0,   0,   0,   0,   0,   0,   0,   0,   0,\n",
       "          0,   0],\n",
       "       [  0,   0,   0,   0,   0,   0,   0,   0,   0,   0,   0,   0,   0,\n",
       "          0,   0,   0,   0,   0,   0,   0,   0,   0,   0,   0,   0,   0,\n",
       "          0,   0],\n",
       "       [  0,   0,   0,   0,   0,   0,   0,   0,   0,   0,   0,   0,   0,\n",
       "          0,   0,   0,   0,   0,   0,   0,   0,   0,   0,   0,   0,   0,\n",
       "          0,   0],\n",
       "       [  0,   0,   0,   0,   0,   0,   0,   0,   0,   0,   0,   0,   0,\n",
       "          0,   0,   0,   0,   0,   0,   0,   0,   0,   0,   0,   0,   0,\n",
       "          0,   0]], dtype=uint8)"
      ]
     },
     "execution_count": 21,
     "metadata": {},
     "output_type": "execute_result"
    }
   ],
   "source": [
    "from keras.layers import Input, Dense\n",
    "from keras.models import Model\n",
    "from keras.datasets import mnist\n",
    "import numpy as np\n",
    "(x_train, _), (x_test, _) = mnist.load_data()\n",
    "x_train[1]"
   ]
  },
  {
   "cell_type": "code",
   "execution_count": 16,
   "metadata": {},
   "outputs": [
    {
     "data": {
      "text/plain": [
       "array([[  0,   0,   0,   0,   0,   0,   0,   0,   0,   0,   0,   0,   0,\n",
       "          0,   0,   0,   0,   0,   0,   0,   0,   0,   0,   0,   0,   0,\n",
       "          0,   0,   0,   0,   0,   0,   0,   0,   0,   0,   0,   0,   0,\n",
       "          0,   0,   0,   0,   0,   0,   0,   0,   0,   0,   0,   0,   0,\n",
       "          0,   0,   0,   0,   0,   0,   0,   0,   0,   0,   0,   0,   0,\n",
       "          0,   0,   0,   0,   0,   0,   0,   0,   0,   0,   0,   0,   0,\n",
       "          0,   0,   0,   0,   0,   0,   0,   0,   0,   0,   0,   0,   0,\n",
       "          0,   0,   0,   0,   0,   0,   0,   0,   0,   0,   0,   0,   0,\n",
       "          0,   0,   0,   0,   0,   0,   0,   0,   0,   0,   0,   0,   0,\n",
       "          0,   0,   0,   0,   0,   0,   0,   0,   0,   0,  51, 159, 253,\n",
       "        159,  50,   0,   0,   0,   0,   0,   0,   0,   0,   0,   0,   0,\n",
       "          0,   0,   0,   0,   0,   0,   0,   0,   0,   0,   0,  48, 238,\n",
       "        252, 252, 252, 237,   0,   0,   0,   0,   0,   0,   0,   0,   0,\n",
       "          0,   0,   0,   0,   0,   0,   0,   0,   0,   0,   0,   0,  54,\n",
       "        227, 253, 252, 239, 233, 252,  57,   6,   0,   0,   0,   0,   0,\n",
       "          0,   0,   0,   0,   0,   0,   0,   0,   0,   0,   0,   0,  10,\n",
       "         60, 224, 252, 253, 252, 202,  84, 252, 253, 122,   0,   0,   0,\n",
       "          0,   0,   0,   0,   0,   0,   0,   0,   0,   0,   0,   0,   0,\n",
       "          0, 163, 252, 252, 252, 253, 252, 252,  96, 189, 253, 167,   0,\n",
       "          0,   0,   0,   0,   0,   0,   0,   0,   0,   0,   0,   0,   0,\n",
       "          0,   0,  51, 238, 253, 253, 190, 114, 253, 228,  47,  79, 255,\n",
       "        168,   0,   0,   0,   0,   0,   0,   0,   0,   0,   0,   0,   0,\n",
       "          0,   0,   0,  48, 238, 252, 252, 179,  12,  75, 121,  21,   0,\n",
       "          0, 253, 243,  50,   0,   0,   0,   0,   0,   0,   0,   0,   0,\n",
       "          0,   0,   0,   0,  38, 165, 253, 233, 208,  84,   0,   0,   0,\n",
       "          0,   0,   0, 253, 252, 165,   0,   0,   0,   0,   0,   0,   0,\n",
       "          0,   0,   0,   0,   0,   7, 178, 252, 240,  71,  19,  28,   0,\n",
       "          0,   0,   0,   0,   0, 253, 252, 195,   0,   0,   0,   0,   0,\n",
       "          0,   0,   0,   0,   0,   0,   0,  57, 252, 252,  63,   0,   0,\n",
       "          0,   0,   0,   0,   0,   0,   0, 253, 252, 195,   0,   0,   0,\n",
       "          0,   0,   0,   0,   0,   0,   0,   0,   0, 198, 253, 190,   0,\n",
       "          0,   0,   0,   0,   0,   0,   0,   0,   0, 255, 253, 196,   0,\n",
       "          0,   0,   0,   0,   0,   0,   0,   0,   0,   0,  76, 246, 252,\n",
       "        112,   0,   0,   0,   0,   0,   0,   0,   0,   0,   0, 253, 252,\n",
       "        148,   0,   0,   0,   0,   0,   0,   0,   0,   0,   0,   0,  85,\n",
       "        252, 230,  25,   0,   0,   0,   0,   0,   0,   0,   0,   7, 135,\n",
       "        253, 186,  12,   0,   0,   0,   0,   0,   0,   0,   0,   0,   0,\n",
       "          0,  85, 252, 223,   0,   0,   0,   0,   0,   0,   0,   0,   7,\n",
       "        131, 252, 225,  71,   0,   0,   0,   0,   0,   0,   0,   0,   0,\n",
       "          0,   0,   0,  85, 252, 145,   0,   0,   0,   0,   0,   0,   0,\n",
       "         48, 165, 252, 173,   0,   0,   0,   0,   0,   0,   0,   0,   0,\n",
       "          0,   0,   0,   0,   0,  86, 253, 225,   0,   0,   0,   0,   0,\n",
       "          0, 114, 238, 253, 162,   0,   0,   0,   0,   0,   0,   0,   0,\n",
       "          0,   0,   0,   0,   0,   0,   0,  85, 252, 249, 146,  48,  29,\n",
       "         85, 178, 225, 253, 223, 167,  56,   0,   0,   0,   0,   0,   0,\n",
       "          0,   0,   0,   0,   0,   0,   0,   0,   0,  85, 252, 252, 252,\n",
       "        229, 215, 252, 252, 252, 196, 130,   0,   0,   0,   0,   0,   0,\n",
       "          0,   0,   0,   0,   0,   0,   0,   0,   0,   0,   0,  28, 199,\n",
       "        252, 252, 253, 252, 252, 233, 145,   0,   0,   0,   0,   0,   0,\n",
       "          0,   0,   0,   0,   0,   0,   0,   0,   0,   0,   0,   0,   0,\n",
       "          0,  25, 128, 252, 253, 252, 141,  37,   0,   0,   0,   0,   0,\n",
       "          0,   0,   0,   0,   0,   0,   0,   0,   0,   0,   0,   0,   0,\n",
       "          0,   0,   0,   0,   0,   0,   0,   0,   0,   0,   0,   0,   0,\n",
       "          0,   0,   0,   0,   0,   0,   0,   0,   0,   0,   0,   0,   0,\n",
       "          0,   0,   0,   0,   0,   0,   0,   0,   0,   0,   0,   0,   0,\n",
       "          0,   0,   0,   0,   0,   0,   0,   0,   0,   0,   0,   0,   0,\n",
       "          0,   0,   0,   0,   0,   0,   0,   0,   0,   0,   0,   0,   0,\n",
       "          0,   0,   0,   0,   0,   0,   0,   0,   0,   0,   0,   0,   0,\n",
       "          0,   0,   0,   0,   0,   0,   0,   0,   0,   0,   0,   0,   0,\n",
       "          0,   0,   0,   0,   0,   0,   0,   0,   0,   0,   0,   0,   0,\n",
       "          0,   0,   0,   0]], dtype=uint8)"
      ]
     },
     "execution_count": 16,
     "metadata": {},
     "output_type": "execute_result"
    }
   ],
   "source": [
    "x_train_1 = x_train[1].reshape(1, 784)\n",
    "x_train_1"
   ]
  },
  {
   "cell_type": "code",
   "execution_count": 24,
   "metadata": {},
   "outputs": [
    {
     "data": {
      "image/png": "[encoded data removed]",
      "text/plain": [
       "<Figure size 1440x288 with 10 Axes>"
      ]
     },
     "metadata": {
      "needs_background": "light"
     },
     "output_type": "display_data"
    }
   ],
   "source": [
    "import matplotlib.pyplot as plt\n",
    "\n",
    "n = 10  # how many digits we will display\n",
    "plt.figure(figsize=(20, 4))\n",
    "for i in range(n):\n",
    "    # display original\n",
    "    ax = plt.subplot(2, n, i + 1)\n",
    "    plt.imshow(x_test[i].reshape(28, 28))\n",
    "    plt.gray()\n",
    "    ax.get_xaxis().set_visible(False)\n",
    "    ax.get_yaxis().set_visible(False)\n",
    "\n",
    "plt.show()"
   ]
  },
  {
   "cell_type": "code",
   "execution_count": 19,
   "metadata": {},
   "outputs": [
    {
     "data": {
      "text/plain": [
       "(60000, 784)"
      ]
     },
     "execution_count": 19,
     "metadata": {},
     "output_type": "execute_result"
    }
   ],
   "source": [
    "x_train = x_train.reshape((len(x_train), 784))\n",
    "x_test = x_test.reshape((len(x_test), 784))\n",
    "x_train.shape"
   ]
  },
  {
   "cell_type": "code",
   "execution_count": null,
   "metadata": {},
   "outputs": [],
   "source": [
    "# Normalize\n",
    "#x_train = x_train.astype('float32') / 255.\n",
    "#x_test = x_test.astype('float32') / 255.\n",
    "x_train = x_train.reshape((len(x_train), np.prod(x_train.shape[1:])))\n",
    "x_test = x_test.reshape((len(x_test), np.prod(x_test.shape[1:])))\n",
    "print x_train.shape\n",
    "print x_test.shape"
   ]
  },
  {
   "cell_type": "code",
   "execution_count": 20,
   "metadata": {},
   "outputs": [
    {
     "data": {
      "image/png": "[encoded data removed]",
      "text/plain": [
       "<Figure size 1440x288 with 10 Axes>"
      ]
     },
     "metadata": {
      "needs_background": "light"
     },
     "output_type": "display_data"
    }
   ],
   "source": [
    "import matplotlib.pyplot as plt\n",
    "\n",
    "n = 10  # how many digits we will display\n",
    "plt.figure(figsize=(20, 4))\n",
    "for i in range(n):\n",
    "    # display original\n",
    "    ax = plt.subplot(2, n, i + 1)\n",
    "    plt.imshow(x_test[i].reshape(28, 28))\n",
    "    plt.gray()\n",
    "    ax.get_xaxis().set_visible(False)\n",
    "    ax.get_yaxis().set_visible(False)\n",
    "\n",
    "plt.show()"
   ]
  },
  {
   "cell_type": "code",
   "execution_count": 47,
   "metadata": {},
   "outputs": [
    {
     "data": {
      "image/png": "[encoded data removed]",
      "text/plain": [
       "<Figure size 1440x288 with 10 Axes>"
      ]
     },
     "metadata": {
      "needs_background": "light"
     },
     "output_type": "display_data"
    }
   ],
   "source": [
    "import matplotlib.pyplot as plt\n",
    "\n",
    "def print_img(df):\n",
    "    n = 10  # how many digits we will display\n",
    "    plt.figure(figsize=(20, 4))\n",
    "    for i in range(n):\n",
    "        # display original\n",
    "        ax = plt.subplot(2, n, i + 1)\n",
    "        plt.imshow(df[i].reshape(28, 28))\n",
    "        plt.gray()\n",
    "        ax.get_xaxis().set_visible(False)\n",
    "        ax.get_yaxis().set_visible(False)\n",
    "    plt.show()\n",
    "    \n",
    "print_img(x_test)"
   ]
  },
  {
   "cell_type": "code",
   "execution_count": 27,
   "metadata": {},
   "outputs": [],
   "source": [
    "from keras.layers import Input, Dense, Conv2D, MaxPooling2D, UpSampling2D\n",
    "from keras.models import Model\n",
    "from keras import backend as K\n",
    "\n",
    "# The encoding process\n",
    "input_img = Input(shape=(28, 28, 1))  \n",
    "\n",
    "x = Conv2D(filters = 16, kernel_size = (3, 3), activation='relu', padding='same')(input_img)\n",
    "# kernel_size: Specifying the height and width of the 2D convolution window.\n",
    "    \n",
    "x = MaxPooling2D(pool_size = (2, 2), padding='same')(x)\n",
    "x = Conv2D(filters = 8, kernel_size = (3, 3), activation='relu', padding='same')(x)\n",
    "x = MaxPooling2D(pool_size = (2, 2), padding='same')(x) \n",
    "x = Conv2D(filters = 8, (3, 3), activation='relu', padding='same')(x)\n",
    "encoded = MaxPooling2D(pool_size = (2, 2), padding='same')(x)\n",
    "\n",
    "# padding is a hyper-arameter for either 'valid' or 'same'. \n",
    "# \"valid\" means \"no padding\". \n",
    "# \"same\" results in padding the input such that the output has the same length as the original input."
   ]
  },
  {
   "cell_type": "code",
   "execution_count": 28,
   "metadata": {},
   "outputs": [],
   "source": [
    "# The decoding process\n",
    "x = Conv2D(8, (3, 3), activation='relu', padding='same')(encoded)\n",
    "x = UpSampling2D((2, 2))(x)\n",
    "x = Conv2D(8, (3, 3), activation='relu', padding='same')(x)\n",
    "x = UpSampling2D((2, 2))(x)\n",
    "x = Conv2D(16, (3, 3), activation='relu')(x)\n",
    "x = UpSampling2D((2, 2))(x)\n",
    "decoded = Conv2D(1, (3, 3), activation='sigmoid', padding='same')(x)\n",
    "\n",
    "autoencoder = Model(input_img, decoded)\n",
    "autoencoder.compile(optimizer='adadelta', loss='binary_crossentropy')"
   ]
  },
  {
   "cell_type": "code",
   "execution_count": 29,
   "metadata": {},
   "outputs": [],
   "source": [
    "(x_train, _), (x_test, _) = mnist.load_data()\n",
    "\n",
    "x_train = x_train.astype('float32') / 255.\n",
    "x_test = x_test.astype('float32') / 255.\n",
    "x_train = np.reshape(x_train, (len(x_train), 28, 28, 1))  # adapt this if using `channels_first` image data format\n",
    "x_test = np.reshape(x_test, (len(x_test), 28, 28, 1))  # adapt this if using `channels_first` image data format"
   ]
  },
  {
   "cell_type": "code",
   "execution_count": 30,
   "metadata": {},
   "outputs": [
    {
     "ename": "SyntaxError",
     "evalue": "invalid syntax (<ipython-input-30-d252ebf52f78>, line 1)",
     "output_type": "error",
     "traceback": [
      "\u001b[0;36m  File \u001b[0;32m\"<ipython-input-30-d252ebf52f78>\"\u001b[0;36m, line \u001b[0;32m1\u001b[0m\n\u001b[0;31m    tensorboard --logdir=/tmp/autoencoder\u001b[0m\n\u001b[0m                         ^\u001b[0m\n\u001b[0;31mSyntaxError\u001b[0m\u001b[0;31m:\u001b[0m invalid syntax\n"
     ]
    }
   ],
   "source": [
    "tensorboard --logdir=/tmp/autoencoder"
   ]
  },
  {
   "cell_type": "code",
   "execution_count": 31,
   "metadata": {},
   "outputs": [
    {
     "name": "stdout",
     "output_type": "stream",
     "text": [
      "WARNING:tensorflow:From /Users/chriskuo/anaconda3/envs/AD/lib/python3.7/site-packages/tensorflow/python/ops/math_ops.py:3066: to_int32 (from tensorflow.python.ops.math_ops) is deprecated and will be removed in a future version.\n",
      "Instructions for updating:\n",
      "Use tf.cast instead.\n",
      "Train on 60000 samples, validate on 10000 samples\n",
      "Epoch 1/50\n",
      "60000/60000 [==============================] - 136s 2ms/step - loss: 0.2157 - val_loss: 0.1640\n",
      "Epoch 2/50\n",
      "60000/60000 [==============================] - 125s 2ms/step - loss: 0.1535 - val_loss: 0.1422\n",
      "Epoch 3/50\n",
      "60000/60000 [==============================] - 126s 2ms/step - loss: 0.1394 - val_loss: 0.1371\n",
      "Epoch 4/50\n",
      "60000/60000 [==============================] - 122s 2ms/step - loss: 0.1320 - val_loss: 0.1258\n",
      "Epoch 5/50\n",
      "60000/60000 [==============================] - 125s 2ms/step - loss: 0.1274 - val_loss: 0.1291\n",
      "Epoch 6/50\n",
      "60000/60000 [==============================] - 125s 2ms/step - loss: 0.1238 - val_loss: 0.1209\n",
      "Epoch 7/50\n",
      "60000/60000 [==============================] - 123s 2ms/step - loss: 0.1211 - val_loss: 0.1156\n",
      "Epoch 8/50\n",
      "60000/60000 [==============================] - 122s 2ms/step - loss: 0.1190 - val_loss: 0.1176\n",
      "Epoch 9/50\n",
      "60000/60000 [==============================] - 127s 2ms/step - loss: 0.1172 - val_loss: 0.1166\n",
      "Epoch 10/50\n",
      "60000/60000 [==============================] - 125s 2ms/step - loss: 0.1157 - val_loss: 0.1123\n",
      "Epoch 11/50\n",
      "60000/60000 [==============================] - 123s 2ms/step - loss: 0.1141 - val_loss: 0.1116\n",
      "Epoch 12/50\n",
      "60000/60000 [==============================] - 119s 2ms/step - loss: 0.1130 - val_loss: 0.1120\n",
      "Epoch 13/50\n",
      "60000/60000 [==============================] - 121s 2ms/step - loss: 0.1117 - val_loss: 0.1124\n",
      "Epoch 14/50\n",
      "60000/60000 [==============================] - 124s 2ms/step - loss: 0.1110 - val_loss: 0.1081\n",
      "Epoch 15/50\n",
      "60000/60000 [==============================] - 145s 2ms/step - loss: 0.1104 - val_loss: 0.1087\n",
      "Epoch 16/50\n",
      "60000/60000 [==============================] - 128s 2ms/step - loss: 0.1098 - val_loss: 0.1098\n",
      "Epoch 17/50\n",
      "60000/60000 [==============================] - 120s 2ms/step - loss: 0.1092 - val_loss: 0.1106\n",
      "Epoch 18/50\n",
      "60000/60000 [==============================] - 122s 2ms/step - loss: 0.1084 - val_loss: 0.1065\n",
      "Epoch 19/50\n",
      "60000/60000 [==============================] - 122s 2ms/step - loss: 0.1084 - val_loss: 0.1074\n",
      "Epoch 20/50\n",
      "60000/60000 [==============================] - 118s 2ms/step - loss: 0.1078 - val_loss: 0.1072\n",
      "Epoch 21/50\n",
      "60000/60000 [==============================] - 118s 2ms/step - loss: 0.1071 - val_loss: 0.1043\n",
      "Epoch 22/50\n",
      "60000/60000 [==============================] - 118s 2ms/step - loss: 0.1068 - val_loss: 0.1038\n",
      "Epoch 23/50\n",
      "60000/60000 [==============================] - 118s 2ms/step - loss: 0.1063 - val_loss: 0.1045\n",
      "Epoch 24/50\n",
      "60000/60000 [==============================] - 171s 3ms/step - loss: 0.1058 - val_loss: 0.1032\n",
      "Epoch 25/50\n",
      "60000/60000 [==============================] - 2091s 35ms/step - loss: 0.1059 - val_loss: 0.1064\n",
      "Epoch 26/50\n",
      "60000/60000 [==============================] - 123s 2ms/step - loss: 0.1057 - val_loss: 0.1044\n",
      "Epoch 27/50\n",
      "60000/60000 [==============================] - 126s 2ms/step - loss: 0.1054 - val_loss: 0.1023\n",
      "Epoch 28/50\n",
      "60000/60000 [==============================] - 129s 2ms/step - loss: 0.1050 - val_loss: 0.1050\n",
      "Epoch 29/50\n",
      "60000/60000 [==============================] - 121s 2ms/step - loss: 0.1045 - val_loss: 0.1031\n",
      "Epoch 30/50\n",
      "60000/60000 [==============================] - 266s 4ms/step - loss: 0.1042 - val_loss: 0.1043\n",
      "Epoch 31/50\n",
      "60000/60000 [==============================] - 124s 2ms/step - loss: 0.1039 - val_loss: 0.1043\n",
      "Epoch 32/50\n",
      "60000/60000 [==============================] - 130s 2ms/step - loss: 0.1036 - val_loss: 0.1028\n",
      "Epoch 33/50\n",
      "60000/60000 [==============================] - 140s 2ms/step - loss: 0.1033 - val_loss: 0.1025\n",
      "Epoch 34/50\n",
      "60000/60000 [==============================] - 121s 2ms/step - loss: 0.1032 - val_loss: 0.1032\n",
      "Epoch 35/50\n",
      "60000/60000 [==============================] - 131s 2ms/step - loss: 0.1031 - val_loss: 0.0999\n",
      "Epoch 36/50\n",
      "60000/60000 [==============================] - 124s 2ms/step - loss: 0.1031 - val_loss: 0.1025\n",
      "Epoch 37/50\n",
      "60000/60000 [==============================] - 125s 2ms/step - loss: 0.1029 - val_loss: 0.0991\n",
      "Epoch 38/50\n",
      "60000/60000 [==============================] - 128s 2ms/step - loss: 0.1025 - val_loss: 0.1014\n",
      "Epoch 39/50\n",
      "60000/60000 [==============================] - 118s 2ms/step - loss: 0.1023 - val_loss: 0.0991\n",
      "Epoch 40/50\n",
      "60000/60000 [==============================] - 722s 12ms/step - loss: 0.1019 - val_loss: 0.0994\n",
      "Epoch 41/50\n",
      "60000/60000 [==============================] - 119s 2ms/step - loss: 0.1018 - val_loss: 0.1021\n",
      "Epoch 42/50\n",
      "60000/60000 [==============================] - 117s 2ms/step - loss: 0.1017 - val_loss: 0.0986\n",
      "Epoch 43/50\n",
      "60000/60000 [==============================] - 183s 3ms/step - loss: 0.1018 - val_loss: 0.0992\n",
      "Epoch 44/50\n",
      "60000/60000 [==============================] - 130s 2ms/step - loss: 0.1015 - val_loss: 0.0996\n",
      "Epoch 45/50\n",
      "60000/60000 [==============================] - 125s 2ms/step - loss: 0.1012 - val_loss: 0.0989\n",
      "Epoch 46/50\n",
      "60000/60000 [==============================] - 125s 2ms/step - loss: 0.1009 - val_loss: 0.0989\n",
      "Epoch 47/50\n",
      "60000/60000 [==============================] - 124s 2ms/step - loss: 0.1008 - val_loss: 0.0995\n",
      "Epoch 48/50\n",
      "60000/60000 [==============================] - 122s 2ms/step - loss: 0.1007 - val_loss: 0.0977\n",
      "Epoch 49/50\n",
      "60000/60000 [==============================] - 122s 2ms/step - loss: 0.1005 - val_loss: 0.0992\n",
      "Epoch 50/50\n",
      "60000/60000 [==============================] - 124s 2ms/step - loss: 0.1008 - val_loss: 0.0993\n"
     ]
    },
    {
     "data": {
      "text/plain": [
       "<keras.callbacks.History at 0xb3f852eb8>"
      ]
     },
     "execution_count": 31,
     "metadata": {},
     "output_type": "execute_result"
    }
   ],
   "source": [
    "autoencoder.fit(x_train, x_train,\n",
    "                epochs=50,\n",
    "                batch_size=128,\n",
    "                shuffle=True,\n",
    "                validation_data=(x_test, x_test)\n",
    "                # callbacks=[TensorBoard(log_dir='/tmp/autoencoder')]\n",
    "               )"
   ]
  },
  {
   "cell_type": "code",
   "execution_count": 43,
   "metadata": {},
   "outputs": [
    {
     "data": {
      "image/png": "[encoded data removed]",
      "text/plain": [
       "<Figure size 1440x288 with 20 Axes>"
      ]
     },
     "metadata": {
      "needs_background": "light"
     },
     "output_type": "display_data"
    }
   ],
   "source": [
    "decoded_imgs = autoencoder.predict(x_test)\n",
    "\n",
    "n = 10\n",
    "\n",
    "plt.figure(figsize=(20, 4))\n",
    "for i in range(n):\n",
    "    # display original\n",
    "    ax = plt.subplot(2, n, i + 1)\n",
    "    plt.imshow(x_test[i].reshape(28, 28))\n",
    "    plt.gray()\n",
    "    ax.get_xaxis().set_visible(False)\n",
    "    ax.get_yaxis().set_visible(False)\n",
    "\n",
    "    # display reconstruction\n",
    "    ax = plt.subplot(2, n, i+1+n)\n",
    "    plt.imshow(decoded_imgs[i].reshape(28, 28))\n",
    "    plt.gray()\n",
    "    ax.get_xaxis().set_visible(False)\n",
    "    ax.get_yaxis().set_visible(False)\n",
    "plt.show()"
   ]
  },
  {
   "cell_type": "markdown",
   "metadata": {},
   "source": [
    "### Noisy data"
   ]
  },
  {
   "cell_type": "code",
   "execution_count": 44,
   "metadata": {},
   "outputs": [],
   "source": [
    "noise_factor = 0.4\n",
    "x_train_noisy = x_train + noise_factor * np.random.normal(loc=0.0, scale=1.0, size=x_train.shape) \n",
    "x_test_noisy = x_test + noise_factor * np.random.normal(loc=0.0, scale=1.0, size=x_test.shape) \n",
    "\n",
    "x_train_noisy = np.clip(x_train_noisy, 0., 1.)\n",
    "x_test_noisy = np.clip(x_test_noisy, 0., 1.)"
   ]
  },
  {
   "cell_type": "code",
   "execution_count": 46,
   "metadata": {},
   "outputs": [
    {
     "data": {
      "image/png": "[encoded data removed]",
      "text/plain": [
       "<Figure size 1440x144 with 10 Axes>"
      ]
     },
     "metadata": {
      "needs_background": "light"
     },
     "output_type": "display_data"
    }
   ],
   "source": [
    "n = 10\n",
    "plt.figure(figsize=(20, 2))\n",
    "for i in range(n):\n",
    "    ax = plt.subplot(1, n, i+1)\n",
    "    plt.imshow(x_test_noisy[i].reshape(28, 28))\n",
    "    plt.gray()\n",
    "    ax.get_xaxis().set_visible(False)\n",
    "    ax.get_yaxis().set_visible(False)\n",
    "plt.show()"
   ]
  },
  {
   "cell_type": "code",
   "execution_count": 48,
   "metadata": {},
   "outputs": [
    {
     "name": "stdout",
     "output_type": "stream",
     "text": [
      "Train on 60000 samples, validate on 10000 samples\n",
      "Epoch 1/100\n",
      "60000/60000 [==============================] - 124s 2ms/step - loss: 0.1300 - val_loss: 0.1216\n",
      "Epoch 2/100\n",
      "60000/60000 [==============================] - 127s 2ms/step - loss: 0.1220 - val_loss: 0.1226\n",
      "Epoch 3/100\n",
      "60000/60000 [==============================] - 125s 2ms/step - loss: 0.1202 - val_loss: 0.1168\n",
      "Epoch 4/100\n",
      "60000/60000 [==============================] - 125s 2ms/step - loss: 0.1192 - val_loss: 0.1196\n",
      "Epoch 5/100\n",
      "60000/60000 [==============================] - 123s 2ms/step - loss: 0.1188 - val_loss: 0.1166\n",
      "Epoch 6/100\n",
      "60000/60000 [==============================] - 124s 2ms/step - loss: 0.1182 - val_loss: 0.1158\n",
      "Epoch 7/100\n",
      "60000/60000 [==============================] - 123s 2ms/step - loss: 0.1178 - val_loss: 0.1146\n",
      "Epoch 8/100\n",
      "60000/60000 [==============================] - 123s 2ms/step - loss: 0.1174 - val_loss: 0.1174\n",
      "Epoch 9/100\n",
      "60000/60000 [==============================] - 126s 2ms/step - loss: 0.1171 - val_loss: 0.1171\n",
      "Epoch 10/100\n",
      "60000/60000 [==============================] - 121s 2ms/step - loss: 0.1170 - val_loss: 0.1146\n",
      "Epoch 11/100\n",
      "60000/60000 [==============================] - 123s 2ms/step - loss: 0.1168 - val_loss: 0.1153\n",
      "Epoch 12/100\n",
      "60000/60000 [==============================] - 126s 2ms/step - loss: 0.1164 - val_loss: 0.1171\n",
      "Epoch 13/100\n",
      "60000/60000 [==============================] - 119s 2ms/step - loss: 0.1161 - val_loss: 0.1145\n",
      "Epoch 14/100\n",
      "60000/60000 [==============================] - 117s 2ms/step - loss: 0.1161 - val_loss: 0.1137\n",
      "Epoch 15/100\n",
      "60000/60000 [==============================] - 117s 2ms/step - loss: 0.1158 - val_loss: 0.1143\n",
      "Epoch 16/100\n",
      "60000/60000 [==============================] - 117s 2ms/step - loss: 0.1158 - val_loss: 0.1158\n",
      "Epoch 17/100\n",
      "60000/60000 [==============================] - 117s 2ms/step - loss: 0.1157 - val_loss: 0.1178\n",
      "Epoch 18/100\n",
      "60000/60000 [==============================] - 2891s 48ms/step - loss: 0.1157 - val_loss: 0.1144\n",
      "Epoch 19/100\n",
      "60000/60000 [==============================] - 455s 8ms/step - loss: 0.1151 - val_loss: 0.1130\n",
      "Epoch 20/100\n",
      "60000/60000 [==============================] - 122s 2ms/step - loss: 0.1151 - val_loss: 0.1148\n",
      "Epoch 21/100\n",
      "60000/60000 [==============================] - 127s 2ms/step - loss: 0.1153 - val_loss: 0.1149\n",
      "Epoch 22/100\n",
      "60000/60000 [==============================] - 124s 2ms/step - loss: 0.1153 - val_loss: 0.1153\n",
      "Epoch 23/100\n",
      "60000/60000 [==============================] - 125s 2ms/step - loss: 0.1150 - val_loss: 0.1178\n",
      "Epoch 24/100\n",
      "60000/60000 [==============================] - 117s 2ms/step - loss: 0.1148 - val_loss: 0.1150\n",
      "Epoch 25/100\n",
      "60000/60000 [==============================] - 119s 2ms/step - loss: 0.1146 - val_loss: 0.1123\n",
      "Epoch 26/100\n",
      "60000/60000 [==============================] - 118s 2ms/step - loss: 0.1146 - val_loss: 0.1141\n",
      "Epoch 27/100\n",
      "60000/60000 [==============================] - 117s 2ms/step - loss: 0.1147 - val_loss: 0.1139\n",
      "Epoch 28/100\n",
      "60000/60000 [==============================] - 117s 2ms/step - loss: 0.1146 - val_loss: 0.1149\n",
      "Epoch 29/100\n",
      "60000/60000 [==============================] - 117s 2ms/step - loss: 0.1146 - val_loss: 0.1136\n",
      "Epoch 30/100\n",
      "60000/60000 [==============================] - 117s 2ms/step - loss: 0.1146 - val_loss: 0.1124\n",
      "Epoch 31/100\n",
      "60000/60000 [==============================] - 2044s 34ms/step - loss: 0.1146 - val_loss: 0.1147\n",
      "Epoch 32/100\n",
      "60000/60000 [==============================] - 21720s 362ms/step - loss: 0.1144 - val_loss: 0.1147\n",
      "Epoch 33/100\n",
      "60000/60000 [==============================] - 2855s 48ms/step - loss: 0.1144 - val_loss: 0.1158\n",
      "Epoch 34/100\n",
      "60000/60000 [==============================] - 116s 2ms/step - loss: 0.1143 - val_loss: 0.1138\n",
      "Epoch 35/100\n",
      "60000/60000 [==============================] - 122s 2ms/step - loss: 0.1142 - val_loss: 0.1145\n",
      "Epoch 36/100\n",
      "60000/60000 [==============================] - 126s 2ms/step - loss: 0.1142 - val_loss: 0.1169\n",
      "Epoch 37/100\n",
      "60000/60000 [==============================] - 127s 2ms/step - loss: 0.1142 - val_loss: 0.1145\n",
      "Epoch 38/100\n",
      "60000/60000 [==============================] - 129s 2ms/step - loss: 0.1141 - val_loss: 0.1136\n",
      "Epoch 39/100\n",
      "60000/60000 [==============================] - 129s 2ms/step - loss: 0.1139 - val_loss: 0.1167\n",
      "Epoch 40/100\n",
      "60000/60000 [==============================] - 131s 2ms/step - loss: 0.1141 - val_loss: 0.1152\n",
      "Epoch 41/100\n",
      "60000/60000 [==============================] - 137s 2ms/step - loss: 0.1139 - val_loss: 0.1120\n",
      "Epoch 42/100\n",
      "60000/60000 [==============================] - 118s 2ms/step - loss: 0.1140 - val_loss: 0.1128\n",
      "Epoch 43/100\n",
      "60000/60000 [==============================] - 4338s 72ms/step - loss: 0.1139 - val_loss: 0.1120\n",
      "Epoch 44/100\n",
      "60000/60000 [==============================] - 117s 2ms/step - loss: 0.1139 - val_loss: 0.1127\n",
      "Epoch 45/100\n",
      "60000/60000 [==============================] - 116s 2ms/step - loss: 0.1137 - val_loss: 0.1137\n",
      "Epoch 46/100\n",
      "60000/60000 [==============================] - 116s 2ms/step - loss: 0.1138 - val_loss: 0.1124\n",
      "Epoch 47/100\n",
      "60000/60000 [==============================] - 116s 2ms/step - loss: 0.1137 - val_loss: 0.1121\n",
      "Epoch 48/100\n",
      "60000/60000 [==============================] - 116s 2ms/step - loss: 0.1135 - val_loss: 0.1124\n",
      "Epoch 49/100\n",
      "60000/60000 [==============================] - 116s 2ms/step - loss: 0.1133 - val_loss: 0.1130\n",
      "Epoch 50/100\n",
      "60000/60000 [==============================] - 116s 2ms/step - loss: 0.1134 - val_loss: 0.1142\n",
      "Epoch 51/100\n",
      "60000/60000 [==============================] - 116s 2ms/step - loss: 0.1135 - val_loss: 0.1115\n",
      "Epoch 52/100\n",
      "60000/60000 [==============================] - 116s 2ms/step - loss: 0.1134 - val_loss: 0.1136\n",
      "Epoch 53/100\n",
      "60000/60000 [==============================] - 116s 2ms/step - loss: 0.1134 - val_loss: 0.1114\n",
      "Epoch 54/100\n",
      "60000/60000 [==============================] - 116s 2ms/step - loss: 0.1135 - val_loss: 0.1130\n",
      "Epoch 55/100\n",
      "60000/60000 [==============================] - 116s 2ms/step - loss: 0.1135 - val_loss: 0.1111\n",
      "Epoch 56/100\n",
      "60000/60000 [==============================] - 122s 2ms/step - loss: 0.1132 - val_loss: 0.1113\n",
      "Epoch 57/100\n",
      "60000/60000 [==============================] - 119s 2ms/step - loss: 0.1133 - val_loss: 0.1107\n",
      "Epoch 58/100\n",
      "60000/60000 [==============================] - 118s 2ms/step - loss: 0.1132 - val_loss: 0.1111\n",
      "Epoch 59/100\n",
      "60000/60000 [==============================] - 119s 2ms/step - loss: 0.1132 - val_loss: 0.1110\n",
      "Epoch 60/100\n",
      "60000/60000 [==============================] - 122s 2ms/step - loss: 0.1133 - val_loss: 0.1124\n",
      "Epoch 61/100\n",
      "60000/60000 [==============================] - 124s 2ms/step - loss: 0.1134 - val_loss: 0.1116\n",
      "Epoch 62/100\n",
      "60000/60000 [==============================] - 124s 2ms/step - loss: 0.1131 - val_loss: 0.1134\n",
      "Epoch 63/100\n",
      "60000/60000 [==============================] - 125s 2ms/step - loss: 0.1134 - val_loss: 0.1139\n",
      "Epoch 64/100\n",
      "60000/60000 [==============================] - 124s 2ms/step - loss: 0.1133 - val_loss: 0.1132\n",
      "Epoch 65/100\n",
      "60000/60000 [==============================] - 121s 2ms/step - loss: 0.1134 - val_loss: 0.1120\n",
      "Epoch 66/100\n",
      "60000/60000 [==============================] - 124s 2ms/step - loss: 0.1129 - val_loss: 0.1118\n",
      "Epoch 67/100\n",
      "60000/60000 [==============================] - 117s 2ms/step - loss: 0.1129 - val_loss: 0.1141\n",
      "Epoch 68/100\n",
      "60000/60000 [==============================] - 128s 2ms/step - loss: 0.1130 - val_loss: 0.1118\n",
      "Epoch 69/100\n",
      "60000/60000 [==============================] - 125s 2ms/step - loss: 0.1130 - val_loss: 0.1116\n",
      "Epoch 70/100\n",
      "60000/60000 [==============================] - 122s 2ms/step - loss: 0.1128 - val_loss: 0.1110\n",
      "Epoch 71/100\n",
      "60000/60000 [==============================] - 118s 2ms/step - loss: 0.1129 - val_loss: 0.1120\n",
      "Epoch 72/100\n",
      "60000/60000 [==============================] - 134s 2ms/step - loss: 0.1129 - val_loss: 0.1113\n",
      "Epoch 73/100\n",
      "60000/60000 [==============================] - 120s 2ms/step - loss: 0.1130 - val_loss: 0.1137\n",
      "Epoch 74/100\n",
      "60000/60000 [==============================] - 119s 2ms/step - loss: 0.1127 - val_loss: 0.1123\n",
      "Epoch 75/100\n",
      "60000/60000 [==============================] - 118s 2ms/step - loss: 0.1128 - val_loss: 0.1117\n",
      "Epoch 76/100\n",
      "60000/60000 [==============================] - 2880s 48ms/step - loss: 0.1129 - val_loss: 0.1141\n",
      "Epoch 77/100\n",
      "60000/60000 [==============================] - 117s 2ms/step - loss: 0.1126 - val_loss: 0.1112\n",
      "Epoch 78/100\n",
      "60000/60000 [==============================] - 116s 2ms/step - loss: 0.1126 - val_loss: 0.1152\n",
      "Epoch 79/100\n",
      "60000/60000 [==============================] - 116s 2ms/step - loss: 0.1125 - val_loss: 0.1130\n",
      "Epoch 80/100\n",
      "60000/60000 [==============================] - 116s 2ms/step - loss: 0.1125 - val_loss: 0.1119\n",
      "Epoch 81/100\n",
      "60000/60000 [==============================] - 116s 2ms/step - loss: 0.1125 - val_loss: 0.1126\n",
      "Epoch 82/100\n",
      "60000/60000 [==============================] - 116s 2ms/step - loss: 0.1126 - val_loss: 0.1140\n",
      "Epoch 83/100\n",
      "60000/60000 [==============================] - 116s 2ms/step - loss: 0.1125 - val_loss: 0.1096\n",
      "Epoch 84/100\n",
      "60000/60000 [==============================] - 117s 2ms/step - loss: 0.1126 - val_loss: 0.1127\n",
      "Epoch 85/100\n",
      "60000/60000 [==============================] - 116s 2ms/step - loss: 0.1126 - val_loss: 0.1108\n",
      "Epoch 86/100\n",
      "60000/60000 [==============================] - 116s 2ms/step - loss: 0.1125 - val_loss: 0.1121\n",
      "Epoch 87/100\n",
      "60000/60000 [==============================] - 131s 2ms/step - loss: 0.1127 - val_loss: 0.1099\n",
      "Epoch 88/100\n",
      "60000/60000 [==============================] - 133s 2ms/step - loss: 0.1124 - val_loss: 0.1116\n",
      "Epoch 89/100\n",
      "60000/60000 [==============================] - 125s 2ms/step - loss: 0.1125 - val_loss: 0.1121\n",
      "Epoch 90/100\n",
      "60000/60000 [==============================] - 122s 2ms/step - loss: 0.1124 - val_loss: 0.1108\n",
      "Epoch 91/100\n",
      "60000/60000 [==============================] - 125s 2ms/step - loss: 0.1125 - val_loss: 0.1105\n",
      "Epoch 92/100\n",
      "60000/60000 [==============================] - 129s 2ms/step - loss: 0.1124 - val_loss: 0.1097\n",
      "Epoch 93/100\n",
      "60000/60000 [==============================] - 130s 2ms/step - loss: 0.1126 - val_loss: 0.1131\n",
      "Epoch 94/100\n",
      "60000/60000 [==============================] - 125s 2ms/step - loss: 0.1124 - val_loss: 0.1137\n",
      "Epoch 95/100\n",
      "60000/60000 [==============================] - 123s 2ms/step - loss: 0.1124 - val_loss: 0.1115\n",
      "Epoch 96/100\n",
      "60000/60000 [==============================] - 118s 2ms/step - loss: 0.1124 - val_loss: 0.1111\n",
      "Epoch 97/100\n",
      "60000/60000 [==============================] - 186s 3ms/step - loss: 0.1123 - val_loss: 0.1105\n",
      "Epoch 98/100\n",
      "60000/60000 [==============================] - 123s 2ms/step - loss: 0.1123 - val_loss: 0.1115\n",
      "Epoch 99/100\n",
      "60000/60000 [==============================] - 123s 2ms/step - loss: 0.1122 - val_loss: 0.1098\n",
      "Epoch 100/100\n",
      "60000/60000 [==============================] - 123s 2ms/step - loss: 0.1123 - val_loss: 0.1130\n"
     ]
    },
    {
     "data": {
      "text/plain": [
       "<keras.callbacks.History at 0xb3f574a20>"
      ]
     },
     "execution_count": 48,
     "metadata": {},
     "output_type": "execute_result"
    }
   ],
   "source": [
    "autoencoder.fit(x_train_noisy, x_train,\n",
    "                epochs=100,\n",
    "                batch_size=128,\n",
    "                shuffle=True,\n",
    "                validation_data=(x_test_noisy, x_test)\n",
    "               )"
   ]
  },
  {
   "cell_type": "code",
   "execution_count": 51,
   "metadata": {},
   "outputs": [
    {
     "data": {
      "image/png": "[encoded data removed]",
      "text/plain": [
       "<Figure size 1440x288 with 20 Axes>"
      ]
     },
     "metadata": {
      "needs_background": "light"
     },
     "output_type": "display_data"
    }
   ],
   "source": [
    "decoded_imgs = autoencoder.predict(x_test)\n",
    "\n",
    "n = 10\n",
    "\n",
    "plt.figure(figsize=(20, 4))\n",
    "for i in range(n):\n",
    "    # display original\n",
    "    ax = plt.subplot(2, n, i + 1)\n",
    "    plt.imshow(x_test_noisy[i].reshape(28, 28))\n",
    "    plt.gray()\n",
    "    ax.get_xaxis().set_visible(False)\n",
    "    ax.get_yaxis().set_visible(False)\n",
    "\n",
    "    # display reconstruction\n",
    "    ax = plt.subplot(2, n, i+1+n)\n",
    "    plt.imshow(decoded_imgs[i].reshape(28, 28))\n",
    "    plt.gray()\n",
    "    ax.get_xaxis().set_visible(False)\n",
    "    ax.get_yaxis().set_visible(False)\n",
    "plt.show()"
   ]
  },
  {
   "cell_type": "code",
   "execution_count": null,
   "metadata": {},
   "outputs": [],
   "source": []
  },
  {
   "cell_type": "code",
   "execution_count": null,
   "metadata": {},
   "outputs": [],
   "source": []
  },
  {
   "cell_type": "code",
   "execution_count": null,
   "metadata": {},
   "outputs": [],
   "source": []
  },
  {
   "cell_type": "code",
   "execution_count": null,
   "metadata": {},
   "outputs": [],
   "source": []
  }
 ],
 "metadata": {
  "kernelspec": {
   "display_name": "Python 3",
   "language": "python",
   "name": "python3"
  },
  "language_info": {
   "codemirror_mode": {
    "name": "ipython",
    "version": 3
   },
   "file_extension": ".py",
   "mimetype": "text/x-python",
   "name": "python",
   "nbconvert_exporter": "python",
   "pygments_lexer": "ipython3",
   "version": "3.8.2"
  }
 },
 "nbformat": 4,
 "nbformat_minor": 4
}
