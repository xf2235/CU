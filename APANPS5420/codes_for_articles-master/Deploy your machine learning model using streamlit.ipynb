{
 "cells": [
  {
   "cell_type": "markdown",
   "id": "afb5efdd-fbde-436d-a8e6-be1c2b00321f",
   "metadata": {},
   "source": [
    "## Deploy your Machine Learning Model using Streamlit"
   ]
  },
  {
   "cell_type": "code",
   "execution_count": 28,
   "id": "b3f910ba-69fc-4ac7-b8bb-b17368835f5d",
   "metadata": {},
   "outputs": [],
   "source": [
    "variables = ['APARTMENTS_AVG','LIVINGAPARTMENTS_AVG','OCCUPATION_TYPE']"
   ]
  },
  {
   "cell_type": "code",
   "execution_count": 29,
   "id": "e5532721-263e-4fd1-aa4b-c87740d4bf71",
   "metadata": {},
   "outputs": [],
   "source": [
    "import numpy as np\n",
    "import pandas as pd\n",
    "from sklearn.model_selection import train_test_split\n",
    "path = ''\n",
    "df = pd.read_csv(path + '/application_train.csv')\n",
    "df = df.sample(frac=0.1) # Take some records just to build a toy model\n",
    "X_train, X_test, Y_train, Y_test = train_test_split(df[variables],df['TARGET'],random_state=0)"
   ]
  },
  {
   "cell_type": "markdown",
   "id": "81fe2b64-2558-42bd-ab37-273668fa45e4",
   "metadata": {},
   "source": [
    "### Data pre-processing: fillna for numeric variables"
   ]
  },
  {
   "cell_type": "code",
   "execution_count": 30,
   "id": "827fd584-c958-4f8a-a452-307354b459f4",
   "metadata": {},
   "outputs": [],
   "source": [
    "# Impute with the mean of the training data\n",
    "# Keep the same mean to impute the test data or any future data\n",
    "APARTMENTS_AVG_MEAN = X_train['APARTMENTS_AVG'].mean()\n",
    "APARTMENTS_AVG_MAX = X_train['APARTMENTS_AVG'].mean()\n",
    "APARTMENTS_AVG_MIN = X_train['APARTMENTS_AVG'].min()\n",
    "LIVINGAPARTMENTS_AVG_MEAN = X_train['LIVINGAPARTMENTS_AVG'].mean()\n",
    "LIVINGAPARTMENTS_AVG_MAX = X_train['LIVINGAPARTMENTS_AVG'].max()\n",
    "LIVINGAPARTMENTS_AVG_MIN = X_train['LIVINGAPARTMENTS_AVG'].min()"
   ]
  },
  {
   "cell_type": "code",
   "execution_count": 31,
   "id": "f8545ccc-155b-4da9-b29d-b6a41ffc8424",
   "metadata": {},
   "outputs": [
    {
     "data": {
      "text/plain": [
       "(0.0, 1.0)"
      ]
     },
     "execution_count": 31,
     "metadata": {},
     "output_type": "execute_result"
    }
   ],
   "source": [
    "LIVINGAPARTMENTS_AVG_MIN, LIVINGAPARTMENTS_AVG_MAX"
   ]
  },
  {
   "cell_type": "code",
   "execution_count": 32,
   "id": "fae750e8-38e9-457c-9ed3-29d6226f574b",
   "metadata": {},
   "outputs": [
    {
     "data": {
      "text/plain": [
       "(0.0, 0.11768214539007016)"
      ]
     },
     "execution_count": 32,
     "metadata": {},
     "output_type": "execute_result"
    }
   ],
   "source": [
    "APARTMENTS_AVG_MIN, APARTMENTS_AVG_MAX"
   ]
  },
  {
   "cell_type": "code",
   "execution_count": 33,
   "id": "0e8e6621-85e9-4d28-a849-4af9aaa8377e",
   "metadata": {},
   "outputs": [],
   "source": [
    "mean_values = {'APARTMENTS_AVG': APARTMENTS_AVG_MEAN, 'LIVINGAPARTMENTS_AVG': LIVINGAPARTMENTS_AVG_MEAN}\n",
    "X_train = X_train.fillna(value=mean_values)\n",
    "X_test = X_test.fillna(value=mean_values)"
   ]
  },
  {
   "cell_type": "markdown",
   "id": "ff73a035-b14f-4d31-8a2f-493561e67911",
   "metadata": {},
   "source": [
    "### Data pre-processing: categorical variables"
   ]
  },
  {
   "cell_type": "code",
   "execution_count": 34,
   "id": "3715ebe4-be65-49dd-8889-7c21cc5e7cd6",
   "metadata": {},
   "outputs": [
    {
     "data": {
      "text/plain": [
       "Laborers                 4117\n",
       "Sales staff              2315\n",
       "Core staff               2107\n",
       "Managers                 1577\n",
       "Drivers                  1420\n",
       "High skill tech staff     860\n",
       "Accountants               742\n",
       "Medicine staff            633\n",
       "Security staff            530\n",
       "Cooking staff             456\n",
       "Cleaning staff            350\n",
       "Private service staff     185\n",
       "Low-skill Laborers        160\n",
       "Secretaries               111\n",
       "Waiters/barmen staff       91\n",
       "Realty agents              59\n",
       "HR staff                   41\n",
       "IT staff                   40\n",
       "Name: OCCUPATION_TYPE, dtype: int64"
      ]
     },
     "execution_count": 34,
     "metadata": {},
     "output_type": "execute_result"
    }
   ],
   "source": [
    "X_train['OCCUPATION_TYPE'].value_counts()"
   ]
  },
  {
   "cell_type": "code",
   "execution_count": null,
   "id": "ce3551cb-318e-406a-83c0-96cb97e289f0",
   "metadata": {},
   "outputs": [],
   "source": []
  },
  {
   "cell_type": "code",
   "execution_count": 35,
   "id": "7f33af60-d4ac-430f-b1d8-ae41736f9700",
   "metadata": {},
   "outputs": [],
   "source": [
    "OCCUPATION_list  = ['Laborers','Sales staff','Core staff','Managers','Drivers','High skill tech staff',\n",
    "'Accountants','Medicine staff','Security staff','Cooking staff','Cleaning staff']"
   ]
  },
  {
   "cell_type": "code",
   "execution_count": 36,
   "id": "ed91d9d3-fb38-4d55-bbf2-1c1b008da7a5",
   "metadata": {},
   "outputs": [],
   "source": [
    "X_train['OCCUPATION_GRP'] = np.where(X_train['OCCUPATION_TYPE'].isin(OCCUPATION_list), X_train['OCCUPATION_TYPE'], 'OTHER')\n",
    "X_test['OCCUPATION_GRP'] = np.where(X_test['OCCUPATION_TYPE'].isin(OCCUPATION_list), X_test['OCCUPATION_TYPE'], 'OTHER')\n",
    "X_train = X_train.drop('OCCUPATION_TYPE',axis=1)\n",
    "X_test = X_test.drop('OCCUPATION_TYPE',axis=1)"
   ]
  },
  {
   "cell_type": "code",
   "execution_count": 37,
   "id": "b4b4e4c7-50b0-43fa-9ccb-5b907cae3e15",
   "metadata": {},
   "outputs": [],
   "source": [
    "#X_train['OCCUPATION_GRP'] = X_train['OCCUPATION_GRP'].str.replace(' ','_')\n",
    "#X_train['OCCUPATION_GRP'] = X_train['OCCUPATION_GRP'].str.replace('/','_')\n"
   ]
  },
  {
   "cell_type": "code",
   "execution_count": 38,
   "id": "42dcbda5-cb91-4718-9f9d-eb706574f881",
   "metadata": {},
   "outputs": [
    {
     "data": {
      "text/plain": [
       "OTHER                    7956\n",
       "Laborers                 4117\n",
       "Sales staff              2315\n",
       "Core staff               2107\n",
       "Managers                 1577\n",
       "Drivers                  1420\n",
       "High skill tech staff     860\n",
       "Accountants               742\n",
       "Medicine staff            633\n",
       "Security staff            530\n",
       "Cooking staff             456\n",
       "Cleaning staff            350\n",
       "Name: OCCUPATION_GRP, dtype: int64"
      ]
     },
     "execution_count": 38,
     "metadata": {},
     "output_type": "execute_result"
    }
   ],
   "source": [
    "X_train['OCCUPATION_GRP'].value_counts(dropna=False)"
   ]
  },
  {
   "cell_type": "code",
   "execution_count": 39,
   "id": "1fd5876b-e3e1-4a0b-ae1a-9ce02bb200bf",
   "metadata": {},
   "outputs": [],
   "source": [
    "# Get_Dummy for One-Hot #\n",
    "def getDummy(df,var):\n",
    "    df[var] = df[var].str.replace(' ','_')\n",
    "    df[var] = df[var].str.replace('/','_')\n",
    "    dummies = pd.get_dummies(df[var])\n",
    "    df2 = pd.concat([df, dummies], axis=1)\n",
    "    df2 = df2.drop([var], axis=1)\n",
    "    return(df2)\n",
    "    \n",
    "X_train = getDummy(X_train,'OCCUPATION_GRP')\n",
    "X_test = getDummy(X_test,'OCCUPATION_GRP')"
   ]
  },
  {
   "cell_type": "code",
   "execution_count": 40,
   "id": "0f1d9231-80f5-479f-869c-e4bca54e9162",
   "metadata": {},
   "outputs": [
    {
     "data": {
      "text/plain": [
       "array(['APARTMENTS_AVG', 'Accountants', 'Cleaning_staff', 'Cooking_staff',\n",
       "       'Core_staff', 'Drivers', 'High_skill_tech_staff',\n",
       "       'LIVINGAPARTMENTS_AVG', 'Laborers', 'Managers', 'Medicine_staff',\n",
       "       'OTHER', 'Sales_staff', 'Security_staff'], dtype=object)"
      ]
     },
     "execution_count": 40,
     "metadata": {},
     "output_type": "execute_result"
    }
   ],
   "source": [
    "np.sort(X_train.columns)"
   ]
  },
  {
   "cell_type": "code",
   "execution_count": 41,
   "id": "6444f0f2-faaa-429d-85dd-c63b3e975f57",
   "metadata": {},
   "outputs": [
    {
     "data": {
      "text/plain": [
       "DecisionTreeClassifier(max_depth=6, min_samples_leaf=5)"
      ]
     },
     "execution_count": 41,
     "metadata": {},
     "output_type": "execute_result"
    }
   ],
   "source": [
    "from sklearn.tree import DecisionTreeClassifier # for classification\n",
    "\n",
    "# First, specify the model. \n",
    "dtree = DecisionTreeClassifier(min_samples_leaf = 5, max_depth = 6)\n",
    "# Then, train the model.\n",
    "dtree.fit(X_train,Y_train)"
   ]
  },
  {
   "cell_type": "code",
   "execution_count": 42,
   "id": "a241854b-3584-4065-9da1-6d8130658992",
   "metadata": {},
   "outputs": [
    {
     "data": {
      "text/plain": [
       "<AxesSubplot:xlabel='feature'>"
      ]
     },
     "execution_count": 42,
     "metadata": {},
     "output_type": "execute_result"
    },
    {
     "data": {
      "image/png": "[encoded data removed]",
      "text/plain": [
       "<Figure size 288x216 with 1 Axes>"
      ]
     },
     "metadata": {
      "needs_background": "light"
     },
     "output_type": "display_data"
    }
   ],
   "source": [
    "importances = pd.DataFrame({'feature': X_train.columns, 'importance': np.round(dtree.feature_importances_,3)})\n",
    "importances = importances.sort_values('importance',ascending=False)\n",
    "importances.plot.bar(x='feature', figsize=(4,3),fontsize=6)"
   ]
  },
  {
   "cell_type": "code",
   "execution_count": 43,
   "id": "52ad2a29-3f2f-4e7b-a0e4-d3458568214a",
   "metadata": {},
   "outputs": [
    {
     "data": {
      "text/plain": [
       "array([0.06263063, 0.06263063, 0.06263063, 0.10874704, 0.06263063])"
      ]
     },
     "execution_count": 43,
     "metadata": {},
     "output_type": "execute_result"
    }
   ],
   "source": [
    "# Predict a few records\n",
    "predictions = dtree.predict_proba(X_test[0:5])[:,1]\n",
    "predictions"
   ]
  },
  {
   "cell_type": "markdown",
   "id": "8bc6318f-bca8-4d37-9a44-3f422b387450",
   "metadata": {},
   "source": [
    "## Save the model"
   ]
  },
  {
   "cell_type": "code",
   "execution_count": 52,
   "id": "7d7ef156-3083-45b7-bdb3-17de6f206f34",
   "metadata": {},
   "outputs": [
    {
     "data": {
      "text/plain": [
       "array([0.06263063])"
      ]
     },
     "execution_count": 52,
     "metadata": {},
     "output_type": "execute_result"
    }
   ],
   "source": [
    "import pickle \n",
    "# save the model to disk\n",
    "modelname = path + '/toymodel.pkl'\n",
    "pickle.dump(dtree, open(modelname, 'wb'))\n",
    " \n",
    "# load the model from disk\n",
    "loaded_model = pickle.load(open(modelname, 'rb'))\n",
    "predictions = loaded_model.predict_proba(X_test[0:1])[:,1]\n",
    "predictions"
   ]
  },
  {
   "cell_type": "code",
   "execution_count": 53,
   "id": "5997a6e5-1fd1-4bc4-96ca-00a4944db0c0",
   "metadata": {},
   "outputs": [
    {
     "data": {
      "text/html": [
       "<div>\n",
       "<style scoped>\n",
       "    .dataframe tbody tr th:only-of-type {\n",
       "        vertical-align: middle;\n",
       "    }\n",
       "\n",
       "    .dataframe tbody tr th {\n",
       "        vertical-align: top;\n",
       "    }\n",
       "\n",
       "    .dataframe thead th {\n",
       "        text-align: right;\n",
       "    }\n",
       "</style>\n",
       "<table border=\"1\" class=\"dataframe\">\n",
       "  <thead>\n",
       "    <tr style=\"text-align: right;\">\n",
       "      <th></th>\n",
       "      <th>APARTMENTS_AVG</th>\n",
       "      <th>LIVINGAPARTMENTS_AVG</th>\n",
       "      <th>Accountants</th>\n",
       "      <th>Cleaning_staff</th>\n",
       "      <th>Cooking_staff</th>\n",
       "      <th>Core_staff</th>\n",
       "      <th>Drivers</th>\n",
       "      <th>High_skill_tech_staff</th>\n",
       "      <th>Laborers</th>\n",
       "      <th>Managers</th>\n",
       "      <th>Medicine_staff</th>\n",
       "      <th>OTHER</th>\n",
       "      <th>Sales_staff</th>\n",
       "      <th>Security_staff</th>\n",
       "    </tr>\n",
       "  </thead>\n",
       "  <tbody>\n",
       "    <tr>\n",
       "      <th>154376</th>\n",
       "      <td>0.0186</td>\n",
       "      <td>0.101631</td>\n",
       "      <td>0</td>\n",
       "      <td>0</td>\n",
       "      <td>0</td>\n",
       "      <td>0</td>\n",
       "      <td>0</td>\n",
       "      <td>0</td>\n",
       "      <td>0</td>\n",
       "      <td>0</td>\n",
       "      <td>0</td>\n",
       "      <td>1</td>\n",
       "      <td>0</td>\n",
       "      <td>0</td>\n",
       "    </tr>\n",
       "  </tbody>\n",
       "</table>\n",
       "</div>"
      ],
      "text/plain": [
       "        APARTMENTS_AVG  LIVINGAPARTMENTS_AVG  Accountants  Cleaning_staff  \\\n",
       "154376          0.0186              0.101631            0               0   \n",
       "\n",
       "        Cooking_staff  Core_staff  Drivers  High_skill_tech_staff  Laborers  \\\n",
       "154376              0           0        0                      0         0   \n",
       "\n",
       "        Managers  Medicine_staff  OTHER  Sales_staff  Security_staff  \n",
       "154376         0               0      1            0               0  "
      ]
     },
     "execution_count": 53,
     "metadata": {},
     "output_type": "execute_result"
    }
   ],
   "source": [
    "X_test[0:1]"
   ]
  }
 ],
 "metadata": {
  "kernelspec": {
   "display_name": "Python 3",
   "language": "python",
   "name": "python3"
  },
  "language_info": {
   "codemirror_mode": {
    "name": "ipython",
    "version": 3
   },
   "file_extension": ".py",
   "mimetype": "text/x-python",
   "name": "python",
   "nbconvert_exporter": "python",
   "pygments_lexer": "ipython3",
   "version": "3.8.2"
  }
 },
 "nbformat": 4,
 "nbformat_minor": 5
}
