{
 "cells": [
  {
   "cell_type": "markdown",
   "id": "d54e65ba",
   "metadata": {},
   "source": [
    "## PyOD - Histogram-based Outlier Detection"
   ]
  },
  {
   "cell_type": "code",
   "execution_count": 4,
   "id": "5ca8b1a3",
   "metadata": {},
   "outputs": [
    {
     "data": {
      "image/png": "[encoded data removed]",
      "text/plain": [
       "<Figure size 432x288 with 1 Axes>"
      ]
     },
     "metadata": {
      "needs_background": "light"
     },
     "output_type": "display_data"
    }
   ],
   "source": [
    "import numpy as np\n",
    "import pandas as pd\n",
    "import matplotlib.pyplot as plt\n",
    "from pyod.utils.data import generate_data\n",
    "contamination = 0.1 # percentage of outliers\n",
    "n_train = 500       # number of training points\n",
    "n_test = 500        # number of testing points\n",
    "n_features = 2      # number of features\n",
    "X_train, y_train, X_test, y_test = generate_data(\n",
    " n_train=n_train, n_test=n_test, n_features= n_features, contamination=contamination)\n",
    "\n",
    "# Make the 2d numpy array a pandas dataframe for each manipulation \n",
    "X_train_pd = pd.DataFrame(X_train)\n",
    "    \n",
    "# Plot\n",
    "plt.scatter(X_train_pd[0], X_train_pd[1], c=y_train, alpha=0.8)\n",
    "plt.title('Scatter plot pythonspot.com')\n",
    "plt.xlabel('x')\n",
    "plt.ylabel('y')\n",
    "plt.show()"
   ]
  },
  {
   "cell_type": "code",
   "execution_count": 7,
   "id": "f9f2e25f",
   "metadata": {},
   "outputs": [],
   "source": [
    "# train kNN detector\n",
    "from pyod.models.hbos import HBOS\n",
    "n_bins = 50\n",
    "hbos = HBOS(n_bins=n_bins)\n",
    "hbos.fit(X_train)\n",
    "HBOS(alpha=0.1, contamination=0.1, n_bins=n_bins, tol=0.5)\n",
    "y_train_scores = hbos.decision_function(X_train)"
   ]
  },
  {
   "cell_type": "code",
   "execution_count": 8,
   "id": "fa5dab5e",
   "metadata": {},
   "outputs": [],
   "source": [
    "# Now we have the trained K-NN model, let's apply to the test data to get the predictions\n",
    "y_test_pred = hbos.predict(X_test) # outlier labels (0 or 1)\n",
    "# Because it is '0' and '1', we can run a count statistic. There are 44 '1's and 456 '0's. The number of anomalies is roughly ten percent, as we have generated before:\n",
    "unique, counts = np.unique(y_test_pred, return_counts=True)\n",
    "dict(zip(unique, counts))\n",
    "#{0: 456, 1: 44}\n",
    "# And you can generate the anomaly score using clf.decision_function:\n",
    "y_test_scores = clf.decision_function(X_test)"
   ]
  },
  {
   "cell_type": "code",
   "execution_count": 9,
   "id": "d8b1668b",
   "metadata": {},
   "outputs": [
    {
     "data": {
      "image/png": "[encoded data removed]",
      "text/plain": [
       "<Figure size 432x288 with 1 Axes>"
      ]
     },
     "metadata": {
      "needs_background": "light"
     },
     "output_type": "display_data"
    }
   ],
   "source": [
    "import matplotlib.pyplot as plt\n",
    "plt.hist(y_test_scores, bins='auto')  # arguments are passed to np.histogram\n",
    "plt.title(\"Histogram with 'auto' bins\")\n",
    "plt.show()"
   ]
  },
  {
   "cell_type": "code",
   "execution_count": 11,
   "id": "f92089f7",
   "metadata": {},
   "outputs": [
    {
     "data": {
      "text/html": [
       "<div>\n",
       "<style scoped>\n",
       "    .dataframe tbody tr th:only-of-type {\n",
       "        vertical-align: middle;\n",
       "    }\n",
       "\n",
       "    .dataframe tbody tr th {\n",
       "        vertical-align: top;\n",
       "    }\n",
       "\n",
       "    .dataframe thead th {\n",
       "        text-align: right;\n",
       "    }\n",
       "</style>\n",
       "<table border=\"1\" class=\"dataframe\">\n",
       "  <thead>\n",
       "    <tr style=\"text-align: right;\">\n",
       "      <th></th>\n",
       "      <th>0</th>\n",
       "      <th>1</th>\n",
       "      <th>score</th>\n",
       "    </tr>\n",
       "    <tr>\n",
       "      <th>cluster</th>\n",
       "      <th></th>\n",
       "      <th></th>\n",
       "      <th></th>\n",
       "    </tr>\n",
       "  </thead>\n",
       "  <tbody>\n",
       "    <tr>\n",
       "      <th>0</th>\n",
       "      <td>8.986251</td>\n",
       "      <td>9.050861</td>\n",
       "      <td>0.217078</td>\n",
       "    </tr>\n",
       "    <tr>\n",
       "      <th>1</th>\n",
       "      <td>-0.267520</td>\n",
       "      <td>0.200783</td>\n",
       "      <td>3.456578</td>\n",
       "    </tr>\n",
       "  </tbody>\n",
       "</table>\n",
       "</div>"
      ],
      "text/plain": [
       "                0         1     score\n",
       "cluster                              \n",
       "0        8.986251  9.050861  0.217078\n",
       "1       -0.267520  0.200783  3.456578"
      ]
     },
     "execution_count": 11,
     "metadata": {},
     "output_type": "execute_result"
    }
   ],
   "source": [
    "# Let's see how many '0's and '1's. We get 452 '0's and 48 '1's.\n",
    "df_test = pd.DataFrame(X_test)\n",
    "df_test['score'] = y_test_scores\n",
    "df_test['cluster'] = np.where(df_test['score']<1, 0, 1)\n",
    "df_test['cluster'].value_counts()\n",
    "# Now let's show the summary statistics:\n",
    "df_test.groupby('cluster').mean()"
   ]
  },
  {
   "cell_type": "code",
   "execution_count": 14,
   "id": "8f874789",
   "metadata": {},
   "outputs": [],
   "source": [
    "#!pip install combo"
   ]
  },
  {
   "cell_type": "code",
   "execution_count": 16,
   "id": "8f5f481a",
   "metadata": {},
   "outputs": [],
   "source": [
    "from pyod.models.combination import aom, moa, average, maximization\n",
    "from pyod.utils.utility import standardizer\n",
    "# Standardize data\n",
    "X_train_norm, X_test_norm = standardizer(X_train, X_test)\n",
    "\n",
    "# Test a range of bins\n",
    "n_clf = 10\n",
    "k_list = [5,10,1,20,25,30,35,40,45,50]\n",
    "# Just prepare data frames so we can store the model results\n",
    "train_scores = np.zeros([X_train.shape[0], n_clf])\n",
    "test_scores = np.zeros([X_test.shape[0], n_clf])\n",
    "train_scores.shape\n",
    "# Modeling\n",
    "for i in range(n_clf):\n",
    "    k = k_list[i]\n",
    "    hbos = HBOS(n_bins=k)\n",
    "    hbos.fit(X_train_norm)\n",
    "\n",
    "    # Store the results in each column:\n",
    "    train_scores[:, i] = hbos.decision_scores_\n",
    "    test_scores[:, i] = hbos.decision_function(X_test_norm) \n",
    "# Decision scores have to be normalized before combination\n",
    "train_scores_norm, test_scores_norm = standardizer(train_scores,test_scores)"
   ]
  },
  {
   "cell_type": "markdown",
   "id": "20324c7a",
   "metadata": {},
   "source": [
    "#### Method 1: Average"
   ]
  },
  {
   "cell_type": "code",
   "execution_count": 17,
   "id": "32c2b381",
   "metadata": {},
   "outputs": [
    {
     "data": {
      "image/png": "[encoded data removed]",
      "text/plain": [
       "<Figure size 432x288 with 1 Axes>"
      ]
     },
     "metadata": {
      "needs_background": "light"
     },
     "output_type": "display_data"
    }
   ],
   "source": [
    "# Combination by average\n",
    "# The test_scores_norm is 500 x 20. The \"average\" function will take the average of the 20 columns. The result \"y_by_average\" is a single column: \n",
    "y_by_average = average(test_scores_norm)\n",
    "import matplotlib.pyplot as plt\n",
    "plt.hist(y_by_average, bins='auto') # arguments are passed to np.histogram\n",
    "plt.title(\"Combination by average\")\n",
    "plt.show()"
   ]
  },
  {
   "cell_type": "code",
   "execution_count": 20,
   "id": "5c4b3970",
   "metadata": {},
   "outputs": [
    {
     "data": {
      "text/plain": [
       "0    361\n",
       "1    139\n",
       "Name: y_by_average_cluster, dtype: int64"
      ]
     },
     "execution_count": 20,
     "metadata": {},
     "output_type": "execute_result"
    }
   ],
   "source": [
    "df_test = pd.DataFrame(X_test)\n",
    "df_test['y_by_average_score'] = y_by_average\n",
    "df_test['y_by_average_cluster'] = np.where(df_test['y_by_average_score']<0, 0, 1)\n",
    "df_test['y_by_average_cluster'].value_counts()"
   ]
  },
  {
   "cell_type": "code",
   "execution_count": 23,
   "id": "ec70f28e",
   "metadata": {},
   "outputs": [
    {
     "data": {
      "text/html": [
       "<div>\n",
       "<style scoped>\n",
       "    .dataframe tbody tr th:only-of-type {\n",
       "        vertical-align: middle;\n",
       "    }\n",
       "\n",
       "    .dataframe tbody tr th {\n",
       "        vertical-align: top;\n",
       "    }\n",
       "\n",
       "    .dataframe thead th {\n",
       "        text-align: right;\n",
       "    }\n",
       "</style>\n",
       "<table border=\"1\" class=\"dataframe\">\n",
       "  <thead>\n",
       "    <tr style=\"text-align: right;\">\n",
       "      <th></th>\n",
       "      <th>0</th>\n",
       "      <th>1</th>\n",
       "      <th>y_by_average_score</th>\n",
       "    </tr>\n",
       "    <tr>\n",
       "      <th>y_by_average_cluster</th>\n",
       "      <th></th>\n",
       "      <th></th>\n",
       "      <th></th>\n",
       "    </tr>\n",
       "  </thead>\n",
       "  <tbody>\n",
       "    <tr>\n",
       "      <th>0</th>\n",
       "      <td>8.963948</td>\n",
       "      <td>9.027748</td>\n",
       "      <td>-0.543046</td>\n",
       "    </tr>\n",
       "    <tr>\n",
       "      <th>1</th>\n",
       "      <td>5.449184</td>\n",
       "      <td>5.672728</td>\n",
       "      <td>1.196954</td>\n",
       "    </tr>\n",
       "  </tbody>\n",
       "</table>\n",
       "</div>"
      ],
      "text/plain": [
       "                             0         1  y_by_average_score\n",
       "y_by_average_cluster                                        \n",
       "0                     8.963948  9.027748           -0.543046\n",
       "1                     5.449184  5.672728            1.196954"
      ]
     },
     "execution_count": 23,
     "metadata": {},
     "output_type": "execute_result"
    }
   ],
   "source": [
    "df_test.groupby(\"y_by_average_cluster\").mean()"
   ]
  },
  {
   "cell_type": "markdown",
   "id": "0990e039",
   "metadata": {},
   "source": [
    "#### Method 2: The Maximum of Maximum (MOM)"
   ]
  },
  {
   "cell_type": "code",
   "execution_count": 24,
   "id": "f287bcec",
   "metadata": {},
   "outputs": [
    {
     "data": {
      "image/png": "[encoded data removed]",
      "text/plain": [
       "<Figure size 432x288 with 1 Axes>"
      ]
     },
     "metadata": {
      "needs_background": "light"
     },
     "output_type": "display_data"
    }
   ],
   "source": [
    "# Combination by mom\n",
    "y_by_maximization = maximization(test_scores_norm)\n",
    "             \n",
    "import matplotlib.pyplot as plt\n",
    "plt.hist(y_by_maximization, bins='auto')  # arguments are passed to np.histogram\n",
    "plt.title(\"Combination by max\")\n",
    "plt.show()"
   ]
  },
  {
   "cell_type": "code",
   "execution_count": 25,
   "id": "7a63ee21",
   "metadata": {},
   "outputs": [
    {
     "data": {
      "text/plain": [
       "0    297\n",
       "1    203\n",
       "Name: y_by_maximization_cluster, dtype: int64"
      ]
     },
     "execution_count": 25,
     "metadata": {},
     "output_type": "execute_result"
    }
   ],
   "source": [
    "df_test = pd.DataFrame(X_test)\n",
    "df_test['y_by_maximization_score'] = y_by_maximization\n",
    "df_test['y_by_maximization_cluster'] = np.where(df_test['y_by_maximization_score']<0, 0, 1)\n",
    "df_test['y_by_maximization_cluster'].value_counts()"
   ]
  },
  {
   "cell_type": "markdown",
   "id": "5dce9346",
   "metadata": {},
   "source": [
    "#### Method 3: The Average of Maximum (AOM)"
   ]
  },
  {
   "cell_type": "code",
   "execution_count": 26,
   "id": "afea97f0",
   "metadata": {},
   "outputs": [
    {
     "data": {
      "image/png": "[encoded data removed]",
      "text/plain": [
       "<Figure size 432x288 with 1 Axes>"
      ]
     },
     "metadata": {
      "needs_background": "light"
     },
     "output_type": "display_data"
    }
   ],
   "source": [
    "# Combination by aom\n",
    "y_by_aom = aom(test_scores_norm, n_buckets=5)\n",
    "             \n",
    "import matplotlib.pyplot as plt\n",
    "plt.hist(y_by_aom, bins='auto')  # arguments are passed to np.histogram\n",
    "plt.title(\"Average of Maximum\")\n",
    "plt.show()"
   ]
  },
  {
   "cell_type": "code",
   "execution_count": 27,
   "id": "f1d96f7d",
   "metadata": {},
   "outputs": [
    {
     "data": {
      "text/plain": [
       "0    338\n",
       "1    162\n",
       "Name: y_by_aom_cluster, dtype: int64"
      ]
     },
     "execution_count": 27,
     "metadata": {},
     "output_type": "execute_result"
    }
   ],
   "source": [
    "df_test = pd.DataFrame(X_test)\n",
    "df_test['y_by_aom_score'] = y_by_aom\n",
    "df_test['y_by_aom_cluster'] = np.where(df_test['y_by_aom_score']<0, 0, 1)\n",
    "df_test['y_by_aom_cluster'].value_counts()"
   ]
  },
  {
   "cell_type": "code",
   "execution_count": 28,
   "id": "0b8a5474",
   "metadata": {},
   "outputs": [
    {
     "data": {
      "text/html": [
       "<div>\n",
       "<style scoped>\n",
       "    .dataframe tbody tr th:only-of-type {\n",
       "        vertical-align: middle;\n",
       "    }\n",
       "\n",
       "    .dataframe tbody tr th {\n",
       "        vertical-align: top;\n",
       "    }\n",
       "\n",
       "    .dataframe thead th {\n",
       "        text-align: right;\n",
       "    }\n",
       "</style>\n",
       "<table border=\"1\" class=\"dataframe\">\n",
       "  <thead>\n",
       "    <tr style=\"text-align: right;\">\n",
       "      <th></th>\n",
       "      <th>0</th>\n",
       "      <th>1</th>\n",
       "      <th>y_by_aom_score</th>\n",
       "    </tr>\n",
       "    <tr>\n",
       "      <th>y_by_aom_cluster</th>\n",
       "      <th></th>\n",
       "      <th></th>\n",
       "      <th></th>\n",
       "    </tr>\n",
       "  </thead>\n",
       "  <tbody>\n",
       "    <tr>\n",
       "      <th>0</th>\n",
       "      <td>8.948814</td>\n",
       "      <td>9.001313</td>\n",
       "      <td>-0.442063</td>\n",
       "    </tr>\n",
       "    <tr>\n",
       "      <th>1</th>\n",
       "      <td>5.979771</td>\n",
       "      <td>6.204213</td>\n",
       "      <td>1.379286</td>\n",
       "    </tr>\n",
       "  </tbody>\n",
       "</table>\n",
       "</div>"
      ],
      "text/plain": [
       "                         0         1  y_by_aom_score\n",
       "y_by_aom_cluster                                    \n",
       "0                 8.948814  9.001313       -0.442063\n",
       "1                 5.979771  6.204213        1.379286"
      ]
     },
     "execution_count": 28,
     "metadata": {},
     "output_type": "execute_result"
    }
   ],
   "source": [
    "df_test.groupby(\"y_by_aom_cluster\").mean()"
   ]
  },
  {
   "cell_type": "markdown",
   "id": "d48a6ef3",
   "metadata": {},
   "source": [
    "#### Method 4: The maximum of average (MOA)"
   ]
  },
  {
   "cell_type": "code",
   "execution_count": 29,
   "id": "e9d3c9f9",
   "metadata": {},
   "outputs": [
    {
     "data": {
      "image/png": "[encoded data removed]",
      "text/plain": [
       "<Figure size 432x288 with 1 Axes>"
      ]
     },
     "metadata": {
      "needs_background": "light"
     },
     "output_type": "display_data"
    }
   ],
   "source": [
    "# Combination by moa\n",
    "y_by_moa = moa(test_scores_norm, n_buckets=5)\n",
    "\n",
    "import matplotlib.pyplot as plt\n",
    "plt.hist(y_by_moa, bins='auto')  # arguments are passed to np.histogram\n",
    "plt.title(\"Maximum of Average\")\n",
    "plt.show()"
   ]
  },
  {
   "cell_type": "code",
   "execution_count": 30,
   "id": "c2ef122e",
   "metadata": {},
   "outputs": [
    {
     "data": {
      "text/plain": [
       "0    328\n",
       "1    172\n",
       "Name: y_by_moa_cluster, dtype: int64"
      ]
     },
     "execution_count": 30,
     "metadata": {},
     "output_type": "execute_result"
    }
   ],
   "source": [
    "df_test = pd.DataFrame(X_test)\n",
    "df_test['y_by_moa_score'] = y_by_moa\n",
    "df_test['y_by_moa_cluster'] = np.where(df_test['y_by_moa_score']<0, 0, 1)\n",
    "df_test['y_by_moa_cluster'].value_counts()"
   ]
  },
  {
   "cell_type": "code",
   "execution_count": 31,
   "id": "07c7d8b6",
   "metadata": {},
   "outputs": [
    {
     "data": {
      "text/html": [
       "<div>\n",
       "<style scoped>\n",
       "    .dataframe tbody tr th:only-of-type {\n",
       "        vertical-align: middle;\n",
       "    }\n",
       "\n",
       "    .dataframe tbody tr th {\n",
       "        vertical-align: top;\n",
       "    }\n",
       "\n",
       "    .dataframe thead th {\n",
       "        text-align: right;\n",
       "    }\n",
       "</style>\n",
       "<table border=\"1\" class=\"dataframe\">\n",
       "  <thead>\n",
       "    <tr style=\"text-align: right;\">\n",
       "      <th></th>\n",
       "      <th>0</th>\n",
       "      <th>1</th>\n",
       "      <th>y_by_moa_score</th>\n",
       "    </tr>\n",
       "    <tr>\n",
       "      <th>y_by_moa_cluster</th>\n",
       "      <th></th>\n",
       "      <th></th>\n",
       "      <th></th>\n",
       "    </tr>\n",
       "  </thead>\n",
       "  <tbody>\n",
       "    <tr>\n",
       "      <th>0</th>\n",
       "      <td>8.950935</td>\n",
       "      <td>9.023442</td>\n",
       "      <td>-0.362360</td>\n",
       "    </tr>\n",
       "    <tr>\n",
       "      <th>1</th>\n",
       "      <td>6.148344</td>\n",
       "      <td>6.324636</td>\n",
       "      <td>1.377015</td>\n",
       "    </tr>\n",
       "  </tbody>\n",
       "</table>\n",
       "</div>"
      ],
      "text/plain": [
       "                         0         1  y_by_moa_score\n",
       "y_by_moa_cluster                                    \n",
       "0                 8.950935  9.023442       -0.362360\n",
       "1                 6.148344  6.324636        1.377015"
      ]
     },
     "execution_count": 31,
     "metadata": {},
     "output_type": "execute_result"
    }
   ],
   "source": [
    "df_test.groupby(\"y_by_moa_cluster\").mean()"
   ]
  },
  {
   "cell_type": "code",
   "execution_count": null,
   "id": "ca68d86b",
   "metadata": {},
   "outputs": [],
   "source": []
  },
  {
   "cell_type": "code",
   "execution_count": null,
   "id": "0680d040",
   "metadata": {},
   "outputs": [],
   "source": []
  },
  {
   "cell_type": "code",
   "execution_count": null,
   "id": "fd987b29",
   "metadata": {},
   "outputs": [],
   "source": []
  }
 ],
 "metadata": {
  "kernelspec": {
   "display_name": "Python36",
   "language": "python",
   "name": "python36"
  },
  "language_info": {
   "codemirror_mode": {
    "name": "ipython",
    "version": 3
   },
   "file_extension": ".py",
   "mimetype": "text/x-python",
   "name": "python",
   "nbconvert_exporter": "python",
   "pygments_lexer": "ipython3",
   "version": "3.6.13"
  }
 },
 "nbformat": 4,
 "nbformat_minor": 5
}
