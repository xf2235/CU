{
 "cells": [
  {
   "cell_type": "markdown",
   "metadata": {},
   "source": [
    "# Lesson: Building a Decision Tree and a logistic regression with scikit-learn\n",
    "\n",
    "<img style = \"float: center\" src = \"https://lh4.googleusercontent.com/v9UQUwaQTAXVH90b-Ugyw2_61_uErfYvTBtG-RNRNB_eHUFq9AmAN_2IOdfOETnbXImnQVN-wPC7_YzDgf7urCeyhyx5UZmuSwV8BVsV8VnHxl1KtgpuxDifJ4pLE23ooYXLlnc\" width = \"700\"/>\n"
   ]
  },
  {
   "cell_type": "markdown",
   "metadata": {
    "tags": []
   },
   "source": [
    "[Time; 45 minutes]\n",
    "\n",
    "* **Learning objective 1:** Data wrangling in Python\n",
    "* **Learning objective 2:** How to build a classification decision tree with scikit-learn\n",
    "* **Learning objective 3:** How to predict with scikit learn?\n",
    "* **Learning objective 4:** How to evaluate a classification decision tree model?\n",
    "* **Learning objective 5:** How to apply the model?\n",
    "* **Learning objective 6:** How to do regression trees in Python?\n",
    "* **Learning objective 7:** How to evaluate a regression tree model?\n",
    "* **Learning objective 8:** How to prune a tree with scikit-learn?\n",
    "* **Learning objective 9:** Understand 'gini' and 'entropy'\n",
    "* **Learning objective 10:** How to build a logistic regression with scikit-learn\n",
    "* **Learning objective 11:** How to predict with the logistic regression?\n",
    "\n",
    "The dataset is the [wine quality data](https://www.kaggle.com/rajyellow46/wine-quality)\n",
    "\n",
    "### [Learning objective 1] Use Pandas to do data preparation"
   ]
  },
  {
   "cell_type": "code",
   "execution_count": 1,
   "metadata": {},
   "outputs": [
    {
     "data": {
      "text/html": [
       "<div>\n",
       "<style scoped>\n",
       "    .dataframe tbody tr th:only-of-type {\n",
       "        vertical-align: middle;\n",
       "    }\n",
       "\n",
       "    .dataframe tbody tr th {\n",
       "        vertical-align: top;\n",
       "    }\n",
       "\n",
       "    .dataframe thead th {\n",
       "        text-align: right;\n",
       "    }\n",
       "</style>\n",
       "<table border=\"1\" class=\"dataframe\">\n",
       "  <thead>\n",
       "    <tr style=\"text-align: right;\">\n",
       "      <th></th>\n",
       "      <th>type</th>\n",
       "      <th>fixed acidity</th>\n",
       "      <th>volatile acidity</th>\n",
       "      <th>citric acid</th>\n",
       "      <th>residual sugar</th>\n",
       "      <th>chlorides</th>\n",
       "      <th>free sulfur dioxide</th>\n",
       "      <th>total sulfur dioxide</th>\n",
       "      <th>density</th>\n",
       "      <th>pH</th>\n",
       "      <th>sulphates</th>\n",
       "      <th>alcohol</th>\n",
       "      <th>quality</th>\n",
       "    </tr>\n",
       "  </thead>\n",
       "  <tbody>\n",
       "    <tr>\n",
       "      <th>6492</th>\n",
       "      <td>red</td>\n",
       "      <td>6.2</td>\n",
       "      <td>0.600</td>\n",
       "      <td>0.08</td>\n",
       "      <td>2.0</td>\n",
       "      <td>0.090</td>\n",
       "      <td>32.0</td>\n",
       "      <td>44.0</td>\n",
       "      <td>0.99490</td>\n",
       "      <td>3.45</td>\n",
       "      <td>0.58</td>\n",
       "      <td>10.5</td>\n",
       "      <td>5</td>\n",
       "    </tr>\n",
       "    <tr>\n",
       "      <th>6493</th>\n",
       "      <td>red</td>\n",
       "      <td>5.9</td>\n",
       "      <td>0.550</td>\n",
       "      <td>0.10</td>\n",
       "      <td>2.2</td>\n",
       "      <td>0.062</td>\n",
       "      <td>39.0</td>\n",
       "      <td>51.0</td>\n",
       "      <td>0.99512</td>\n",
       "      <td>3.52</td>\n",
       "      <td>NaN</td>\n",
       "      <td>11.2</td>\n",
       "      <td>6</td>\n",
       "    </tr>\n",
       "    <tr>\n",
       "      <th>6494</th>\n",
       "      <td>red</td>\n",
       "      <td>6.3</td>\n",
       "      <td>0.510</td>\n",
       "      <td>0.13</td>\n",
       "      <td>2.3</td>\n",
       "      <td>0.076</td>\n",
       "      <td>29.0</td>\n",
       "      <td>40.0</td>\n",
       "      <td>0.99574</td>\n",
       "      <td>3.42</td>\n",
       "      <td>0.75</td>\n",
       "      <td>11.0</td>\n",
       "      <td>6</td>\n",
       "    </tr>\n",
       "    <tr>\n",
       "      <th>6495</th>\n",
       "      <td>red</td>\n",
       "      <td>5.9</td>\n",
       "      <td>0.645</td>\n",
       "      <td>0.12</td>\n",
       "      <td>2.0</td>\n",
       "      <td>0.075</td>\n",
       "      <td>32.0</td>\n",
       "      <td>44.0</td>\n",
       "      <td>0.99547</td>\n",
       "      <td>3.57</td>\n",
       "      <td>0.71</td>\n",
       "      <td>10.2</td>\n",
       "      <td>5</td>\n",
       "    </tr>\n",
       "    <tr>\n",
       "      <th>6496</th>\n",
       "      <td>red</td>\n",
       "      <td>6.0</td>\n",
       "      <td>0.310</td>\n",
       "      <td>0.47</td>\n",
       "      <td>3.6</td>\n",
       "      <td>0.067</td>\n",
       "      <td>18.0</td>\n",
       "      <td>42.0</td>\n",
       "      <td>0.99549</td>\n",
       "      <td>3.39</td>\n",
       "      <td>0.66</td>\n",
       "      <td>11.0</td>\n",
       "      <td>6</td>\n",
       "    </tr>\n",
       "  </tbody>\n",
       "</table>\n",
       "</div>"
      ],
      "text/plain": [
       "     type  fixed acidity  volatile acidity  citric acid  residual sugar  \\\n",
       "6492  red            6.2             0.600         0.08             2.0   \n",
       "6493  red            5.9             0.550         0.10             2.2   \n",
       "6494  red            6.3             0.510         0.13             2.3   \n",
       "6495  red            5.9             0.645         0.12             2.0   \n",
       "6496  red            6.0             0.310         0.47             3.6   \n",
       "\n",
       "      chlorides  free sulfur dioxide  total sulfur dioxide  density    pH  \\\n",
       "6492      0.090                 32.0                  44.0  0.99490  3.45   \n",
       "6493      0.062                 39.0                  51.0  0.99512  3.52   \n",
       "6494      0.076                 29.0                  40.0  0.99574  3.42   \n",
       "6495      0.075                 32.0                  44.0  0.99547  3.57   \n",
       "6496      0.067                 18.0                  42.0  0.99549  3.39   \n",
       "\n",
       "      sulphates  alcohol  quality  \n",
       "6492       0.58     10.5        5  \n",
       "6493        NaN     11.2        6  \n",
       "6494       0.75     11.0        6  \n",
       "6495       0.71     10.2        5  \n",
       "6496       0.66     11.0        6  "
      ]
     },
     "execution_count": 1,
     "metadata": {},
     "output_type": "execute_result"
    }
   ],
   "source": [
    "import numpy as np\n",
    "import pandas as pd\n",
    "path = 'C:/Users/Administrator/Desktop/CU/CU_SM2022/APANPS5420_001_2022_2-ANOMALYDETECTION/3'\n",
    "df = pd.read_csv(path + '/winequalityN.csv')\n",
    "df.tail()"
   ]
  },
  {
   "cell_type": "code",
   "execution_count": 2,
   "metadata": {},
   "outputs": [
    {
     "data": {
      "text/plain": [
       "<AxesSubplot:>"
      ]
     },
     "execution_count": 2,
     "metadata": {},
     "output_type": "execute_result"
    },
    {
     "data": {
      "image/png": "[encoded data removed]",
      "text/plain": [
       "<Figure size 432x288 with 1 Axes>"
      ]
     },
     "metadata": {
      "needs_background": "light"
     },
     "output_type": "display_data"
    }
   ],
   "source": [
    "df['quality'].hist()\n",
    "df.quality.hist()"
   ]
  },
  {
   "cell_type": "markdown",
   "metadata": {},
   "source": [
    "- The above code is supposed to print a histogram. But it is not presented. Why?\n",
    "- Use %matplotlib inline"
   ]
  },
  {
   "cell_type": "code",
   "execution_count": 3,
   "metadata": {},
   "outputs": [
    {
     "data": {
      "text/plain": [
       "<AxesSubplot:>"
      ]
     },
     "execution_count": 3,
     "metadata": {},
     "output_type": "execute_result"
    },
    {
     "data": {
      "image/png": "[encoded data removed]",
      "text/plain": [
       "<Figure size 432x288 with 1 Axes>"
      ]
     },
     "metadata": {
      "needs_background": "light"
     },
     "output_type": "display_data"
    }
   ],
   "source": [
    "%matplotlib inline\n",
    "df['quality'].hist()\n",
    "df.quality.hist()"
   ]
  },
  {
   "cell_type": "code",
   "execution_count": 4,
   "metadata": {},
   "outputs": [
    {
     "data": {
      "text/plain": [
       "white    4898\n",
       "red      1599\n",
       "Name: type, dtype: int64"
      ]
     },
     "execution_count": 4,
     "metadata": {},
     "output_type": "execute_result"
    }
   ],
   "source": [
    "df['type'].value_counts()"
   ]
  },
  {
   "cell_type": "code",
   "execution_count": 5,
   "metadata": {},
   "outputs": [],
   "source": [
    "df['target'] =np.where(df['quality']>=8,1,0)\n",
    "df['red_wine'] = np.where(df['type']=='red',1,0)"
   ]
  },
  {
   "cell_type": "code",
   "execution_count": 6,
   "metadata": {},
   "outputs": [
    {
     "data": {
      "text/plain": [
       "0    6299\n",
       "1     198\n",
       "Name: target, dtype: int64"
      ]
     },
     "execution_count": 6,
     "metadata": {},
     "output_type": "execute_result"
    }
   ],
   "source": [
    "df['target'].value_counts()"
   ]
  },
  {
   "cell_type": "code",
   "execution_count": 7,
   "metadata": {},
   "outputs": [
    {
     "data": {
      "text/plain": [
       "Index(['type', 'fixed acidity', 'volatile acidity', 'citric acid',\n",
       "       'residual sugar', 'chlorides', 'free sulfur dioxide',\n",
       "       'total sulfur dioxide', 'density', 'pH', 'sulphates', 'alcohol',\n",
       "       'quality', 'target', 'red_wine'],\n",
       "      dtype='object')"
      ]
     },
     "execution_count": 7,
     "metadata": {},
     "output_type": "execute_result"
    }
   ],
   "source": [
    "df.columns"
   ]
  },
  {
   "cell_type": "code",
   "execution_count": 8,
   "metadata": {},
   "outputs": [],
   "source": [
    "features = [ 'fixed acidity', 'volatile acidity', 'citric acid',\n",
    "       'residual sugar', 'chlorides', 'free sulfur dioxide',\n",
    "       'total sulfur dioxide', 'density', 'pH', 'sulphates', 'alcohol', 'red_wine']"
   ]
  },
  {
   "cell_type": "code",
   "execution_count": 9,
   "metadata": {},
   "outputs": [
    {
     "data": {
      "text/html": [
       "<div>\n",
       "<style scoped>\n",
       "    .dataframe tbody tr th:only-of-type {\n",
       "        vertical-align: middle;\n",
       "    }\n",
       "\n",
       "    .dataframe tbody tr th {\n",
       "        vertical-align: top;\n",
       "    }\n",
       "\n",
       "    .dataframe thead th {\n",
       "        text-align: right;\n",
       "    }\n",
       "</style>\n",
       "<table border=\"1\" class=\"dataframe\">\n",
       "  <thead>\n",
       "    <tr style=\"text-align: right;\">\n",
       "      <th></th>\n",
       "      <th>type</th>\n",
       "      <th>fixed acidity</th>\n",
       "      <th>volatile acidity</th>\n",
       "      <th>citric acid</th>\n",
       "      <th>residual sugar</th>\n",
       "      <th>chlorides</th>\n",
       "      <th>free sulfur dioxide</th>\n",
       "      <th>total sulfur dioxide</th>\n",
       "      <th>density</th>\n",
       "      <th>pH</th>\n",
       "      <th>sulphates</th>\n",
       "      <th>alcohol</th>\n",
       "      <th>quality</th>\n",
       "      <th>target</th>\n",
       "      <th>red_wine</th>\n",
       "    </tr>\n",
       "  </thead>\n",
       "  <tbody>\n",
       "    <tr>\n",
       "      <th>0</th>\n",
       "      <td>False</td>\n",
       "      <td>False</td>\n",
       "      <td>False</td>\n",
       "      <td>False</td>\n",
       "      <td>False</td>\n",
       "      <td>False</td>\n",
       "      <td>False</td>\n",
       "      <td>False</td>\n",
       "      <td>False</td>\n",
       "      <td>False</td>\n",
       "      <td>False</td>\n",
       "      <td>False</td>\n",
       "      <td>False</td>\n",
       "      <td>False</td>\n",
       "      <td>False</td>\n",
       "    </tr>\n",
       "    <tr>\n",
       "      <th>1</th>\n",
       "      <td>False</td>\n",
       "      <td>False</td>\n",
       "      <td>False</td>\n",
       "      <td>False</td>\n",
       "      <td>False</td>\n",
       "      <td>False</td>\n",
       "      <td>False</td>\n",
       "      <td>False</td>\n",
       "      <td>False</td>\n",
       "      <td>False</td>\n",
       "      <td>False</td>\n",
       "      <td>False</td>\n",
       "      <td>False</td>\n",
       "      <td>False</td>\n",
       "      <td>False</td>\n",
       "    </tr>\n",
       "    <tr>\n",
       "      <th>2</th>\n",
       "      <td>False</td>\n",
       "      <td>False</td>\n",
       "      <td>False</td>\n",
       "      <td>False</td>\n",
       "      <td>False</td>\n",
       "      <td>False</td>\n",
       "      <td>False</td>\n",
       "      <td>False</td>\n",
       "      <td>False</td>\n",
       "      <td>False</td>\n",
       "      <td>False</td>\n",
       "      <td>False</td>\n",
       "      <td>False</td>\n",
       "      <td>False</td>\n",
       "      <td>False</td>\n",
       "    </tr>\n",
       "    <tr>\n",
       "      <th>3</th>\n",
       "      <td>False</td>\n",
       "      <td>False</td>\n",
       "      <td>False</td>\n",
       "      <td>False</td>\n",
       "      <td>False</td>\n",
       "      <td>False</td>\n",
       "      <td>False</td>\n",
       "      <td>False</td>\n",
       "      <td>False</td>\n",
       "      <td>False</td>\n",
       "      <td>False</td>\n",
       "      <td>False</td>\n",
       "      <td>False</td>\n",
       "      <td>False</td>\n",
       "      <td>False</td>\n",
       "    </tr>\n",
       "    <tr>\n",
       "      <th>4</th>\n",
       "      <td>False</td>\n",
       "      <td>False</td>\n",
       "      <td>False</td>\n",
       "      <td>False</td>\n",
       "      <td>False</td>\n",
       "      <td>False</td>\n",
       "      <td>False</td>\n",
       "      <td>False</td>\n",
       "      <td>False</td>\n",
       "      <td>False</td>\n",
       "      <td>False</td>\n",
       "      <td>False</td>\n",
       "      <td>False</td>\n",
       "      <td>False</td>\n",
       "      <td>False</td>\n",
       "    </tr>\n",
       "    <tr>\n",
       "      <th>...</th>\n",
       "      <td>...</td>\n",
       "      <td>...</td>\n",
       "      <td>...</td>\n",
       "      <td>...</td>\n",
       "      <td>...</td>\n",
       "      <td>...</td>\n",
       "      <td>...</td>\n",
       "      <td>...</td>\n",
       "      <td>...</td>\n",
       "      <td>...</td>\n",
       "      <td>...</td>\n",
       "      <td>...</td>\n",
       "      <td>...</td>\n",
       "      <td>...</td>\n",
       "      <td>...</td>\n",
       "    </tr>\n",
       "    <tr>\n",
       "      <th>6492</th>\n",
       "      <td>False</td>\n",
       "      <td>False</td>\n",
       "      <td>False</td>\n",
       "      <td>False</td>\n",
       "      <td>False</td>\n",
       "      <td>False</td>\n",
       "      <td>False</td>\n",
       "      <td>False</td>\n",
       "      <td>False</td>\n",
       "      <td>False</td>\n",
       "      <td>False</td>\n",
       "      <td>False</td>\n",
       "      <td>False</td>\n",
       "      <td>False</td>\n",
       "      <td>False</td>\n",
       "    </tr>\n",
       "    <tr>\n",
       "      <th>6493</th>\n",
       "      <td>False</td>\n",
       "      <td>False</td>\n",
       "      <td>False</td>\n",
       "      <td>False</td>\n",
       "      <td>False</td>\n",
       "      <td>False</td>\n",
       "      <td>False</td>\n",
       "      <td>False</td>\n",
       "      <td>False</td>\n",
       "      <td>False</td>\n",
       "      <td>True</td>\n",
       "      <td>False</td>\n",
       "      <td>False</td>\n",
       "      <td>False</td>\n",
       "      <td>False</td>\n",
       "    </tr>\n",
       "    <tr>\n",
       "      <th>6494</th>\n",
       "      <td>False</td>\n",
       "      <td>False</td>\n",
       "      <td>False</td>\n",
       "      <td>False</td>\n",
       "      <td>False</td>\n",
       "      <td>False</td>\n",
       "      <td>False</td>\n",
       "      <td>False</td>\n",
       "      <td>False</td>\n",
       "      <td>False</td>\n",
       "      <td>False</td>\n",
       "      <td>False</td>\n",
       "      <td>False</td>\n",
       "      <td>False</td>\n",
       "      <td>False</td>\n",
       "    </tr>\n",
       "    <tr>\n",
       "      <th>6495</th>\n",
       "      <td>False</td>\n",
       "      <td>False</td>\n",
       "      <td>False</td>\n",
       "      <td>False</td>\n",
       "      <td>False</td>\n",
       "      <td>False</td>\n",
       "      <td>False</td>\n",
       "      <td>False</td>\n",
       "      <td>False</td>\n",
       "      <td>False</td>\n",
       "      <td>False</td>\n",
       "      <td>False</td>\n",
       "      <td>False</td>\n",
       "      <td>False</td>\n",
       "      <td>False</td>\n",
       "    </tr>\n",
       "    <tr>\n",
       "      <th>6496</th>\n",
       "      <td>False</td>\n",
       "      <td>False</td>\n",
       "      <td>False</td>\n",
       "      <td>False</td>\n",
       "      <td>False</td>\n",
       "      <td>False</td>\n",
       "      <td>False</td>\n",
       "      <td>False</td>\n",
       "      <td>False</td>\n",
       "      <td>False</td>\n",
       "      <td>False</td>\n",
       "      <td>False</td>\n",
       "      <td>False</td>\n",
       "      <td>False</td>\n",
       "      <td>False</td>\n",
       "    </tr>\n",
       "  </tbody>\n",
       "</table>\n",
       "<p>6497 rows × 15 columns</p>\n",
       "</div>"
      ],
      "text/plain": [
       "       type  fixed acidity  volatile acidity  citric acid  residual sugar  \\\n",
       "0     False          False             False        False           False   \n",
       "1     False          False             False        False           False   \n",
       "2     False          False             False        False           False   \n",
       "3     False          False             False        False           False   \n",
       "4     False          False             False        False           False   \n",
       "...     ...            ...               ...          ...             ...   \n",
       "6492  False          False             False        False           False   \n",
       "6493  False          False             False        False           False   \n",
       "6494  False          False             False        False           False   \n",
       "6495  False          False             False        False           False   \n",
       "6496  False          False             False        False           False   \n",
       "\n",
       "      chlorides  free sulfur dioxide  total sulfur dioxide  density     pH  \\\n",
       "0         False                False                 False    False  False   \n",
       "1         False                False                 False    False  False   \n",
       "2         False                False                 False    False  False   \n",
       "3         False                False                 False    False  False   \n",
       "4         False                False                 False    False  False   \n",
       "...         ...                  ...                   ...      ...    ...   \n",
       "6492      False                False                 False    False  False   \n",
       "6493      False                False                 False    False  False   \n",
       "6494      False                False                 False    False  False   \n",
       "6495      False                False                 False    False  False   \n",
       "6496      False                False                 False    False  False   \n",
       "\n",
       "      sulphates  alcohol  quality  target  red_wine  \n",
       "0         False    False    False   False     False  \n",
       "1         False    False    False   False     False  \n",
       "2         False    False    False   False     False  \n",
       "3         False    False    False   False     False  \n",
       "4         False    False    False   False     False  \n",
       "...         ...      ...      ...     ...       ...  \n",
       "6492      False    False    False   False     False  \n",
       "6493       True    False    False   False     False  \n",
       "6494      False    False    False   False     False  \n",
       "6495      False    False    False   False     False  \n",
       "6496      False    False    False   False     False  \n",
       "\n",
       "[6497 rows x 15 columns]"
      ]
     },
     "execution_count": 9,
     "metadata": {},
     "output_type": "execute_result"
    }
   ],
   "source": [
    "df.isnull()"
   ]
  },
  {
   "cell_type": "code",
   "execution_count": 10,
   "metadata": {},
   "outputs": [
    {
     "data": {
      "text/plain": [
       "type                     0\n",
       "fixed acidity           10\n",
       "volatile acidity         8\n",
       "citric acid              3\n",
       "residual sugar           2\n",
       "chlorides                2\n",
       "free sulfur dioxide      0\n",
       "total sulfur dioxide     0\n",
       "density                  0\n",
       "pH                       9\n",
       "sulphates                4\n",
       "alcohol                  0\n",
       "quality                  0\n",
       "target                   0\n",
       "red_wine                 0\n",
       "dtype: int64"
      ]
     },
     "execution_count": 10,
     "metadata": {},
     "output_type": "execute_result"
    }
   ],
   "source": [
    "missing_values = df.isnull().sum()\n",
    "missing_values"
   ]
  },
  {
   "cell_type": "code",
   "execution_count": 11,
   "metadata": {},
   "outputs": [
    {
     "data": {
      "text/plain": [
       "type                    0.000000\n",
       "fixed acidity           0.001539\n",
       "volatile acidity        0.001231\n",
       "citric acid             0.000462\n",
       "residual sugar          0.000308\n",
       "chlorides               0.000308\n",
       "free sulfur dioxide     0.000000\n",
       "total sulfur dioxide    0.000000\n",
       "density                 0.000000\n",
       "pH                      0.001385\n",
       "sulphates               0.000616\n",
       "alcohol                 0.000000\n",
       "quality                 0.000000\n",
       "target                  0.000000\n",
       "red_wine                0.000000\n",
       "dtype: float64"
      ]
     },
     "execution_count": 11,
     "metadata": {},
     "output_type": "execute_result"
    }
   ],
   "source": [
    "missing_values_per = (df.isnull().sum() / df.isnull().count())\n",
    "missing_values_per"
   ]
  },
  {
   "cell_type": "code",
   "execution_count": 12,
   "metadata": {},
   "outputs": [
    {
     "data": {
      "text/html": [
       "<div>\n",
       "<style scoped>\n",
       "    .dataframe tbody tr th:only-of-type {\n",
       "        vertical-align: middle;\n",
       "    }\n",
       "\n",
       "    .dataframe tbody tr th {\n",
       "        vertical-align: top;\n",
       "    }\n",
       "\n",
       "    .dataframe thead th {\n",
       "        text-align: right;\n",
       "    }\n",
       "</style>\n",
       "<table border=\"1\" class=\"dataframe\">\n",
       "  <thead>\n",
       "    <tr style=\"text-align: right;\">\n",
       "      <th></th>\n",
       "      <th>Count_of_Missing</th>\n",
       "      <th>Percentage</th>\n",
       "    </tr>\n",
       "  </thead>\n",
       "  <tbody>\n",
       "    <tr>\n",
       "      <th>type</th>\n",
       "      <td>0</td>\n",
       "      <td>0.000000</td>\n",
       "    </tr>\n",
       "    <tr>\n",
       "      <th>fixed acidity</th>\n",
       "      <td>10</td>\n",
       "      <td>0.001539</td>\n",
       "    </tr>\n",
       "    <tr>\n",
       "      <th>volatile acidity</th>\n",
       "      <td>8</td>\n",
       "      <td>0.001231</td>\n",
       "    </tr>\n",
       "    <tr>\n",
       "      <th>citric acid</th>\n",
       "      <td>3</td>\n",
       "      <td>0.000462</td>\n",
       "    </tr>\n",
       "    <tr>\n",
       "      <th>residual sugar</th>\n",
       "      <td>2</td>\n",
       "      <td>0.000308</td>\n",
       "    </tr>\n",
       "    <tr>\n",
       "      <th>chlorides</th>\n",
       "      <td>2</td>\n",
       "      <td>0.000308</td>\n",
       "    </tr>\n",
       "    <tr>\n",
       "      <th>free sulfur dioxide</th>\n",
       "      <td>0</td>\n",
       "      <td>0.000000</td>\n",
       "    </tr>\n",
       "    <tr>\n",
       "      <th>total sulfur dioxide</th>\n",
       "      <td>0</td>\n",
       "      <td>0.000000</td>\n",
       "    </tr>\n",
       "    <tr>\n",
       "      <th>density</th>\n",
       "      <td>0</td>\n",
       "      <td>0.000000</td>\n",
       "    </tr>\n",
       "    <tr>\n",
       "      <th>pH</th>\n",
       "      <td>9</td>\n",
       "      <td>0.001385</td>\n",
       "    </tr>\n",
       "    <tr>\n",
       "      <th>sulphates</th>\n",
       "      <td>4</td>\n",
       "      <td>0.000616</td>\n",
       "    </tr>\n",
       "    <tr>\n",
       "      <th>alcohol</th>\n",
       "      <td>0</td>\n",
       "      <td>0.000000</td>\n",
       "    </tr>\n",
       "    <tr>\n",
       "      <th>quality</th>\n",
       "      <td>0</td>\n",
       "      <td>0.000000</td>\n",
       "    </tr>\n",
       "    <tr>\n",
       "      <th>target</th>\n",
       "      <td>0</td>\n",
       "      <td>0.000000</td>\n",
       "    </tr>\n",
       "    <tr>\n",
       "      <th>red_wine</th>\n",
       "      <td>0</td>\n",
       "      <td>0.000000</td>\n",
       "    </tr>\n",
       "  </tbody>\n",
       "</table>\n",
       "</div>"
      ],
      "text/plain": [
       "                      Count_of_Missing  Percentage\n",
       "type                                 0    0.000000\n",
       "fixed acidity                       10    0.001539\n",
       "volatile acidity                     8    0.001231\n",
       "citric acid                          3    0.000462\n",
       "residual sugar                       2    0.000308\n",
       "chlorides                            2    0.000308\n",
       "free sulfur dioxide                  0    0.000000\n",
       "total sulfur dioxide                 0    0.000000\n",
       "density                              0    0.000000\n",
       "pH                                   9    0.001385\n",
       "sulphates                            4    0.000616\n",
       "alcohol                              0    0.000000\n",
       "quality                              0    0.000000\n",
       "target                               0    0.000000\n",
       "red_wine                             0    0.000000"
      ]
     },
     "execution_count": 12,
     "metadata": {},
     "output_type": "execute_result"
    }
   ],
   "source": [
    "# Check for missing values\n",
    "missing_values = df.isnull().sum()\n",
    "missing_values_per = (df.isnull().sum() / df.isnull().count())\n",
    "pd.concat([missing_values, missing_values_per],axis=1, keys = ['Count_of_Missing','Percentage'])"
   ]
  },
  {
   "cell_type": "code",
   "execution_count": 13,
   "metadata": {},
   "outputs": [
    {
     "data": {
      "text/html": [
       "<div>\n",
       "<style scoped>\n",
       "    .dataframe tbody tr th:only-of-type {\n",
       "        vertical-align: middle;\n",
       "    }\n",
       "\n",
       "    .dataframe tbody tr th {\n",
       "        vertical-align: top;\n",
       "    }\n",
       "\n",
       "    .dataframe thead th {\n",
       "        text-align: right;\n",
       "    }\n",
       "</style>\n",
       "<table border=\"1\" class=\"dataframe\">\n",
       "  <thead>\n",
       "    <tr style=\"text-align: right;\">\n",
       "      <th></th>\n",
       "      <th>index</th>\n",
       "      <th>Count_of_Missing</th>\n",
       "      <th>Percentage</th>\n",
       "    </tr>\n",
       "  </thead>\n",
       "  <tbody>\n",
       "    <tr>\n",
       "      <th>0</th>\n",
       "      <td>type</td>\n",
       "      <td>0</td>\n",
       "      <td>0.000000</td>\n",
       "    </tr>\n",
       "    <tr>\n",
       "      <th>1</th>\n",
       "      <td>fixed acidity</td>\n",
       "      <td>10</td>\n",
       "      <td>0.001539</td>\n",
       "    </tr>\n",
       "    <tr>\n",
       "      <th>2</th>\n",
       "      <td>volatile acidity</td>\n",
       "      <td>8</td>\n",
       "      <td>0.001231</td>\n",
       "    </tr>\n",
       "    <tr>\n",
       "      <th>3</th>\n",
       "      <td>citric acid</td>\n",
       "      <td>3</td>\n",
       "      <td>0.000462</td>\n",
       "    </tr>\n",
       "    <tr>\n",
       "      <th>4</th>\n",
       "      <td>residual sugar</td>\n",
       "      <td>2</td>\n",
       "      <td>0.000308</td>\n",
       "    </tr>\n",
       "    <tr>\n",
       "      <th>5</th>\n",
       "      <td>chlorides</td>\n",
       "      <td>2</td>\n",
       "      <td>0.000308</td>\n",
       "    </tr>\n",
       "    <tr>\n",
       "      <th>6</th>\n",
       "      <td>free sulfur dioxide</td>\n",
       "      <td>0</td>\n",
       "      <td>0.000000</td>\n",
       "    </tr>\n",
       "    <tr>\n",
       "      <th>7</th>\n",
       "      <td>total sulfur dioxide</td>\n",
       "      <td>0</td>\n",
       "      <td>0.000000</td>\n",
       "    </tr>\n",
       "    <tr>\n",
       "      <th>8</th>\n",
       "      <td>density</td>\n",
       "      <td>0</td>\n",
       "      <td>0.000000</td>\n",
       "    </tr>\n",
       "    <tr>\n",
       "      <th>9</th>\n",
       "      <td>pH</td>\n",
       "      <td>9</td>\n",
       "      <td>0.001385</td>\n",
       "    </tr>\n",
       "    <tr>\n",
       "      <th>10</th>\n",
       "      <td>sulphates</td>\n",
       "      <td>4</td>\n",
       "      <td>0.000616</td>\n",
       "    </tr>\n",
       "    <tr>\n",
       "      <th>11</th>\n",
       "      <td>alcohol</td>\n",
       "      <td>0</td>\n",
       "      <td>0.000000</td>\n",
       "    </tr>\n",
       "    <tr>\n",
       "      <th>12</th>\n",
       "      <td>quality</td>\n",
       "      <td>0</td>\n",
       "      <td>0.000000</td>\n",
       "    </tr>\n",
       "    <tr>\n",
       "      <th>13</th>\n",
       "      <td>target</td>\n",
       "      <td>0</td>\n",
       "      <td>0.000000</td>\n",
       "    </tr>\n",
       "    <tr>\n",
       "      <th>14</th>\n",
       "      <td>red_wine</td>\n",
       "      <td>0</td>\n",
       "      <td>0.000000</td>\n",
       "    </tr>\n",
       "  </tbody>\n",
       "</table>\n",
       "</div>"
      ],
      "text/plain": [
       "                   index  Count_of_Missing  Percentage\n",
       "0                   type                 0    0.000000\n",
       "1          fixed acidity                10    0.001539\n",
       "2       volatile acidity                 8    0.001231\n",
       "3            citric acid                 3    0.000462\n",
       "4         residual sugar                 2    0.000308\n",
       "5              chlorides                 2    0.000308\n",
       "6    free sulfur dioxide                 0    0.000000\n",
       "7   total sulfur dioxide                 0    0.000000\n",
       "8                density                 0    0.000000\n",
       "9                     pH                 9    0.001385\n",
       "10             sulphates                 4    0.000616\n",
       "11               alcohol                 0    0.000000\n",
       "12               quality                 0    0.000000\n",
       "13                target                 0    0.000000\n",
       "14              red_wine                 0    0.000000"
      ]
     },
     "execution_count": 13,
     "metadata": {},
     "output_type": "execute_result"
    }
   ],
   "source": [
    "r = pd.concat([missing_values, missing_values_per],axis=1, keys = ['Count_of_Missing','Percentage']).reset_index()\n",
    "r"
   ]
  },
  {
   "cell_type": "code",
   "execution_count": 14,
   "metadata": {},
   "outputs": [
    {
     "data": {
      "text/html": [
       "<div>\n",
       "<style scoped>\n",
       "    .dataframe tbody tr th:only-of-type {\n",
       "        vertical-align: middle;\n",
       "    }\n",
       "\n",
       "    .dataframe tbody tr th {\n",
       "        vertical-align: top;\n",
       "    }\n",
       "\n",
       "    .dataframe thead th {\n",
       "        text-align: right;\n",
       "    }\n",
       "</style>\n",
       "<table border=\"1\" class=\"dataframe\">\n",
       "  <thead>\n",
       "    <tr style=\"text-align: right;\">\n",
       "      <th></th>\n",
       "      <th>the_null</th>\n",
       "      <th>the_null_perc</th>\n",
       "    </tr>\n",
       "  </thead>\n",
       "  <tbody>\n",
       "    <tr>\n",
       "      <th>fixed acidity</th>\n",
       "      <td>10</td>\n",
       "      <td>0.001539</td>\n",
       "    </tr>\n",
       "    <tr>\n",
       "      <th>pH</th>\n",
       "      <td>9</td>\n",
       "      <td>0.001385</td>\n",
       "    </tr>\n",
       "    <tr>\n",
       "      <th>volatile acidity</th>\n",
       "      <td>8</td>\n",
       "      <td>0.001231</td>\n",
       "    </tr>\n",
       "    <tr>\n",
       "      <th>sulphates</th>\n",
       "      <td>4</td>\n",
       "      <td>0.000616</td>\n",
       "    </tr>\n",
       "    <tr>\n",
       "      <th>citric acid</th>\n",
       "      <td>3</td>\n",
       "      <td>0.000462</td>\n",
       "    </tr>\n",
       "    <tr>\n",
       "      <th>residual sugar</th>\n",
       "      <td>2</td>\n",
       "      <td>0.000308</td>\n",
       "    </tr>\n",
       "    <tr>\n",
       "      <th>chlorides</th>\n",
       "      <td>2</td>\n",
       "      <td>0.000308</td>\n",
       "    </tr>\n",
       "  </tbody>\n",
       "</table>\n",
       "</div>"
      ],
      "text/plain": [
       "                  the_null  the_null_perc\n",
       "fixed acidity           10       0.001539\n",
       "pH                       9       0.001385\n",
       "volatile acidity         8       0.001231\n",
       "sulphates                4       0.000616\n",
       "citric acid              3       0.000462\n",
       "residual sugar           2       0.000308\n",
       "chlorides                2       0.000308"
      ]
     },
     "execution_count": 14,
     "metadata": {},
     "output_type": "execute_result"
    }
   ],
   "source": [
    "def null_cell(df):\n",
    "    dfx = df.copy()\n",
    "    missing_values = dfx.isnull().sum()\n",
    "    missing_values_per = dfx.isnull().sum() / dfx.isnull().count()\n",
    "    null_values = pd.concat([missing_values, missing_values_per],axis=1, keys = ['the_null','the_null_perc'])\n",
    "    null_values = null_values.sort_values('the_null',ascending=False)\n",
    "    return null_values[null_values['the_null']>0]\n",
    "\n",
    "fill_list = (null_cell(df))#.index\n",
    "fill_list"
   ]
  },
  {
   "cell_type": "markdown",
   "metadata": {},
   "source": [
    "* Pandas uses .loc to locate elements in a data frame. Click [here](https://pandas.pydata.org/pandas-docs/stable/reference/api/pandas.DataFrame.loc.html) for references.\n",
    "* The following block first finds the columns with missing values: df_mean.loc[:,col]\n",
    "* For now we just fillna() to impute the missing values with the average values.\n",
    "* Use the for-loop function to impute missing values for those columns"
   ]
  },
  {
   "cell_type": "code",
   "execution_count": 15,
   "metadata": {},
   "outputs": [
    {
     "data": {
      "text/plain": [
       "0    0.0\n",
       "Name: Percentage, dtype: float64"
      ]
     },
     "execution_count": 15,
     "metadata": {},
     "output_type": "execute_result"
    }
   ],
   "source": [
    "r.loc[r['index']=='type','Percentage']"
   ]
  },
  {
   "cell_type": "code",
   "execution_count": 18,
   "metadata": {},
   "outputs": [],
   "source": [
    "df_mean = df # Do you know this is different from \"df_mean = df.copy()?\"\" This just point to the same data frame. It does not create a copy.\n",
    "df_mean = df.copy() # Here create a physical copy of df."
   ]
  },
  {
   "cell_type": "code",
   "execution_count": 19,
   "metadata": {},
   "outputs": [],
   "source": [
    "for col in fill_list.index:\n",
    "    df_mean.loc[:,col].fillna(df_mean.loc[:,col].mean(),inplace=True)"
   ]
  },
  {
   "cell_type": "markdown",
   "metadata": {},
   "source": [
    "### [Learning objective 2] How does it work? Let's build a decision tree in Python"
   ]
  },
  {
   "cell_type": "code",
   "execution_count": 20,
   "metadata": {},
   "outputs": [],
   "source": [
    "from sklearn.model_selection import train_test_split\n",
    "X_train, X_test, Y_train, Y_test = train_test_split(df_mean[features],\n",
    "                                                    df_mean['target'], \n",
    "                                                    random_state=0)"
   ]
  },
  {
   "cell_type": "code",
   "execution_count": 21,
   "metadata": {},
   "outputs": [],
   "source": [
    "from sklearn.tree import DecisionTreeClassifier # for classification\n",
    "from sklearn.tree import DecisionTreeRegressor # for regression\n",
    "\n",
    "# First, specify the model. \n",
    "dtree = DecisionTreeClassifier(min_samples_leaf = 5, max_depth = 6)"
   ]
  },
  {
   "cell_type": "code",
   "execution_count": 22,
   "metadata": {},
   "outputs": [
    {
     "data": {
      "text/plain": [
       "DecisionTreeClassifier(max_depth=6, min_samples_leaf=5)"
      ]
     },
     "execution_count": 22,
     "metadata": {},
     "output_type": "execute_result"
    }
   ],
   "source": [
    "# Then, train the model.\n",
    "dtree.fit(X_train,Y_train)"
   ]
  },
  {
   "cell_type": "markdown",
   "metadata": {
    "tags": []
   },
   "source": [
    "#### A few important hyperparameters:\n",
    "(1) Criterion:\n",
    "* Define the function to measure the quality of a split. There are two options: \"gini\" for the Gini impurity and \"entropy\" for the information gain.\n",
    "* The default is \"gini\"\n",
    "\n",
    "(2) Splitter:\n",
    "* The default is \"best\". The tree splits on the most relevant feature.\n",
    "* If you select \"random\", the tree will take a random feature and split it. As a result your tree may end with more depth or less prevision. [This post](https://stackoverflow.com/questions/46756606/what-does-splitter-attribute-in-sklearns-decisiontreeclassifier-do) does an experiment.\n",
    "\n",
    "(3) max_depth:\n",
    "* The maximum depth of the tree. If None (the default), the nodes are expanded until all leaves are pure or until all leaves contain less than min_samples_split samples.\n",
    "\n",
    "(4) min_samples_split: \n",
    "* The minimum number of samples required to split an internal node. The default is 2.\n",
    "\n",
    "(5) min_impurity_decrease:\n",
    "* A node will be splitted if this split induces a decrease of the impurity greater than or equal to this value. The default is 0."
   ]
  },
  {
   "cell_type": "markdown",
   "metadata": {},
   "source": [
    "### (2.2) Show the Importance of the \"key questions\" with the \"variable importance\""
   ]
  },
  {
   "cell_type": "code",
   "execution_count": 85,
   "metadata": {},
   "outputs": [
    {
     "data": {
      "text/html": [
       "<div>\n",
       "<style scoped>\n",
       "    .dataframe tbody tr th:only-of-type {\n",
       "        vertical-align: middle;\n",
       "    }\n",
       "\n",
       "    .dataframe tbody tr th {\n",
       "        vertical-align: top;\n",
       "    }\n",
       "\n",
       "    .dataframe thead th {\n",
       "        text-align: right;\n",
       "    }\n",
       "</style>\n",
       "<table border=\"1\" class=\"dataframe\">\n",
       "  <thead>\n",
       "    <tr style=\"text-align: right;\">\n",
       "      <th></th>\n",
       "      <th>feature</th>\n",
       "      <th>importance</th>\n",
       "    </tr>\n",
       "  </thead>\n",
       "  <tbody>\n",
       "    <tr>\n",
       "      <th>1</th>\n",
       "      <td>volatile acidity</td>\n",
       "      <td>0.278</td>\n",
       "    </tr>\n",
       "    <tr>\n",
       "      <th>10</th>\n",
       "      <td>alcohol</td>\n",
       "      <td>0.241</td>\n",
       "    </tr>\n",
       "    <tr>\n",
       "      <th>5</th>\n",
       "      <td>free sulfur dioxide</td>\n",
       "      <td>0.123</td>\n",
       "    </tr>\n",
       "    <tr>\n",
       "      <th>4</th>\n",
       "      <td>chlorides</td>\n",
       "      <td>0.099</td>\n",
       "    </tr>\n",
       "    <tr>\n",
       "      <th>3</th>\n",
       "      <td>residual sugar</td>\n",
       "      <td>0.077</td>\n",
       "    </tr>\n",
       "    <tr>\n",
       "      <th>0</th>\n",
       "      <td>fixed acidity</td>\n",
       "      <td>0.054</td>\n",
       "    </tr>\n",
       "    <tr>\n",
       "      <th>2</th>\n",
       "      <td>citric acid</td>\n",
       "      <td>0.049</td>\n",
       "    </tr>\n",
       "    <tr>\n",
       "      <th>9</th>\n",
       "      <td>sulphates</td>\n",
       "      <td>0.045</td>\n",
       "    </tr>\n",
       "    <tr>\n",
       "      <th>7</th>\n",
       "      <td>density</td>\n",
       "      <td>0.033</td>\n",
       "    </tr>\n",
       "    <tr>\n",
       "      <th>6</th>\n",
       "      <td>total sulfur dioxide</td>\n",
       "      <td>0.000</td>\n",
       "    </tr>\n",
       "    <tr>\n",
       "      <th>8</th>\n",
       "      <td>pH</td>\n",
       "      <td>0.000</td>\n",
       "    </tr>\n",
       "    <tr>\n",
       "      <th>11</th>\n",
       "      <td>red_wine</td>\n",
       "      <td>0.000</td>\n",
       "    </tr>\n",
       "  </tbody>\n",
       "</table>\n",
       "</div>"
      ],
      "text/plain": [
       "                 feature  importance\n",
       "1       volatile acidity       0.278\n",
       "10               alcohol       0.241\n",
       "5    free sulfur dioxide       0.123\n",
       "4              chlorides       0.099\n",
       "3         residual sugar       0.077\n",
       "0          fixed acidity       0.054\n",
       "2            citric acid       0.049\n",
       "9              sulphates       0.045\n",
       "7                density       0.033\n",
       "6   total sulfur dioxide       0.000\n",
       "8                     pH       0.000\n",
       "11              red_wine       0.000"
      ]
     },
     "execution_count": 85,
     "metadata": {},
     "output_type": "execute_result"
    }
   ],
   "source": [
    "importances = pd.DataFrame({'feature': X_train.columns, 'importance': np.round(dtree.feature_importances_,3)})\n",
    "importances = importances.sort_values('importance',ascending=False)\n",
    "importances"
   ]
  },
  {
   "cell_type": "markdown",
   "metadata": {},
   "source": [
    "* Use [pandas to plot a bar chart](https://pandas.pydata.org/pandas-docs/stable/reference/api/pandas.DataFrame.plot.bar.html)."
   ]
  },
  {
   "cell_type": "code",
   "execution_count": 86,
   "metadata": {},
   "outputs": [
    {
     "data": {
      "text/plain": [
       "<AxesSubplot:xlabel='feature'>"
      ]
     },
     "execution_count": 86,
     "metadata": {},
     "output_type": "execute_result"
    },
    {
     "data": {
      "image/png": "[encoded data removed]",
      "text/plain": [
       "<Figure size 432x288 with 1 Axes>"
      ]
     },
     "metadata": {
      "needs_background": "light"
     },
     "output_type": "display_data"
    }
   ],
   "source": [
    "importances.plot.bar(x='feature')"
   ]
  },
  {
   "cell_type": "markdown",
   "metadata": {},
   "source": [
    "### [Learning objective 3] Predict new observations\n",
    "\n",
    "* **predict():** the cutpoint of predict() is 0.5. It's the only sensible threshold from a mathematical viewpoint.\n",
    "* **predict_proba():** (p0,p1)"
   ]
  },
  {
   "cell_type": "code",
   "execution_count": 88,
   "metadata": {},
   "outputs": [
    {
     "data": {
      "text/plain": [
       "array([0, 0, 0, 0, 0, 0, 0, 0, 0, 0])"
      ]
     },
     "execution_count": 88,
     "metadata": {},
     "output_type": "execute_result"
    }
   ],
   "source": [
    "predictions = dtree.predict(X_test[0:10])\n",
    "predictions"
   ]
  },
  {
   "cell_type": "code",
   "execution_count": 89,
   "metadata": {},
   "outputs": [
    {
     "data": {
      "text/plain": [
       "array([[1.00000000e+00, 0.00000000e+00],\n",
       "       [9.99090909e-01, 9.09090909e-04],\n",
       "       [9.87096774e-01, 1.29032258e-02],\n",
       "       [1.00000000e+00, 0.00000000e+00],\n",
       "       [9.99090909e-01, 9.09090909e-04],\n",
       "       [9.95815900e-01, 4.18410042e-03],\n",
       "       [9.99090909e-01, 9.09090909e-04],\n",
       "       [9.99090909e-01, 9.09090909e-04],\n",
       "       [9.99090909e-01, 9.09090909e-04],\n",
       "       [1.00000000e+00, 0.00000000e+00]])"
      ]
     },
     "execution_count": 89,
     "metadata": {},
     "output_type": "execute_result"
    }
   ],
   "source": [
    "dtree.predict_proba(X_test[0:10])"
   ]
  },
  {
   "cell_type": "code",
   "execution_count": 30,
   "metadata": {},
   "outputs": [
    {
     "data": {
      "text/plain": [
       "array([0.        , 0.00090909, 0.01290323, 0.        , 0.00090909,\n",
       "       0.0041841 , 0.00090909, 0.00090909, 0.00090909, 0.        ])"
      ]
     },
     "execution_count": 30,
     "metadata": {},
     "output_type": "execute_result"
    }
   ],
   "source": [
    "y_pred = dtree.predict_proba(X_test[0:10])[:,1]\n",
    "y_pred"
   ]
  },
  {
   "cell_type": "markdown",
   "metadata": {},
   "source": [
    "### [Learning objective 4] How to evaluate a classification decision tree model? How to code a gains table?\n",
    "\n",
    "<img style = \"float: right\" src = \"data:image/jpeg;base64,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\" width = \"300\"/>\n",
    "\n",
    "\n",
    "This is a classification problem. So we will use the following metrics.\n",
    "* Confusion Matrix\n",
    "* ROC Curve\n",
    "* Gains Table\n",
    "* Lift Curve\n",
    "* Kolmogorov-Smirnov (K-S)"
   ]
  },
  {
   "cell_type": "markdown",
   "metadata": {},
   "source": [
    "### (4.1) Confusion Matrix"
   ]
  },
  {
   "cell_type": "code",
   "execution_count": 173,
   "metadata": {},
   "outputs": [
    {
     "name": "stdout",
     "output_type": "stream",
     "text": [
      "0.9716923076923077\n"
     ]
    }
   ],
   "source": [
    "from sklearn.metrics import roc_curve, roc_auc_score, accuracy_score, confusion_matrix\n",
    "\n",
    "predictions = dtree.predict(X_test[features])\n",
    "print(accuracy_score(Y_test,predictions))"
   ]
  },
  {
   "cell_type": "code",
   "execution_count": 174,
   "metadata": {},
   "outputs": [
    {
     "data": {
      "text/plain": [
       "47"
      ]
     },
     "execution_count": 174,
     "metadata": {},
     "output_type": "execute_result"
    }
   ],
   "source": [
    "np.count_nonzero(Y_test == 1)"
   ]
  },
  {
   "cell_type": "code",
   "execution_count": 175,
   "metadata": {},
   "outputs": [
    {
     "data": {
      "text/plain": [
       "array([[1571,    7],\n",
       "       [  39,    8]], dtype=int64)"
      ]
     },
     "execution_count": 175,
     "metadata": {},
     "output_type": "execute_result"
    }
   ],
   "source": [
    "confusion_matrix(Y_test,predictions)"
   ]
  },
  {
   "cell_type": "code",
   "execution_count": 176,
   "metadata": {},
   "outputs": [
    {
     "data": {
      "text/html": [
       "<div>\n",
       "<style scoped>\n",
       "    .dataframe tbody tr th:only-of-type {\n",
       "        vertical-align: middle;\n",
       "    }\n",
       "\n",
       "    .dataframe tbody tr th {\n",
       "        vertical-align: top;\n",
       "    }\n",
       "\n",
       "    .dataframe thead th {\n",
       "        text-align: right;\n",
       "    }\n",
       "</style>\n",
       "<table border=\"1\" class=\"dataframe\">\n",
       "  <thead>\n",
       "    <tr style=\"text-align: right;\">\n",
       "      <th></th>\n",
       "      <th>Predicted Low</th>\n",
       "      <th>Predicted High</th>\n",
       "    </tr>\n",
       "  </thead>\n",
       "  <tbody>\n",
       "    <tr>\n",
       "      <th>Actual Low</th>\n",
       "      <td>1571</td>\n",
       "      <td>7</td>\n",
       "    </tr>\n",
       "    <tr>\n",
       "      <th>Actual High</th>\n",
       "      <td>39</td>\n",
       "      <td>8</td>\n",
       "    </tr>\n",
       "  </tbody>\n",
       "</table>\n",
       "</div>"
      ],
      "text/plain": [
       "             Predicted Low  Predicted High\n",
       "Actual Low            1571               7\n",
       "Actual High             39               8"
      ]
     },
     "execution_count": 176,
     "metadata": {},
     "output_type": "execute_result"
    }
   ],
   "source": [
    "cm = pd.DataFrame(confusion_matrix(Y_test,predictions))\n",
    "cm.rename(columns={0:'Predicted Low', 1:'Predicted High'},\n",
    "         index = {0:'Actual Low',1:'Actual High'},inplace=True)\n",
    "cm"
   ]
  },
  {
   "cell_type": "markdown",
   "metadata": {},
   "source": [
    "### (4.2) ROC"
   ]
  },
  {
   "cell_type": "code",
   "execution_count": 177,
   "metadata": {},
   "outputs": [
    {
     "data": {
      "text/plain": [
       "0.8273130544993663"
      ]
     },
     "execution_count": 177,
     "metadata": {},
     "output_type": "execute_result"
    }
   ],
   "source": [
    "import matplotlib.pyplot as plt\n",
    "from sklearn.metrics import roc_curve,roc_auc_score\n",
    "\n",
    "y_pred = dtree.predict_proba(X_test[features])[:,1]\n",
    "roc_auc_value = roc_auc_score(Y_test,y_pred)\n",
    "roc_auc_value"
   ]
  },
  {
   "cell_type": "code",
   "execution_count": 178,
   "metadata": {},
   "outputs": [
    {
     "data": {
      "text/plain": [
       "[array([0.00000000e+00, 6.33713561e-04, 3.16856781e-03, 4.43599493e-03,\n",
       "        4.43599493e-03, 6.33713561e-03, 1.07731305e-02, 1.26742712e-02,\n",
       "        1.39416984e-02, 1.71102662e-02, 4.18250951e-02, 4.56273764e-02,\n",
       "        5.19645120e-02, 6.02027883e-02, 6.27376426e-02, 8.68187579e-02,\n",
       "        9.18884664e-02, 1.53358682e-01, 1.86311787e-01, 2.52217997e-01,\n",
       "        3.23827630e-01, 3.63117871e-01, 4.08745247e-01, 8.59315589e-01,\n",
       "        1.00000000e+00]),\n",
       " array([0.        , 0.08510638, 0.12765957, 0.14893617, 0.17021277,\n",
       "        0.19148936, 0.19148936, 0.19148936, 0.23404255, 0.25531915,\n",
       "        0.36170213, 0.38297872, 0.42553191, 0.42553191, 0.42553191,\n",
       "        0.4893617 , 0.4893617 , 0.61702128, 0.65957447, 0.74468085,\n",
       "        0.87234043, 0.91489362, 0.93617021, 0.93617021, 1.        ])]"
      ]
     },
     "execution_count": 178,
     "metadata": {},
     "output_type": "execute_result"
    }
   ],
   "source": [
    "fpr, tpr, _ = roc_curve(Y_test, y_pred)\n",
    "[fpr,tpr]"
   ]
  },
  {
   "cell_type": "code",
   "execution_count": 179,
   "metadata": {},
   "outputs": [
    {
     "data": {
      "image/png": "[encoded data removed]",
      "text/plain": [
       "<Figure size 432x288 with 1 Axes>"
      ]
     },
     "metadata": {
      "needs_background": "light"
     },
     "output_type": "display_data"
    }
   ],
   "source": [
    "import matplotlib.pyplot as plt\n",
    "lw=2\n",
    "plt.figure(figsize=(6,4))\n",
    "plt.plot(fpr,tpr, color='darkorange',lw=lw,label='ROC curve (area = %0.2f)' %roc_auc_value)\n",
    "plt.plot([0,1],[0,1], color='navy',lw=lw,linestyle='--')\n",
    "plt.xlim([0,1])\n",
    "plt.ylim([0,1])\n",
    "plt.xlabel('False Positive Rate')\n",
    "plt.ylabel('True Positive Rate')\n",
    "plt.title('ROC curve')\n",
    "plt.legend(loc='lower right')\n",
    "plt.show()"
   ]
  },
  {
   "cell_type": "markdown",
   "metadata": {},
   "source": [
    "### (4.3) Gains Table\n",
    "\n",
    "* Click [here](https://towardsdatascience.com/how-to-determine-the-best-model-6b9c584d0db4) for more information"
   ]
  },
  {
   "cell_type": "code",
   "execution_count": 180,
   "metadata": {},
   "outputs": [
    {
     "data": {
      "text/html": [
       "<div>\n",
       "<style scoped>\n",
       "    .dataframe tbody tr th:only-of-type {\n",
       "        vertical-align: middle;\n",
       "    }\n",
       "\n",
       "    .dataframe tbody tr th {\n",
       "        vertical-align: top;\n",
       "    }\n",
       "\n",
       "    .dataframe thead th {\n",
       "        text-align: right;\n",
       "    }\n",
       "</style>\n",
       "<table border=\"1\" class=\"dataframe\">\n",
       "  <thead>\n",
       "    <tr style=\"text-align: right;\">\n",
       "      <th></th>\n",
       "      <th>actual</th>\n",
       "      <th>pred</th>\n",
       "      <th>row_id</th>\n",
       "    </tr>\n",
       "  </thead>\n",
       "  <tbody>\n",
       "    <tr>\n",
       "      <th>4337</th>\n",
       "      <td>1</td>\n",
       "      <td>1.0</td>\n",
       "      <td>0</td>\n",
       "    </tr>\n",
       "    <tr>\n",
       "      <th>1984</th>\n",
       "      <td>1</td>\n",
       "      <td>1.0</td>\n",
       "      <td>1</td>\n",
       "    </tr>\n",
       "    <tr>\n",
       "      <th>1983</th>\n",
       "      <td>1</td>\n",
       "      <td>1.0</td>\n",
       "      <td>2</td>\n",
       "    </tr>\n",
       "    <tr>\n",
       "      <th>347</th>\n",
       "      <td>0</td>\n",
       "      <td>1.0</td>\n",
       "      <td>3</td>\n",
       "    </tr>\n",
       "    <tr>\n",
       "      <th>4340</th>\n",
       "      <td>1</td>\n",
       "      <td>1.0</td>\n",
       "      <td>4</td>\n",
       "    </tr>\n",
       "  </tbody>\n",
       "</table>\n",
       "</div>"
      ],
      "text/plain": [
       "      actual  pred  row_id\n",
       "4337       1   1.0       0\n",
       "1984       1   1.0       1\n",
       "1983       1   1.0       2\n",
       "347        0   1.0       3\n",
       "4340       1   1.0       4"
      ]
     },
     "execution_count": 180,
     "metadata": {},
     "output_type": "execute_result"
    }
   ],
   "source": [
    "df_prep = pd.DataFrame(columns = ['actual','pred'])\n",
    "df_prep['actual'] = Y_test\n",
    "df_prep['pred'] =y_pred\n",
    "df_prep = df_prep.sort_values(by='pred',ascending=False)\n",
    "df_prep['row_id'] = range(0,0+len(df_prep))\n",
    "df_prep.head()"
   ]
  },
  {
   "cell_type": "code",
   "execution_count": 181,
   "metadata": {},
   "outputs": [
    {
     "data": {
      "text/plain": [
       "0    163\n",
       "2    163\n",
       "4    163\n",
       "6    163\n",
       "8    163\n",
       "1    162\n",
       "3    162\n",
       "5    162\n",
       "7    162\n",
       "9    162\n",
       "Name: decile, dtype: int64"
      ]
     },
     "execution_count": 181,
     "metadata": {},
     "output_type": "execute_result"
    }
   ],
   "source": [
    "df_prep['decile'] = (df_prep['row_id'] / (len(df_prep)/10)).astype(int)\n",
    "df_prep.loc[df_prep['decile'] == 10] =9\n",
    "df_prep['decile'].value_counts()"
   ]
  },
  {
   "cell_type": "code",
   "execution_count": 182,
   "metadata": {},
   "outputs": [
    {
     "data": {
      "text/html": [
       "<div>\n",
       "<style scoped>\n",
       "    .dataframe tbody tr th:only-of-type {\n",
       "        vertical-align: middle;\n",
       "    }\n",
       "\n",
       "    .dataframe tbody tr th {\n",
       "        vertical-align: top;\n",
       "    }\n",
       "\n",
       "    .dataframe thead th {\n",
       "        text-align: right;\n",
       "    }\n",
       "</style>\n",
       "<table border=\"1\" class=\"dataframe\">\n",
       "  <thead>\n",
       "    <tr style=\"text-align: right;\">\n",
       "      <th></th>\n",
       "      <th>count</th>\n",
       "      <th>actual</th>\n",
       "    </tr>\n",
       "    <tr>\n",
       "      <th>decile</th>\n",
       "      <th></th>\n",
       "      <th></th>\n",
       "    </tr>\n",
       "  </thead>\n",
       "  <tbody>\n",
       "    <tr>\n",
       "      <th>0</th>\n",
       "      <td>163</td>\n",
       "      <td>23</td>\n",
       "    </tr>\n",
       "    <tr>\n",
       "      <th>1</th>\n",
       "      <td>162</td>\n",
       "      <td>8</td>\n",
       "    </tr>\n",
       "    <tr>\n",
       "      <th>2</th>\n",
       "      <td>163</td>\n",
       "      <td>6</td>\n",
       "    </tr>\n",
       "    <tr>\n",
       "      <th>3</th>\n",
       "      <td>162</td>\n",
       "      <td>6</td>\n",
       "    </tr>\n",
       "    <tr>\n",
       "      <th>4</th>\n",
       "      <td>163</td>\n",
       "      <td>1</td>\n",
       "    </tr>\n",
       "    <tr>\n",
       "      <th>5</th>\n",
       "      <td>162</td>\n",
       "      <td>0</td>\n",
       "    </tr>\n",
       "    <tr>\n",
       "      <th>6</th>\n",
       "      <td>163</td>\n",
       "      <td>0</td>\n",
       "    </tr>\n",
       "    <tr>\n",
       "      <th>7</th>\n",
       "      <td>162</td>\n",
       "      <td>0</td>\n",
       "    </tr>\n",
       "    <tr>\n",
       "      <th>8</th>\n",
       "      <td>163</td>\n",
       "      <td>2</td>\n",
       "    </tr>\n",
       "    <tr>\n",
       "      <th>9</th>\n",
       "      <td>162</td>\n",
       "      <td>1</td>\n",
       "    </tr>\n",
       "  </tbody>\n",
       "</table>\n",
       "</div>"
      ],
      "text/plain": [
       "        count  actual\n",
       "decile               \n",
       "0         163      23\n",
       "1         162       8\n",
       "2         163       6\n",
       "3         162       6\n",
       "4         163       1\n",
       "5         162       0\n",
       "6         163       0\n",
       "7         162       0\n",
       "8         163       2\n",
       "9         162       1"
      ]
     },
     "execution_count": 182,
     "metadata": {},
     "output_type": "execute_result"
    }
   ],
   "source": [
    "# Create gains table\n",
    "gains = df_prep.groupby('decile')['actual'].agg(['count','sum'])\n",
    "gains.columns = ['count','actual']\n",
    "gains"
   ]
  },
  {
   "cell_type": "code",
   "execution_count": 183,
   "metadata": {},
   "outputs": [
    {
     "data": {
      "text/html": [
       "<div>\n",
       "<style scoped>\n",
       "    .dataframe tbody tr th:only-of-type {\n",
       "        vertical-align: middle;\n",
       "    }\n",
       "\n",
       "    .dataframe tbody tr th {\n",
       "        vertical-align: top;\n",
       "    }\n",
       "\n",
       "    .dataframe thead th {\n",
       "        text-align: right;\n",
       "    }\n",
       "</style>\n",
       "<table border=\"1\" class=\"dataframe\">\n",
       "  <thead>\n",
       "    <tr style=\"text-align: right;\">\n",
       "      <th></th>\n",
       "      <th>count</th>\n",
       "      <th>actual</th>\n",
       "      <th>non_actual</th>\n",
       "      <th>cum_count</th>\n",
       "      <th>cum_actual</th>\n",
       "      <th>cum_non_actual</th>\n",
       "      <th>percent_cum_actual</th>\n",
       "      <th>percent_cum_non_actual</th>\n",
       "      <th>if_random</th>\n",
       "      <th>lift</th>\n",
       "      <th>K_S</th>\n",
       "      <th>gain</th>\n",
       "    </tr>\n",
       "    <tr>\n",
       "      <th>decile</th>\n",
       "      <th></th>\n",
       "      <th></th>\n",
       "      <th></th>\n",
       "      <th></th>\n",
       "      <th></th>\n",
       "      <th></th>\n",
       "      <th></th>\n",
       "      <th></th>\n",
       "      <th></th>\n",
       "      <th></th>\n",
       "      <th></th>\n",
       "      <th></th>\n",
       "    </tr>\n",
       "  </thead>\n",
       "  <tbody>\n",
       "    <tr>\n",
       "      <th>0</th>\n",
       "      <td>163</td>\n",
       "      <td>23</td>\n",
       "      <td>140</td>\n",
       "      <td>163</td>\n",
       "      <td>23</td>\n",
       "      <td>140</td>\n",
       "      <td>0.49</td>\n",
       "      <td>0.09</td>\n",
       "      <td>4.7</td>\n",
       "      <td>4.89</td>\n",
       "      <td>40.0</td>\n",
       "      <td>14.11</td>\n",
       "    </tr>\n",
       "    <tr>\n",
       "      <th>1</th>\n",
       "      <td>162</td>\n",
       "      <td>8</td>\n",
       "      <td>154</td>\n",
       "      <td>325</td>\n",
       "      <td>31</td>\n",
       "      <td>294</td>\n",
       "      <td>0.66</td>\n",
       "      <td>0.19</td>\n",
       "      <td>9.4</td>\n",
       "      <td>3.30</td>\n",
       "      <td>47.0</td>\n",
       "      <td>9.54</td>\n",
       "    </tr>\n",
       "    <tr>\n",
       "      <th>2</th>\n",
       "      <td>163</td>\n",
       "      <td>6</td>\n",
       "      <td>157</td>\n",
       "      <td>488</td>\n",
       "      <td>37</td>\n",
       "      <td>451</td>\n",
       "      <td>0.79</td>\n",
       "      <td>0.29</td>\n",
       "      <td>14.1</td>\n",
       "      <td>2.62</td>\n",
       "      <td>50.0</td>\n",
       "      <td>7.58</td>\n",
       "    </tr>\n",
       "    <tr>\n",
       "      <th>3</th>\n",
       "      <td>162</td>\n",
       "      <td>6</td>\n",
       "      <td>156</td>\n",
       "      <td>650</td>\n",
       "      <td>43</td>\n",
       "      <td>607</td>\n",
       "      <td>0.91</td>\n",
       "      <td>0.38</td>\n",
       "      <td>18.8</td>\n",
       "      <td>2.29</td>\n",
       "      <td>53.0</td>\n",
       "      <td>6.62</td>\n",
       "    </tr>\n",
       "    <tr>\n",
       "      <th>4</th>\n",
       "      <td>163</td>\n",
       "      <td>1</td>\n",
       "      <td>162</td>\n",
       "      <td>813</td>\n",
       "      <td>44</td>\n",
       "      <td>769</td>\n",
       "      <td>0.94</td>\n",
       "      <td>0.49</td>\n",
       "      <td>23.5</td>\n",
       "      <td>1.87</td>\n",
       "      <td>45.0</td>\n",
       "      <td>5.41</td>\n",
       "    </tr>\n",
       "    <tr>\n",
       "      <th>5</th>\n",
       "      <td>162</td>\n",
       "      <td>0</td>\n",
       "      <td>162</td>\n",
       "      <td>975</td>\n",
       "      <td>44</td>\n",
       "      <td>931</td>\n",
       "      <td>0.94</td>\n",
       "      <td>0.59</td>\n",
       "      <td>28.2</td>\n",
       "      <td>1.56</td>\n",
       "      <td>35.0</td>\n",
       "      <td>4.51</td>\n",
       "    </tr>\n",
       "    <tr>\n",
       "      <th>6</th>\n",
       "      <td>163</td>\n",
       "      <td>0</td>\n",
       "      <td>163</td>\n",
       "      <td>1138</td>\n",
       "      <td>44</td>\n",
       "      <td>1094</td>\n",
       "      <td>0.94</td>\n",
       "      <td>0.69</td>\n",
       "      <td>32.9</td>\n",
       "      <td>1.34</td>\n",
       "      <td>25.0</td>\n",
       "      <td>3.87</td>\n",
       "    </tr>\n",
       "    <tr>\n",
       "      <th>7</th>\n",
       "      <td>162</td>\n",
       "      <td>0</td>\n",
       "      <td>162</td>\n",
       "      <td>1300</td>\n",
       "      <td>44</td>\n",
       "      <td>1256</td>\n",
       "      <td>0.94</td>\n",
       "      <td>0.80</td>\n",
       "      <td>37.6</td>\n",
       "      <td>1.17</td>\n",
       "      <td>14.0</td>\n",
       "      <td>3.38</td>\n",
       "    </tr>\n",
       "    <tr>\n",
       "      <th>8</th>\n",
       "      <td>163</td>\n",
       "      <td>2</td>\n",
       "      <td>161</td>\n",
       "      <td>1463</td>\n",
       "      <td>46</td>\n",
       "      <td>1417</td>\n",
       "      <td>0.98</td>\n",
       "      <td>0.90</td>\n",
       "      <td>42.3</td>\n",
       "      <td>1.09</td>\n",
       "      <td>8.0</td>\n",
       "      <td>3.14</td>\n",
       "    </tr>\n",
       "    <tr>\n",
       "      <th>9</th>\n",
       "      <td>162</td>\n",
       "      <td>1</td>\n",
       "      <td>161</td>\n",
       "      <td>1625</td>\n",
       "      <td>47</td>\n",
       "      <td>1578</td>\n",
       "      <td>1.00</td>\n",
       "      <td>1.00</td>\n",
       "      <td>47.0</td>\n",
       "      <td>1.00</td>\n",
       "      <td>0.0</td>\n",
       "      <td>2.89</td>\n",
       "    </tr>\n",
       "  </tbody>\n",
       "</table>\n",
       "</div>"
      ],
      "text/plain": [
       "        count  actual  non_actual  cum_count  cum_actual  cum_non_actual  \\\n",
       "decile                                                                     \n",
       "0         163      23         140        163          23             140   \n",
       "1         162       8         154        325          31             294   \n",
       "2         163       6         157        488          37             451   \n",
       "3         162       6         156        650          43             607   \n",
       "4         163       1         162        813          44             769   \n",
       "5         162       0         162        975          44             931   \n",
       "6         163       0         163       1138          44            1094   \n",
       "7         162       0         162       1300          44            1256   \n",
       "8         163       2         161       1463          46            1417   \n",
       "9         162       1         161       1625          47            1578   \n",
       "\n",
       "        percent_cum_actual  percent_cum_non_actual  if_random  lift   K_S  \\\n",
       "decile                                                                      \n",
       "0                     0.49                    0.09        4.7  4.89  40.0   \n",
       "1                     0.66                    0.19        9.4  3.30  47.0   \n",
       "2                     0.79                    0.29       14.1  2.62  50.0   \n",
       "3                     0.91                    0.38       18.8  2.29  53.0   \n",
       "4                     0.94                    0.49       23.5  1.87  45.0   \n",
       "5                     0.94                    0.59       28.2  1.56  35.0   \n",
       "6                     0.94                    0.69       32.9  1.34  25.0   \n",
       "7                     0.94                    0.80       37.6  1.17  14.0   \n",
       "8                     0.98                    0.90       42.3  1.09   8.0   \n",
       "9                     1.00                    1.00       47.0  1.00   0.0   \n",
       "\n",
       "         gain  \n",
       "decile         \n",
       "0       14.11  \n",
       "1        9.54  \n",
       "2        7.58  \n",
       "3        6.62  \n",
       "4        5.41  \n",
       "5        4.51  \n",
       "6        3.87  \n",
       "7        3.38  \n",
       "8        3.14  \n",
       "9        2.89  "
      ]
     },
     "execution_count": 183,
     "metadata": {},
     "output_type": "execute_result"
    }
   ],
   "source": [
    "gains['non_actual'] = gains['count'] - gains['actual']\n",
    "gains['cum_count'] = gains['count'].cumsum()\n",
    "gains['cum_actual'] = gains['actual'].cumsum()\n",
    "gains['cum_non_actual'] = gains['non_actual'].cumsum()\n",
    "gains['percent_cum_actual'] = (gains['cum_actual'] / np.max(gains['cum_actual'])).round(2)\n",
    "gains['percent_cum_non_actual'] = (gains['cum_non_actual'] / np.max(gains['cum_non_actual'])).round(2)\n",
    "gains['if_random'] = np.max(gains['cum_actual']) /10\n",
    "gains['if_random'] = gains['if_random'].cumsum()\n",
    "gains['lift'] = (gains['cum_actual'] / gains['if_random']).round(2)\n",
    "gains['K_S'] = np.abs( gains['percent_cum_actual'] - gains['percent_cum_non_actual']  ) * 100 \n",
    "gains['gain'] = (gains['cum_actual'] / gains['cum_count']*100).round(2)\n",
    "gains"
   ]
  },
  {
   "cell_type": "code",
   "execution_count": 184,
   "metadata": {},
   "outputs": [
    {
     "data": {
      "text/plain": [
       "<AxesSubplot:xlabel='decile'>"
      ]
     },
     "execution_count": 184,
     "metadata": {},
     "output_type": "execute_result"
    },
    {
     "data": {
      "image/png": "[encoded data removed]",
      "text/plain": [
       "<Figure size 432x288 with 1 Axes>"
      ]
     },
     "metadata": {
      "needs_background": "light"
     },
     "output_type": "display_data"
    }
   ],
   "source": [
    "def gains_table(Y_test,y_pred):\n",
    "    df_prep = pd.DataFrame(columns = ['actual','pred'])\n",
    "    df_prep['actual'] = Y_test\n",
    "    df_prep['pred'] =y_pred\n",
    "    df_prep = df_prep.sort_values(by='pred',ascending=False)\n",
    "    df_prep['row_id'] = range(0,0+len(df_prep))\n",
    "    df_prep.head()\n",
    "\n",
    "    df_prep['decile'] = (df_prep['row_id'] / (len(df_prep)/10)).astype(int)\n",
    "    df_prep.loc[df_prep['decile'] == 10] =9\n",
    "    df_prep['decile'].value_counts()\n",
    "\n",
    "    # Create gains table\n",
    "    gains = df_prep.groupby('decile')['actual'].agg(['count','sum'])\n",
    "    gains.columns = ['count','actual']\n",
    "    gains\n",
    "\n",
    "    gains['non_actual'] = gains['count'] - gains['actual']\n",
    "    gains['cum_count'] = gains['count'].cumsum()\n",
    "    gains['cum_actual'] = gains['actual'].cumsum()\n",
    "    gains['cum_non_actual'] = gains['non_actual'].cumsum()\n",
    "    gains['percent_cum_actual'] = (gains['cum_actual'] / np.max(gains['cum_actual'])).round(2)\n",
    "    gains['percent_cum_non_actual'] = (gains['cum_non_actual'] / np.max(gains['cum_non_actual'])).round(2)\n",
    "    gains['if_random'] = np.max(gains['cum_actual']) /10\n",
    "    gains['if_random'] = gains['if_random'].cumsum()\n",
    "    gains['lift'] = (gains['cum_actual'] / gains['if_random']).round(2)\n",
    "    gains['K_S'] = np.abs( gains['percent_cum_actual'] - gains['percent_cum_non_actual']  ) * 100 \n",
    "    gains['gain'] = (gains['cum_actual'] / gains['cum_count']*100).round(2)\n",
    "    return(gains)\n",
    "    \n",
    "gains = gains_table(Y_test,y_pred)\n",
    "gains\n",
    "gains['lift'].plot.line()"
   ]
  },
  {
   "cell_type": "markdown",
   "metadata": {},
   "source": [
    "### (4.4) Cumulative Lift"
   ]
  },
  {
   "cell_type": "code",
   "execution_count": 185,
   "metadata": {},
   "outputs": [
    {
     "data": {
      "text/plain": [
       "<AxesSubplot:xlabel='decile'>"
      ]
     },
     "execution_count": 185,
     "metadata": {},
     "output_type": "execute_result"
    },
    {
     "data": {
      "image/png": "[encoded data removed]",
      "text/plain": [
       "<Figure size 432x288 with 1 Axes>"
      ]
     },
     "metadata": {
      "needs_background": "light"
     },
     "output_type": "display_data"
    }
   ],
   "source": [
    "gains['lift'].plot.line()"
   ]
  },
  {
   "cell_type": "code",
   "execution_count": 186,
   "metadata": {},
   "outputs": [
    {
     "data": {
      "text/plain": [
       "<AxesSubplot:ylabel='actual'>"
      ]
     },
     "execution_count": 186,
     "metadata": {},
     "output_type": "execute_result"
    },
    {
     "data": {
      "image/png": "[encoded data removed]",
      "text/plain": [
       "<Figure size 432x432 with 1 Axes>"
      ]
     },
     "metadata": {},
     "output_type": "display_data"
    }
   ],
   "source": [
    "gains.plot.pie(y='actual',figsize=(6,6),autopct = '%1.1f%%', startangle=90)"
   ]
  },
  {
   "cell_type": "markdown",
   "metadata": {},
   "source": [
    "### (4.5) Komogorov-Smirnov (K-S)"
   ]
  },
  {
   "cell_type": "code",
   "execution_count": 187,
   "metadata": {},
   "outputs": [
    {
     "data": {
      "text/plain": [
       "<AxesSubplot:xlabel='decile'>"
      ]
     },
     "execution_count": 187,
     "metadata": {},
     "output_type": "execute_result"
    },
    {
     "data": {
      "image/png": "[encoded data removed]",
      "text/plain": [
       "<Figure size 432x288 with 1 Axes>"
      ]
     },
     "metadata": {
      "needs_background": "light"
     },
     "output_type": "display_data"
    }
   ],
   "source": [
    "gains[['percent_cum_actual','percent_cum_non_actual']].plot.line()"
   ]
  },
  {
   "cell_type": "code",
   "execution_count": 188,
   "metadata": {},
   "outputs": [
    {
     "data": {
      "text/plain": [
       "53.0"
      ]
     },
     "execution_count": 188,
     "metadata": {},
     "output_type": "execute_result"
    }
   ],
   "source": [
    "gains['K_S'].max()"
   ]
  },
  {
   "cell_type": "markdown",
   "metadata": {},
   "source": [
    "<img style = \"float: right\" src = \"data:image/jpeg;base64,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\" width = \"150\"/>\n",
    "\n",
    "\n",
    "### [Learning objective 5] How to Apply the Model?\n",
    "\n",
    "1. Save the model as a pickle file\n",
    "2. Print out the \"if...then\" statements\n",
    "\n",
    "### (5.1) Save the model as a pickle file"
   ]
  },
  {
   "cell_type": "code",
   "execution_count": 189,
   "metadata": {},
   "outputs": [
    {
     "name": "stdout",
     "output_type": "stream",
     "text": [
      "0.9716923076923077\n"
     ]
    }
   ],
   "source": [
    "import pickle \n",
    "# save the model to disk\n",
    "filename = path + '/winequalityN_model.sav'\n",
    "pickle.dump(dtree, open(filename, 'wb'))\n",
    " \n",
    "# load the model from disk\n",
    "loaded_model = pickle.load(open(filename, 'rb'))\n",
    "result = loaded_model.score(X_test, Y_test)\n",
    "print(result)"
   ]
  },
  {
   "cell_type": "code",
   "execution_count": 190,
   "metadata": {},
   "outputs": [
    {
     "data": {
      "text/plain": [
       "array([0.00090909, 0.01290323, 0.        , 0.00090909, 0.0041841 ,\n",
       "       0.00090909, 0.00090909, 0.00090909, 0.        ])"
      ]
     },
     "execution_count": 190,
     "metadata": {},
     "output_type": "execute_result"
    }
   ],
   "source": [
    "predictions = loaded_model.predict_proba(X_test[1:10])\n",
    "predictions[:,1]"
   ]
  },
  {
   "cell_type": "markdown",
   "metadata": {},
   "source": [
    "### (5.2) Print out the \"if...then\" statements"
   ]
  },
  {
   "cell_type": "code",
   "execution_count": 191,
   "metadata": {},
   "outputs": [],
   "source": [
    "def get_code(tree, feature_names):\n",
    "        left      = tree.tree_.children_left\n",
    "        right     = tree.tree_.children_right\n",
    "        threshold = tree.tree_.threshold\n",
    "        features  = [feature_names[i] for i in tree.tree_.feature]\n",
    "        value = tree.tree_.value\n",
    "\n",
    "        def recurse(left, right, threshold, features, node):\n",
    "                if (threshold[node] != -2):\n",
    "                        print( \"if ( \" + features[node] + \" <= \" + str(threshold[node]) + \" ) {\")\n",
    "                        if left[node] != -1:\n",
    "                                recurse (left, right, threshold, features,left[node])\n",
    "                        print( \"} else {\" )\n",
    "                        if right[node] != -1:\n",
    "                                recurse (left, right, threshold, features,right[node])\n",
    "                        print( \"}\" )\n",
    "                else:\n",
    "                        print( \"return \" + str(value[node]) )\n",
    "\n",
    "        recurse(left, right, threshold, features, 0)"
   ]
  },
  {
   "cell_type": "code",
   "execution_count": 192,
   "metadata": {},
   "outputs": [
    {
     "name": "stdout",
     "output_type": "stream",
     "text": [
      "if ( alcohol <= 11.674999713897705 ) {\n",
      "if ( alcohol <= 10.989999771118164 ) {\n",
      "if ( alcohol <= 8.949999809265137 ) {\n",
      "if ( volatile acidity <= 0.20499999821186066 ) {\n",
      "if ( chlorides <= 0.05550000071525574 ) {\n",
      "if ( sulphates <= 0.7050000131130219 ) {\n",
      "return [[17.  0.]]\n",
      "} else {\n",
      "return [[4. 1.]]\n",
      "}\n",
      "} else {\n",
      "if ( residual sugar <= 13.799999713897705 ) {\n",
      "return [[8. 0.]]\n",
      "} else {\n",
      "return [[ 0. 10.]]\n",
      "}\n",
      "}\n",
      "} else {\n",
      "if ( volatile acidity <= 0.21249999850988388 ) {\n",
      "if ( pH <= 3.2350000143051147 ) {\n",
      "return [[4. 1.]]\n",
      "} else {\n",
      "return [[7. 0.]]\n",
      "}\n",
      "} else {\n",
      "return [[176.   0.]]\n",
      "}\n",
      "}\n",
      "} else {\n",
      "if ( alcohol <= 10.349999904632568 ) {\n",
      "if ( volatile acidity <= 0.12249999865889549 ) {\n",
      "if ( chlorides <= 0.04000000096857548 ) {\n",
      "return [[4. 2.]]\n",
      "} else {\n",
      "return [[22.  0.]]\n",
      "}\n",
      "} else {\n",
      "if ( free sulfur dioxide <= 3.5 ) {\n",
      "return [[13.  1.]]\n",
      "} else {\n",
      "return [[2.198e+03 2.000e+00]]\n",
      "}\n",
      "}\n",
      "} else {\n",
      "if ( volatile acidity <= 0.1550000011920929 ) {\n",
      "if ( volatile acidity <= 0.14500000327825546 ) {\n",
      "return [[22.  0.]]\n",
      "} else {\n",
      "return [[7. 3.]]\n",
      "}\n",
      "} else {\n",
      "if ( volatile acidity <= 0.2849999964237213 ) {\n",
      "return [[407.  11.]]\n",
      "} else {\n",
      "return [[330.   0.]]\n",
      "}\n",
      "}\n",
      "}\n",
      "}\n",
      "} else {\n",
      "if ( free sulfur dioxide <= 78.0 ) {\n",
      "if ( residual sugar <= 13.150000095367432 ) {\n",
      "if ( citric acid <= 0.2849999964237213 ) {\n",
      "if ( volatile acidity <= 0.13499999791383743 ) {\n",
      "return [[4. 1.]]\n",
      "} else {\n",
      "return [[238.   1.]]\n",
      "}\n",
      "} else {\n",
      "if ( fixed acidity <= 7.450000047683716 ) {\n",
      "return [[282.  16.]]\n",
      "} else {\n",
      "return [[153.   2.]]\n",
      "}\n",
      "}\n",
      "} else {\n",
      "return [[4. 3.]]\n",
      "}\n",
      "} else {\n",
      "return [[4. 3.]]\n",
      "}\n",
      "}\n",
      "} else {\n",
      "if ( free sulfur dioxide <= 26.5 ) {\n",
      "if ( sulphates <= 0.33500000834465027 ) {\n",
      "if ( chlorides <= 0.03350000083446503 ) {\n",
      "return [[10.  0.]]\n",
      "} else {\n",
      "if ( citric acid <= 0.32500000298023224 ) {\n",
      "return [[6. 0.]]\n",
      "} else {\n",
      "return [[2. 5.]]\n",
      "}\n",
      "}\n",
      "} else {\n",
      "if ( sulphates <= 0.8149999976158142 ) {\n",
      "if ( residual sugar <= 12.775000095367432 ) {\n",
      "if ( alcohol <= 13.050000190734863 ) {\n",
      "return [[339.   6.]]\n",
      "} else {\n",
      "return [[29.  5.]]\n",
      "}\n",
      "} else {\n",
      "return [[4. 2.]]\n",
      "}\n",
      "} else {\n",
      "if ( sulphates <= 0.8650000095367432 ) {\n",
      "if ( total sulfur dioxide <= 32.0 ) {\n",
      "return [[8. 1.]]\n",
      "} else {\n",
      "return [[1. 4.]]\n",
      "}\n",
      "} else {\n",
      "if ( free sulfur dioxide <= 12.5 ) {\n",
      "return [[4. 1.]]\n",
      "} else {\n",
      "return [[17.  0.]]\n",
      "}\n",
      "}\n",
      "}\n",
      "}\n",
      "} else {\n",
      "if ( fixed acidity <= 5.549999952316284 ) {\n",
      "if ( volatile acidity <= 0.42000000178813934 ) {\n",
      "if ( alcohol <= 12.700000286102295 ) {\n",
      "if ( residual sugar <= 4.099999904632568 ) {\n",
      "return [[11.  0.]]\n",
      "} else {\n",
      "return [[3. 2.]]\n",
      "}\n",
      "} else {\n",
      "return [[4. 4.]]\n",
      "}\n",
      "} else {\n",
      "return [[1. 6.]]\n",
      "}\n",
      "} else {\n",
      "if ( free sulfur dioxide <= 61.5 ) {\n",
      "if ( density <= 0.9902499914169312 ) {\n",
      "if ( residual sugar <= 4.1499998569488525 ) {\n",
      "return [[144.   6.]]\n",
      "} else {\n",
      "return [[10.  3.]]\n",
      "}\n",
      "} else {\n",
      "if ( alcohol <= 12.25 ) {\n",
      "return [[129.  14.]]\n",
      "} else {\n",
      "return [[91. 30.]]\n",
      "}\n",
      "}\n",
      "} else {\n",
      "return [[4. 5.]]\n",
      "}\n",
      "}\n",
      "}\n",
      "}\n"
     ]
    }
   ],
   "source": [
    "get_code(dtree,X_train.columns)"
   ]
  },
  {
   "cell_type": "markdown",
   "metadata": {},
   "source": [
    "## [Learning objective 6] How to do Regression Tree with scikit-learn?\n",
    "\n",
    "\n",
    "<img style = \"float: right\" src = \"data:image/png;base64,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\" width = \"350\"/>\n",
    "\n",
    "### (6.1) Not Just Classification, It Can Do Regression Too\n",
    "\n",
    "* Although the preceding example works for the categorical target, the same concept applies to the case that the target variable is continuous  (regression).\n",
    "\n",
    "* The regression tree method searches for every distinct values for your predictors and chooses to the split based on what minimize the SSE for the groups of dependent variables. For each group, the method will recursively split the predictor values within the groups.\n",
    "* The curve to the right is a sine curve with some noisy. The decision tree method can fit it."
   ]
  },
  {
   "cell_type": "code",
   "execution_count": 193,
   "metadata": {},
   "outputs": [],
   "source": [
    "from sklearn.model_selection import train_test_split\n",
    "Xr_train, Xr_test, Yr_train, Yr_test = train_test_split(df_mean[features],\n",
    "                                                    df_mean['quality'], \n",
    "                                                    random_state=0)"
   ]
  },
  {
   "cell_type": "code",
   "execution_count": 194,
   "metadata": {},
   "outputs": [],
   "source": [
    "from sklearn.tree import DecisionTreeClassifier # for classification\n",
    "from sklearn.tree import DecisionTreeRegressor # for regression\n",
    "\n",
    "# First, specify the model. \n",
    "rtree = DecisionTreeRegressor()"
   ]
  },
  {
   "cell_type": "code",
   "execution_count": 195,
   "metadata": {},
   "outputs": [
    {
     "data": {
      "text/plain": [
       "DecisionTreeRegressor()"
      ]
     },
     "execution_count": 195,
     "metadata": {},
     "output_type": "execute_result"
    }
   ],
   "source": [
    "# Then, train the model.\n",
    "rtree.fit(Xr_train,Yr_train)"
   ]
  },
  {
   "cell_type": "code",
   "execution_count": 196,
   "metadata": {},
   "outputs": [
    {
     "data": {
      "text/plain": [
       "array([6., 5., 6., ..., 5., 6., 5.])"
      ]
     },
     "execution_count": 196,
     "metadata": {},
     "output_type": "execute_result"
    }
   ],
   "source": [
    "yr_pred = rtree.predict(Xr_test)\n",
    "yr_pred"
   ]
  },
  {
   "cell_type": "code",
   "execution_count": 197,
   "metadata": {},
   "outputs": [
    {
     "data": {
      "text/html": [
       "<div>\n",
       "<style scoped>\n",
       "    .dataframe tbody tr th:only-of-type {\n",
       "        vertical-align: middle;\n",
       "    }\n",
       "\n",
       "    .dataframe tbody tr th {\n",
       "        vertical-align: top;\n",
       "    }\n",
       "\n",
       "    .dataframe thead th {\n",
       "        text-align: right;\n",
       "    }\n",
       "</style>\n",
       "<table border=\"1\" class=\"dataframe\">\n",
       "  <thead>\n",
       "    <tr style=\"text-align: right;\">\n",
       "      <th>col_0</th>\n",
       "      <th>3.0</th>\n",
       "      <th>4.0</th>\n",
       "      <th>5.0</th>\n",
       "      <th>6.0</th>\n",
       "      <th>7.0</th>\n",
       "      <th>8.0</th>\n",
       "      <th>9.0</th>\n",
       "    </tr>\n",
       "    <tr>\n",
       "      <th>quality</th>\n",
       "      <th></th>\n",
       "      <th></th>\n",
       "      <th></th>\n",
       "      <th></th>\n",
       "      <th></th>\n",
       "      <th></th>\n",
       "      <th></th>\n",
       "    </tr>\n",
       "  </thead>\n",
       "  <tbody>\n",
       "    <tr>\n",
       "      <th>3</th>\n",
       "      <td>0</td>\n",
       "      <td>1</td>\n",
       "      <td>5</td>\n",
       "      <td>0</td>\n",
       "      <td>0</td>\n",
       "      <td>1</td>\n",
       "      <td>0</td>\n",
       "    </tr>\n",
       "    <tr>\n",
       "      <th>4</th>\n",
       "      <td>2</td>\n",
       "      <td>14</td>\n",
       "      <td>16</td>\n",
       "      <td>24</td>\n",
       "      <td>3</td>\n",
       "      <td>0</td>\n",
       "      <td>0</td>\n",
       "    </tr>\n",
       "    <tr>\n",
       "      <th>5</th>\n",
       "      <td>1</td>\n",
       "      <td>14</td>\n",
       "      <td>370</td>\n",
       "      <td>144</td>\n",
       "      <td>21</td>\n",
       "      <td>3</td>\n",
       "      <td>0</td>\n",
       "    </tr>\n",
       "    <tr>\n",
       "      <th>6</th>\n",
       "      <td>2</td>\n",
       "      <td>13</td>\n",
       "      <td>134</td>\n",
       "      <td>420</td>\n",
       "      <td>106</td>\n",
       "      <td>15</td>\n",
       "      <td>1</td>\n",
       "    </tr>\n",
       "    <tr>\n",
       "      <th>7</th>\n",
       "      <td>1</td>\n",
       "      <td>2</td>\n",
       "      <td>16</td>\n",
       "      <td>92</td>\n",
       "      <td>144</td>\n",
       "      <td>13</td>\n",
       "      <td>0</td>\n",
       "    </tr>\n",
       "    <tr>\n",
       "      <th>8</th>\n",
       "      <td>0</td>\n",
       "      <td>1</td>\n",
       "      <td>0</td>\n",
       "      <td>10</td>\n",
       "      <td>10</td>\n",
       "      <td>26</td>\n",
       "      <td>0</td>\n",
       "    </tr>\n",
       "  </tbody>\n",
       "</table>\n",
       "</div>"
      ],
      "text/plain": [
       "col_0    3.0  4.0  5.0  6.0  7.0  8.0  9.0\n",
       "quality                                   \n",
       "3          0    1    5    0    0    1    0\n",
       "4          2   14   16   24    3    0    0\n",
       "5          1   14  370  144   21    3    0\n",
       "6          2   13  134  420  106   15    1\n",
       "7          1    2   16   92  144   13    0\n",
       "8          0    1    0   10   10   26    0"
      ]
     },
     "execution_count": 197,
     "metadata": {},
     "output_type": "execute_result"
    }
   ],
   "source": [
    "pd.crosstab(Yr_test,yr_pred)"
   ]
  },
  {
   "cell_type": "markdown",
   "metadata": {},
   "source": [
    "###  [Learning objective 7] How to Evaluate a Regression Tree Model?\n",
    "\n",
    "### (7.1) Mean Absolute Error\n",
    "\n",
    "\n",
    "<img style = \"float: left\" src = \"https://i.imgur.com/BmBC8VW.jpg\" width = 400>"
   ]
  },
  {
   "cell_type": "code",
   "execution_count": 198,
   "metadata": {},
   "outputs": [
    {
     "data": {
      "text/plain": [
       "0.05107232147343564"
      ]
     },
     "execution_count": 198,
     "metadata": {},
     "output_type": "execute_result"
    }
   ],
   "source": [
    "# MEan Absolute Error (MAE)\n",
    "from sklearn.metrics import mean_absolute_error\n",
    "mean_absolute_error(Y_test,y_pred)"
   ]
  },
  {
   "cell_type": "markdown",
   "metadata": {},
   "source": [
    "### (7.2) Root Mean Squared Error\n",
    "\n",
    "<img style = \"float: left\" src = \"https://encrypted-tbn0.gstatic.com/images?q=tbn:ANd9GcRdupAS5XRb5uUc5ElU-zAwC4aezxM-J6JxchtrClbhxiB329K9\" width = 300>"
   ]
  },
  {
   "cell_type": "code",
   "execution_count": 199,
   "metadata": {},
   "outputs": [
    {
     "data": {
      "text/plain": [
       "0.16553990389774967"
      ]
     },
     "execution_count": 199,
     "metadata": {},
     "output_type": "execute_result"
    }
   ],
   "source": [
    "from sklearn.metrics import mean_squared_error\n",
    "from math import sqrt\n",
    "rmse = sqrt(mean_squared_error(Y_test,y_pred))\n",
    "rmse"
   ]
  },
  {
   "cell_type": "markdown",
   "metadata": {},
   "source": [
    "### (7.3) Gains Table"
   ]
  },
  {
   "cell_type": "code",
   "execution_count": 200,
   "metadata": {},
   "outputs": [
    {
     "data": {
      "text/html": [
       "<div>\n",
       "<style scoped>\n",
       "    .dataframe tbody tr th:only-of-type {\n",
       "        vertical-align: middle;\n",
       "    }\n",
       "\n",
       "    .dataframe tbody tr th {\n",
       "        vertical-align: top;\n",
       "    }\n",
       "\n",
       "    .dataframe thead th {\n",
       "        text-align: right;\n",
       "    }\n",
       "</style>\n",
       "<table border=\"1\" class=\"dataframe\">\n",
       "  <thead>\n",
       "    <tr style=\"text-align: right;\">\n",
       "      <th></th>\n",
       "      <th>count</th>\n",
       "      <th>actual</th>\n",
       "      <th>non_actual</th>\n",
       "      <th>cum_count</th>\n",
       "      <th>cum_actual</th>\n",
       "      <th>cum_non_actual</th>\n",
       "      <th>percent_cum_actual</th>\n",
       "      <th>percent_cum_non_actual</th>\n",
       "      <th>if_random</th>\n",
       "      <th>lift</th>\n",
       "      <th>K_S</th>\n",
       "      <th>gain</th>\n",
       "    </tr>\n",
       "    <tr>\n",
       "      <th>decile</th>\n",
       "      <th></th>\n",
       "      <th></th>\n",
       "      <th></th>\n",
       "      <th></th>\n",
       "      <th></th>\n",
       "      <th></th>\n",
       "      <th></th>\n",
       "      <th></th>\n",
       "      <th></th>\n",
       "      <th></th>\n",
       "      <th></th>\n",
       "      <th></th>\n",
       "    </tr>\n",
       "  </thead>\n",
       "  <tbody>\n",
       "    <tr>\n",
       "      <th>0</th>\n",
       "      <td>163</td>\n",
       "      <td>23</td>\n",
       "      <td>140</td>\n",
       "      <td>163</td>\n",
       "      <td>23</td>\n",
       "      <td>140</td>\n",
       "      <td>0.49</td>\n",
       "      <td>0.09</td>\n",
       "      <td>4.7</td>\n",
       "      <td>4.89</td>\n",
       "      <td>40.0</td>\n",
       "      <td>14.11</td>\n",
       "    </tr>\n",
       "    <tr>\n",
       "      <th>1</th>\n",
       "      <td>162</td>\n",
       "      <td>8</td>\n",
       "      <td>154</td>\n",
       "      <td>325</td>\n",
       "      <td>31</td>\n",
       "      <td>294</td>\n",
       "      <td>0.66</td>\n",
       "      <td>0.19</td>\n",
       "      <td>9.4</td>\n",
       "      <td>3.30</td>\n",
       "      <td>47.0</td>\n",
       "      <td>9.54</td>\n",
       "    </tr>\n",
       "    <tr>\n",
       "      <th>2</th>\n",
       "      <td>163</td>\n",
       "      <td>6</td>\n",
       "      <td>157</td>\n",
       "      <td>488</td>\n",
       "      <td>37</td>\n",
       "      <td>451</td>\n",
       "      <td>0.79</td>\n",
       "      <td>0.29</td>\n",
       "      <td>14.1</td>\n",
       "      <td>2.62</td>\n",
       "      <td>50.0</td>\n",
       "      <td>7.58</td>\n",
       "    </tr>\n",
       "    <tr>\n",
       "      <th>3</th>\n",
       "      <td>162</td>\n",
       "      <td>6</td>\n",
       "      <td>156</td>\n",
       "      <td>650</td>\n",
       "      <td>43</td>\n",
       "      <td>607</td>\n",
       "      <td>0.91</td>\n",
       "      <td>0.38</td>\n",
       "      <td>18.8</td>\n",
       "      <td>2.29</td>\n",
       "      <td>53.0</td>\n",
       "      <td>6.62</td>\n",
       "    </tr>\n",
       "    <tr>\n",
       "      <th>4</th>\n",
       "      <td>163</td>\n",
       "      <td>1</td>\n",
       "      <td>162</td>\n",
       "      <td>813</td>\n",
       "      <td>44</td>\n",
       "      <td>769</td>\n",
       "      <td>0.94</td>\n",
       "      <td>0.49</td>\n",
       "      <td>23.5</td>\n",
       "      <td>1.87</td>\n",
       "      <td>45.0</td>\n",
       "      <td>5.41</td>\n",
       "    </tr>\n",
       "    <tr>\n",
       "      <th>5</th>\n",
       "      <td>162</td>\n",
       "      <td>0</td>\n",
       "      <td>162</td>\n",
       "      <td>975</td>\n",
       "      <td>44</td>\n",
       "      <td>931</td>\n",
       "      <td>0.94</td>\n",
       "      <td>0.59</td>\n",
       "      <td>28.2</td>\n",
       "      <td>1.56</td>\n",
       "      <td>35.0</td>\n",
       "      <td>4.51</td>\n",
       "    </tr>\n",
       "    <tr>\n",
       "      <th>6</th>\n",
       "      <td>163</td>\n",
       "      <td>0</td>\n",
       "      <td>163</td>\n",
       "      <td>1138</td>\n",
       "      <td>44</td>\n",
       "      <td>1094</td>\n",
       "      <td>0.94</td>\n",
       "      <td>0.69</td>\n",
       "      <td>32.9</td>\n",
       "      <td>1.34</td>\n",
       "      <td>25.0</td>\n",
       "      <td>3.87</td>\n",
       "    </tr>\n",
       "    <tr>\n",
       "      <th>7</th>\n",
       "      <td>162</td>\n",
       "      <td>0</td>\n",
       "      <td>162</td>\n",
       "      <td>1300</td>\n",
       "      <td>44</td>\n",
       "      <td>1256</td>\n",
       "      <td>0.94</td>\n",
       "      <td>0.80</td>\n",
       "      <td>37.6</td>\n",
       "      <td>1.17</td>\n",
       "      <td>14.0</td>\n",
       "      <td>3.38</td>\n",
       "    </tr>\n",
       "    <tr>\n",
       "      <th>8</th>\n",
       "      <td>163</td>\n",
       "      <td>2</td>\n",
       "      <td>161</td>\n",
       "      <td>1463</td>\n",
       "      <td>46</td>\n",
       "      <td>1417</td>\n",
       "      <td>0.98</td>\n",
       "      <td>0.90</td>\n",
       "      <td>42.3</td>\n",
       "      <td>1.09</td>\n",
       "      <td>8.0</td>\n",
       "      <td>3.14</td>\n",
       "    </tr>\n",
       "    <tr>\n",
       "      <th>9</th>\n",
       "      <td>162</td>\n",
       "      <td>1</td>\n",
       "      <td>161</td>\n",
       "      <td>1625</td>\n",
       "      <td>47</td>\n",
       "      <td>1578</td>\n",
       "      <td>1.00</td>\n",
       "      <td>1.00</td>\n",
       "      <td>47.0</td>\n",
       "      <td>1.00</td>\n",
       "      <td>0.0</td>\n",
       "      <td>2.89</td>\n",
       "    </tr>\n",
       "  </tbody>\n",
       "</table>\n",
       "</div>"
      ],
      "text/plain": [
       "        count  actual  non_actual  cum_count  cum_actual  cum_non_actual  \\\n",
       "decile                                                                     \n",
       "0         163      23         140        163          23             140   \n",
       "1         162       8         154        325          31             294   \n",
       "2         163       6         157        488          37             451   \n",
       "3         162       6         156        650          43             607   \n",
       "4         163       1         162        813          44             769   \n",
       "5         162       0         162        975          44             931   \n",
       "6         163       0         163       1138          44            1094   \n",
       "7         162       0         162       1300          44            1256   \n",
       "8         163       2         161       1463          46            1417   \n",
       "9         162       1         161       1625          47            1578   \n",
       "\n",
       "        percent_cum_actual  percent_cum_non_actual  if_random  lift   K_S  \\\n",
       "decile                                                                      \n",
       "0                     0.49                    0.09        4.7  4.89  40.0   \n",
       "1                     0.66                    0.19        9.4  3.30  47.0   \n",
       "2                     0.79                    0.29       14.1  2.62  50.0   \n",
       "3                     0.91                    0.38       18.8  2.29  53.0   \n",
       "4                     0.94                    0.49       23.5  1.87  45.0   \n",
       "5                     0.94                    0.59       28.2  1.56  35.0   \n",
       "6                     0.94                    0.69       32.9  1.34  25.0   \n",
       "7                     0.94                    0.80       37.6  1.17  14.0   \n",
       "8                     0.98                    0.90       42.3  1.09   8.0   \n",
       "9                     1.00                    1.00       47.0  1.00   0.0   \n",
       "\n",
       "         gain  \n",
       "decile         \n",
       "0       14.11  \n",
       "1        9.54  \n",
       "2        7.58  \n",
       "3        6.62  \n",
       "4        5.41  \n",
       "5        4.51  \n",
       "6        3.87  \n",
       "7        3.38  \n",
       "8        3.14  \n",
       "9        2.89  "
      ]
     },
     "execution_count": 200,
     "metadata": {},
     "output_type": "execute_result"
    }
   ],
   "source": [
    "gains = gains_table(Y_test,y_pred)\n",
    "gains"
   ]
  },
  {
   "cell_type": "markdown",
   "metadata": {},
   "source": [
    "### [Learning objective 8] How to Prune a Tree with scikit-learn?\n",
    "\n",
    "\n",
    "<img style = \"float: right\" src = \"https://na.rdcpix.com/1162715347/e7baeacffee094b5d79c2ec1708c500ew-c0xd-w685_h860_q80.jpg\" width = 400>\n",
    "\n",
    "* Generally it is preferred to have a simple model which avoids overfitting issue. Any additional split that does not add significant value is not worth while. \n",
    "* We can avoid overfitting by changing the hyper-parameters.\n",
    "* See [Learning objective 2] for the hyper-parameters"
   ]
  },
  {
   "attachments": {
    "image.png": {
     "image/png": "[encoded data removed]"
    }
   },
   "cell_type": "markdown",
   "metadata": {},
   "source": [
    "### [Learning objective 10] Understand 'gini' and 'entropy'\n",
    "\n",
    "### (10.1) Gini\n",
    "\n",
    "* Gini impurity measures the degree or probability of a particular variable being wrongly classified when it is randomly chosen.\n",
    "* If 100% of the observations belong to one class, it can be called \"pure\". The degree of Gini index varies between 0 and 1, where 0 denotes that all observations belong to one class. A gini Index of 0.5 means half of the observations are in one class, and the other half belong to another class.\n",
    "\n",
    "If we have two classes in the target variable and $P_i$ is the probability of picking a data point of class $i$, the Gini Impurity is calculated as:\n",
    "\n",
    "\\begin{align*}\n",
    "G = \\sum_{i=1}^{2} P_i * (1-P_i)\n",
    "\\end{align*}\n",
    "\n",
    "Example 1: Suppose we have a perfect split where the left branch has only blues and the right branch has only greens. The Gini Impurity is:\n",
    "\n",
    "\\begin{align*}\n",
    "G_{left} = 1 * ( 1 - 1 ) +  0 * ( 1 - 0) = 0\n",
    "\\end{align*}\n",
    "\n",
    "\n",
    "\\begin{align*}\n",
    "G_{right} = 0 * ( 1 - 0 ) +  1 * ( 1 - 1) = 0\n",
    "\\end{align*}\n",
    "\n",
    "<img style = \"float: center\" src = \"https://victorzhou.com/0a81728a87e7cf55cf58a653f9c210c5/dataset.svg\" width = 200>\n",
    "\n",
    "Example 2: Suppose we have an imperfect split where the right branch has one blue and five greens. The Gini Impurity is:\n",
    "\n",
    "\\begin{align*}\n",
    "G_{left} = 1 * ( 1 - 1 ) +  0 * ( 1 - 0) = 0\n",
    "\\end{align*}\n",
    "\n",
    "\n",
    "\\begin{align*}\n",
    "G_{right} = \\frac{1}{6} + ( 1 - \\frac{1}{6} ) + \\frac{5}{6} * (1-\\frac{5}{6} ) = \\frac{5}{18} = 0.278\n",
    "\\end{align*}\n",
    "\n",
    "<img style = \"float: center\" src = \"https://victorzhou.com/4768c79349a62634d54ce531b3680751/dataset-imperfect-split.svg\" width = 200>\n",
    "\n",
    "\n",
    "### (10.2) Cross-Entropy\n",
    "\n",
    "![image.png](attachment:image.png)\n",
    "\n",
    "\n",
    "\\begin{align*}\n",
    "E = - \\sum_{i=1}^{2} P_{i} log_{2} ( P_{i} )\n",
    "\\end{align*}\n",
    "\n",
    "Example 1: Suppose we have a perfect split where the left branch has only blues and the right branch has only greens. The Gini Impurity is:\n",
    "\n",
    "\\begin{align*}\n",
    "G_{left} = 1 * log_2 ( 1 ) +  0 * log_2 ( 1 ) = 0\n",
    "\\end{align*}\n",
    "\n",
    "\n",
    "\\begin{align*}\n",
    "G_{right} = 0 * log_2 ( 1 ) +  1 * log_2 ( 1 ) = 0\n",
    "\\end{align*}\n",
    "\n",
    "\n",
    "\n",
    "<img style = \"float: center\" src = \"https://victorzhou.com/0a81728a87e7cf55cf58a653f9c210c5/dataset.svg\" width = 200>\n",
    "\n",
    "Example 2: Suppose we have an imperfect split where the right branch has one blue and five greens. The Gini Impurity is:\n",
    "\n",
    "\\begin{align*}\n",
    "G_{left} = 1 * log_2 ( 1 - 1 ) +  0 * log_2 ( 1 - 0) = 0\n",
    "\\end{align*}\n",
    "\n",
    "\n",
    "\\begin{align*}\n",
    "G_{right} = \\frac{1}{6} + ( 1 - \\frac{1}{6} ) + \\frac{5}{6} * (1-\\frac{5}{6} ) = \\frac{5}{18} = 0.278\n",
    "\\end{align*}\n",
    "\n",
    "<img style = \"float: center\" src = \"https://victorzhou.com/4768c79349a62634d54ce531b3680751/dataset-imperfect-split.svg\" width = 200>\n"
   ]
  },
  {
   "cell_type": "markdown",
   "metadata": {},
   "source": [
    "### [Learning objective 11] Build a logistic regression with scikit-learn\n"
   ]
  },
  {
   "cell_type": "code",
   "execution_count": 201,
   "metadata": {},
   "outputs": [
    {
     "data": {
      "text/plain": [
       "LogisticRegression(max_iter=1000)"
      ]
     },
     "execution_count": 201,
     "metadata": {},
     "output_type": "execute_result"
    }
   ],
   "source": [
    "from sklearn.linear_model import LogisticRegression\n",
    "logistic_model = LogisticRegression(max_iter=1000) \n",
    "logistic_model.fit(X_train,Y_train)"
   ]
  },
  {
   "cell_type": "markdown",
   "metadata": {},
   "source": [
    "### [Learning objective 12] How to predict with a logistic regression?\n",
    "- It is the same as the above tree model\n"
   ]
  },
  {
   "cell_type": "code",
   "execution_count": 202,
   "metadata": {},
   "outputs": [
    {
     "data": {
      "text/plain": [
       "array([0, 0, 0, 0, 0, 0, 0, 0, 0, 0])"
      ]
     },
     "execution_count": 202,
     "metadata": {},
     "output_type": "execute_result"
    }
   ],
   "source": [
    "logistic_model.predict(X_test[0:10])"
   ]
  },
  {
   "cell_type": "code",
   "execution_count": 203,
   "metadata": {},
   "outputs": [
    {
     "data": {
      "text/plain": [
       "array([[0.98953229, 0.01046771],\n",
       "       [0.99730883, 0.00269117],\n",
       "       [0.97413782, 0.02586218],\n",
       "       [0.99837964, 0.00162036],\n",
       "       [0.99359613, 0.00640387],\n",
       "       [0.93490357, 0.06509643],\n",
       "       [0.99749277, 0.00250723],\n",
       "       [0.9988481 , 0.0011519 ],\n",
       "       [0.9929634 , 0.0070366 ],\n",
       "       [0.99162802, 0.00837198]])"
      ]
     },
     "execution_count": 203,
     "metadata": {},
     "output_type": "execute_result"
    }
   ],
   "source": [
    "logistic_model.predict_proba(X_test[0:10])"
   ]
  },
  {
   "cell_type": "code",
   "execution_count": 204,
   "metadata": {},
   "outputs": [
    {
     "data": {
      "text/plain": [
       "0.9704615384615385"
      ]
     },
     "execution_count": 204,
     "metadata": {},
     "output_type": "execute_result"
    }
   ],
   "source": [
    "logistic_model.score(X_test, Y_test)"
   ]
  },
  {
   "cell_type": "code",
   "execution_count": null,
   "metadata": {},
   "outputs": [],
   "source": []
  },
  {
   "cell_type": "code",
   "execution_count": null,
   "metadata": {},
   "outputs": [],
   "source": []
  },
  {
   "cell_type": "code",
   "execution_count": null,
   "metadata": {},
   "outputs": [],
   "source": []
  },
  {
   "cell_type": "code",
   "execution_count": null,
   "metadata": {},
   "outputs": [],
   "source": []
  }
 ],
 "metadata": {
  "kernelspec": {
   "display_name": "Python 3 (ipykernel)",
   "language": "python",
   "name": "python3"
  },
  "language_info": {
   "codemirror_mode": {
    "name": "ipython",
    "version": 3
   },
   "file_extension": ".py",
   "mimetype": "text/x-python",
   "name": "python",
   "nbconvert_exporter": "python",
   "pygments_lexer": "ipython3",
   "version": "3.9.7"
  }
 },
 "nbformat": 4,
 "nbformat_minor": 4
}
