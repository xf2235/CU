{
 "cells": [
  {
   "cell_type": "markdown",
   "id": "4a899d8c-e1a7-408b-bda2-86465c3404b4",
   "metadata": {},
   "source": [
    "# HW #3: Unsupervised Learning Practice"
   ]
  },
  {
   "cell_type": "code",
   "execution_count": 2,
   "id": "2cf0f982-e778-4e69-ae54-02a2426b1c0d",
   "metadata": {},
   "outputs": [],
   "source": [
    "import pandas as pd\n",
    "import numpy as np\n",
    "import matplotlib.pyplot as plt\n",
    "import seaborn as sns\n",
    "from sklearn.preprocessing import StandardScaler\n",
    "from sklearn.cluster import KMeans\n",
    "from sklearn.cluster import AgglomerativeClustering as AC\n",
    "from sklearn.decomposition import PCA"
   ]
  },
  {
   "cell_type": "code",
   "execution_count": 3,
   "id": "b97a7644-be23-4107-9e55-675b9ef3e8e6",
   "metadata": {},
   "outputs": [
    {
     "data": {
      "text/html": [
       "<div>\n",
       "<style scoped>\n",
       "    .dataframe tbody tr th:only-of-type {\n",
       "        vertical-align: middle;\n",
       "    }\n",
       "\n",
       "    .dataframe tbody tr th {\n",
       "        vertical-align: top;\n",
       "    }\n",
       "\n",
       "    .dataframe thead th {\n",
       "        text-align: right;\n",
       "    }\n",
       "</style>\n",
       "<table border=\"1\" class=\"dataframe\">\n",
       "  <thead>\n",
       "    <tr style=\"text-align: right;\">\n",
       "      <th></th>\n",
       "      <th>fixed acidity</th>\n",
       "      <th>volatile acidity</th>\n",
       "      <th>citric acid</th>\n",
       "      <th>residual sugar</th>\n",
       "      <th>chlorides</th>\n",
       "      <th>free sulfur dioxide</th>\n",
       "      <th>total sulfur dioxide</th>\n",
       "      <th>density</th>\n",
       "      <th>pH</th>\n",
       "      <th>sulphates</th>\n",
       "      <th>alcohol</th>\n",
       "      <th>quality</th>\n",
       "    </tr>\n",
       "  </thead>\n",
       "  <tbody>\n",
       "    <tr>\n",
       "      <th>0</th>\n",
       "      <td>7.4</td>\n",
       "      <td>0.70</td>\n",
       "      <td>0.00</td>\n",
       "      <td>1.9</td>\n",
       "      <td>0.076</td>\n",
       "      <td>11.0</td>\n",
       "      <td>34.0</td>\n",
       "      <td>0.9978</td>\n",
       "      <td>3.51</td>\n",
       "      <td>0.56</td>\n",
       "      <td>9.4</td>\n",
       "      <td>5</td>\n",
       "    </tr>\n",
       "    <tr>\n",
       "      <th>1</th>\n",
       "      <td>7.8</td>\n",
       "      <td>0.88</td>\n",
       "      <td>0.00</td>\n",
       "      <td>2.6</td>\n",
       "      <td>0.098</td>\n",
       "      <td>25.0</td>\n",
       "      <td>67.0</td>\n",
       "      <td>0.9968</td>\n",
       "      <td>3.20</td>\n",
       "      <td>0.68</td>\n",
       "      <td>9.8</td>\n",
       "      <td>5</td>\n",
       "    </tr>\n",
       "    <tr>\n",
       "      <th>2</th>\n",
       "      <td>7.8</td>\n",
       "      <td>0.76</td>\n",
       "      <td>0.04</td>\n",
       "      <td>2.3</td>\n",
       "      <td>0.092</td>\n",
       "      <td>15.0</td>\n",
       "      <td>54.0</td>\n",
       "      <td>0.9970</td>\n",
       "      <td>3.26</td>\n",
       "      <td>0.65</td>\n",
       "      <td>9.8</td>\n",
       "      <td>5</td>\n",
       "    </tr>\n",
       "    <tr>\n",
       "      <th>3</th>\n",
       "      <td>11.2</td>\n",
       "      <td>0.28</td>\n",
       "      <td>0.56</td>\n",
       "      <td>1.9</td>\n",
       "      <td>0.075</td>\n",
       "      <td>17.0</td>\n",
       "      <td>60.0</td>\n",
       "      <td>0.9980</td>\n",
       "      <td>3.16</td>\n",
       "      <td>0.58</td>\n",
       "      <td>9.8</td>\n",
       "      <td>6</td>\n",
       "    </tr>\n",
       "    <tr>\n",
       "      <th>4</th>\n",
       "      <td>7.4</td>\n",
       "      <td>0.70</td>\n",
       "      <td>0.00</td>\n",
       "      <td>1.9</td>\n",
       "      <td>0.076</td>\n",
       "      <td>11.0</td>\n",
       "      <td>34.0</td>\n",
       "      <td>0.9978</td>\n",
       "      <td>3.51</td>\n",
       "      <td>0.56</td>\n",
       "      <td>9.4</td>\n",
       "      <td>5</td>\n",
       "    </tr>\n",
       "  </tbody>\n",
       "</table>\n",
       "</div>"
      ],
      "text/plain": [
       "   fixed acidity  volatile acidity  citric acid  residual sugar  chlorides  \\\n",
       "0            7.4              0.70         0.00             1.9      0.076   \n",
       "1            7.8              0.88         0.00             2.6      0.098   \n",
       "2            7.8              0.76         0.04             2.3      0.092   \n",
       "3           11.2              0.28         0.56             1.9      0.075   \n",
       "4            7.4              0.70         0.00             1.9      0.076   \n",
       "\n",
       "   free sulfur dioxide  total sulfur dioxide  density    pH  sulphates  \\\n",
       "0                 11.0                  34.0   0.9978  3.51       0.56   \n",
       "1                 25.0                  67.0   0.9968  3.20       0.68   \n",
       "2                 15.0                  54.0   0.9970  3.26       0.65   \n",
       "3                 17.0                  60.0   0.9980  3.16       0.58   \n",
       "4                 11.0                  34.0   0.9978  3.51       0.56   \n",
       "\n",
       "   alcohol  quality  \n",
       "0      9.4        5  \n",
       "1      9.8        5  \n",
       "2      9.8        5  \n",
       "3      9.8        6  \n",
       "4      9.4        5  "
      ]
     },
     "execution_count": 3,
     "metadata": {},
     "output_type": "execute_result"
    }
   ],
   "source": [
    "# read csv\n",
    "red = pd.read_csv('https://archive.ics.uci.edu/ml/machine-learning-databases/wine-quality/winequality-red.csv', sep=';')\n",
    "red.head()"
   ]
  },
  {
   "cell_type": "code",
   "execution_count": 4,
   "id": "76552033-41cb-4891-841d-b34cf43e9932",
   "metadata": {},
   "outputs": [
    {
     "data": {
      "text/html": [
       "<div>\n",
       "<style scoped>\n",
       "    .dataframe tbody tr th:only-of-type {\n",
       "        vertical-align: middle;\n",
       "    }\n",
       "\n",
       "    .dataframe tbody tr th {\n",
       "        vertical-align: top;\n",
       "    }\n",
       "\n",
       "    .dataframe thead th {\n",
       "        text-align: right;\n",
       "    }\n",
       "</style>\n",
       "<table border=\"1\" class=\"dataframe\">\n",
       "  <thead>\n",
       "    <tr style=\"text-align: right;\">\n",
       "      <th></th>\n",
       "      <th>fixed acidity</th>\n",
       "      <th>volatile acidity</th>\n",
       "      <th>citric acid</th>\n",
       "      <th>residual sugar</th>\n",
       "      <th>chlorides</th>\n",
       "      <th>free sulfur dioxide</th>\n",
       "      <th>total sulfur dioxide</th>\n",
       "      <th>density</th>\n",
       "      <th>pH</th>\n",
       "      <th>sulphates</th>\n",
       "      <th>alcohol</th>\n",
       "      <th>quality</th>\n",
       "    </tr>\n",
       "  </thead>\n",
       "  <tbody>\n",
       "    <tr>\n",
       "      <th>0</th>\n",
       "      <td>-0.528360</td>\n",
       "      <td>0.961877</td>\n",
       "      <td>-1.391472</td>\n",
       "      <td>-0.453218</td>\n",
       "      <td>-0.243707</td>\n",
       "      <td>-0.466193</td>\n",
       "      <td>-0.379133</td>\n",
       "      <td>0.558274</td>\n",
       "      <td>1.288643</td>\n",
       "      <td>-0.579207</td>\n",
       "      <td>-0.960246</td>\n",
       "      <td>-0.787823</td>\n",
       "    </tr>\n",
       "    <tr>\n",
       "      <th>1</th>\n",
       "      <td>-0.298547</td>\n",
       "      <td>1.967442</td>\n",
       "      <td>-1.391472</td>\n",
       "      <td>0.043416</td>\n",
       "      <td>0.223875</td>\n",
       "      <td>0.872638</td>\n",
       "      <td>0.624363</td>\n",
       "      <td>0.028261</td>\n",
       "      <td>-0.719933</td>\n",
       "      <td>0.128950</td>\n",
       "      <td>-0.584777</td>\n",
       "      <td>-0.787823</td>\n",
       "    </tr>\n",
       "    <tr>\n",
       "      <th>2</th>\n",
       "      <td>-0.298547</td>\n",
       "      <td>1.297065</td>\n",
       "      <td>-1.186070</td>\n",
       "      <td>-0.169427</td>\n",
       "      <td>0.096353</td>\n",
       "      <td>-0.083669</td>\n",
       "      <td>0.229047</td>\n",
       "      <td>0.134264</td>\n",
       "      <td>-0.331177</td>\n",
       "      <td>-0.048089</td>\n",
       "      <td>-0.584777</td>\n",
       "      <td>-0.787823</td>\n",
       "    </tr>\n",
       "    <tr>\n",
       "      <th>3</th>\n",
       "      <td>1.654856</td>\n",
       "      <td>-1.384443</td>\n",
       "      <td>1.484154</td>\n",
       "      <td>-0.453218</td>\n",
       "      <td>-0.264960</td>\n",
       "      <td>0.107592</td>\n",
       "      <td>0.411500</td>\n",
       "      <td>0.664277</td>\n",
       "      <td>-0.979104</td>\n",
       "      <td>-0.461180</td>\n",
       "      <td>-0.584777</td>\n",
       "      <td>0.450848</td>\n",
       "    </tr>\n",
       "    <tr>\n",
       "      <th>4</th>\n",
       "      <td>-0.528360</td>\n",
       "      <td>0.961877</td>\n",
       "      <td>-1.391472</td>\n",
       "      <td>-0.453218</td>\n",
       "      <td>-0.243707</td>\n",
       "      <td>-0.466193</td>\n",
       "      <td>-0.379133</td>\n",
       "      <td>0.558274</td>\n",
       "      <td>1.288643</td>\n",
       "      <td>-0.579207</td>\n",
       "      <td>-0.960246</td>\n",
       "      <td>-0.787823</td>\n",
       "    </tr>\n",
       "  </tbody>\n",
       "</table>\n",
       "</div>"
      ],
      "text/plain": [
       "   fixed acidity  volatile acidity  citric acid  residual sugar  chlorides  \\\n",
       "0      -0.528360          0.961877    -1.391472       -0.453218  -0.243707   \n",
       "1      -0.298547          1.967442    -1.391472        0.043416   0.223875   \n",
       "2      -0.298547          1.297065    -1.186070       -0.169427   0.096353   \n",
       "3       1.654856         -1.384443     1.484154       -0.453218  -0.264960   \n",
       "4      -0.528360          0.961877    -1.391472       -0.453218  -0.243707   \n",
       "\n",
       "   free sulfur dioxide  total sulfur dioxide   density        pH  sulphates  \\\n",
       "0            -0.466193             -0.379133  0.558274  1.288643  -0.579207   \n",
       "1             0.872638              0.624363  0.028261 -0.719933   0.128950   \n",
       "2            -0.083669              0.229047  0.134264 -0.331177  -0.048089   \n",
       "3             0.107592              0.411500  0.664277 -0.979104  -0.461180   \n",
       "4            -0.466193             -0.379133  0.558274  1.288643  -0.579207   \n",
       "\n",
       "    alcohol   quality  \n",
       "0 -0.960246 -0.787823  \n",
       "1 -0.584777 -0.787823  \n",
       "2 -0.584777 -0.787823  \n",
       "3 -0.584777  0.450848  \n",
       "4 -0.960246 -0.787823  "
      ]
     },
     "execution_count": 4,
     "metadata": {},
     "output_type": "execute_result"
    }
   ],
   "source": [
    "# scale for kmeans since it is distance sensitive\n",
    "scaler = StandardScaler()\n",
    "X = pd.DataFrame(scaler.fit_transform(red), columns=red.columns)\n",
    "X.head()"
   ]
  },
  {
   "cell_type": "markdown",
   "id": "899ce9a6-d13c-48df-ade2-4820f75eec5c",
   "metadata": {},
   "source": [
    "## 1. Use K Means Cluster Analysis to identify cluster(s) of observations that have high and low values of the wine quality. (Assume all variables are continuous.)"
   ]
  },
  {
   "cell_type": "code",
   "execution_count": 5,
   "id": "9b19e705-9f66-4d7e-96a5-8023855a073c",
   "metadata": {},
   "outputs": [
    {
     "data": {
      "text/html": [
       "<div>\n",
       "<style scoped>\n",
       "    .dataframe tbody tr th:only-of-type {\n",
       "        vertical-align: middle;\n",
       "    }\n",
       "\n",
       "    .dataframe tbody tr th {\n",
       "        vertical-align: top;\n",
       "    }\n",
       "\n",
       "    .dataframe thead th {\n",
       "        text-align: right;\n",
       "    }\n",
       "</style>\n",
       "<table border=\"1\" class=\"dataframe\">\n",
       "  <thead>\n",
       "    <tr style=\"text-align: right;\">\n",
       "      <th></th>\n",
       "      <th>fixed acidity</th>\n",
       "      <th>volatile acidity</th>\n",
       "      <th>citric acid</th>\n",
       "      <th>residual sugar</th>\n",
       "      <th>chlorides</th>\n",
       "      <th>free sulfur dioxide</th>\n",
       "      <th>total sulfur dioxide</th>\n",
       "      <th>density</th>\n",
       "      <th>pH</th>\n",
       "      <th>sulphates</th>\n",
       "      <th>alcohol</th>\n",
       "      <th>quality</th>\n",
       "    </tr>\n",
       "    <tr>\n",
       "      <th>kcluster</th>\n",
       "      <th></th>\n",
       "      <th></th>\n",
       "      <th></th>\n",
       "      <th></th>\n",
       "      <th></th>\n",
       "      <th></th>\n",
       "      <th></th>\n",
       "      <th></th>\n",
       "      <th></th>\n",
       "      <th></th>\n",
       "      <th></th>\n",
       "      <th></th>\n",
       "    </tr>\n",
       "  </thead>\n",
       "  <tbody>\n",
       "    <tr>\n",
       "      <th>0</th>\n",
       "      <td>-0.509265</td>\n",
       "      <td>0.418390</td>\n",
       "      <td>-0.570319</td>\n",
       "      <td>-0.073051</td>\n",
       "      <td>-0.133948</td>\n",
       "      <td>0.102514</td>\n",
       "      <td>0.142544</td>\n",
       "      <td>-0.224035</td>\n",
       "      <td>0.388743</td>\n",
       "      <td>-0.325572</td>\n",
       "      <td>-0.166682</td>\n",
       "      <td>-0.266533</td>\n",
       "    </tr>\n",
       "    <tr>\n",
       "      <th>1</th>\n",
       "      <td>0.889901</td>\n",
       "      <td>-0.731104</td>\n",
       "      <td>0.996589</td>\n",
       "      <td>0.127651</td>\n",
       "      <td>0.234064</td>\n",
       "      <td>-0.179136</td>\n",
       "      <td>-0.249085</td>\n",
       "      <td>0.391484</td>\n",
       "      <td>-0.679299</td>\n",
       "      <td>0.568912</td>\n",
       "      <td>0.291263</td>\n",
       "      <td>0.465746</td>\n",
       "    </tr>\n",
       "  </tbody>\n",
       "</table>\n",
       "</div>"
      ],
      "text/plain": [
       "          fixed acidity  volatile acidity  citric acid  residual sugar  \\\n",
       "kcluster                                                                 \n",
       "0             -0.509265          0.418390    -0.570319       -0.073051   \n",
       "1              0.889901         -0.731104     0.996589        0.127651   \n",
       "\n",
       "          chlorides  free sulfur dioxide  total sulfur dioxide   density  \\\n",
       "kcluster                                                                   \n",
       "0         -0.133948             0.102514              0.142544 -0.224035   \n",
       "1          0.234064            -0.179136             -0.249085  0.391484   \n",
       "\n",
       "                pH  sulphates   alcohol   quality  \n",
       "kcluster                                           \n",
       "0         0.388743  -0.325572 -0.166682 -0.266533  \n",
       "1        -0.679299   0.568912  0.291263  0.465746  "
      ]
     },
     "metadata": {},
     "output_type": "display_data"
    }
   ],
   "source": [
    "np.random.seed(23)\n",
    "# X.drop('quality', axis=1, inplace=True)\n",
    "kmeans = KMeans(n_clusters=2)\n",
    "y_kc_predicted = kmeans.fit_predict(X) # kmeans.labels_\n",
    "kmeans.cluster_centers_\n",
    "X_kc = X.copy()\n",
    "X_kc['kcluster'] = y_kc_predicted\n",
    "display(X_kc.groupby('kcluster').mean())"
   ]
  },
  {
   "cell_type": "code",
   "execution_count": 6,
   "id": "0f4983e1-6b09-434c-8b4f-2a480b9936cb",
   "metadata": {},
   "outputs": [
    {
     "data": {
      "text/plain": [
       "kcluster\n",
       "0    1017\n",
       "1     582\n",
       "Name: fixed acidity, dtype: int64"
      ]
     },
     "execution_count": 6,
     "metadata": {},
     "output_type": "execute_result"
    }
   ],
   "source": [
    "X_kc_grp = X_kc.groupby('kcluster').count()\n",
    "X_kc_grp.iloc[:,0]"
   ]
  },
  {
   "cell_type": "markdown",
   "id": "95118985-e48b-4139-9587-5584b4a5c952",
   "metadata": {},
   "source": [
    "### I set n_clusters=2 to identify cluster(s) of observations that have high (quality: 0.47) and low values (quality:-0.27) of the wine quality.\n",
    "#### For the higher mean value of wine quality (0.47)\n",
    "- I found out that higher values of wine quality is indicated by positive of 'fixed acidity', 'citric acidity', 'residual sugar', 'chlorides', 'density', 'sulphates', 'alcohol', and 'quality' clusters. \n",
    "\n",
    "#### For the lower mean value of wine quality (-0.27)\n",
    "- On the other hand, lower values of wine quality is indicated by negative of 'volatile acidity', 'free sulfur dioxide', 'total sulfur dioxide', 'pH', and 'quality' clusters. \n",
    "\n",
    "#### From the kmeans cluster analysis, 'fixed acidity', 'voltile acidity', and 'citric acid' varibales are the most important characteristics since the absolute differences are the largest (over 1) in terms of other variables."
   ]
  },
  {
   "cell_type": "markdown",
   "id": "4a8c853f-25da-453f-aa68-954f47d386f0",
   "metadata": {},
   "source": [
    "## 2. Use Hierarchical Cluster Analysis to identify cluster(s) of observations that have high and low values of the wine quality. (Assume all variables are continuous.) Use complete linkage and the same number of groups that you found to be the most meaningful in question 1.\n",
    "\n",
    "## Describe variables that cluster with higher values of wine quality. Describe variables that cluster with lower values of wine quality.\n",
    "\n",
    "## If you want to make a good bottle of wine, then what characteristics are most important according to this analysis? Have your conclusions changed using Hierarchical clustering rather than k means clustering? Present any figures that assist you in your analysis."
   ]
  },
  {
   "cell_type": "code",
   "execution_count": 7,
   "id": "a5003565-fa2f-4cb1-b87e-44a600c2fcc9",
   "metadata": {},
   "outputs": [
    {
     "data": {
      "text/html": [
       "<div>\n",
       "<style scoped>\n",
       "    .dataframe tbody tr th:only-of-type {\n",
       "        vertical-align: middle;\n",
       "    }\n",
       "\n",
       "    .dataframe tbody tr th {\n",
       "        vertical-align: top;\n",
       "    }\n",
       "\n",
       "    .dataframe thead th {\n",
       "        text-align: right;\n",
       "    }\n",
       "</style>\n",
       "<table border=\"1\" class=\"dataframe\">\n",
       "  <thead>\n",
       "    <tr style=\"text-align: right;\">\n",
       "      <th></th>\n",
       "      <th>fixed acidity</th>\n",
       "      <th>volatile acidity</th>\n",
       "      <th>citric acid</th>\n",
       "      <th>residual sugar</th>\n",
       "      <th>chlorides</th>\n",
       "      <th>free sulfur dioxide</th>\n",
       "      <th>total sulfur dioxide</th>\n",
       "      <th>density</th>\n",
       "      <th>pH</th>\n",
       "      <th>sulphates</th>\n",
       "      <th>alcohol</th>\n",
       "      <th>quality</th>\n",
       "    </tr>\n",
       "    <tr>\n",
       "      <th>hcluster</th>\n",
       "      <th></th>\n",
       "      <th></th>\n",
       "      <th></th>\n",
       "      <th></th>\n",
       "      <th></th>\n",
       "      <th></th>\n",
       "      <th></th>\n",
       "      <th></th>\n",
       "      <th></th>\n",
       "      <th></th>\n",
       "      <th></th>\n",
       "      <th></th>\n",
       "    </tr>\n",
       "  </thead>\n",
       "  <tbody>\n",
       "    <tr>\n",
       "      <th>0</th>\n",
       "      <td>-0.000094</td>\n",
       "      <td>0.000440</td>\n",
       "      <td>-0.003917</td>\n",
       "      <td>-0.000054</td>\n",
       "      <td>-0.013922</td>\n",
       "      <td>-0.000494</td>\n",
       "      <td>-0.000401</td>\n",
       "      <td>-0.000965</td>\n",
       "      <td>0.003336</td>\n",
       "      <td>-0.007182</td>\n",
       "      <td>0.001203</td>\n",
       "      <td>0.001762</td>\n",
       "    </tr>\n",
       "    <tr>\n",
       "      <th>1</th>\n",
       "      <td>0.074897</td>\n",
       "      <td>-0.350945</td>\n",
       "      <td>3.127368</td>\n",
       "      <td>0.043416</td>\n",
       "      <td>11.116408</td>\n",
       "      <td>0.394484</td>\n",
       "      <td>0.320274</td>\n",
       "      <td>0.770280</td>\n",
       "      <td>-2.663717</td>\n",
       "      <td>5.735193</td>\n",
       "      <td>-0.960246</td>\n",
       "      <td>-1.407158</td>\n",
       "    </tr>\n",
       "  </tbody>\n",
       "</table>\n",
       "</div>"
      ],
      "text/plain": [
       "          fixed acidity  volatile acidity  citric acid  residual sugar  \\\n",
       "hcluster                                                                 \n",
       "0             -0.000094          0.000440    -0.003917       -0.000054   \n",
       "1              0.074897         -0.350945     3.127368        0.043416   \n",
       "\n",
       "          chlorides  free sulfur dioxide  total sulfur dioxide   density  \\\n",
       "hcluster                                                                   \n",
       "0         -0.013922            -0.000494             -0.000401 -0.000965   \n",
       "1         11.116408             0.394484              0.320274  0.770280   \n",
       "\n",
       "                pH  sulphates   alcohol   quality  \n",
       "hcluster                                           \n",
       "0         0.003336  -0.007182  0.001203  0.001762  \n",
       "1        -2.663717   5.735193 -0.960246 -1.407158  "
      ]
     },
     "metadata": {},
     "output_type": "display_data"
    }
   ],
   "source": [
    "ac = AC(n_clusters=2, \n",
    "        affinity='euclidean', \n",
    "        linkage='complete')\n",
    "y_hc_predicted = ac.fit_predict(X)\n",
    "kmeans.cluster_centers_\n",
    "X_hc = X.copy()\n",
    "X_hc['hcluster'] = y_hc_predicted\n",
    "display(X_hc.groupby('hcluster').mean())"
   ]
  },
  {
   "cell_type": "code",
   "execution_count": 8,
   "id": "ad338775-710d-4fec-995c-9ccb91483bd2",
   "metadata": {},
   "outputs": [
    {
     "data": {
      "text/plain": [
       "hcluster\n",
       "0    1597\n",
       "1       2\n",
       "Name: fixed acidity, dtype: int64"
      ]
     },
     "execution_count": 8,
     "metadata": {},
     "output_type": "execute_result"
    }
   ],
   "source": [
    "X_hc_grp = X_hc.groupby('hcluster').count()\n",
    "X_hc_grp.iloc[:,0]\n",
    "# X.groupby('hcluster').groups"
   ]
  },
  {
   "cell_type": "code",
   "execution_count": 9,
   "id": "e3f233fe-8c22-45af-bb7f-9a46404cf0b6",
   "metadata": {
    "tags": []
   },
   "outputs": [
    {
     "name": "stdout",
     "output_type": "stream",
     "text": [
      "fixed acidity            8.319637\n",
      "volatile acidity         0.527821\n",
      "citric acid              0.270976\n",
      "residual sugar           2.538806\n",
      "chlorides                0.087467\n",
      "free sulfur dioxide     15.874922\n",
      "total sulfur dioxide    46.467792\n",
      "density                  0.996747\n",
      "pH                       3.311113\n",
      "sulphates                0.658149\n",
      "alcohol                 10.422983\n",
      "quality                  5.636023\n",
      "dtype: float64\n"
     ]
    },
    {
     "data": {
      "text/plain": [
       "fixed acidity            1.741096\n",
       "volatile acidity         0.179060\n",
       "citric acid              0.194801\n",
       "residual sugar           1.409928\n",
       "chlorides                0.047065\n",
       "free sulfur dioxide     10.460157\n",
       "total sulfur dioxide    32.895324\n",
       "density                  0.001887\n",
       "pH                       0.154386\n",
       "sulphates                0.169507\n",
       "alcohol                  1.065668\n",
       "quality                  0.807569\n",
       "dtype: float64"
      ]
     },
     "execution_count": 9,
     "metadata": {},
     "output_type": "execute_result"
    }
   ],
   "source": [
    "print(red.mean())\n",
    "red.std()"
   ]
  },
  {
   "cell_type": "markdown",
   "id": "9693f3f1-0d6b-454d-9229-9e10e51c599b",
   "metadata": {},
   "source": [
    "### I set n_clusters=2 to identify cluster(s) of observations that have high (quality: 0.00) and low values (quality:-1.41) of the wine quality.\n",
    "#### For the higher mean value of wine quality (0.47)\n",
    "- I found out that higher values of wine quality is indicated by positive of 'fixed acidity','citric acid', 'residual sugar', 'chlorides', 'free sulful dioxide', 'total sulful dioxide', 'density', 'sulphates', and clusters.\n",
    "\n",
    "#### For the lower mean value of wine quality (-1.41)\n",
    "- On the other hand, lower values of wine quality is indicated by negative of volatile acidity', 'pH', 'alcohol', and 'quality' clusters\n",
    "\n",
    "#### From hierarchical cluster analysis, 'citric acid', 'chlorides', and 'sulphates' variables are the most important characteristics since the absolute differences are large in terms of other variables."
   ]
  },
  {
   "cell_type": "markdown",
   "id": "9f0d06c2-3e9d-439c-b68a-2e8952d969c6",
   "metadata": {},
   "source": [
    "## 3. Use Principal Components Analysis to reduce the dimensions of your data. How much of the variation in your data is explained by the first two principal components. How might you use the first two components to do supervised learning on some other variable tied to wine (e.g. - wine price)?"
   ]
  },
  {
   "cell_type": "code",
   "execution_count": 19,
   "id": "38cec6c5-fb3e-40dc-a9b4-34a132b95e01",
   "metadata": {},
   "outputs": [
    {
     "data": {
      "text/plain": [
       "array([0.26670584, 0.47338598, 0.60623802, 0.71875777, 0.78936096,\n",
       "       0.85085658, 0.90242593, 0.94576205, 0.97698343, 0.99375563,\n",
       "       1.        , 1.        ])"
      ]
     },
     "execution_count": 20,
     "metadata": {},
     "output_type": "execute_result"
    }
   ],
   "source": [
    "pca = PCA()\n",
    "X_pca = pca.fit_transform(X)\n",
    "df_plot = pd.DataFrame(X_pca, columns=['PC1', 'PC2', 'PC3', 'PC4','PC5','PC6','PC6','PC7','PC8','PC9','PC10','PC11'], index=X.index)\n",
    "np.cumsum(pca.explained_variance_ratio_)"
   ]
  },
  {
   "cell_type": "code",
   "execution_count": 87,
   "id": "ddaae8d7-ad21-4eab-921a-4c2cfc8503c3",
   "metadata": {},
   "outputs": [
    {
     "data": {
      "image/png": "[encoded data removed]",
      "text/plain": [
       "<Figure size 576x432 with 1 Axes>"
      ]
     },
     "metadata": {
      "needs_background": "light"
     },
     "output_type": "display_data"
    }
   ],
   "source": [
    "plt.figure(figsize=(8,6))\n",
    "plt.plot([1,2,3,4,5,6,7,8,9,10,11,12], pca.explained_variance_ratio_, '-o', label='Individual Component')\n",
    "plt.plot([1,2,3,4,5,6,7,8,9,10,11,12], np.cumsum(pca.explained_variance_ratio_), '-o', label='Cumulative')\n",
    "plt.xlabel('Principal Component')\n",
    "plt.ylabel('Proportion of Explained Variance')\n",
    "plt.show()"
   ]
  },
  {
   "cell_type": "markdown",
   "id": "6b29453f-6429-438a-be6a-c3d8a34d8594",
   "metadata": {},
   "source": [
    "- Around 44.69% of the variantion of data is explained by the frist two components. If I were to use the first two variables to do supervised learning for example to on some other variable tied to wine, for example, predicting the wine price, I will do following steps. First, I would identify the PCA loadings on every variables and find out how much PCA represent on these variables. And then, I would use published literature and domain knowledge to figure out whether these independent variable making sense. After that, I would check the correlationship and reduncancy of variables in case there are bivariate, multivariate, or redundant factors. Then, I would identify a subset of p predicators that are related to the outcome and fit with this subset. Last but not least, I would fit a model with all p predictors, but the estimated coefficients are shrunken towards zero relative to least squares estimates (Lasso algorithm). Base on above situations, I need to adjust the number of variables to make our feature selection with first two components predicting wine price more reasonable."
   ]
  }
 ],
 "metadata": {
  "kernelspec": {
   "display_name": "Python 3 (ipykernel)",
   "language": "python",
   "name": "python3"
  },
  "language_info": {
   "codemirror_mode": {
    "name": "ipython",
    "version": 3
   },
   "file_extension": ".py",
   "mimetype": "text/x-python",
   "name": "python",
   "nbconvert_exporter": "python",
   "pygments_lexer": "ipython3",
   "version": "3.9.7"
  }
 },
 "nbformat": 4,
 "nbformat_minor": 5
}
