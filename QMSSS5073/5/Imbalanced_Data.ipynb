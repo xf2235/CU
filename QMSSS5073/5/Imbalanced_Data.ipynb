{
 "cells": [
  {
   "cell_type": "markdown",
   "metadata": {
    "id": "r6_Y9-2aowVY"
   },
   "source": [
    "# Working With Imbalanced Data"
   ]
  },
  {
   "cell_type": "markdown",
   "metadata": {
    "id": "nRjKMY34owVc"
   },
   "source": [
    "## Installation via Anaconda command line\n",
    "Paste following code and hit enter:\n",
    "\n",
    "conda install -c glemaitre imbalanced-learn\n"
   ]
  },
  {
   "cell_type": "code",
   "execution_count": 3,
   "metadata": {
    "id": "p1sbaZ75qdlT"
   },
   "outputs": [
    {
     "name": "stdout",
     "output_type": "stream",
     "text": [
      "Collecting imbalanced-learn\n",
      "  Using cached imbalanced_learn-0.9.1-py3-none-any.whl (199 kB)\n",
      "Requirement already satisfied: numpy>=1.17.3 in c:\\users\\administrator\\appdata\\roaming\\python\\python39\\site-packages (from imbalanced-learn) (1.21.4)\n",
      "Requirement already satisfied: scipy>=1.3.2 in c:\\programdata\\anaconda3\\lib\\site-packages (from imbalanced-learn) (1.7.1)\n",
      "Requirement already satisfied: scikit-learn>=1.1.0 in c:\\programdata\\anaconda3\\lib\\site-packages (from imbalanced-learn) (1.1.1)\n",
      "Requirement already satisfied: threadpoolctl>=2.0.0 in c:\\programdata\\anaconda3\\lib\\site-packages (from imbalanced-learn) (2.2.0)\n",
      "Requirement already satisfied: joblib>=1.0.0 in c:\\programdata\\anaconda3\\lib\\site-packages (from imbalanced-learn) (1.1.0)\n",
      "Installing collected packages: imbalanced-learn\n",
      "Successfully installed imbalanced-learn-0.9.1\n"
     ]
    }
   ],
   "source": [
    "# Run below to install updated version of imblearn\n",
    "! pip install imbalanced-learn --user\n"
   ]
  },
  {
   "cell_type": "markdown",
   "metadata": {
    "id": "C3zZPeP7owVj"
   },
   "source": [
    "## Oversampling\n",
    "One way to fight this issue is to generate new samples in the classes which are under-represented. The most naive strategy is to generate new samples by randomly sampling with replacement the current available samples. The RandomOverSampler offers such scheme:\n"
   ]
  },
  {
   "cell_type": "code",
   "execution_count": 21,
   "metadata": {
    "id": "Ry4HR7AHowVm"
   },
   "outputs": [],
   "source": [
    "import pandas as pd\n",
    "import numpy as np\n",
    "import matplotlib as mpl\n",
    "import matplotlib.pyplot as plt\n",
    "import seaborn as sns\n",
    "\n",
    "#Make some data:\n",
    "\n",
    "from sklearn.datasets import make_classification\n",
    "X, y = make_classification(n_samples=5000, n_features=2, n_informative=2,\n",
    "                           n_redundant=0, n_repeated=0, n_classes=3,\n",
    "                           n_clusters_per_class=1,\n",
    "                           weights=[0.01, 0.05, 0.94],\n",
    "                           class_sep=0.8, random_state=0)"
   ]
  },
  {
   "cell_type": "code",
   "execution_count": 22,
   "metadata": {
    "colab": {
     "base_uri": "https://localhost:8080/"
    },
    "id": "RJFJjtVlowWA",
    "outputId": "03f2325d-04f0-430a-868b-75cb2b3d99af"
   },
   "outputs": [
    {
     "name": "stdout",
     "output_type": "stream",
     "text": [
      "2    4674\n",
      "1     262\n",
      "0      64\n",
      "dtype: int64\n",
      "2    4674\n",
      "1    4674\n",
      "0    4674\n",
      "dtype: int64\n"
     ]
    }
   ],
   "source": [
    "from imblearn.over_sampling import RandomOverSampler\n",
    "\n",
    "ros = RandomOverSampler(random_state=0)\n",
    "X_resampled, y_resampled = ros.fit_resample(X, y)\n",
    "\n",
    "# Count each value of y\n",
    "print(pd.Series(y).value_counts())\n",
    "\n",
    "print(pd.Series(y_resampled).value_counts())"
   ]
  },
  {
   "cell_type": "code",
   "execution_count": 23,
   "metadata": {
    "colab": {
     "base_uri": "https://localhost:8080/"
    },
    "id": "cMqtvDDmowWQ",
    "outputId": "6c809cee-e90c-44c1-eab0-d3bb1a69237c"
   },
   "outputs": [
    {
     "name": "stdout",
     "output_type": "stream",
     "text": [
      "2    0.333333\n",
      "1    0.333333\n",
      "0    0.333333\n",
      "dtype: float64\n"
     ]
    }
   ],
   "source": [
    "#proportions\n",
    "print(pd.Series(y_resampled).value_counts(normalize=True))\n"
   ]
  },
  {
   "cell_type": "markdown",
   "metadata": {
    "id": "wf_A2FZ1owWe"
   },
   "source": [
    "#The augmented data set should be used instead of the original data set to train a classifier:\n",
    "\n"
   ]
  },
  {
   "cell_type": "code",
   "execution_count": 24,
   "metadata": {
    "colab": {
     "base_uri": "https://localhost:8080/"
    },
    "id": "n6oCieFvowWf",
    "outputId": "f57b7e75-10df-4760-d09d-36e371bf606f"
   },
   "outputs": [
    {
     "name": "stdout",
     "output_type": "stream",
     "text": [
      "              precision    recall  f1-score   support\n",
      "\n",
      "           0       1.00      0.69      0.81        64\n",
      "           1       0.96      0.84      0.90       262\n",
      "           2       0.99      1.00      0.99      4674\n",
      "\n",
      "    accuracy                           0.99      5000\n",
      "   macro avg       0.98      0.84      0.90      5000\n",
      "weighted avg       0.99      0.99      0.99      5000\n",
      "\n",
      "0.9874\n"
     ]
    }
   ],
   "source": [
    "# Notice that we run a model on the original data, then the resampled data\n",
    "\n",
    "from sklearn.linear_model import LogisticRegression\n",
    "from sklearn.metrics import classification_report\n",
    "from sklearn.metrics import auc\n",
    "from sklearn.metrics import roc_curve\n",
    "\n",
    "logreg = LogisticRegression().fit(X,y)\n",
    "y_pred = logreg.predict(X) # y_pred includes your predictions\n",
    "\n",
    "print(classification_report(y, y_pred)) # precision recall and f1\n",
    "print(logreg.score(X, y)) #accuracy \n",
    "\n"
   ]
  },
  {
   "cell_type": "code",
   "execution_count": null,
   "metadata": {
    "colab": {
     "base_uri": "https://localhost:8080/"
    },
    "id": "R0dYA33uowWt",
    "outputId": "da7bad7f-ee43-4313-99ca-5577d26b8941"
   },
   "outputs": [
    {
     "name": "stdout",
     "output_type": "stream",
     "text": [
      "              precision    recall  f1-score   support\n",
      "\n",
      "           0       0.86      0.77      0.81      4674\n",
      "           1       0.92      0.86      0.89      4674\n",
      "           2       0.79      0.93      0.86      4674\n",
      "\n",
      "    accuracy                           0.85     14022\n",
      "   macro avg       0.86      0.85      0.85     14022\n",
      "weighted avg       0.86      0.85      0.85     14022\n",
      "\n",
      "0.8526601055484239\n"
     ]
    }
   ],
   "source": [
    "# The resampled model influences precision and recall for categories with imbalanced data\n",
    "\n",
    "logreg = LogisticRegression().fit(X_resampled,y_resampled)\n",
    "y_pred = logreg.predict(X_resampled) # y_pred includes your predictions\n",
    "\n",
    "print(classification_report(y_resampled, y_pred)) # precision recall and f1\n",
    "print(logreg.score(X_resampled, y_resampled)) #accuracy "
   ]
  },
  {
   "cell_type": "markdown",
   "metadata": {
    "id": "LD9kulIrowW9"
   },
   "source": [
    "As a result, the majority class does not take over the other classes during the training process. Consequently, all classes are represented by the decision function."
   ]
  },
  {
   "cell_type": "markdown",
   "metadata": {
    "id": "pgtdpVD-owXA"
   },
   "source": [
    "# Plot random oversampling"
   ]
  },
  {
   "cell_type": "code",
   "execution_count": null,
   "metadata": {
    "id": "edVwg7-zowXC"
   },
   "outputs": [],
   "source": [
    "import matplotlib.pyplot as plt\n",
    "from sklearn.datasets import make_classification\n",
    "from sklearn.decomposition import PCA\n",
    "\n",
    "from imblearn.over_sampling import RandomOverSampler\n",
    "\n",
    "\n",
    "# Generate the dataset\n",
    "X, y = make_classification(n_classes=2, class_sep=2, weights=[0.1, 0.9],\n",
    "                           n_informative=3, n_redundant=1, flip_y=0,\n",
    "                           n_features=20, n_clusters_per_class=1,\n",
    "                           n_samples=200, random_state=10)\n",
    "\n",
    "# Instanciate a PCA object for the sake of easy visualisation\n",
    "pca = PCA(n_components=2)\n",
    "# Fit and transform x to visualise inside a 2D feature space\n",
    "X_vis = pca.fit_transform(X)\n",
    "\n",
    "# Apply the random over-sampling\n",
    "ros = RandomOverSampler()\n",
    "X_resampled, y_resampled = ros.fit_resample(X, y)\n",
    "X_res_vis = pca.transform(X_resampled)\n",
    "\n"
   ]
  },
  {
   "cell_type": "code",
   "execution_count": null,
   "metadata": {
    "colab": {
     "base_uri": "https://localhost:8080/",
     "height": 284
    },
    "id": "NmDMEtzJowXM",
    "outputId": "b03266dc-75e3-4359-8dcd-03f7d8b56986"
   },
   "outputs": [
    {
     "data": {
      "image/png": "[encoded data removed]",
      "text/plain": [
       "<Figure size 432x288 with 2 Axes>"
      ]
     },
     "metadata": {
      "needs_background": "light"
     },
     "output_type": "display_data"
    }
   ],
   "source": [
    "# Two subplots, unpack the axes array immediately\n",
    "f, (ax1, ax2) = plt.subplots(1, 2)\n",
    "\n",
    "c0 = ax1.scatter(X_vis[y == 0, 0], X_vis[y == 0, 1], label=\"Class #0\",\n",
    "                 alpha=0.5)\n",
    "c1 = ax1.scatter(X_vis[y == 1, 0], X_vis[y == 1, 1], label=\"Class #1\",\n",
    "                 alpha=0.5)\n",
    "ax1.set_title('Original set')\n",
    "\n",
    "ax2.scatter(X_res_vis[y_resampled == 0, 0], X_res_vis[y_resampled == 0, 1],\n",
    "            label=\"Class #0\", alpha=.5)\n",
    "ax2.scatter(X_res_vis[y_resampled == 1, 0], X_res_vis[y_resampled == 1, 1],\n",
    "            label=\"Class #1\", alpha=.5)\n",
    "ax2.set_title('Random over-sampling')\n",
    "\n",
    "# make nice plotting\n",
    "for ax in (ax1, ax2):\n",
    "    ax.spines['top'].set_visible(False)\n",
    "    ax.spines['right'].set_visible(False)\n",
    "    ax.get_xaxis().tick_bottom()\n",
    "    ax.get_yaxis().tick_left()\n",
    "    ax.spines['left'].set_position(('outward', 10))\n",
    "    ax.spines['bottom'].set_position(('outward', 10))\n",
    "    ax.set_xlim([-6, 8])\n",
    "    ax.set_ylim([-6, 6])\n",
    "\n",
    "plt.figlegend((c0, c1), ('Class #0', 'Class #1'), loc='lower center',\n",
    "              ncol=2, labelspacing=0.)\n",
    "plt.tight_layout(pad=3)\n",
    "plt.show()"
   ]
  },
  {
   "cell_type": "markdown",
   "metadata": {
    "id": "y1t1Rz3GowXV"
   },
   "source": [
    "# Random Undersampling"
   ]
  },
  {
   "cell_type": "code",
   "execution_count": null,
   "metadata": {
    "colab": {
     "base_uri": "https://localhost:8080/",
     "height": 331
    },
    "id": "vNqRGDjpowXX",
    "outputId": "70a9b287-a6e0-43b9-cd7a-a8e2cc43094a"
   },
   "outputs": [
    {
     "name": "stdout",
     "output_type": "stream",
     "text": [
      "0    900\n",
      "1    100\n",
      "dtype: int64\n"
     ]
    },
    {
     "data": {
      "image/png": "[encoded data removed]",
      "text/plain": [
       "<Figure size 432x288 with 1 Axes>"
      ]
     },
     "metadata": {
      "needs_background": "light"
     },
     "output_type": "display_data"
    }
   ],
   "source": [
    "from sklearn.datasets import make_classification\n",
    "\n",
    "X, y = make_classification(\n",
    "    n_classes=2, class_sep=1.5, weights=[0.9, 0.1],\n",
    "    n_informative=3, n_redundant=1, flip_y=0,\n",
    "    n_features=20, n_clusters_per_class=1,\n",
    "    n_samples=1000, random_state=10\n",
    ")\n",
    "\n",
    "df = pd.DataFrame(X)\n",
    "df['target'] = y\n",
    "df.target.value_counts().plot(kind='bar', title='Count (target)');\n",
    "\n",
    "\n",
    "print(pd.Series(y).value_counts())\n",
    "\n"
   ]
  },
  {
   "cell_type": "code",
   "execution_count": null,
   "metadata": {
    "colab": {
     "base_uri": "https://localhost:8080/"
    },
    "id": "MkmM873dowXl",
    "outputId": "d2592ebf-5bbe-4f90-f1f9-0da14e428c58"
   },
   "outputs": [
    {
     "name": "stdout",
     "output_type": "stream",
     "text": [
      "0    100\n",
      "1    100\n",
      "dtype: int64\n"
     ]
    }
   ],
   "source": [
    "from imblearn.under_sampling import RandomUnderSampler\n",
    "rus = RandomUnderSampler(random_state=0)\n",
    "\n",
    "X_resampled, y_resampled = rus.fit_resample(X, y)\n",
    "\n",
    "print(pd.Series(y_resampled).value_counts())\n"
   ]
  },
  {
   "cell_type": "markdown",
   "metadata": {
    "id": "Yen2b46CowXx"
   },
   "source": [
    "Of course we lose a lot of data when we undersample.  Better to oversample minority class while keeping the signal from the data, if possible.\n",
    "### Enter Synthetic Minority Oversampling Technique (SMOTE)"
   ]
  },
  {
   "cell_type": "code",
   "execution_count": null,
   "metadata": {
    "id": "K3e8OpvkowXz"
   },
   "outputs": [],
   "source": [
    "from imblearn.over_sampling import SMOTE\n",
    "\n",
    "smote = SMOTE()\n",
    "X_sm, y_sm = smote.fit_resample(X, y)\n",
    "\n"
   ]
  },
  {
   "cell_type": "code",
   "execution_count": null,
   "metadata": {
    "colab": {
     "base_uri": "https://localhost:8080/"
    },
    "id": "723ZXAcWowX-",
    "outputId": "7aa74091-2c7b-46f0-bb87-2be936601c4f"
   },
   "outputs": [
    {
     "name": "stdout",
     "output_type": "stream",
     "text": [
      "0    900\n",
      "1    900\n",
      "dtype: int64\n"
     ]
    }
   ],
   "source": [
    "#Original Data\n",
    "print(pd.Series(y_sm).value_counts())\n"
   ]
  },
  {
   "cell_type": "code",
   "execution_count": null,
   "metadata": {
    "colab": {
     "base_uri": "https://localhost:8080/"
    },
    "id": "P4hOFhX4owYL",
    "outputId": "a3c6ea46-d575-4f09-b41a-fa73740a4041"
   },
   "outputs": [
    {
     "name": "stdout",
     "output_type": "stream",
     "text": [
      "0    900\n",
      "1    900\n",
      "dtype: int64\n"
     ]
    }
   ],
   "source": [
    "#New Data\n",
    "\n",
    "print(pd.Series(y_sm).value_counts())\n"
   ]
  },
  {
   "cell_type": "markdown",
   "metadata": {
    "id": "ZhxRU4L8owYY"
   },
   "source": [
    "## Modeling smote data"
   ]
  },
  {
   "cell_type": "code",
   "execution_count": null,
   "metadata": {
    "colab": {
     "base_uri": "https://localhost:8080/"
    },
    "id": "lWqpH_uAowYb",
    "outputId": "04af9d8f-a52a-4cd2-ee5d-fceafc6e7ec1"
   },
   "outputs": [
    {
     "name": "stdout",
     "output_type": "stream",
     "text": [
      "              precision    recall  f1-score   support\n",
      "\n",
      "           0       0.99      1.00      0.99       900\n",
      "           1       0.98      0.87      0.92       100\n",
      "\n",
      "    accuracy                           0.98      1000\n",
      "   macro avg       0.98      0.93      0.96      1000\n",
      "weighted avg       0.98      0.98      0.98      1000\n",
      "\n",
      "0.985\n"
     ]
    }
   ],
   "source": [
    "\n",
    "#Original data fit\n",
    "\n",
    "logreg = LogisticRegression().fit(X,y)\n",
    "y_pred = logreg.predict(X) # y_pred includes your predictions\n",
    "\n",
    "print(classification_report(y, y_pred)) # precision recall and f1\n",
    "print(logreg.score(X, y)) #accuracy "
   ]
  },
  {
   "cell_type": "code",
   "execution_count": null,
   "metadata": {
    "id": "jtIkmf41owYp"
   },
   "outputs": [],
   "source": [
    "# Smote oversample of minority classes\n",
    "\n",
    "smote = SMOTE()\n",
    "\n",
    "X_sm, y_sm = smote.fit_resample(X, y)"
   ]
  },
  {
   "cell_type": "code",
   "execution_count": null,
   "metadata": {
    "colab": {
     "base_uri": "https://localhost:8080/"
    },
    "id": "jLSM38-zowYz",
    "outputId": "336b1075-4e88-4cc8-f05c-0a3f3a89c77e"
   },
   "outputs": [
    {
     "name": "stdout",
     "output_type": "stream",
     "text": [
      "              precision    recall  f1-score   support\n",
      "\n",
      "           0       0.97      0.97      0.97       900\n",
      "           1       0.97      0.97      0.97       900\n",
      "\n",
      "    accuracy                           0.97      1800\n",
      "   macro avg       0.97      0.97      0.97      1800\n",
      "weighted avg       0.97      0.97      0.97      1800\n",
      "\n",
      "0.9716666666666667\n"
     ]
    }
   ],
   "source": [
    "#smote data fit\n",
    "\n",
    "logreg = LogisticRegression().fit(X_sm,y_sm)\n",
    "y_pred = logreg.predict(X_sm) # y_pred includes your predictions\n",
    "\n",
    "print(classification_report(y_sm, y_pred)) # precision recall and f1\n",
    "print(logreg.score(X_sm, y_sm)) #accuracy "
   ]
  },
  {
   "cell_type": "markdown",
   "metadata": {
    "id": "6mrZclzIowY7"
   },
   "source": [
    "## Combination of over- and under-sampling"
   ]
  },
  {
   "cell_type": "code",
   "execution_count": null,
   "metadata": {
    "colab": {
     "base_uri": "https://localhost:8080/"
    },
    "id": "NhFaRnVAowY8",
    "outputId": "93eeae00-a4e2-4963-a66a-56f55b1ece59"
   },
   "outputs": [
    {
     "name": "stdout",
     "output_type": "stream",
     "text": [
      "              precision    recall  f1-score   support\n",
      "\n",
      "           0       0.97      0.97      0.97       900\n",
      "           1       0.97      0.97      0.97       900\n",
      "\n",
      "    accuracy                           0.97      1800\n",
      "   macro avg       0.97      0.97      0.97      1800\n",
      "weighted avg       0.97      0.97      0.97      1800\n",
      "\n",
      "0.9727777777777777\n"
     ]
    }
   ],
   "source": [
    "# We can use SMOTE with a second technique that dismisses nearest\n",
    "# neighbors that have diff't classes before creating synthetic observations (i.e.-delete all Tomek links)\n",
    "\n",
    "\n",
    "from imblearn.combine import SMOTETomek\n",
    "\n",
    "smt = SMOTETomek()\n",
    "X_smt, y_smt = smt.fit_resample(X, y)\n",
    "\n",
    "logreg = LogisticRegression().fit(X_smt,y_smt)\n",
    "y_pred = logreg.predict(X_smt) # y_pred includes your predictions\n",
    "\n",
    "print(classification_report(y_smt, y_pred)) # precision recall and f1\n",
    "print(logreg.score(X_smt, y_smt)) #accuracy increases a bit, but we should test on new data"
   ]
  },
  {
   "cell_type": "markdown",
   "metadata": {
    "id": "HXPNvNuQowZE"
   },
   "source": [
    "## Now you try to improve prediction error on new data:"
   ]
  },
  {
   "cell_type": "code",
   "execution_count": 1,
   "metadata": {
    "colab": {
     "base_uri": "https://localhost:8080/"
    },
    "id": "LjM3b6rxowZG",
    "outputId": "2ca22f9a-2c0c-4c12-ba77-4e52e0eea53d"
   },
   "outputs": [
    {
     "name": "stdout",
     "output_type": "stream",
     "text": [
      "['malignant', 'benign']\n",
      "1    0.627417\n",
      "0    0.372583\n",
      "dtype: float64\n"
     ]
    },
    {
     "data": {
      "text/plain": [
       "(569, 30)"
      ]
     },
     "execution_count": 1,
     "metadata": {},
     "output_type": "execute_result"
    }
   ],
   "source": [
    "import pandas as pd\n",
    "\n",
    "from sklearn.datasets import load_breast_cancer\n",
    "bc_load_data = load_breast_cancer()\n",
    "\n",
    "print(list(bc_load_data.target_names))\n",
    "\n",
    "y = bc_load_data.target\n",
    "X = bc_load_data.data\n",
    "\n",
    "print(pd.Series(y).value_counts(normalize=True))\n",
    "\n",
    "X.shape\n"
   ]
  },
  {
   "cell_type": "code",
   "execution_count": null,
   "metadata": {
    "id": "VZoxsQybowZP"
   },
   "outputs": [],
   "source": [
    "# We didn't split data into training and test sets consistently above. But you should do so here to score test data."
   ]
  }
 ],
 "metadata": {
  "colab": {
   "name": "Imbalanced Data.ipynb",
   "provenance": []
  },
  "kernelspec": {
   "display_name": "Python 3 (ipykernel)",
   "language": "python",
   "name": "python3"
  },
  "language_info": {
   "codemirror_mode": {
    "name": "ipython",
    "version": 3
   },
   "file_extension": ".py",
   "mimetype": "text/x-python",
   "name": "python",
   "nbconvert_exporter": "python",
   "pygments_lexer": "ipython3",
   "version": "3.9.7"
  }
 },
 "nbformat": 4,
 "nbformat_minor": 4
}
