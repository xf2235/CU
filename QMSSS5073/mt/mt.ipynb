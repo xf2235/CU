{
 "cells": [
  {
   "cell_type": "markdown",
   "id": "9b0d4710-b24e-409c-92b5-1d7f0f9c98c6",
   "metadata": {},
   "source": [
    "# Mid-term Exam"
   ]
  },
  {
   "cell_type": "markdown",
   "id": "caa16948-e518-4b40-89ff-ae2e389d3d52",
   "metadata": {},
   "source": [
    "## 1.  Import the spam dataset and print the first six rows.  "
   ]
  },
  {
   "cell_type": "code",
   "execution_count": 11,
   "id": "cfb70ab0-95f3-46d9-a4a9-c889ab92e8fa",
   "metadata": {},
   "outputs": [],
   "source": [
    "import pandas as pd\n",
    "import numpy as np\n",
    "import matplotlib.pyplot as plt\n",
    "from statistics import mean\n",
    "from sklearn.model_selection import train_test_split\n",
    "from sklearn.model_selection import KFold\n",
    "from sklearn.model_selection import cross_val_score\n",
    "from sklearn.model_selection import GridSearchCV\n",
    "from sklearn.neighbors import KNeighborsClassifier as KNC\n",
    "from sklearn.linear_model import LogisticRegression as GLM\n",
    "from sklearn.tree import DecisionTreeClassifier as DTC\n",
    "from sklearn.ensemble import RandomForestClassifier as RFC\n",
    "from sklearn.svm import SVC"
   ]
  },
  {
   "cell_type": "code",
   "execution_count": 12,
   "id": "928aa19a-46f0-419f-8cc2-7f83be24bdb7",
   "metadata": {},
   "outputs": [
    {
     "data": {
      "text/html": [
       "<div>\n",
       "<style scoped>\n",
       "    .dataframe tbody tr th:only-of-type {\n",
       "        vertical-align: middle;\n",
       "    }\n",
       "\n",
       "    .dataframe tbody tr th {\n",
       "        vertical-align: top;\n",
       "    }\n",
       "\n",
       "    .dataframe thead th {\n",
       "        text-align: right;\n",
       "    }\n",
       "</style>\n",
       "<table border=\"1\" class=\"dataframe\">\n",
       "  <thead>\n",
       "    <tr style=\"text-align: right;\">\n",
       "      <th></th>\n",
       "      <th>word_freq_make:</th>\n",
       "      <th>word_freq_address:</th>\n",
       "      <th>word_freq_all:</th>\n",
       "      <th>word_freq_3d:</th>\n",
       "      <th>word_freq_our:</th>\n",
       "      <th>word_freq_over:</th>\n",
       "      <th>word_freq_remove:</th>\n",
       "      <th>word_freq_internet:</th>\n",
       "      <th>word_freq_order:</th>\n",
       "      <th>word_freq_mail:</th>\n",
       "      <th>...</th>\n",
       "      <th>char_freq_;:</th>\n",
       "      <th>char_freq_(:</th>\n",
       "      <th>char_freq_[:</th>\n",
       "      <th>char_freq_!:</th>\n",
       "      <th>char_freq_$:</th>\n",
       "      <th>char_freq_#:</th>\n",
       "      <th>capital_run_length_average:</th>\n",
       "      <th>capital_run_length_longest:</th>\n",
       "      <th>capital_run_length_total:</th>\n",
       "      <th>spam</th>\n",
       "    </tr>\n",
       "  </thead>\n",
       "  <tbody>\n",
       "    <tr>\n",
       "      <th>0</th>\n",
       "      <td>0.00</td>\n",
       "      <td>0.64</td>\n",
       "      <td>0.64</td>\n",
       "      <td>0.0</td>\n",
       "      <td>0.32</td>\n",
       "      <td>0.00</td>\n",
       "      <td>0.00</td>\n",
       "      <td>0.00</td>\n",
       "      <td>0.00</td>\n",
       "      <td>0.00</td>\n",
       "      <td>...</td>\n",
       "      <td>0.00</td>\n",
       "      <td>0.000</td>\n",
       "      <td>0.0</td>\n",
       "      <td>0.778</td>\n",
       "      <td>0.000</td>\n",
       "      <td>0.000</td>\n",
       "      <td>3.756</td>\n",
       "      <td>61</td>\n",
       "      <td>278</td>\n",
       "      <td>1</td>\n",
       "    </tr>\n",
       "    <tr>\n",
       "      <th>1</th>\n",
       "      <td>0.21</td>\n",
       "      <td>0.28</td>\n",
       "      <td>0.50</td>\n",
       "      <td>0.0</td>\n",
       "      <td>0.14</td>\n",
       "      <td>0.28</td>\n",
       "      <td>0.21</td>\n",
       "      <td>0.07</td>\n",
       "      <td>0.00</td>\n",
       "      <td>0.94</td>\n",
       "      <td>...</td>\n",
       "      <td>0.00</td>\n",
       "      <td>0.132</td>\n",
       "      <td>0.0</td>\n",
       "      <td>0.372</td>\n",
       "      <td>0.180</td>\n",
       "      <td>0.048</td>\n",
       "      <td>5.114</td>\n",
       "      <td>101</td>\n",
       "      <td>1028</td>\n",
       "      <td>1</td>\n",
       "    </tr>\n",
       "    <tr>\n",
       "      <th>2</th>\n",
       "      <td>0.06</td>\n",
       "      <td>0.00</td>\n",
       "      <td>0.71</td>\n",
       "      <td>0.0</td>\n",
       "      <td>1.23</td>\n",
       "      <td>0.19</td>\n",
       "      <td>0.19</td>\n",
       "      <td>0.12</td>\n",
       "      <td>0.64</td>\n",
       "      <td>0.25</td>\n",
       "      <td>...</td>\n",
       "      <td>0.01</td>\n",
       "      <td>0.143</td>\n",
       "      <td>0.0</td>\n",
       "      <td>0.276</td>\n",
       "      <td>0.184</td>\n",
       "      <td>0.010</td>\n",
       "      <td>9.821</td>\n",
       "      <td>485</td>\n",
       "      <td>2259</td>\n",
       "      <td>1</td>\n",
       "    </tr>\n",
       "    <tr>\n",
       "      <th>3</th>\n",
       "      <td>0.00</td>\n",
       "      <td>0.00</td>\n",
       "      <td>0.00</td>\n",
       "      <td>0.0</td>\n",
       "      <td>0.63</td>\n",
       "      <td>0.00</td>\n",
       "      <td>0.31</td>\n",
       "      <td>0.63</td>\n",
       "      <td>0.31</td>\n",
       "      <td>0.63</td>\n",
       "      <td>...</td>\n",
       "      <td>0.00</td>\n",
       "      <td>0.137</td>\n",
       "      <td>0.0</td>\n",
       "      <td>0.137</td>\n",
       "      <td>0.000</td>\n",
       "      <td>0.000</td>\n",
       "      <td>3.537</td>\n",
       "      <td>40</td>\n",
       "      <td>191</td>\n",
       "      <td>1</td>\n",
       "    </tr>\n",
       "    <tr>\n",
       "      <th>4</th>\n",
       "      <td>0.00</td>\n",
       "      <td>0.00</td>\n",
       "      <td>0.00</td>\n",
       "      <td>0.0</td>\n",
       "      <td>0.63</td>\n",
       "      <td>0.00</td>\n",
       "      <td>0.31</td>\n",
       "      <td>0.63</td>\n",
       "      <td>0.31</td>\n",
       "      <td>0.63</td>\n",
       "      <td>...</td>\n",
       "      <td>0.00</td>\n",
       "      <td>0.135</td>\n",
       "      <td>0.0</td>\n",
       "      <td>0.135</td>\n",
       "      <td>0.000</td>\n",
       "      <td>0.000</td>\n",
       "      <td>3.537</td>\n",
       "      <td>40</td>\n",
       "      <td>191</td>\n",
       "      <td>1</td>\n",
       "    </tr>\n",
       "    <tr>\n",
       "      <th>5</th>\n",
       "      <td>0.00</td>\n",
       "      <td>0.00</td>\n",
       "      <td>0.00</td>\n",
       "      <td>0.0</td>\n",
       "      <td>1.85</td>\n",
       "      <td>0.00</td>\n",
       "      <td>0.00</td>\n",
       "      <td>1.85</td>\n",
       "      <td>0.00</td>\n",
       "      <td>0.00</td>\n",
       "      <td>...</td>\n",
       "      <td>0.00</td>\n",
       "      <td>0.223</td>\n",
       "      <td>0.0</td>\n",
       "      <td>0.000</td>\n",
       "      <td>0.000</td>\n",
       "      <td>0.000</td>\n",
       "      <td>3.000</td>\n",
       "      <td>15</td>\n",
       "      <td>54</td>\n",
       "      <td>1</td>\n",
       "    </tr>\n",
       "  </tbody>\n",
       "</table>\n",
       "<p>6 rows × 58 columns</p>\n",
       "</div>"
      ],
      "text/plain": [
       "   word_freq_make:  word_freq_address:  word_freq_all:  word_freq_3d:  \\\n",
       "0             0.00                0.64            0.64            0.0   \n",
       "1             0.21                0.28            0.50            0.0   \n",
       "2             0.06                0.00            0.71            0.0   \n",
       "3             0.00                0.00            0.00            0.0   \n",
       "4             0.00                0.00            0.00            0.0   \n",
       "5             0.00                0.00            0.00            0.0   \n",
       "\n",
       "   word_freq_our:  word_freq_over:  word_freq_remove:  word_freq_internet:  \\\n",
       "0            0.32             0.00               0.00                 0.00   \n",
       "1            0.14             0.28               0.21                 0.07   \n",
       "2            1.23             0.19               0.19                 0.12   \n",
       "3            0.63             0.00               0.31                 0.63   \n",
       "4            0.63             0.00               0.31                 0.63   \n",
       "5            1.85             0.00               0.00                 1.85   \n",
       "\n",
       "   word_freq_order:  word_freq_mail:  ...  char_freq_;:  char_freq_(:  \\\n",
       "0              0.00             0.00  ...          0.00         0.000   \n",
       "1              0.00             0.94  ...          0.00         0.132   \n",
       "2              0.64             0.25  ...          0.01         0.143   \n",
       "3              0.31             0.63  ...          0.00         0.137   \n",
       "4              0.31             0.63  ...          0.00         0.135   \n",
       "5              0.00             0.00  ...          0.00         0.223   \n",
       "\n",
       "   char_freq_[:  char_freq_!:  char_freq_$:  char_freq_#:  \\\n",
       "0           0.0         0.778         0.000         0.000   \n",
       "1           0.0         0.372         0.180         0.048   \n",
       "2           0.0         0.276         0.184         0.010   \n",
       "3           0.0         0.137         0.000         0.000   \n",
       "4           0.0         0.135         0.000         0.000   \n",
       "5           0.0         0.000         0.000         0.000   \n",
       "\n",
       "   capital_run_length_average:  capital_run_length_longest:  \\\n",
       "0                        3.756                           61   \n",
       "1                        5.114                          101   \n",
       "2                        9.821                          485   \n",
       "3                        3.537                           40   \n",
       "4                        3.537                           40   \n",
       "5                        3.000                           15   \n",
       "\n",
       "   capital_run_length_total:  spam  \n",
       "0                        278     1  \n",
       "1                       1028     1  \n",
       "2                       2259     1  \n",
       "3                        191     1  \n",
       "4                        191     1  \n",
       "5                         54     1  \n",
       "\n",
       "[6 rows x 58 columns]"
      ]
     },
     "execution_count": 12,
     "metadata": {},
     "output_type": "execute_result"
    }
   ],
   "source": [
    "spam = pd.read_csv('C:/Users/Administrator/Desktop/CU/CU_SM2022/QMSSS5073_001_2022_2 - MACHINE LEARNING SOC SCI/mt/spam_dataset.csv')\n",
    "spam.head(6)"
   ]
  },
  {
   "cell_type": "markdown",
   "id": "72ff8270-0f7f-4851-9a16-3a4ad8e625dd",
   "metadata": {},
   "source": [
    "## 2.  Read through the documentation of the original dataset here:\n",
    "\n",
    "http://archive.ics.uci.edu/ml/machine-learning-databases/spambase/spambase.names\n",
    "\n",
    "The dependent variable is \"spam\" where one indicates that an email is spam and zero otherwise.  Which three variables in the dataset do you think will be important predictors in a model of spam?  Why?"
   ]
  },
  {
   "cell_type": "markdown",
   "id": "26dbc325-1828-4a3c-8d9e-38407175a410",
   "metadata": {},
   "source": [
    "- I think \"word_freq_000:\", \"char_freq_\\\\$:\", and \"capital_run_length_longest:\" will be important predictors in the model of spam. First, most spam are delusive because it attract people with fraud with receiving a bonus, a check in a greatcertain amount of number, for example, click to get \\\\$1,000! Second, spam usually come with money(\\\\$) as bait. Typically, there are only a few dollar sign in common contact. Most contract with numerous dollar signs are in pdf or other file format rather than text. Third, spam tend to use longer capitalized exaggerated words to attract people's customer, for example, \"INCREDIBLE COUPONS FOR \\\\$1,000!\" which seldom appears in normal email."
   ]
  },
  {
   "cell_type": "markdown",
   "id": "e42a8853-a630-4462-9b17-b2b63a6b6e7a",
   "metadata": {
    "tags": []
   },
   "source": [
    "## 3.  Visualize the univariate distribution of each of the variables in the previous question.  "
   ]
  },
  {
   "cell_type": "code",
   "execution_count": 13,
   "id": "4b642c2a-b0ff-4cf2-9c0e-ed504a828cd2",
   "metadata": {},
   "outputs": [
    {
     "data": {
      "text/plain": [
       "Text(0, 0.5, 'counts')"
      ]
     },
     "execution_count": 13,
     "metadata": {},
     "output_type": "execute_result"
    },
    {
     "data": {
      "image/png": "[encoded data removed]",
      "text/plain": [
       "<Figure size 432x288 with 1 Axes>"
      ]
     },
     "metadata": {
      "needs_background": "light"
     },
     "output_type": "display_data"
    }
   ],
   "source": [
    "plt.hist(spam['word_freq_000:'])\n",
    "plt.xlabel('percentage of words in the e-mail that match 000')\n",
    "plt.ylabel('counts')"
   ]
  },
  {
   "cell_type": "code",
   "execution_count": 14,
   "id": "1f9e020d-edcb-42da-bad6-1f36639aa76f",
   "metadata": {},
   "outputs": [
    {
     "data": {
      "text/plain": [
       "Text(0, 0.5, 'counts')"
      ]
     },
     "execution_count": 14,
     "metadata": {},
     "output_type": "execute_result"
    },
    {
     "data": {
      "image/png": "[encoded data removed]",
      "text/plain": [
       "<Figure size 432x288 with 1 Axes>"
      ]
     },
     "metadata": {
      "needs_background": "light"
     },
     "output_type": "display_data"
    }
   ],
   "source": [
    "plt.hist(spam['char_freq_$:'])\n",
    "plt.xlabel('percentage of characters in the e-mail that match $')\n",
    "plt.ylabel('counts')"
   ]
  },
  {
   "cell_type": "code",
   "execution_count": 15,
   "id": "8729f0c6-266e-4283-8d03-b28521c82488",
   "metadata": {},
   "outputs": [
    {
     "data": {
      "text/plain": [
       "Text(0, 0.5, 'counts')"
      ]
     },
     "execution_count": 15,
     "metadata": {},
     "output_type": "execute_result"
    },
    {
     "data": {
      "image/png": "[encoded data removed]",
      "text/plain": [
       "<Figure size 432x288 with 1 Axes>"
      ]
     },
     "metadata": {
      "needs_background": "light"
     },
     "output_type": "display_data"
    }
   ],
   "source": [
    "plt.hist(spam['capital_run_length_longest:'])\n",
    "plt.xlabel('length of longest uninterrupted sequence of capital letters')\n",
    "plt.ylabel('counts')"
   ]
  },
  {
   "cell_type": "markdown",
   "id": "38e38953-3cdb-498d-af5b-8af7ec735a14",
   "metadata": {},
   "source": [
    "## 4. Name each of the supervised learning models that we have learned thus far that are used to predict dependent variables like \"spam\".   "
   ]
  },
  {
   "cell_type": "markdown",
   "id": "675afbfe-4fda-419c-bba8-94738049e097",
   "metadata": {},
   "source": [
    "- 1. K Nearest Neighbors Classifier (KNeighborsClassifier) \n",
    "- 2. Logistic Regression(LogisticRegression) \n",
    "- 3. Decision Tree Classifier (DecisionTreeClassifier) \n",
    "- 4. Bagging Classifier (BaggingClassifier) \n",
    "- 5. Random Forest Classifier (RandomForestClassifier) \n",
    "- 6. Gradient Boost (GradientBoostingClassifier) \n",
    "- 7. XGBoosting Classifier (XGBClassifier) \n",
    "- 8. Support Vector Machine (SVC)"
   ]
  },
  {
   "cell_type": "markdown",
   "id": "fa8de45f-b1e6-4ea7-bcf6-231517afdcdd",
   "metadata": {},
   "source": [
    "## 5. Describe the importance of training and test data.  Why do we separate data into these subsets?"
   ]
  },
  {
   "cell_type": "markdown",
   "id": "cb6d08eb-d8ad-48fc-be04-dd65913b7724",
   "metadata": {},
   "source": [
    "- We ought to seperate data into train and test dataset since we need to prevent our model from overfitting which is more likely appearing in using all data to training the model. If all data are used to train the model, the model might works well in the sample data, but high likely won't have a good prediction in data unseen."
   ]
  },
  {
   "cell_type": "markdown",
   "id": "ad2657ee-299b-45b2-a3a1-94eaee2c59ca",
   "metadata": {},
   "source": [
    "## 6. What is k-fold cross validation and what do we use it for?"
   ]
  },
  {
   "cell_type": "markdown",
   "id": "729df47b-e77e-48d3-892f-d8fa3e1746c3",
   "metadata": {},
   "source": [
    "- K-fold cross validation divides the sample data into k groups (folds). We use it for evaluating the machine learning model since certain models might perform well or terrible by chance with certain train and test set."
   ]
  },
  {
   "cell_type": "markdown",
   "id": "d8ffe33c-b305-4bca-a71c-759ac3e76a68",
   "metadata": {},
   "source": [
    "## 7. How is k-fold cross validation different from stratified k-fold cross validation?"
   ]
  },
  {
   "cell_type": "markdown",
   "id": "1dbbab83-95b7-4a6c-b5f2-ad97b150c932",
   "metadata": {},
   "source": [
    "- K-fold cross validation is different from stratified k-fold cross validation. K-fold cross validation divides the sample dataset into k folds randomly. Stratified k-fold cross validation divides sample dataset into k folds with same proportion of observations with a given label."
   ]
  },
  {
   "cell_type": "markdown",
   "id": "f0b3a880-a980-44f2-b3f3-c30adadf54d7",
   "metadata": {},
   "source": [
    "## 8. Choose one model from question four.  Split the data into training and test subsets.  Build a model with the three variables in the dataset that you think will be good predictors of \"spam\".  Describe why you chose any particular parameters for your model (e.g.- if you used KNN how did you decide to choose a specific value for k).  Run the model and evaluate prediction error in two ways: A) On test data directly and B) using k-fold cross-validation.  "
   ]
  },
  {
   "cell_type": "markdown",
   "id": "fd2e11af-b9f4-48f8-9367-9f465ff313f6",
   "metadata": {
    "tags": []
   },
   "source": [
    "### A) On test data directly "
   ]
  },
  {
   "cell_type": "code",
   "execution_count": 16,
   "id": "4846ca79-bdb8-4c18-b773-dcbecb582171",
   "metadata": {},
   "outputs": [],
   "source": [
    "# split dataset into train & test\n",
    "X = spam[[\"word_freq_000:\", \"char_freq_$:\", \"capital_run_length_longest:\"]]\n",
    "y = spam.spam\n",
    "X_train, X_test, y_train, y_test = train_test_split(X, y, train_size=0.75, random_state=3)"
   ]
  },
  {
   "cell_type": "code",
   "execution_count": 17,
   "id": "63c75faf-238e-4eba-8f5a-45370ef1907e",
   "metadata": {},
   "outputs": [
    {
     "name": "stdout",
     "output_type": "stream",
     "text": [
      "knc score: 0.8123370981754996\n"
     ]
    }
   ],
   "source": [
    "# KNN without cv\n",
    "knc = KNC(n_neighbors=5).fit(X_train, y_train)\n",
    "knc_score = knc.score(X_test, y_test)\n",
    "print(f\"knc score: {knc_score}\")"
   ]
  },
  {
   "cell_type": "code",
   "execution_count": 228,
   "id": "b73b78e6-68c3-4646-abb4-8a07efdd4514",
   "metadata": {},
   "outputs": [
    {
     "name": "stdout",
     "output_type": "stream",
     "text": [
      "Best parameter: {'n_neighbors': 6}\n",
      "Best score: 0.8020289855072462\n"
     ]
    }
   ],
   "source": [
    "param_grid = {'n_neighbors': range(1, 10)}\n",
    "\n",
    "grid = GridSearchCV(KNC(), param_grid=param_grid, cv=10)\n",
    "grid.fit(X_train, y_train)\n",
    "print(f\"Best parameter: {grid.best_params_}\")\n",
    "print(f\"Best score: {grid.best_score_}\")"
   ]
  },
  {
   "cell_type": "markdown",
   "id": "f0f23fb6-e6ab-4d27-bfa4-ec4139142bb7",
   "metadata": {},
   "source": [
    "- The reason why I choose 5 as number of neighbors are that \n",
    "1) Number of neighbors should be an ODD number in case there is a tie. \n",
    "2) Number of neighbors cannot be too small, for example 1, because the noise will have a higher influence on the result.\n",
    "3) Number of neighbors cannot be too large, for example over 10, since it is computationally expensive.\n",
    "4) k=sqrt(n) is one way, but it does not work well in this case.\n",
    "5) The sample size is not big and hyper prarmeter tuning shows that the best number of neighbors is 6.\n",
    "6) I choose closest two to 6, which are 5 and 7. 5 performs better."
   ]
  },
  {
   "cell_type": "markdown",
   "id": "532b2502-3d9c-4f60-aac3-73bd328d1d4d",
   "metadata": {
    "tags": []
   },
   "source": [
    "### B) using k-fold cross-validation."
   ]
  },
  {
   "cell_type": "code",
   "execution_count": 18,
   "id": "8482959d-899f-4c80-b470-9206348a0637",
   "metadata": {},
   "outputs": [],
   "source": [
    "# create cv\n",
    "kfold = KFold(n_splits=5)"
   ]
  },
  {
   "cell_type": "code",
   "execution_count": 19,
   "id": "e3c61851-6214-4da5-a330-1d8aa7e0589f",
   "metadata": {},
   "outputs": [
    {
     "name": "stdout",
     "output_type": "stream",
     "text": [
      "KFold knc score: 0.776755128929042\n"
     ]
    }
   ],
   "source": [
    "# KNN with cv\n",
    "knc = KNC(n_neighbors=5)\n",
    "knc_kfold = mean(cross_val_score(knc, X_test, y_test, cv=kfold))\n",
    "print(f\"KFold knc score: {knc_kfold}\")"
   ]
  },
  {
   "cell_type": "markdown",
   "id": "46868061-fc71-4f0a-b701-8e0e7349a00a",
   "metadata": {},
   "source": [
    "- knc score: 0.8123370981754996\n",
    "- KFold knc score: 0.7965217391304348\n",
    "\n",
    "It is not surprising that score in KNN without cross validation is higher than KNN with KFold cross validation since K-fold cross validation divides the sample dataset into k folds randomly to evaluate the general performance of the model."
   ]
  },
  {
   "cell_type": "markdown",
   "id": "833b8994-f36b-44a3-8d88-fa2ebdd8d768",
   "metadata": {},
   "source": [
    "## 9. Choose a second model from question four.  Using the same three variables in the dataset that you think will be good predictors of \"spam\".  Describe why you chose any particular parameters for your model (e.g.- if you used KNN how did you decide to choose a specific value for k).  Run the model and evaluate prediction error in two ways: A) On test data directly and B) using k-fold cross-validation.  Did this model predict test data better than your previous model?"
   ]
  },
  {
   "cell_type": "markdown",
   "id": "f692ea79-18c8-477f-9a3e-1edb22942368",
   "metadata": {
    "tags": []
   },
   "source": [
    "### A) On test data directly "
   ]
  },
  {
   "cell_type": "code",
   "execution_count": 20,
   "id": "3ace5412-5b64-45f6-8ad8-7dbd7f12ec0c",
   "metadata": {},
   "outputs": [
    {
     "name": "stdout",
     "output_type": "stream",
     "text": [
      "glm score: 0.8071242397914856\n"
     ]
    }
   ],
   "source": [
    "# logistic regression without cv\n",
    "import warnings\n",
    "warnings.simplefilter(action='ignore')\n",
    "glm = GLM(C=0, penalty='none').fit(X_train, y_train)\n",
    "glm_score = glm.score(X_test, y_test)\n",
    "print(f\"glm score: {glm_score}\")"
   ]
  },
  {
   "cell_type": "code",
   "execution_count": 21,
   "id": "90a31d88-aa3f-4c91-9d66-4a4f4c95b77a",
   "metadata": {},
   "outputs": [
    {
     "name": "stdout",
     "output_type": "stream",
     "text": [
      "glm lasso score: 0.8062554300608167\n"
     ]
    }
   ],
   "source": [
    "glm_lasso = GLM(penalty='l1', solver='liblinear').fit(X_train, y_train)\n",
    "print(f\"glm lasso score: {glm_lasso.score(X_test, y_test)}\")"
   ]
  },
  {
   "cell_type": "code",
   "execution_count": 264,
   "id": "637c9573-7f91-408e-b9f4-e7d712b8f536",
   "metadata": {
    "tags": []
   },
   "outputs": [
    {
     "name": "stdout",
     "output_type": "stream",
     "text": [
      "Best parameter: {'C': 0.0, 'penalty': 'none'}\n",
      "Best score: 0.8150724637681159\n"
     ]
    }
   ],
   "source": [
    "c_space = np.arange(0, 10, 0.5)\n",
    "param_grid = {'C': c_space, 'penalty': ['none', 'l2']}\n",
    "\n",
    "grid = GridSearchCV(GLM(), param_grid, cv=10)\n",
    "grid.fit(X_train, y_train)\n",
    "print(f\"Best parameter: {grid.best_params_}\")\n",
    "print(f\"Best score: {grid.best_score_}\")"
   ]
  },
  {
   "cell_type": "markdown",
   "id": "9e566d0f-0f75-4882-80fd-6b2c80d5dc40",
   "metadata": {},
   "source": [
    "- The reason why I choose 0 as C(inverse of regularization strength) and none as penalty are\n",
    "1) The sample size is not big and hyper prarmeter tuning shows that the best C is 0 and the best penalty is none.\n",
    "2) Logistic Regression with none penalty perform better than with lasso penalty."
   ]
  },
  {
   "cell_type": "markdown",
   "id": "2e1abb69-b995-4fba-b3de-f1b7f47ed086",
   "metadata": {
    "tags": []
   },
   "source": [
    "### B) using k-fold cross-validation."
   ]
  },
  {
   "cell_type": "code",
   "execution_count": 22,
   "id": "b25a2414-1795-4e5d-97f2-88e98ccd1c42",
   "metadata": {},
   "outputs": [
    {
     "name": "stdout",
     "output_type": "stream",
     "text": [
      "KFold logistic regression score: 0.8019235836627141\n"
     ]
    }
   ],
   "source": [
    "# logistic regression with cv\n",
    "glm = GLM(C=0, penalty='none').fit(X_train, y_train)\n",
    "glm_kfold = mean(cross_val_score(glm, X_test, y_test))\n",
    "print(f\"KFold logistic regression score: {glm_kfold}\")"
   ]
  },
  {
   "cell_type": "markdown",
   "id": "99182e25-7b1c-49ec-9f58-2fde49af1a53",
   "metadata": {},
   "source": [
    "- glm score: 0.8071242397914856\n",
    "- KFold logistic regression score: 0.8019235836627141\n",
    "\n",
    "In this case, logistic regression without cross validation perform better than with KFold cross validation."
   ]
  },
  {
   "cell_type": "markdown",
   "id": "fd327679-6cbd-480b-a4d7-5a99f672546d",
   "metadata": {},
   "source": [
    "## 10. Choose a third model from question four.  Using the same three variables in the dataset that you think will be good predictors of \"spam\".  Describe why you chose any particular parameters for your model (e.g.- if you used KNN how did you decide to choose a specific value for k). Run the model and evaluate prediction error in two ways: A) On test data directly and B) using k-fold cross-validation.  Did this model predict test data better than your previous models?"
   ]
  },
  {
   "cell_type": "markdown",
   "id": "2ebb0ac6-d084-4d4c-8ab0-f10e3e307954",
   "metadata": {
    "tags": []
   },
   "source": [
    "### A) On test data directly "
   ]
  },
  {
   "cell_type": "code",
   "execution_count": 23,
   "id": "30133359-bc30-498f-9b78-87e90f86b7ce",
   "metadata": {},
   "outputs": [
    {
     "name": "stdout",
     "output_type": "stream",
     "text": [
      "forest score: 0.8314509122502172\n"
     ]
    }
   ],
   "source": [
    "# random forest without cv\n",
    "forest = RFC(n_estimators=110, max_depth=9, random_state=5).fit(X_train, y_train)\n",
    "forest_score = forest.score(X_test, y_test)\n",
    "print(f\"forest score: {forest_score}\")"
   ]
  },
  {
   "cell_type": "code",
   "execution_count": 64,
   "id": "441d06a9-4256-4c20-8bfa-cb1407d66163",
   "metadata": {},
   "outputs": [
    {
     "name": "stdout",
     "output_type": "stream",
     "text": [
      "Best parameter: {'max_depth': 9, 'n_estimators': 110}\n",
      "Best score: 0.8443478260869565\n"
     ]
    }
   ],
   "source": [
    "param_grid = {'n_estimators': np.arange(0,200,10),\n",
    "              'max_depth': range(1, 10)}\n",
    "\n",
    "grid = GridSearchCV(RFC(), param_grid, cv=10)\n",
    "grid.fit(X_train, y_train)\n",
    "grid.best_params_\n",
    "print(f\"Best parameter: {grid.best_params_}\")\n",
    "print(f\"Best score: {grid.best_score_}\")"
   ]
  },
  {
   "cell_type": "markdown",
   "id": "ed9fc91f-aabb-4fe4-905a-052d253cbec2",
   "metadata": {},
   "source": [
    "- The reason why I choose 110 as number of estimators and 9 as maximum depth\n",
    "1) The sample size is not big and hyper prarmeter tuning shows that the best n_estimators is 110 and the best max_depth is 9.."
   ]
  },
  {
   "cell_type": "markdown",
   "id": "80c93e9f-32bf-4837-99ca-deb553273476",
   "metadata": {
    "tags": []
   },
   "source": [
    "### B) using k-fold cross-validation."
   ]
  },
  {
   "cell_type": "code",
   "execution_count": 24,
   "id": "1b333b84-851f-4edc-943d-86ddba04309e",
   "metadata": {},
   "outputs": [
    {
     "name": "stdout",
     "output_type": "stream",
     "text": [
      "KFold forest score: 0.8192885375494071\n"
     ]
    }
   ],
   "source": [
    "# random forest with cv\n",
    "forest = RFC(n_estimators=110, max_depth=9, random_state=5).fit(X_train, y_train)\n",
    "forest_kfold = mean(cross_val_score(forest, X_test, y_test))\n",
    "print(f\"KFold forest score: {forest_kfold}\")"
   ]
  },
  {
   "cell_type": "markdown",
   "id": "01cef3b0-a0b7-49bf-9f85-717fb85eb491",
   "metadata": {},
   "source": [
    "- forest score: 0.8314509122502172\n",
    "- KFold forest score: 0.8175494071146245\n",
    "\n",
    "In this case, random forest without cross validation perform better than with KFold cross validation."
   ]
  },
  {
   "cell_type": "markdown",
   "id": "ff4f1d17-0983-489e-a7bc-145b3778899f",
   "metadata": {},
   "source": [
    "## 11. Choose a fourth model from question four.  Using the same three variables in the dataset that you think will be good predictors of \"spam\".  Describe why you chose any particular parameters for your model (e.g.- if you used KNN how did you decide to choose a specific value for k). Run the model and evaluate prediction error in two ways: A) On test data directly and B) using k-fold cross-validation.  Did this model predict test data better than your previous models?"
   ]
  },
  {
   "cell_type": "markdown",
   "id": "c0be3b0c-eba8-4050-9570-140c5b7da949",
   "metadata": {
    "tags": []
   },
   "source": [
    "### A) On test data directly "
   ]
  },
  {
   "cell_type": "code",
   "execution_count": 25,
   "id": "c35dc6e2-6fc8-4488-ac7a-d3b9316b36db",
   "metadata": {},
   "outputs": [
    {
     "name": "stdout",
     "output_type": "stream",
     "text": [
      "svc score: 0.8062554300608167\n"
     ]
    }
   ],
   "source": [
    "# svc without cv\n",
    "svc = SVC(kernel='linear', C=1).fit(X_train, y_train)\n",
    "svc_score = svc.score(X_test, y_test)\n",
    "print(f\"svc score: {svc_score}\")"
   ]
  },
  {
   "cell_type": "code",
   "execution_count": null,
   "id": "a8bb8ccb-7851-4073-bf65-6b1fbe0f17c9",
   "metadata": {},
   "outputs": [],
   "source": [
    "c_space = np.arange(0.5, 10, 0.5)\n",
    "param_grid = {'kernel': ['linear', 'rbf', 'poly', 'sigmoid'], 'C': c_space}\n",
    "grid = GridSearchCV(SVC(), param_grid, cv=10)\n",
    "grid.fit(X_train, y_train)\n",
    "print(f\"Best parameter: {grid.best_params_}\")\n",
    "print(f\"Best score: {grid.best_score_}\")"
   ]
  },
  {
   "cell_type": "markdown",
   "id": "80a6551d-5a79-4714-9a19-d4e0a2b3a814",
   "metadata": {},
   "source": [
    "- The reason why I choose linear as kernel, 1 as C (regularization parameter)\n",
    "1) The sample size is not big and hyper prarmeter tuning shows that best kernel is linear and best C is 1"
   ]
  },
  {
   "cell_type": "markdown",
   "id": "ab5bcf44-31bf-499f-af57-de68e466ba82",
   "metadata": {
    "tags": []
   },
   "source": [
    "### B) using k-fold cross-validation."
   ]
  },
  {
   "cell_type": "code",
   "execution_count": 26,
   "id": "f6d99de8-4be4-4d54-b001-62f03e9d7f55",
   "metadata": {},
   "outputs": [],
   "source": [
    "# svc with cv\n",
    "svc = SVC(kernel='linear', C=1).fit(X_train, y_train)"
   ]
  },
  {
   "cell_type": "code",
   "execution_count": 27,
   "id": "fc2f87bb-f800-45f1-837a-c7c34e5a53d6",
   "metadata": {},
   "outputs": [
    {
     "name": "stdout",
     "output_type": "stream",
     "text": [
      "KFold svc score: 0.8019160549595332\n"
     ]
    }
   ],
   "source": [
    "svc = SVC(kernel='linear', C=1).fit(X_train, y_train)\n",
    "svc_kfold = mean(cross_val_score(svc, X_test, y_test))\n",
    "print(f\"KFold svc score: {svc_kfold}\")"
   ]
  },
  {
   "cell_type": "markdown",
   "id": "3eea732e-0556-42b4-8b82-d048fc94e746",
   "metadata": {},
   "source": [
    "- svc score: 0.8062554300608167\n",
    "- KFold svc score: 0.8019160549595332\n",
    "\n",
    "In this case, support vector machine without cross validation perform better than with KFold cross validation."
   ]
  },
  {
   "cell_type": "markdown",
   "id": "b391f295-308f-4aea-bd33-65ea9655dfbf",
   "metadata": {},
   "source": [
    "## 12. Now rerun your best model from questions 8 through 11, but this time add three new variables to the model that you think will increase prediction accuracy.   Did this model predict test data better than your previous models?  "
   ]
  },
  {
   "cell_type": "code",
   "execution_count": 28,
   "id": "a3afe99a-b2de-4f93-bb69-ca1a32bf7972",
   "metadata": {},
   "outputs": [
    {
     "data": {
      "text/html": [
       "<div>\n",
       "<style scoped>\n",
       "    .dataframe tbody tr th:only-of-type {\n",
       "        vertical-align: middle;\n",
       "    }\n",
       "\n",
       "    .dataframe tbody tr th {\n",
       "        vertical-align: top;\n",
       "    }\n",
       "\n",
       "    .dataframe thead th {\n",
       "        text-align: right;\n",
       "    }\n",
       "</style>\n",
       "<table border=\"1\" class=\"dataframe\">\n",
       "  <thead>\n",
       "    <tr style=\"text-align: right;\">\n",
       "      <th></th>\n",
       "      <th>ml model</th>\n",
       "    </tr>\n",
       "  </thead>\n",
       "  <tbody>\n",
       "    <tr>\n",
       "      <th>knc_score</th>\n",
       "      <td>0.812337</td>\n",
       "    </tr>\n",
       "    <tr>\n",
       "      <th>glm_score</th>\n",
       "      <td>0.807124</td>\n",
       "    </tr>\n",
       "    <tr>\n",
       "      <th>forest_score</th>\n",
       "      <td>0.831451</td>\n",
       "    </tr>\n",
       "    <tr>\n",
       "      <th>svc_score</th>\n",
       "      <td>0.806255</td>\n",
       "    </tr>\n",
       "  </tbody>\n",
       "</table>\n",
       "</div>"
      ],
      "text/plain": [
       "              ml model\n",
       "knc_score     0.812337\n",
       "glm_score     0.807124\n",
       "forest_score  0.831451\n",
       "svc_score     0.806255"
      ]
     },
     "execution_count": 28,
     "metadata": {},
     "output_type": "execute_result"
    }
   ],
   "source": [
    "comparison = {'ml model': [knc_score, glm_score, forest_score, svc_score]}\n",
    "com = pd.DataFrame(comparison, index=['knc_score', 'glm_score', 'forest_score', 'svc_score'])\n",
    "com              "
   ]
  },
  {
   "cell_type": "code",
   "execution_count": 29,
   "id": "04d1d165-2bc0-4d7e-ac85-586960d3025a",
   "metadata": {},
   "outputs": [],
   "source": [
    "df = spam[['word_freq_remove:', 'word_freq_free:', 'word_freq_credit:']]\n",
    "X_six = pd.concat([X, df], axis=\"columns\")\n",
    "y = spam.spam\n",
    "X_train_six, X_test_six, y_train_six, y_test_six = train_test_split(X_six, y, train_size=0.75, random_state=3)"
   ]
  },
  {
   "cell_type": "code",
   "execution_count": 30,
   "id": "311d4511-7626-4730-ac20-f9ef3d426a70",
   "metadata": {},
   "outputs": [
    {
     "name": "stdout",
     "output_type": "stream",
     "text": [
      "forest score: 0.8314509122502172\n",
      "forest score with six var: 0.89748045178106\n"
     ]
    }
   ],
   "source": [
    "# random forest with six var\n",
    "forest_six = RFC(n_estimators=40, max_depth=9, random_state=4).fit(X_train_six, y_train_six)\n",
    "forest_score_six = forest_six.score(X_test_six, y_test_six)\n",
    "print(f\"forest score: {forest_score}\")\n",
    "print(f\"forest score with six var: {forest_score_six}\")"
   ]
  },
  {
   "cell_type": "markdown",
   "id": "d402389e-c306-4ee7-b792-786a845bee7b",
   "metadata": {},
   "source": [
    "- This model with 6 variables predict test data better than your previous models with three variables."
   ]
  },
  {
   "cell_type": "markdown",
   "id": "1b92da4b-9ba6-4d8d-bc56-560247179143",
   "metadata": {},
   "source": [
    "## 13. Rerun all your other models with this final set of six variables, evaluate prediction error, and choose a final model.  Why did you select this model among all of the models that you ran?  "
   ]
  },
  {
   "cell_type": "code",
   "execution_count": 31,
   "id": "22fa6886-2ad0-479a-b8bb-d7ed089cd8fe",
   "metadata": {},
   "outputs": [
    {
     "name": "stdout",
     "output_type": "stream",
     "text": [
      "knc score: 0.8123370981754996\n",
      "knc score with six var: 0.8470894874022589\n"
     ]
    }
   ],
   "source": [
    "# KNN with six var\n",
    "knc_six = KNC(n_neighbors=5).fit(X_train_six, y_train_six)\n",
    "knc_score_six = knc_six.score(X_test_six, y_test_six)\n",
    "print(f\"knc score: {knc_score}\")\n",
    "print(f\"knc score with six var: {knc_score_six}\")"
   ]
  },
  {
   "cell_type": "code",
   "execution_count": 32,
   "id": "5c40934f-1959-4d82-90a6-cb127121d2cd",
   "metadata": {},
   "outputs": [
    {
     "name": "stdout",
     "output_type": "stream",
     "text": [
      "glm score: 0.8071242397914856\n",
      "glm score with six var: 0.8479582971329279\n"
     ]
    }
   ],
   "source": [
    "# logistic regression with six var\n",
    "glm_six = GLM(C=0, penalty='none').fit(X_train_six, y_train_six)\n",
    "glm_score_six = glm_six.score(X_test_six, y_test_six)\n",
    "print(f\"glm score: {glm_score}\")\n",
    "print(f\"glm score with six var: {glm_score_six}\")"
   ]
  },
  {
   "cell_type": "code",
   "execution_count": 33,
   "id": "d5fb4365-9875-4b11-b62f-4faf462bea22",
   "metadata": {},
   "outputs": [
    {
     "name": "stdout",
     "output_type": "stream",
     "text": [
      "svc score: 0.8062554300608167\n",
      "svc score with six var: 0.8514335360556038\n"
     ]
    }
   ],
   "source": [
    "# svc with six var\n",
    "svc_six = SVC(kernel='linear', C=1).fit(X_train_six, y_train_six)\n",
    "svc_score_six = svc_six.score(X_test_six, y_test_six)\n",
    "print(f\"svc score: {svc_score}\")\n",
    "print(f\"svc score with six var: {svc_score_six}\")"
   ]
  },
  {
   "cell_type": "code",
   "execution_count": 34,
   "id": "d8470fe2-4286-40c7-b710-99f0fd7d99cd",
   "metadata": {},
   "outputs": [
    {
     "data": {
      "text/html": [
       "<div>\n",
       "<style scoped>\n",
       "    .dataframe tbody tr th:only-of-type {\n",
       "        vertical-align: middle;\n",
       "    }\n",
       "\n",
       "    .dataframe tbody tr th {\n",
       "        vertical-align: top;\n",
       "    }\n",
       "\n",
       "    .dataframe thead th {\n",
       "        text-align: right;\n",
       "    }\n",
       "</style>\n",
       "<table border=\"1\" class=\"dataframe\">\n",
       "  <thead>\n",
       "    <tr style=\"text-align: right;\">\n",
       "      <th></th>\n",
       "      <th>ml model</th>\n",
       "      <th>ml model with six var</th>\n",
       "    </tr>\n",
       "  </thead>\n",
       "  <tbody>\n",
       "    <tr>\n",
       "      <th>knc_score</th>\n",
       "      <td>0.812337</td>\n",
       "      <td>0.847089</td>\n",
       "    </tr>\n",
       "    <tr>\n",
       "      <th>glm_score</th>\n",
       "      <td>0.807124</td>\n",
       "      <td>0.847958</td>\n",
       "    </tr>\n",
       "    <tr>\n",
       "      <th>forest_score</th>\n",
       "      <td>0.831451</td>\n",
       "      <td>0.897480</td>\n",
       "    </tr>\n",
       "    <tr>\n",
       "      <th>svc_score</th>\n",
       "      <td>0.806255</td>\n",
       "      <td>0.851434</td>\n",
       "    </tr>\n",
       "  </tbody>\n",
       "</table>\n",
       "</div>"
      ],
      "text/plain": [
       "              ml model  ml model with six var\n",
       "knc_score     0.812337               0.847089\n",
       "glm_score     0.807124               0.847958\n",
       "forest_score  0.831451               0.897480\n",
       "svc_score     0.806255               0.851434"
      ]
     },
     "execution_count": 34,
     "metadata": {},
     "output_type": "execute_result"
    }
   ],
   "source": [
    "comparison = {'ml model': [knc_score, glm_score, forest_score, svc_score],\n",
    "             'ml model with six var': [knc_score_six, glm_score_six, forest_score_six, svc_score_six]}\n",
    "com = pd.DataFrame(comparison, index=['knc_score', 'glm_score', 'forest_score', 'svc_score'])\n",
    "com              "
   ]
  },
  {
   "cell_type": "markdown",
   "id": "06e06df7-b1c5-4a9c-a575-737961bc414e",
   "metadata": {},
   "source": [
    "- I would choose random forest model. Because it has highest prediction accuracy among all models."
   ]
  },
  {
   "cell_type": "markdown",
   "id": "8d5b1650-82a3-47d2-842a-2ae6aa36cedd",
   "metadata": {},
   "source": [
    "## 14. What variable that currently is not in your model, if included, would be likely to increase your final model's predictive power?  For this answer try to speculate about a variable outside the variables available in the data that would improve you model."
   ]
  },
  {
   "cell_type": "markdown",
   "id": "d4cc9e5a-4839-420c-98f1-91c1cdff3439",
   "metadata": {},
   "source": [
    "- I would like to add word_freq_urgent (word frequency of urgent) since it easily catch people's eyes with sales effect. There are enormous ways to communicate urgency without saying \"urgent\". Alternatives like \"as soon as possible\" or \"deadline\" are far less likely to be spam.  "
   ]
  },
  {
   "cell_type": "markdown",
   "id": "79a435f0-4541-4b98-acc9-237a30594814",
   "metadata": {},
   "source": [
    "## 15. Lastly, you have listed each of the models that we have learned to use to predict dependent variables like spam.  List each model we have focused on in class thus far that you could use to evaluate data with a continuous dependent variable. "
   ]
  },
  {
   "cell_type": "markdown",
   "id": "f6dace5f-3671-4b28-b3e9-69043b561ec4",
   "metadata": {},
   "source": [
    "For continuous dependent variable, there are following machine learning models\n",
    "- 1. K Nearest Neighbors Regreesion (KNeighborsRegressor) \n",
    "- 2. Linear Regression (LinearRegression)\n",
    "- 3. Decision Tree Regression (DecisionTreeRegressor)\n",
    "- 4. Bagging Regression (BaggingRegressor)\n",
    "- 5. Random Forest Regression (RandomForestRegressor)\n",
    "- 6. Gradient Boost Regression (GradientBoostingRegressor)\n",
    "- 7. XGBoosting Regression (XGBRegressor) \n",
    "- 8. Support Vector Machine (SVC)"
   ]
  },
  {
   "cell_type": "code",
   "execution_count": 47,
   "id": "f036b453-9742-4040-9bdc-08c5eedb06d7",
   "metadata": {},
   "outputs": [
    {
     "name": "stdout",
     "output_type": "stream",
     "text": [
      "0.8114682884448305\n"
     ]
    }
   ],
   "source": [
    "# Goal is to predict ytest for each model and then use PREDICTIONS FROM EACH MODEL to select final predictions\n",
    "\n",
    "# Need to set up a standard for selecting final prediction:\n",
    "from sklearn.ensemble import VotingClassifier\n",
    "\n",
    "# Estimators arg is giving each estimator a name for references in functions like GridsearchCV\n",
    "\n",
    "# voting='hard' takes majority vote of each predicted value to select final prediction for ytest\n",
    "\n",
    "voting_clf = VotingClassifier(\n",
    "    estimators=[('knc', knc_six), ('glm', glm_six), ('rfc', forest_six), ('svc', svc_six)],\n",
    "    voting='hard') \n",
    "vmodel = voting_clf.fit(X_train, y_train)\n",
    "print(vmodel.score(X_test, y_test)) #return accuracy of voting classifier"
   ]
  },
  {
   "cell_type": "code",
   "execution_count": 48,
   "id": "7e764005-c756-4866-92dd-99bde290e748",
   "metadata": {},
   "outputs": [
    {
     "name": "stdout",
     "output_type": "stream",
     "text": [
      "svc score: 0.8062554300608167\n",
      "svc score with six var: 0.8514335360556038\n",
      "0.8288444830582102\n"
     ]
    }
   ],
   "source": [
    "# 'soft' voting takes the predicted probabilities of each model and choose the highest value#\n",
    "svc_six = SVC(kernel='linear', C=1, probability=True).fit(X_train_six, y_train_six)\n",
    "svc_score_six = svc_six.score(X_test_six, y_test_six)\n",
    "print(f\"svc score: {svc_score}\")\n",
    "print(f\"svc score with six var: {svc_score_six}\")\n",
    "\n",
    "voting_clf = VotingClassifier(\n",
    "    estimators=[('knc', knc_six), ('glm', glm_six), ('rfc', forest_six), ('svc', svc_six)],\n",
    "    voting='soft') \n",
    "vmodel = voting_clf.fit(X_train, y_train)\n",
    "print(vmodel.score(X_test, y_test)) #return accuracy of voting classifier"
   ]
  }
 ],
 "metadata": {
  "kernelspec": {
   "display_name": "Python 3 (ipykernel)",
   "language": "python",
   "name": "python3"
  },
  "language_info": {
   "codemirror_mode": {
    "name": "ipython",
    "version": 3
   },
   "file_extension": ".py",
   "mimetype": "text/x-python",
   "name": "python",
   "nbconvert_exporter": "python",
   "pygments_lexer": "ipython3",
   "version": "3.9.7"
  }
 },
 "nbformat": 4,
 "nbformat_minor": 5
}
