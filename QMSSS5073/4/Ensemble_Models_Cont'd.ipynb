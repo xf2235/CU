{
 "cells": [
  {
   "cell_type": "markdown",
   "metadata": {
    "id": "4c01Iq_QqEgM"
   },
   "source": [
    "# Ensemble Models Continued"
   ]
  },
  {
   "cell_type": "code",
   "execution_count": 1,
   "metadata": {
    "id": "HDL4O5S0qEgQ"
   },
   "outputs": [],
   "source": [
    "%matplotlib inline\n",
    "import numpy as np\n",
    "import pandas as pd\n",
    "import matplotlib.pyplot as plt\n",
    "import seaborn as sns; sns.set()"
   ]
  },
  {
   "cell_type": "markdown",
   "metadata": {
    "id": "FsJ1g_GhqEgg"
   },
   "source": [
    "Just as using information from two trees improves our results, we might expect that using information from many trees would improve our results even further."
   ]
  },
  {
   "cell_type": "markdown",
   "metadata": {
    "id": "8x3xaGRLqEgk"
   },
   "source": [
    "## Review: Random Forest Regression\n",
    "\n",
    "In the previous section we considered random forests within the context of classification.\n",
    "Random forests can also be made to work in the case of regression (that is, continuous rather than categorical variables). The estimator to use for this is the ``RandomForestRegressor``, and the syntax is very similar to what we saw earlier.\n",
    "\n",
    "Consider the following data, drawn from the combination of a fast and slow oscillation:"
   ]
  },
  {
   "cell_type": "code",
   "execution_count": 7,
   "metadata": {
    "colab": {
     "base_uri": "https://localhost:8080/"
    },
    "id": "QZsbdEgiqEgn",
    "outputId": "b6425285-0733-4c0a-c82d-9c9426a3361b"
   },
   "outputs": [
    {
     "data": {
      "text/plain": [
       "0.8007803848056372"
      ]
     },
     "execution_count": 7,
     "metadata": {},
     "output_type": "execute_result"
    }
   ],
   "source": [
    "from sklearn.ensemble import RandomForestRegressor\n",
    "from sklearn.model_selection import cross_val_score\n",
    "from sklearn.model_selection import train_test_split\n",
    "import pandas as pd\n",
    "import numpy as np\n",
    "\n",
    "\n",
    "data_url = \"https://raw.githubusercontent.com/selva86/datasets/master/BostonHousing.csv\"\n",
    "data = pd.read_csv(data_url)\n",
    "target=data[\"medv\"]\n",
    "data=data.drop(['medv'], axis=1)\n",
    "Xtrain, Xtest, ytrain, ytest = train_test_split(data, target,\n",
    "                                                random_state=0)\n",
    "\n",
    "forest = RandomForestRegressor(n_estimators=200, oob_score=True)\n",
    "formodel = forest.fit(Xtrain, ytrain)\n",
    "formodel.score(Xtest, ytest)"
   ]
  },
  {
   "cell_type": "markdown",
   "metadata": {
    "id": "sLaowTljqEg7"
   },
   "source": [
    "# Parameters of Interest for Random Forest Models"
   ]
  },
  {
   "cell_type": "markdown",
   "metadata": {
    "id": "YpVDYK2NqEg9"
   },
   "source": [
    " - n_estimators:\n",
    "     - Number of trees to generate for model"
   ]
  },
  {
   "cell_type": "markdown",
   "metadata": {
    "id": "l2zPf1DjqEg_"
   },
   "source": [
    " - max_depth:\n",
    "     - tunes the number of times internal nodes are split.  (i.e.-tree size)"
   ]
  },
  {
   "cell_type": "markdown",
   "metadata": {
    "id": "S0KwBbPvqEhB"
   },
   "source": [
    " - max_features:\n",
    "     - Number of randomly selected features per split."
   ]
  },
  {
   "cell_type": "markdown",
   "metadata": {
    "id": "sgm0zlJMqEhD"
   },
   "source": [
    " - criterion:\n",
    "     - 'gini' or 'entropy' for classification and 'mse' for regression"
   ]
  },
  {
   "cell_type": "markdown",
   "metadata": {
    "id": "XB4PGS1LqEhF"
   },
   "source": [
    "\n",
    "\n",
    "```\n",
    "\n",
    "```\n",
    "\n",
    " - min_samples_leaf:\n",
    "     - set threshold for minimum number of observations per terminal node.  (also a tree size parameter)"
   ]
  },
  {
   "cell_type": "markdown",
   "metadata": {
    "id": "C88gRSUsqEhG"
   },
   "source": [
    " - oob_score:\n",
    "     - returns out of bag score in model fit object.  Extract result by printing the 'estimators_features_' from model fit object. "
   ]
  },
  {
   "cell_type": "markdown",
   "metadata": {
    "id": "rQH4PscVqEhI"
   },
   "source": [
    "# Extract important variables from model fit object"
   ]
  },
  {
   "cell_type": "code",
   "execution_count": 3,
   "metadata": {
    "colab": {
     "base_uri": "https://localhost:8080/"
    },
    "id": "QbdZiRIEqEhK",
    "outputId": "f1a4d910-286c-4ea2-afc4-c4a50e7143fd",
    "scrolled": true
   },
   "outputs": [
    {
     "name": "stdout",
     "output_type": "stream",
     "text": [
      "[0.04361565 0.0008544  0.00846808 0.00148279 0.01686122 0.40678194\n",
      " 0.01262034 0.03498233 0.00372831 0.01658573 0.02231633 0.00988482\n",
      " 0.42181807]\n"
     ]
    },
    {
     "data": {
      "text/plain": [
       "Index(['crim', 'zn', 'indus', 'chas', 'nox', 'rm', 'age', 'dis', 'rad', 'tax',\n",
       "       'ptratio', 'b', 'lstat'],\n",
       "      dtype='object')"
      ]
     },
     "execution_count": 3,
     "metadata": {},
     "output_type": "execute_result"
    }
   ],
   "source": [
    "# Feature importance on a 0 to 1 normalized scale can be extracted from tree models:\n",
    "\n",
    "print(formodel.feature_importances_)  \n",
    "#in same order as feature names in data\n",
    "data.columns # RM and Lstat = most important variables in model.  Variable measures the Number of rooms."
   ]
  },
  {
   "cell_type": "markdown",
   "metadata": {
    "id": "XerFG9hVqEhV"
   },
   "source": [
    "# Gradient Boosted Trees"
   ]
  },
  {
   "cell_type": "code",
   "execution_count": 12,
   "metadata": {
    "colab": {
     "base_uri": "https://localhost:8080/"
    },
    "id": "2OBOcRnYqEhX",
    "outputId": "cc126bfa-9899-407f-8b6f-3e002da71dd7"
   },
   "outputs": [
    {
     "name": "stdout",
     "output_type": "stream",
     "text": [
      "GradientBoostingRegressor(learning_rate=0.01, max_depth=5, n_estimators=5000)\n",
      "0.8229476501523681\n"
     ]
    }
   ],
   "source": [
    "#Regression model example first...\n",
    "\n",
    "from sklearn.ensemble import GradientBoostingRegressor\n",
    "from sklearn.model_selection import train_test_split\n",
    "\n",
    "Xtrain, Xtest, ytrain, ytest = train_test_split(data, target,\n",
    "                                                random_state=0)\n",
    "\n",
    "model = GradientBoostingRegressor(n_estimators=5000, max_depth=5, learning_rate=.01)\n",
    "modelfit = model.fit(Xtrain,ytrain)\n",
    "print(modelfit)\n",
    "print(modelfit.score(Xtest, ytest))"
   ]
  },
  {
   "cell_type": "markdown",
   "metadata": {
    "id": "BBpurtTlqEho"
   },
   "source": [
    "## GB learns slowly.  Need more trees"
   ]
  },
  {
   "cell_type": "code",
   "execution_count": 13,
   "metadata": {
    "colab": {
     "base_uri": "https://localhost:8080/"
    },
    "id": "TtRHqXH_qEhp",
    "outputId": "b748fe94-4c4f-411e-b55b-43a92d272d20"
   },
   "outputs": [
    {
     "name": "stdout",
     "output_type": "stream",
     "text": [
      "0.7530527121202698\n"
     ]
    }
   ],
   "source": [
    "model = GradientBoostingRegressor(n_estimators=2000, max_depth=2, learning_rate=.01) # 200 trees to 20000\n",
    "modelfit = model.fit(Xtrain,ytrain)\n",
    "\n",
    "print(modelfit.score(Xtest, ytest)) "
   ]
  },
  {
   "cell_type": "markdown",
   "metadata": {
    "id": "-WxpCwzYqEh9"
   },
   "source": [
    "## learning_rate affects how fast you train model.  Also a tuning parameter"
   ]
  },
  {
   "cell_type": "code",
   "execution_count": 14,
   "metadata": {
    "colab": {
     "base_uri": "https://localhost:8080/"
    },
    "id": "XX-5tq8aqEh_",
    "outputId": "000a0bdf-dbac-4111-bd49-f9dd752e16de"
   },
   "outputs": [
    {
     "name": "stdout",
     "output_type": "stream",
     "text": [
      "0.7492397800190564\n"
     ]
    }
   ],
   "source": [
    "model = GradientBoostingRegressor(n_estimators=20000, max_depth=2, learning_rate=.001) # .01 to .001\n",
    "modelfit = model.fit(Xtrain,ytrain)\n",
    "\n",
    "print(modelfit.score(Xtest, ytest)) "
   ]
  },
  {
   "cell_type": "markdown",
   "metadata": {
    "id": "ilyrtDbOqEiH"
   },
   "source": [
    "## Parameters of interest..."
   ]
  },
  {
   "cell_type": "markdown",
   "metadata": {
    "id": "awid707QqEiK"
   },
   "source": [
    "n_estimators:\n",
    "    The number of weak learners (i.e. regression trees) is controlled by the parameter n_estimators; \n",
    "\n",
    "max_depth:\n",
    "    The size of each tree can be controlled either by setting the tree depth via max_depth or by setting the number of leaf \n",
    "    nodes via max_leaf_nodes. \n",
    "\n",
    "max_leaf_nodes:\n",
    "    The size of each tree can be controlled either by setting the tree depth via max_depth or by setting the number of leaf \n",
    "    nodes via max_leaf_nodes. \n",
    "  \n",
    "learning_rate:\n",
    "\n",
    "learning rate shrinks the contribution of each tree by learning_rate. There is a trade-off between learning_rate and n_estimators."
   ]
  },
  {
   "cell_type": "code",
   "execution_count": 15,
   "metadata": {
    "id": "8LP03X7AqEiP"
   },
   "outputs": [],
   "source": [
    "# Gradient boosted classification trees follow the same syntax"
   ]
  },
  {
   "cell_type": "code",
   "execution_count": 21,
   "metadata": {
    "colab": {
     "base_uri": "https://localhost:8080/"
    },
    "id": "WI-6VL8MqEia",
    "outputId": "494c294e-75e0-4080-c8bd-36be4eda676b"
   },
   "outputs": [
    {
     "data": {
      "text/plain": [
       "0.92"
      ]
     },
     "execution_count": 21,
     "metadata": {},
     "output_type": "execute_result"
    }
   ],
   "source": [
    "from sklearn.datasets import make_hastie_10_2 \n",
    "from sklearn.ensemble import GradientBoostingClassifier\n",
    "\n",
    "#make some data\n",
    "X, y = make_hastie_10_2(random_state=0)\n",
    "X_train, X_test = X[:2000], X[2000:]\n",
    "y_train, y_test = y[:2000], y[2000:]\n",
    "\n",
    "clf = GradientBoostingClassifier(n_estimators=10000, learning_rate=.01,\n",
    "    max_depth=1, random_state=0).fit(X_train, y_train)\n",
    "clf.score(X_test, y_test) "
   ]
  },
  {
   "cell_type": "code",
   "execution_count": 22,
   "metadata": {
    "colab": {
     "base_uri": "https://localhost:8080/"
    },
    "id": "4euzuT8vqEir",
    "outputId": "f1bd66d2-3c2d-4ae2-9de7-0e056ff49838"
   },
   "outputs": [
    {
     "data": {
      "text/plain": [
       "array([0.09499473, 0.11713611, 0.11121054, 0.09199524, 0.09189469,\n",
       "       0.11504453, 0.09092718, 0.10018704, 0.09982287, 0.08678707])"
      ]
     },
     "execution_count": 22,
     "metadata": {},
     "output_type": "execute_result"
    }
   ],
   "source": [
    "# As with other tree models we can extract important features:\n",
    "\n",
    "clf.feature_importances_  "
   ]
  },
  {
   "cell_type": "markdown",
   "metadata": {
    "id": "oGRGTKhdqEi6"
   },
   "source": [
    "# Making predictions from and ensemble of ensemble classification models:\n",
    "\n",
    "\n",
    "\n"
   ]
  },
  {
   "cell_type": "code",
   "execution_count": 23,
   "metadata": {
    "id": "jGB3RTssqEi9"
   },
   "outputs": [],
   "source": [
    "from sklearn.model_selection import train_test_split\n",
    "from sklearn.datasets import make_moons\n",
    "\n",
    "X, y = make_moons(n_samples=500, noise=0.30, random_state=42)\n",
    "\n",
    "X_train, X_test, y_train, y_test = train_test_split(X, y, random_state=42)"
   ]
  },
  {
   "cell_type": "code",
   "execution_count": 29,
   "metadata": {
    "colab": {
     "base_uri": "https://localhost:8080/",
     "height": 268
    },
    "id": "ICYGiU6QqEjI",
    "outputId": "c08777ad-962d-4352-8caa-08c1190cc951"
   },
   "outputs": [
    {
     "data": {
      "image/png": "[encoded data removed]",
      "text/plain": [
       "<Figure size 432x288 with 1 Axes>"
      ]
     },
     "metadata": {},
     "output_type": "display_data"
    }
   ],
   "source": [
    "plt.scatter(X[:, 0], X[:, 1], c=y, s=50, cmap='rainbow');"
   ]
  },
  {
   "cell_type": "code",
   "execution_count": 30,
   "metadata": {
    "id": "SlZKyoBjqEjQ"
   },
   "outputs": [],
   "source": [
    "# 1. Build multiple classification models\n",
    "from sklearn.ensemble import RandomForestClassifier\n",
    "from sklearn.linear_model import LogisticRegression\n",
    "from sklearn.svm import SVC\n",
    "\n",
    "#Generally works better if models you choose have diverse methodological approaches...\n",
    "\n",
    "log_clf = LogisticRegression(random_state=42) # logistic regression w/ C=default\n",
    "rnd_clf = RandomForestClassifier(random_state=42) # Random Forest\n",
    "svm_clf = SVC(random_state=42) # support vector machine\n"
   ]
  },
  {
   "cell_type": "code",
   "execution_count": 36,
   "metadata": {
    "id": "UaguymxxqEjY"
   },
   "outputs": [],
   "source": [
    "# Goal is to predict ytest for each model and then use PREDICTIONS FROM EACH MODEL to select final predictions\n",
    "\n",
    "# Need to set up a standard for selecting final prediction:\n",
    "from sklearn.ensemble import VotingClassifier\n",
    "\n",
    "# Estimators arg is giving each estimator a name for references in functions like GridsearchCV\n",
    "\n",
    "# voting='hard' takes majority vote of each predicted value to select final prediction for ytest\n",
    "\n",
    "voting_clf = VotingClassifier(\n",
    "    estimators=[('lr', log_clf), ('rf', rnd_clf), ('svc', svm_clf)],\n",
    "    voting='hard') "
   ]
  },
  {
   "cell_type": "code",
   "execution_count": 37,
   "metadata": {
    "colab": {
     "base_uri": "https://localhost:8080/"
    },
    "id": "pmXjPj9VqEjh",
    "outputId": "abc4a32a-2441-4fe9-e387-7922bf5ebc4a"
   },
   "outputs": [
    {
     "name": "stdout",
     "output_type": "stream",
     "text": [
      "0.912\n"
     ]
    }
   ],
   "source": [
    "vmodel = voting_clf.fit(X_train, y_train)\n",
    "print(vmodel.score(X_test, y_test)) #return accuracy of voting classifier"
   ]
  },
  {
   "cell_type": "code",
   "execution_count": 33,
   "metadata": {
    "colab": {
     "base_uri": "https://localhost:8080/"
    },
    "id": "rOfn3g2GqEjv",
    "outputId": "e33b3ffa-3b45-4523-ae89-bc4ee97356da"
   },
   "outputs": [
    {
     "name": "stdout",
     "output_type": "stream",
     "text": [
      "0.864\n",
      "0.896\n",
      "0.896\n"
     ]
    }
   ],
   "source": [
    "# Compare to accuracy of individual models...\n",
    "log_clf = LogisticRegression(random_state=42) # logistic regression w/ C=default\n",
    "rnd_clf = RandomForestClassifier(random_state=42) # Random Forest\n",
    "svm_clf = SVC(random_state=42) # support vector machine\n",
    "\n",
    "print(log_clf.fit(X_train, y_train).score(X_test, y_test))\n",
    "print(rnd_clf.fit(X_train, y_train).score(X_test, y_test))\n",
    "print(svm_clf.fit(X_train, y_train).score(X_test, y_test))\n"
   ]
  },
  {
   "cell_type": "markdown",
   "metadata": {
    "id": "gm1jKT81qEj4"
   },
   "source": [
    "Looks like we improved on these models using the ensemble approach!!"
   ]
  },
  {
   "cell_type": "code",
   "execution_count": 45,
   "metadata": {
    "id": "f3sSYyZwqEj7"
   },
   "outputs": [],
   "source": [
    "# 'soft' voting takes the predicted probabilities of each model and choose the highest value#"
   ]
  },
  {
   "cell_type": "code",
   "execution_count": 46,
   "metadata": {
    "colab": {
     "base_uri": "https://localhost:8080/"
    },
    "id": "S-rSK62zqEkD",
    "outputId": "152e5a76-8788-4b7a-e1c2-3bd96dee2c09"
   },
   "outputs": [
    {
     "data": {
      "text/plain": [
       "VotingClassifier(estimators=[('lr', LogisticRegression(random_state=42)),\n",
       "                             ('rf', RandomForestClassifier(random_state=42)),\n",
       "                             ('svc', SVC(probability=True, random_state=42))],\n",
       "                 voting='soft')"
      ]
     },
     "execution_count": 46,
     "metadata": {},
     "output_type": "execute_result"
    }
   ],
   "source": [
    "#Need to ensure that probabilities are generated in each model...\n",
    "\n",
    "log_clf = LogisticRegression(random_state=42)\n",
    "rnd_clf = RandomForestClassifier(random_state=42)\n",
    "svm_clf = SVC(probability=True, random_state=42)\n",
    "\n",
    "voting_clf = VotingClassifier(\n",
    "    estimators=[('lr', log_clf), ('rf', rnd_clf), ('svc', svm_clf)],\n",
    "    voting='soft')\n",
    "voting_clf.fit(X_train, y_train)"
   ]
  },
  {
   "cell_type": "code",
   "execution_count": 47,
   "metadata": {
    "id": "gC9LRSqYqEkL"
   },
   "outputs": [],
   "source": [
    "voting_clf = VotingClassifier(\n",
    "    estimators=[('lr', log_clf), ('rf', rnd_clf), ('svc', svm_clf)],\n",
    "    voting='soft') \n",
    "\n",
    "vmodel = voting_clf.fit(X_train, y_train)\n"
   ]
  },
  {
   "cell_type": "code",
   "execution_count": 48,
   "metadata": {
    "colab": {
     "base_uri": "https://localhost:8080/"
    },
    "id": "ohC6m34hqEkS",
    "outputId": "b31ec53c-370d-4e23-8347-ea47050c904b"
   },
   "outputs": [
    {
     "name": "stdout",
     "output_type": "stream",
     "text": [
      "0.92\n"
     ]
    }
   ],
   "source": [
    "print(vmodel.score(X_test, y_test)) #return accuracy of voting classifier"
   ]
  },
  {
   "cell_type": "code",
   "execution_count": 49,
   "metadata": {
    "id": "wtJATe10qEka"
   },
   "outputs": [],
   "source": [
    "# We do even better with a soft voting approach"
   ]
  },
  {
   "cell_type": "markdown",
   "metadata": {
    "id": "4SAjGGK7qEkh"
   },
   "source": [
    "# Can you build a voting classifier on the following dataset?"
   ]
  },
  {
   "cell_type": "code",
   "execution_count": 52,
   "metadata": {
    "id": "gEF9pw70qEkj"
   },
   "outputs": [
    {
     "data": {
      "text/plain": [
       "array([0, 0, 0, 0, 0, 0, 0, 0, 0, 0, 0, 0, 0, 0, 0, 0, 0, 0, 0, 1, 1, 1,\n",
       "       0, 0, 0, 0, 0, 0, 0, 0, 0, 0, 0, 0, 0, 0, 0, 1, 0, 0, 0, 0, 0, 0,\n",
       "       0, 0, 1, 0, 1, 1, 1, 1, 1, 0, 0, 1, 0, 0, 1, 1, 1, 1, 0, 1, 0, 0,\n",
       "       1, 1, 1, 1, 0, 1, 0, 0, 1, 0, 1, 0, 0, 1, 1, 1, 0, 0, 1, 0, 0, 0,\n",
       "       1, 1, 1, 0, 1, 1, 0, 0, 1, 1, 1, 0, 0, 1, 1, 1, 1, 0, 1, 1, 0, 1,\n",
       "       1, 1, 1, 1, 1, 1, 1, 0, 0, 0, 1, 0, 0, 1, 1, 1, 0, 0, 1, 0, 1, 0,\n",
       "       0, 1, 0, 0, 1, 1, 0, 1, 1, 0, 1, 1, 1, 1, 0, 1, 1, 1, 1, 1, 1, 1,\n",
       "       1, 1, 0, 1, 1, 1, 1, 0, 0, 1, 0, 1, 1, 0, 0, 1, 1, 0, 0, 1, 1, 1,\n",
       "       1, 0, 1, 1, 0, 0, 0, 1, 0, 1, 0, 1, 1, 1, 0, 1, 1, 0, 0, 1, 0, 0,\n",
       "       0, 0, 1, 0, 0, 0, 1, 0, 1, 0, 1, 1, 0, 1, 0, 0, 0, 0, 1, 1, 0, 0,\n",
       "       1, 1, 1, 0, 1, 1, 1, 1, 1, 0, 0, 1, 1, 0, 1, 1, 0, 0, 1, 0, 1, 1,\n",
       "       1, 1, 0, 1, 1, 1, 1, 1, 0, 1, 0, 0, 0, 0, 0, 0, 0, 0, 0, 0, 0, 0,\n",
       "       0, 0, 1, 1, 1, 1, 1, 1, 0, 1, 0, 1, 1, 0, 1, 1, 0, 1, 0, 0, 1, 1,\n",
       "       1, 1, 1, 1, 1, 1, 1, 1, 1, 1, 1, 0, 1, 1, 0, 1, 0, 1, 1, 1, 1, 1,\n",
       "       1, 1, 1, 1, 1, 1, 1, 1, 1, 0, 1, 1, 1, 0, 1, 0, 1, 1, 1, 1, 0, 0,\n",
       "       0, 1, 1, 1, 1, 0, 1, 0, 1, 0, 1, 1, 1, 0, 1, 1, 1, 1, 1, 1, 1, 0,\n",
       "       0, 0, 1, 1, 1, 1, 1, 1, 1, 1, 1, 1, 1, 0, 0, 1, 0, 0, 0, 1, 0, 0,\n",
       "       1, 1, 1, 1, 1, 0, 1, 1, 1, 1, 1, 0, 1, 1, 1, 0, 1, 1, 0, 0, 1, 1,\n",
       "       1, 1, 1, 1, 0, 1, 1, 1, 1, 1, 1, 1, 0, 1, 1, 1, 1, 1, 0, 1, 1, 0,\n",
       "       1, 1, 1, 1, 1, 1, 1, 1, 1, 1, 1, 1, 0, 1, 0, 0, 1, 0, 1, 1, 1, 1,\n",
       "       1, 0, 1, 1, 0, 1, 0, 1, 1, 0, 1, 0, 1, 1, 1, 1, 1, 1, 1, 1, 0, 0,\n",
       "       1, 1, 1, 1, 1, 1, 0, 1, 1, 1, 1, 1, 1, 1, 1, 1, 1, 0, 1, 1, 1, 1,\n",
       "       1, 1, 1, 0, 1, 0, 1, 1, 0, 1, 1, 1, 1, 1, 0, 0, 1, 0, 1, 0, 1, 1,\n",
       "       1, 1, 1, 0, 1, 1, 0, 1, 0, 1, 0, 0, 1, 1, 1, 0, 1, 1, 1, 1, 1, 1,\n",
       "       1, 1, 1, 1, 1, 0, 1, 0, 0, 1, 1, 1, 1, 1, 1, 1, 1, 1, 1, 1, 1, 1,\n",
       "       1, 1, 1, 1, 1, 1, 1, 1, 1, 1, 1, 1, 0, 0, 0, 0, 0, 0, 1])"
      ]
     },
     "execution_count": 52,
     "metadata": {},
     "output_type": "execute_result"
    }
   ],
   "source": [
    "from sklearn.datasets import load_breast_cancer\n",
    "bc = load_breast_cancer()\n",
    "\n",
    "X=bc.data\n",
    "y = bc.target"
   ]
  },
  {
   "cell_type": "code",
   "execution_count": null,
   "metadata": {},
   "outputs": [],
   "source": []
  }
 ],
 "metadata": {
  "anaconda-cloud": {},
  "colab": {
   "collapsed_sections": [],
   "name": "Ensemble Models Cont'd.ipynb",
   "provenance": []
  },
  "kernelspec": {
   "display_name": "Python 3 (ipykernel)",
   "language": "python",
   "name": "python3"
  },
  "language_info": {
   "codemirror_mode": {
    "name": "ipython",
    "version": 3
   },
   "file_extension": ".py",
   "mimetype": "text/x-python",
   "name": "python",
   "nbconvert_exporter": "python",
   "pygments_lexer": "ipython3",
   "version": "3.9.7"
  }
 },
 "nbformat": 4,
 "nbformat_minor": 4
}
