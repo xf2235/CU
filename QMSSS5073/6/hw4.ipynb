{
 "cells": [
  {
   "cell_type": "markdown",
   "id": "785dcd2a-8e25-43a1-9868-e018c51daf28",
   "metadata": {},
   "source": [
    "# HW 4: a) Models fit to text data and b) Neural Networks"
   ]
  },
  {
   "cell_type": "code",
   "execution_count": 414,
   "id": "d182d301-e507-42ed-97ac-e095ef33ebc8",
   "metadata": {},
   "outputs": [],
   "source": [
    "import pandas as pd\n",
    "import numpy as np\n",
    "import matplotlib.pyplot as plt\n",
    "import aimodelshare as ai\n",
    "from sklearn.preprocessing import StandardScaler\n",
    "from sklearn.preprocessing import LabelEncoder\n",
    "from sklearn.model_selection import cross_val_score\n",
    "from sklearn.model_selection import GridSearchCV\n",
    "from sklearn.model_selection import train_test_split\n",
    "from sklearn.linear_model import LogisticRegression\n",
    "from sklearn.metrics import f1_score\n",
    "import aimodelshare as ai\n",
    "import nltk\n",
    "from nltk import word_tokenize\n",
    "from nltk.stem import WordNetLemmatizer\n",
    "from sklearn.feature_extraction.text import CountVectorizer\n",
    "from sklearn.feature_extraction.text import TfidfVectorizer, TfidfTransformer\n",
    "# nltk.download('punkt')\n",
    "import tensorflow.keras as keras\n",
    "from tensorflow.keras.models import Sequential\n",
    "from tensorflow.keras.layers import Dense, Activation\n",
    "from tensorflow.keras.optimizers import SGD\n",
    "from tensorflow.keras.wrappers.scikit_learn import KerasClassifier\n",
    "import tensorflow as tf\n",
    "from keras.datasets import cifar10\n",
    "from keras.utils import to_categorical"
   ]
  },
  {
   "cell_type": "code",
   "execution_count": 273,
   "id": "945ddc89-6760-4124-bccc-f8acfb7b1b75",
   "metadata": {},
   "outputs": [],
   "source": [
    "# import nltk\n",
    "# import ssl\n",
    "\n",
    "# try:\n",
    "#     _create_unverified_https_context = ssl._create_unverified_context\n",
    "# except AttributeError:\n",
    "#     pass\n",
    "# else:\n",
    "#     ssl._create_default_https_context = _create_unverified_https_context\n",
    "\n",
    "# nltk.download()"
   ]
  },
  {
   "cell_type": "markdown",
   "id": "f82cd827-c120-4694-b8e7-fa9bfae4e1dc",
   "metadata": {},
   "source": [
    "## Part 1: Build a classification model using text data"
   ]
  },
  {
   "cell_type": "code",
   "execution_count": 2,
   "id": "c6b5af5c-16df-482b-959c-691dfeb0b6b7",
   "metadata": {},
   "outputs": [
    {
     "name": "stdout",
     "output_type": "stream",
     "text": [
      "Downloading [==============================================>  ]====>      ]\n",
      "\n",
      "Data downloaded successfully.\n"
     ]
    }
   ],
   "source": [
    "from aimodelshare import download_data\n",
    "download_data('public.ecr.aws/y2e2a1d6/clickbait_competition_data-repository:latest')"
   ]
  },
  {
   "cell_type": "code",
   "execution_count": 276,
   "id": "58f6fc68-d391-411c-9d28-14fa7e1b6906",
   "metadata": {},
   "outputs": [],
   "source": [
    "X=pd.read_csv(\"clickbait_competition_data/X_train.csv\", squeeze=True)\n",
    "y=pd.read_csv(\"clickbait_competition_data/y_train.csv\", squeeze=True)\n",
    "X_train, X_test, y_train_labels, y_test_labels = train_test_split(X, y, random_state=23)\n",
    "# le = LabelEncoder()\n",
    "# y = le.fit_transform(y) \n",
    "# y\n",
    "# # one encode Y data (not necessary for logistic regression in sklearn\n",
    "# # y_train = pd.get_dummies(y_train_labels)\n",
    "\n",
    "# print(X.shape, y.shape)"
   ]
  },
  {
   "cell_type": "code",
   "execution_count": 290,
   "id": "b054563c-f1dc-4fe9-9d1b-e1933092bcc5",
   "metadata": {},
   "outputs": [],
   "source": [
    "# preprocess data\n",
    "X_train_array=np.array(X_train)\n",
    "X_test_array=np.array(X_test)\n",
    "y_train_array=np.array(pd.get_dummies(y_train_labels)['clickbait'])\n",
    "y_test_array=np.array(pd.get_dummies(y_test_labels)['clickbait'])"
   ]
  },
  {
   "cell_type": "code",
   "execution_count": 291,
   "id": "6d85bf35-5cce-4b43-98d3-946fe650fa18",
   "metadata": {},
   "outputs": [
    {
     "name": "stdout",
     "output_type": "stream",
     "text": [
      "['How Well Do You Actually Know The Laws Of Rugby'\n",
      " '22 Photos Guaranteed To Annoy Anyone Who Bakes'\n",
      " 'Advice in Two New Books, but Not From Talking Heads'\n",
      " 'Which Movie Starring A Pop Star Are You'\n",
      " '24 Adorable Products Every Cat Lover Needs In Their Home'] \n",
      " [1 1 0 1 1]\n"
     ]
    }
   ],
   "source": [
    "# print first 5 elements of X_train data and y_train_labels data\n",
    "print(X_train_array[:5], '\\n', y_train_array[:5])"
   ]
  },
  {
   "cell_type": "code",
   "execution_count": 292,
   "id": "a62fdda3-b2ed-42ed-872c-36453c05676f",
   "metadata": {},
   "outputs": [
    {
     "data": {
      "text/plain": [
       "0    9626\n",
       "1    9108\n",
       "Name: clickbait, dtype: int64"
      ]
     },
     "execution_count": 292,
     "metadata": {},
     "output_type": "execute_result"
    }
   ],
   "source": [
    "# check the # of clickbaits and not clickbaits\n",
    "pd.get_dummies(y_train_labels)['clickbait'].value_counts()"
   ]
  },
  {
   "cell_type": "code",
   "execution_count": 296,
   "id": "10e3d366-26b8-4858-82f3-25950f817611",
   "metadata": {},
   "outputs": [
    {
     "name": "stdout",
     "output_type": "stream",
     "text": [
      "Vocabulary size: 17548\n",
      "Vocabulary:\n",
      "['00' '000' '000th' ... 'île' 'ürümqi' 'šibenik']\n"
     ]
    }
   ],
   "source": [
    "# keep uni-gram only\n",
    "cv1 = CountVectorizer(lowercase=True, stop_words='english', ngram_range=(1, 1)).fit(X_train)\n",
    "print(\"Vocabulary size: {}\".format(len(cv1.vocabulary_)))\n",
    "print(\"Vocabulary:\\n{}\".format(cv1.get_feature_names_out()))"
   ]
  },
  {
   "cell_type": "code",
   "execution_count": 297,
   "id": "833a2a72-cadb-4c90-96fe-56854be42892",
   "metadata": {},
   "outputs": [
    {
     "name": "stdout",
     "output_type": "stream",
     "text": [
      "Vocabulary size: 75139\n",
      "Vocabulary:\n",
      "['00 disney' '000 000' '000 acquitted' ... 'île france' 'ürümqi china'\n",
      " 'šibenik 2008']\n"
     ]
    }
   ],
   "source": [
    "# keep bi-grams only\n",
    "cv2 = CountVectorizer(lowercase=True, stop_words='english', ngram_range=(2, 2)).fit(X_train)\n",
    "print(\"Vocabulary size: {}\".format(len(cv2.vocabulary_)))\n",
    "print(\"Vocabulary:\\n{}\".format(cv2.get_feature_names_out()))"
   ]
  },
  {
   "cell_type": "code",
   "execution_count": 325,
   "id": "90013ed6-91b6-4571-bc5d-b18598578a66",
   "metadata": {},
   "outputs": [
    {
     "name": "stdout",
     "output_type": "stream",
     "text": [
      "Vocabulary size: 92687\n",
      "Vocabulary:\n",
      "['00' '00 disney' '000' ... 'ürümqi china' 'šibenik' 'šibenik 2008']\n"
     ]
    }
   ],
   "source": [
    "# keep uni-gram and bi-grams\n",
    "cv3 = TfidfVectorizer(lowercase=True, stop_words='english', ngram_range=(1, 2)).fit(X_train)\n",
    "print(\"Vocabulary size: {}\".format(len(cv3.vocabulary_)))\n",
    "print(\"Vocabulary:\\n{}\".format(cv3.get_feature_names_out()))"
   ]
  },
  {
   "cell_type": "markdown",
   "id": "669bb548-8b1b-43bd-9518-81802c0ce782",
   "metadata": {},
   "source": [
    "### I tried three different vectorizers:\n",
    "\n",
    "1. CountVectorizer(lowercase=True, stop_words='english', ngram_range=(1, 1))\n",
    "2. CountVectorizer(lowercase=True, stop_words='english', ngram_range=(2, 2))\n",
    "3. TfidfVectorizer(lowercase=True, stop_words='english', ngram_range=(1, 2))\n",
    "\n",
    "All three vectorizers lowercase words and exclude stopwords. However, the second vectorizer is different from the first one in that it is bi-grams. The third vectorizer is different from the first two in that it weights words frequency while others only count the number of times a word appears in the document without penalizing common words."
   ]
  },
  {
   "cell_type": "code",
   "execution_count": 326,
   "id": "ebe88fe2-6f27-4cc6-874b-7759af28ae20",
   "metadata": {},
   "outputs": [],
   "source": [
    "# helper function to plot top positive and negative coefficients\n",
    "\n",
    "def visualize_coefficients(coefficients, feature_names, n_top_features=25):\n",
    "    coefficients = coefficients.squeeze()\n",
    "    if coefficients.ndim > 1:\n",
    "        # this is not a row or column vector\n",
    "        raise ValueError(\"coeffients must be 1d array or column vector, got\"\n",
    "                         \" shape {}\".format(coefficients.shape))\n",
    "    coefficients = coefficients.ravel()\n",
    "\n",
    "    if len(coefficients) != len(feature_names):\n",
    "        raise ValueError(\"Number of coefficients {} doesn't match number of\"\n",
    "                         \"feature names {}.\".format(len(coefficients),\n",
    "                                                    len(feature_names)))\n",
    "    # get coefficients with large absolute values\n",
    "    coef = coefficients.ravel()\n",
    "    positive_coefficients = np.argsort(coef)[-n_top_features:]\n",
    "    negative_coefficients = np.argsort(coef)[:n_top_features]\n",
    "    interesting_coefficients = np.hstack([negative_coefficients,\n",
    "                                          positive_coefficients])\n",
    "    # plot them\n",
    "    plt.figure(figsize=(15, 5))\n",
    "    colors = ['#ff2020' if c < 0 else '#0000aa'\n",
    "              for c in coef[interesting_coefficients]]\n",
    "    plt.bar(np.arange(2 * n_top_features), coef[interesting_coefficients],\n",
    "            color=colors)\n",
    "    feature_names = np.array(feature_names)\n",
    "    plt.subplots_adjust(bottom=0.3)\n",
    "    plt.xticks(np.arange(1, 1 + 2 * n_top_features),\n",
    "               feature_names[interesting_coefficients], rotation=60,\n",
    "               ha='right')\n",
    "    plt.ylabel('Coefficient magnitude')\n",
    "    plt.xlabel('Feature')"
   ]
  },
  {
   "cell_type": "code",
   "execution_count": 396,
   "id": "c268ea3d-d6fd-4d31-9063-cc7a61926712",
   "metadata": {},
   "outputs": [
    {
     "name": "stdout",
     "output_type": "stream",
     "text": [
      "Vectorizer: CountVectorizer(stop_words='english')\n",
      "cross-validation score: 0.95\n",
      "test score: 0.95\n"
     ]
    },
    {
     "data": {
      "text/plain": [
       "None"
      ]
     },
     "metadata": {},
     "output_type": "display_data"
    },
    {
     "name": "stdout",
     "output_type": "stream",
     "text": [
      "Vectorizer: CountVectorizer(ngram_range=(2, 2), stop_words='english')\n",
      "cross-validation score: 0.78\n",
      "test score: 0.81\n"
     ]
    },
    {
     "data": {
      "text/plain": [
       "None"
      ]
     },
     "metadata": {},
     "output_type": "display_data"
    },
    {
     "name": "stdout",
     "output_type": "stream",
     "text": [
      "Vectorizer: TfidfVectorizer(ngram_range=(1, 2), stop_words='english')\n",
      "cross-validation score: 0.93\n",
      "test score: 0.95\n"
     ]
    },
    {
     "data": {
      "text/plain": [
       "None"
      ]
     },
     "metadata": {},
     "output_type": "display_data"
    },
    {
     "data": {
      "image/png": "[encoded data removed]",
      "text/plain": [
       "<Figure size 1080x360 with 1 Axes>"
      ]
     },
     "metadata": {
      "needs_background": "light"
     },
     "output_type": "display_data"
    },
    {
     "data": {
      "image/png": "[encoded data removed]",
      "text/plain": [
       "<Figure size 1080x360 with 1 Axes>"
      ]
     },
     "metadata": {
      "needs_background": "light"
     },
     "output_type": "display_data"
    },
    {
     "data": {
      "image/png": "[encoded data removed]",
      "text/plain": [
       "<Figure size 1080x360 with 1 Axes>"
      ]
     },
     "metadata": {
      "needs_background": "light"
     },
     "output_type": "display_data"
    }
   ],
   "source": [
    "import warnings\n",
    "warnings.simplefilter(action='ignore', category=FutureWarning)\n",
    "# create a list of the vectorizers to feed into a for loop\n",
    "vectorizers=[cv1, cv2, cv3]\n",
    "\n",
    "for vect in vectorizers:\n",
    "    X=vect.transform(X_train_array)\n",
    "    X_test=vect.transform(X_test_array)\n",
    "    scores=cross_val_score(LogisticRegression(), X, y_train_array, scoring='f1')\n",
    "    print('Vectorizer:', vect)\n",
    "    print('cross-validation score: {:.2f}'.format(np.mean(scores)))\n",
    "    # Get the predictions\n",
    "    lr=LogisticRegression().fit(X, y_train_labels_encoded_array)\n",
    "    y_pred = lr.predict(X_test)\n",
    "    print('test score: {:.2f}'.format(f1_score(y_test_array, y_pred)))\n",
    "    coefs=lr.coef_\n",
    "    feature_names=vect.get_feature_names()\n",
    "    display(visualize_coefficients(coefs, feature_names, n_top_features=20))"
   ]
  },
  {
   "cell_type": "markdown",
   "id": "e6954ef3-fc65-4de0-ae8e-a84b6868145b",
   "metadata": {},
   "source": [
    "Cross-validation, test scores, and 40 words most relevant features deciding a clickbait for each vectorization approchan are shown above.\n",
    "\n",
    "#### [Vectorizer #1] \n",
    "- The first vectorizer (lowercasing all words, excluding stop words, and keeping uni-gram only) produces the cross-validation score of 0.95, and the test score of 0.95. Vectorizer 1 is the highest among the results in the three vectorization approaches.\n",
    "- The most important predictor words for a clickbait in a logistic regression model using the first vectorizer are 'actually', 'know', and 'guess'. On the other hand, the most important predictor words for a not clickbait are 'dies', 'wins', and 'kills'.\n",
    "\n",
    "#### [Vectorizer #2] \n",
    "- The second vectorizer (lowercasing all words, excluding stop words, and keeping bi-grams) produced the cross-validation score of 0.78, and the test score of 0.81. \n",
    "- The most important predictor words for a clickbait in a logistic regression model using the first vectorizer are 'taylor swift', 'based zodiac', and 'harry potter'. On the other hand, the most important predictor words for a not clickbait are 'dies age', 'new zealand', and 'kills'.\n",
    "\n",
    "#### [Vectorizer #3] \n",
    "- The third vectorizer (lowercasing all words, excluding stop words, keeping uni-gram and bi-grams, and weighing words frequency) produced the cross-validation score of 0.93, and the test score of 0.95.\n",
    "- The most important predictor words for a clickbait in a logistic regression model using the first vectorizer are 'know', 'things', and 'people'. On the other hand, the most important predictor words for a not clickbait are 'dies', 'dead', and 'wins'. 'actually', 'guess', and 'kills' are dropped in vectorizer 3 relative to vectorizer 1, which indicates that these words might occur much more frequently.\n",
    "\n",
    "I would ultimately choose the vectorizer 3 not only because it produces the highest test scores, but also it is more reasonable to add weights to words frequency. Even though it is 0.02 less than vectorizer 1 in cross-validation, vectorizer 3 is also a good indicator."
   ]
  },
  {
   "cell_type": "markdown",
   "id": "d763c46c-dd7d-441a-a6c7-4cbde9a26b27",
   "metadata": {},
   "source": [
    "## Part 2: Build a predictive neural network using Keras"
   ]
  },
  {
   "cell_type": "code",
   "execution_count": 421,
   "id": "e7358844-bf9b-4bf5-9a6b-303e1910284d",
   "metadata": {},
   "outputs": [
    {
     "data": {
      "text/html": [
       "<div>\n",
       "<style scoped>\n",
       "    .dataframe tbody tr th:only-of-type {\n",
       "        vertical-align: middle;\n",
       "    }\n",
       "\n",
       "    .dataframe tbody tr th {\n",
       "        vertical-align: top;\n",
       "    }\n",
       "\n",
       "    .dataframe thead th {\n",
       "        text-align: right;\n",
       "    }\n",
       "</style>\n",
       "<table border=\"1\" class=\"dataframe\">\n",
       "  <thead>\n",
       "    <tr style=\"text-align: right;\">\n",
       "      <th></th>\n",
       "      <th>Sepal.Length</th>\n",
       "      <th>Sepal.Width</th>\n",
       "      <th>Petal.Length</th>\n",
       "      <th>Petal.Width</th>\n",
       "      <th>Species</th>\n",
       "    </tr>\n",
       "  </thead>\n",
       "  <tbody>\n",
       "    <tr>\n",
       "      <th>1</th>\n",
       "      <td>5.1</td>\n",
       "      <td>3.5</td>\n",
       "      <td>1.4</td>\n",
       "      <td>0.2</td>\n",
       "      <td>setosa</td>\n",
       "    </tr>\n",
       "    <tr>\n",
       "      <th>2</th>\n",
       "      <td>4.9</td>\n",
       "      <td>3.0</td>\n",
       "      <td>1.4</td>\n",
       "      <td>0.2</td>\n",
       "      <td>setosa</td>\n",
       "    </tr>\n",
       "    <tr>\n",
       "      <th>3</th>\n",
       "      <td>4.7</td>\n",
       "      <td>3.2</td>\n",
       "      <td>1.3</td>\n",
       "      <td>0.2</td>\n",
       "      <td>setosa</td>\n",
       "    </tr>\n",
       "    <tr>\n",
       "      <th>4</th>\n",
       "      <td>4.6</td>\n",
       "      <td>3.1</td>\n",
       "      <td>1.5</td>\n",
       "      <td>0.2</td>\n",
       "      <td>setosa</td>\n",
       "    </tr>\n",
       "    <tr>\n",
       "      <th>5</th>\n",
       "      <td>5.0</td>\n",
       "      <td>3.6</td>\n",
       "      <td>1.4</td>\n",
       "      <td>0.2</td>\n",
       "      <td>setosa</td>\n",
       "    </tr>\n",
       "  </tbody>\n",
       "</table>\n",
       "</div>"
      ],
      "text/plain": [
       "   Sepal.Length  Sepal.Width  Petal.Length  Petal.Width Species\n",
       "1           5.1          3.5           1.4          0.2  setosa\n",
       "2           4.9          3.0           1.4          0.2  setosa\n",
       "3           4.7          3.2           1.3          0.2  setosa\n",
       "4           4.6          3.1           1.5          0.2  setosa\n",
       "5           5.0          3.6           1.4          0.2  setosa"
      ]
     },
     "execution_count": 421,
     "metadata": {},
     "output_type": "execute_result"
    }
   ],
   "source": [
    "# import data\n",
    "iris = pd.read_csv(\"http://vincentarelbundock.github.io/Rdatasets/csv/datasets/iris.csv\", index_col=0)\n",
    "iris.head()"
   ]
  },
  {
   "cell_type": "code",
   "execution_count": 422,
   "id": "aab410ca-0ddc-4825-a84d-602837df450f",
   "metadata": {},
   "outputs": [
    {
     "data": {
      "text/plain": [
       "setosa        50\n",
       "versicolor    50\n",
       "virginica     50\n",
       "Name: Species, dtype: int64"
      ]
     },
     "execution_count": 422,
     "metadata": {},
     "output_type": "execute_result"
    }
   ],
   "source": [
    "iris['Species'].value_counts()"
   ]
  },
  {
   "cell_type": "code",
   "execution_count": 423,
   "id": "0d659223-a68b-47c4-a2a2-2fd7aac7980a",
   "metadata": {},
   "outputs": [
    {
     "data": {
      "text/plain": [
       "146    2\n",
       "147    2\n",
       "148    2\n",
       "149    2\n",
       "150    2\n",
       "Name: Species, dtype: int32"
      ]
     },
     "execution_count": 423,
     "metadata": {},
     "output_type": "execute_result"
    }
   ],
   "source": [
    "# encode labels\n",
    "le = LabelEncoder()\n",
    "iris.Species = le.fit_transform(iris.Species) \n",
    "iris.Species.tail()"
   ]
  },
  {
   "cell_type": "code",
   "execution_count": 424,
   "id": "0b2da40e-53bb-4fb0-9971-f306fb768991",
   "metadata": {},
   "outputs": [
    {
     "data": {
      "text/html": [
       "<div>\n",
       "<style scoped>\n",
       "    .dataframe tbody tr th:only-of-type {\n",
       "        vertical-align: middle;\n",
       "    }\n",
       "\n",
       "    .dataframe tbody tr th {\n",
       "        vertical-align: top;\n",
       "    }\n",
       "\n",
       "    .dataframe thead th {\n",
       "        text-align: right;\n",
       "    }\n",
       "</style>\n",
       "<table border=\"1\" class=\"dataframe\">\n",
       "  <thead>\n",
       "    <tr style=\"text-align: right;\">\n",
       "      <th></th>\n",
       "      <th>Sepal.Length</th>\n",
       "      <th>Sepal.Width</th>\n",
       "      <th>Petal.Length</th>\n",
       "      <th>Petal.Width</th>\n",
       "    </tr>\n",
       "  </thead>\n",
       "  <tbody>\n",
       "    <tr>\n",
       "      <th>54</th>\n",
       "      <td>5.5</td>\n",
       "      <td>2.3</td>\n",
       "      <td>4.0</td>\n",
       "      <td>1.3</td>\n",
       "    </tr>\n",
       "    <tr>\n",
       "      <th>142</th>\n",
       "      <td>6.9</td>\n",
       "      <td>3.1</td>\n",
       "      <td>5.1</td>\n",
       "      <td>2.3</td>\n",
       "    </tr>\n",
       "    <tr>\n",
       "      <th>79</th>\n",
       "      <td>6.0</td>\n",
       "      <td>2.9</td>\n",
       "      <td>4.5</td>\n",
       "      <td>1.5</td>\n",
       "    </tr>\n",
       "    <tr>\n",
       "      <th>98</th>\n",
       "      <td>6.2</td>\n",
       "      <td>2.9</td>\n",
       "      <td>4.3</td>\n",
       "      <td>1.3</td>\n",
       "    </tr>\n",
       "    <tr>\n",
       "      <th>144</th>\n",
       "      <td>6.8</td>\n",
       "      <td>3.2</td>\n",
       "      <td>5.9</td>\n",
       "      <td>2.3</td>\n",
       "    </tr>\n",
       "  </tbody>\n",
       "</table>\n",
       "</div>"
      ],
      "text/plain": [
       "     Sepal.Length  Sepal.Width  Petal.Length  Petal.Width\n",
       "54            5.5          2.3           4.0          1.3\n",
       "142           6.9          3.1           5.1          2.3\n",
       "79            6.0          2.9           4.5          1.5\n",
       "98            6.2          2.9           4.3          1.3\n",
       "144           6.8          3.2           5.9          2.3"
      ]
     },
     "execution_count": 424,
     "metadata": {},
     "output_type": "execute_result"
    }
   ],
   "source": [
    "# generate X and y\n",
    "X = iris.drop('Species', axis=1)\n",
    "y = iris.Species\n",
    "# Split data into train and test datasets\n",
    "X_train, X_test, y_train, y_test = train_test_split(X, y, random_state=2)\n",
    "X_train.head()"
   ]
  },
  {
   "cell_type": "code",
   "execution_count": 427,
   "id": "8353e219-2f0c-45d7-a543-6f909d7ac202",
   "metadata": {},
   "outputs": [
    {
     "data": {
      "text/plain": [
       "array([[-0.47639181, -1.69145955,  0.08910607,  0.08782308],\n",
       "       [ 1.2447657 ,  0.11276397,  0.72366489,  1.41703726],\n",
       "       [ 0.1383073 , -0.33829191,  0.3775419 ,  0.35366592],\n",
       "       [ 0.38418694, -0.33829191,  0.26216757,  0.08782308],\n",
       "       [ 1.12182588,  0.33829191,  1.18516222,  1.41703726]])"
      ]
     },
     "execution_count": 427,
     "metadata": {},
     "output_type": "execute_result"
    }
   ],
   "source": [
    "# standardize data\n",
    "scaler = StandardScaler()\n",
    "scaler.fit(X_train)\n",
    "X_train_scaled = scaler.transform(X_train)\n",
    "X_test_scaled = scaler.transform(X_test)\n",
    "X_train_scaled[0:5]"
   ]
  },
  {
   "cell_type": "code",
   "execution_count": 436,
   "id": "8d4fee2a-014b-4d9a-b4e2-3422c0952c81",
   "metadata": {},
   "outputs": [
    {
     "name": "stdout",
     "output_type": "stream",
     "text": [
      "Epoch 1/20\n",
      "1/1 [==============================] - 0s 283ms/step - loss: 0.9749 - accuracy: 0.6071\n",
      "Epoch 2/20\n",
      "1/1 [==============================] - 0s 4ms/step - loss: 0.9740 - accuracy: 0.6071\n",
      "Epoch 3/20\n",
      "1/1 [==============================] - 0s 3ms/step - loss: 0.9732 - accuracy: 0.6161\n",
      "Epoch 4/20\n",
      "1/1 [==============================] - 0s 5ms/step - loss: 0.9723 - accuracy: 0.6250\n",
      "Epoch 5/20\n",
      "1/1 [==============================] - 0s 3ms/step - loss: 0.9715 - accuracy: 0.6339\n",
      "Epoch 6/20\n",
      "1/1 [==============================] - 0s 3ms/step - loss: 0.9706 - accuracy: 0.6339\n",
      "Epoch 7/20\n",
      "1/1 [==============================] - 0s 5ms/step - loss: 0.9698 - accuracy: 0.6429\n",
      "Epoch 8/20\n",
      "1/1 [==============================] - 0s 5ms/step - loss: 0.9689 - accuracy: 0.6429\n",
      "Epoch 9/20\n",
      "1/1 [==============================] - 0s 4ms/step - loss: 0.9681 - accuracy: 0.6429\n",
      "Epoch 10/20\n",
      "1/1 [==============================] - 0s 4ms/step - loss: 0.9672 - accuracy: 0.6429\n",
      "Epoch 11/20\n",
      "1/1 [==============================] - 0s 5ms/step - loss: 0.9664 - accuracy: 0.6429\n",
      "Epoch 12/20\n",
      "1/1 [==============================] - 0s 5ms/step - loss: 0.9655 - accuracy: 0.6429\n",
      "Epoch 13/20\n",
      "1/1 [==============================] - 0s 4ms/step - loss: 0.9647 - accuracy: 0.6429\n",
      "Epoch 14/20\n",
      "1/1 [==============================] - 0s 4ms/step - loss: 0.9638 - accuracy: 0.6429\n",
      "Epoch 15/20\n",
      "1/1 [==============================] - 0s 4ms/step - loss: 0.9630 - accuracy: 0.6429\n",
      "Epoch 16/20\n",
      "1/1 [==============================] - 0s 4ms/step - loss: 0.9622 - accuracy: 0.6429\n",
      "Epoch 17/20\n",
      "1/1 [==============================] - 0s 4ms/step - loss: 0.9613 - accuracy: 0.6429\n",
      "Epoch 18/20\n",
      "1/1 [==============================] - 0s 4ms/step - loss: 0.9605 - accuracy: 0.6429\n",
      "Epoch 19/20\n",
      "1/1 [==============================] - 0s 4ms/step - loss: 0.9596 - accuracy: 0.6429\n",
      "Epoch 20/20\n",
      "1/1 [==============================] - 0s 3ms/step - loss: 0.9588 - accuracy: 0.6429\n",
      "1/1 [==============================] - 0s 240ms/step - loss: 0.9475 - accuracy: 0.7105\n",
      "score: [0.9475496411323547, 0.7105262875556946]\n"
     ]
    }
   ],
   "source": [
    "model = Sequential([\n",
    "    Dense(100, input_dim=4),\n",
    "    Activation('relu'),\n",
    "    Dense(100),\n",
    "    Activation('relu'),\n",
    "    Dense(3),\n",
    "    Activation('softmax')\n",
    "])\n",
    "sgd = SGD(learning_rate=0.001)\n",
    "model.compile(loss='categorical_crossentropy', optimizer=sgd, metrics=['accuracy'])\n",
    "y_train_cat = to_categorical(y_train, 3)\n",
    "y_test_cat = to_categorical(y_test, 3)\n",
    "model.fit(X_train_scaled, y_train_cat,epochs=20, batch_size=128)\n",
    "score = model.evaluate(X_test_scaled, y_test_cat, batch_size=128) # extract loss and accuracy from test data evaluation\n",
    "print(f'score: {score}')"
   ]
  },
  {
   "cell_type": "code",
   "execution_count": 431,
   "id": "864a841f-544a-4ff8-9abf-9860cfa77e08",
   "metadata": {},
   "outputs": [
    {
     "name": "stdout",
     "output_type": "stream",
     "text": [
      "Epoch 1/20\n",
      "1/1 [==============================] - 0s 312ms/step - loss: 1.2208 - accuracy: 0.2946\n",
      "Epoch 2/20\n",
      "1/1 [==============================] - 0s 6ms/step - loss: 1.2197 - accuracy: 0.2946\n",
      "Epoch 3/20\n",
      "1/1 [==============================] - 0s 5ms/step - loss: 1.2186 - accuracy: 0.2946\n",
      "Epoch 4/20\n",
      "1/1 [==============================] - 0s 6ms/step - loss: 1.2176 - accuracy: 0.2946\n",
      "Epoch 5/20\n",
      "1/1 [==============================] - 0s 6ms/step - loss: 1.2165 - accuracy: 0.2946\n",
      "Epoch 6/20\n",
      "1/1 [==============================] - 0s 6ms/step - loss: 1.2154 - accuracy: 0.2946\n",
      "Epoch 7/20\n",
      "1/1 [==============================] - 0s 6ms/step - loss: 1.2143 - accuracy: 0.3036\n",
      "Epoch 8/20\n",
      "1/1 [==============================] - 0s 5ms/step - loss: 1.2132 - accuracy: 0.3036\n",
      "Epoch 9/20\n",
      "1/1 [==============================] - 0s 6ms/step - loss: 1.2122 - accuracy: 0.3125\n",
      "Epoch 10/20\n",
      "1/1 [==============================] - 0s 6ms/step - loss: 1.2111 - accuracy: 0.3125\n",
      "Epoch 11/20\n",
      "1/1 [==============================] - 0s 5ms/step - loss: 1.2100 - accuracy: 0.3125\n",
      "Epoch 12/20\n",
      "1/1 [==============================] - 0s 8ms/step - loss: 1.2089 - accuracy: 0.3125\n",
      "Epoch 13/20\n",
      "1/1 [==============================] - 0s 5ms/step - loss: 1.2079 - accuracy: 0.3125\n",
      "Epoch 14/20\n",
      "1/1 [==============================] - 0s 5ms/step - loss: 1.2068 - accuracy: 0.3125\n",
      "Epoch 15/20\n",
      "1/1 [==============================] - 0s 7ms/step - loss: 1.2057 - accuracy: 0.3125\n",
      "Epoch 16/20\n",
      "1/1 [==============================] - 0s 7ms/step - loss: 1.2047 - accuracy: 0.3214\n",
      "Epoch 17/20\n",
      "1/1 [==============================] - 0s 6ms/step - loss: 1.2036 - accuracy: 0.3214\n",
      "Epoch 18/20\n",
      "1/1 [==============================] - 0s 7ms/step - loss: 1.2026 - accuracy: 0.3214\n",
      "Epoch 19/20\n",
      "1/1 [==============================] - 0s 5ms/step - loss: 1.2015 - accuracy: 0.3214\n",
      "Epoch 20/20\n",
      "1/1 [==============================] - 0s 6ms/step - loss: 1.2005 - accuracy: 0.3214\n",
      "1/1 [==============================] - 0s 156ms/step - loss: 1.1994 - accuracy: 0.2632\n",
      "score: [1.1994389295578003, 0.2631579041481018]\n"
     ]
    }
   ],
   "source": [
    "# model 2\n",
    "model = Sequential([\n",
    "    Dense(200, input_dim=4),\n",
    "    Activation('relu'),\n",
    "    Dense(200),\n",
    "    Activation('relu'),\n",
    "    Dense(3),\n",
    "    Activation('softmax')\n",
    "])\n",
    "sgd = SGD(learning_rate=0.001)\n",
    "model.compile(loss='categorical_crossentropy', optimizer=sgd, metrics=['accuracy'])\n",
    "y_train_cat = to_categorical(y_train, 3)\n",
    "y_test_cat = to_categorical(y_test, 3)\n",
    "model.fit(X_train_scaled, y_train_cat,epochs=20, batch_size=128)\n",
    "score = model.evaluate(X_test_scaled, y_test_cat, batch_size=128) # extract loss and accuracy from test data evaluation\n",
    "print(f'score: {score}')\n",
    "# X_train_scaled.shape"
   ]
  },
  {
   "cell_type": "markdown",
   "id": "2b86cd21-8f1c-4e2a-9724-d81f84f6d038",
   "metadata": {},
   "source": [
    "The result above shows that among the two values, 100 and 200, I tried for the number of hidden nodes in each layer. 100 hidden node displays loss of 0.95 and accuracy of 0.71. On the other hand, 200 hidden node displays loss of 1.20 and accuracy of 0.26. The value of 100 produces the better score with lower loss and high accracy, implies a low risk of overfitting."
   ]
  }
 ],
 "metadata": {
  "kernelspec": {
   "display_name": "Python 3 (ipykernel)",
   "language": "python",
   "name": "python3"
  },
  "language_info": {
   "codemirror_mode": {
    "name": "ipython",
    "version": 3
   },
   "file_extension": ".py",
   "mimetype": "text/x-python",
   "name": "python",
   "nbconvert_exporter": "python",
   "pygments_lexer": "ipython3",
   "version": "3.9.7"
  }
 },
 "nbformat": 4,
 "nbformat_minor": 5
}
