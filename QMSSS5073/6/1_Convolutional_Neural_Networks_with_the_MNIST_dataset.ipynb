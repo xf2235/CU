{
  "nbformat": 4,
  "nbformat_minor": 0,
  "metadata": {
    "colab": {
      "name": "1_Convolutional Neural Networks with the MNIST dataset.ipynb",
      "provenance": [],
      "collapsed_sections": []
    },
    "language_info": {
      "codemirror_mode": {
        "name": "ipython",
        "version": 3
      },
      "file_extension": ".py",
      "mimetype": "text/x-python",
      "name": "python",
      "nbconvert_exporter": "python",
      "pygments_lexer": "ipython3",
      "version": "3.6.5"
    },
    "kernelspec": {
      "display_name": "conda_python3",
      "language": "python",
      "name": "conda_python3"
    },
    "accelerator": "GPU"
  },
  "cells": [
    {
      "cell_type": "markdown",
      "metadata": {
        "id": "ZfLturfup1us"
      },
      "source": [
        "# Convolution Nets for MNIST"
      ]
    },
    {
      "cell_type": "code",
      "metadata": {
        "id": "Co-9RG7Pp1v_"
      },
      "source": [
        "#Import the required libraries\n",
        "import numpy as np\n",
        "import tensorflow as tf\n",
        "\n",
        "################Note that we are using tf.keras, not keras!#####################################\n",
        "import tensorflow.keras as keras\n",
        "\n",
        "from keras.datasets import mnist"
      ],
      "execution_count": 1,
      "outputs": []
    },
    {
      "cell_type": "code",
      "metadata": {
        "id": "0ZmySn2Kp1wf"
      },
      "source": [
        "from keras.models import Sequential\n",
        "from keras.layers.core import Dense, Activation, Flatten"
      ],
      "execution_count": 3,
      "outputs": []
    },
    {
      "cell_type": "code",
      "metadata": {
        "id": "SsxV2_eop1w4"
      },
      "source": [
        "from keras.layers.convolutional import Conv2D\n",
        "from keras.layers.pooling import MaxPooling2D"
      ],
      "execution_count": 4,
      "outputs": []
    },
    {
      "cell_type": "code",
      "metadata": {
        "id": "uF3YRUS3p1xU"
      },
      "source": [
        "from keras.utils import np_utils\n",
        "from tensorflow.keras.optimizers import SGD"
      ],
      "execution_count": 5,
      "outputs": []
    },
    {
      "cell_type": "markdown",
      "metadata": {
        "id": "RT8N9cGGp1xu"
      },
      "source": [
        "## Loading Data"
      ]
    },
    {
      "cell_type": "code",
      "metadata": {
        "id": "zWyuAo1Op1x8",
        "colab": {
          "base_uri": "https://localhost:8080/"
        },
        "outputId": "5522f02a-1e43-4ae0-c41c-6dffa36d96ec"
      },
      "source": [
        "#Load the training and testing data\n",
        "(X_train, y_train), (X_test, y_test) = mnist.load_data()"
      ],
      "execution_count": 6,
      "outputs": [
        {
          "output_type": "stream",
          "name": "stdout",
          "text": [
            "Downloading data from https://storage.googleapis.com/tensorflow/tf-keras-datasets/mnist.npz\n",
            "11493376/11490434 [==============================] - 0s 0us/step\n",
            "11501568/11490434 [==============================] - 0s 0us/step\n"
          ]
        }
      ]
    },
    {
      "cell_type": "code",
      "metadata": {
        "id": "nVTcGIffp1yp",
        "colab": {
          "base_uri": "https://localhost:8080/"
        },
        "outputId": "365ac1cf-305a-4242-92c7-19dcd984d30b"
      },
      "source": [
        "X_train.shape"
      ],
      "execution_count": 7,
      "outputs": [
        {
          "output_type": "execute_result",
          "data": {
            "text/plain": [
              "(60000, 28, 28)"
            ]
          },
          "metadata": {},
          "execution_count": 7
        }
      ]
    },
    {
      "cell_type": "markdown",
      "metadata": {
        "id": "tafXb_Rqp10O"
      },
      "source": [
        "## Data Preparation"
      ]
    },
    {
      "cell_type": "code",
      "metadata": {
        "id": "48bBfWizp10T"
      },
      "source": [
        "from tensorflow.keras import backend as K"
      ],
      "execution_count": 8,
      "outputs": []
    },
    {
      "cell_type": "code",
      "metadata": {
        "id": "EQy3JN4Lp10k",
        "colab": {
          "base_uri": "https://localhost:8080/"
        },
        "outputId": "2fa6da62-5e7b-4661-8818-df2ee4cbe315"
      },
      "source": [
        "# Doing some prep for image data example here\n",
        "\n",
        "img_rows, img_cols = 28, 28\n",
        "\n",
        "if K.image_data_format() == 'channels_first':\n",
        "    shape_ord = (1, img_rows, img_cols)\n",
        "else:  # channel_last\n",
        "    shape_ord = (img_rows, img_cols, 1)\n",
        "    \n",
        "print(shape_ord)  # Height, Width, and Depth of input image data"
      ],
      "execution_count": 9,
      "outputs": [
        {
          "output_type": "stream",
          "name": "stdout",
          "text": [
            "(28, 28, 1)\n"
          ]
        }
      ]
    },
    {
      "cell_type": "markdown",
      "metadata": {
        "id": "FLHTIhEtp106"
      },
      "source": [
        "#### Preprocess and Normalise Data"
      ]
    },
    {
      "cell_type": "code",
      "metadata": {
        "id": "GL3sCr-Rp11A",
        "colab": {
          "base_uri": "https://localhost:8080/"
        },
        "outputId": "d1596298-b1b1-40a6-9e0f-02f882fbf1ee"
      },
      "source": [
        "X_train = X_train.reshape((X_train.shape[0],) + shape_ord)\n",
        "X_test = X_test.reshape((X_test.shape[0],) + shape_ord)\n",
        "\n",
        "X_train = X_train.astype('float32') # set numeric type\n",
        "X_test = X_test.astype('float32')\n",
        "\n",
        "print(np.amax(X_train)) # lets convert the pixel data to a proportion between zero and 1\n",
        "\n",
        "X_train /= 255 # /= takes X_train and divides by 255\n",
        "X_test /= 255  # /= takes X_test and divides by 255"
      ],
      "execution_count": 10,
      "outputs": [
        {
          "output_type": "stream",
          "name": "stdout",
          "text": [
            "255.0\n"
          ]
        }
      ]
    },
    {
      "cell_type": "code",
      "metadata": {
        "id": "Czgdbxq4p117",
        "colab": {
          "base_uri": "https://localhost:8080/"
        },
        "outputId": "486ee60d-d758-409d-8bfe-57eb117b68ef"
      },
      "source": [
        "print(X_train.shape, X_test.shape, y_train.shape, y_test.shape) # samples, N for obs. rows, N for obs. cols \n",
        "                                                                 # and nmbr of channels\n"
      ],
      "execution_count": 11,
      "outputs": [
        {
          "output_type": "stream",
          "name": "stdout",
          "text": [
            "(60000, 28, 28, 1) (10000, 28, 28, 1) (60000,) (10000,)\n"
          ]
        }
      ]
    },
    {
      "cell_type": "code",
      "metadata": {
        "id": "ARYQzHkUqKss",
        "colab": {
          "base_uri": "https://localhost:8080/"
        },
        "outputId": "dd887ee3-b8dc-4098-a7f4-b76361662a42"
      },
      "source": [
        "X_train.max()"
      ],
      "execution_count": 12,
      "outputs": [
        {
          "output_type": "execute_result",
          "data": {
            "text/plain": [
              "1.0"
            ]
          },
          "metadata": {},
          "execution_count": 12
        }
      ]
    },
    {
      "cell_type": "code",
      "metadata": {
        "id": "TUA_sUYvp12e",
        "colab": {
          "base_uri": "https://localhost:8080/"
        },
        "outputId": "72fcca86-7fa4-4c3e-a53e-e059ca39130c"
      },
      "source": [
        "# Converting the classes to its binary categorical form (i.e.-one hot encoding, so its in a structure keras accepts)\n",
        "nb_classes = 10\n",
        "Y_train = np_utils.to_categorical(y_train, nb_classes)\n",
        "Y_test = np_utils.to_categorical(y_test, nb_classes)\n",
        "\n",
        "Y_train.shape\n",
        "Y_test.shape"
      ],
      "execution_count": 13,
      "outputs": [
        {
          "output_type": "execute_result",
          "data": {
            "text/plain": [
              "(10000, 10)"
            ]
          },
          "metadata": {},
          "execution_count": 13
        }
      ]
    },
    {
      "cell_type": "markdown",
      "metadata": {
        "id": "wTOf-30Yp125"
      },
      "source": [
        "# A simple CNN"
      ]
    },
    {
      "cell_type": "code",
      "metadata": {
        "id": "f62ZMM38p129"
      },
      "source": [
        "# -- Initializing the values for the convolution neural network\n",
        "# Setting up convolutional layer with 32 filters that are 3 by 3\n",
        "\n",
        "nb_epoch = 5  # kept very low! Please increase if you have GPU\n",
        "\n",
        "batch_size = 64\n",
        "# number of convolutional filters to use\n",
        "nb_filters = 32\n",
        "# size of pooling area for max pooling (2 by 2)\n",
        "nb_pool = 2\n",
        "# convolution kernel/filter size (3 by 3)\n",
        "nb_conv = 3 \n",
        "\n",
        "# Vanilla SGD to speed up optimization for example \n",
        "sgd = SGD(learning_rate=0.1)"
      ],
      "execution_count": 14,
      "outputs": []
    },
    {
      "cell_type": "code",
      "metadata": {
        "colab": {
          "base_uri": "https://localhost:8080/"
        },
        "id": "4ufvRzts-KIU",
        "outputId": "b4e38155-118d-4194-a774-61d91495edff"
      },
      "source": [
        "shape_ord"
      ],
      "execution_count": 15,
      "outputs": [
        {
          "output_type": "execute_result",
          "data": {
            "text/plain": [
              "(28, 28, 1)"
            ]
          },
          "metadata": {},
          "execution_count": 15
        }
      ]
    },
    {
      "cell_type": "markdown",
      "metadata": {
        "id": "vchTh8bmp13Z"
      },
      "source": [
        "#### Step 1: Model Definition"
      ]
    },
    {
      "cell_type": "code",
      "metadata": {
        "id": "-Fxkaa1wp13e"
      },
      "source": [
        "model = Sequential()\n",
        "\n",
        "model.add(Conv2D(32, (3, 3), padding='valid', # could also add strides=2, default is 1\n",
        "                 input_shape=(28,28,1))) # note: the very first layer **must** always specify the input_shape\n",
        "model.add(Activation('relu'))\n",
        "model.add(Flatten())\n",
        "model.add(Dense(nb_classes))\n",
        "model.add(Activation('softmax')) #could have set this up using sigmoid and included final Dense(1) layer rather than Dense(2)"
      ],
      "execution_count": 16,
      "outputs": []
    },
    {
      "cell_type": "code",
      "source": [
        "model.summary()"
      ],
      "metadata": {
        "colab": {
          "base_uri": "https://localhost:8080/"
        },
        "id": "ZM7r82iuszWC",
        "outputId": "4709eccb-250a-4277-9aa4-1064e49e6393"
      },
      "execution_count": 17,
      "outputs": [
        {
          "output_type": "stream",
          "name": "stdout",
          "text": [
            "Model: \"sequential\"\n",
            "_________________________________________________________________\n",
            " Layer (type)                Output Shape              Param #   \n",
            "=================================================================\n",
            " conv2d (Conv2D)             (None, 26, 26, 32)        320       \n",
            "                                                                 \n",
            " activation (Activation)     (None, 26, 26, 32)        0         \n",
            "                                                                 \n",
            " flatten (Flatten)           (None, 21632)             0         \n",
            "                                                                 \n",
            " dense (Dense)               (None, 10)                216330    \n",
            "                                                                 \n",
            " activation_1 (Activation)   (None, 10)                0         \n",
            "                                                                 \n",
            "=================================================================\n",
            "Total params: 216,650\n",
            "Trainable params: 216,650\n",
            "Non-trainable params: 0\n",
            "_________________________________________________________________\n"
          ]
        }
      ]
    },
    {
      "cell_type": "markdown",
      "metadata": {
        "id": "_YTVYVDpp13s"
      },
      "source": [
        "#### Step 2: Compile"
      ]
    },
    {
      "cell_type": "code",
      "metadata": {
        "id": "hzEq1jKwp13u"
      },
      "source": [
        "model.compile(loss='categorical_crossentropy',\n",
        "              optimizer=sgd,\n",
        "              metrics=['accuracy'])"
      ],
      "execution_count": null,
      "outputs": []
    },
    {
      "cell_type": "markdown",
      "metadata": {
        "id": "TnmoCs_Jp138"
      },
      "source": [
        "#### Step 3: Fit"
      ]
    },
    {
      "cell_type": "code",
      "metadata": {
        "scrolled": true,
        "id": "ZnFTViRzp14B",
        "colab": {
          "base_uri": "https://localhost:8080/"
        },
        "outputId": "06e1ee28-4149-465d-b397-8f9d28a42b91"
      },
      "source": [
        "hist = model.fit(X_train, Y_train, batch_size=batch_size, \n",
        "                 epochs=nb_epoch, verbose=1, \n",
        "                 validation_split=.2)"
      ],
      "execution_count": null,
      "outputs": [
        {
          "output_type": "stream",
          "name": "stdout",
          "text": [
            "Epoch 1/5\n",
            "750/750 [==============================] - 14s 4ms/step - loss: 0.3776 - accuracy: 0.8881 - val_loss: 0.2099 - val_accuracy: 0.9421\n",
            "Epoch 2/5\n",
            "750/750 [==============================] - 3s 4ms/step - loss: 0.1584 - accuracy: 0.9555 - val_loss: 0.1163 - val_accuracy: 0.9694\n",
            "Epoch 3/5\n",
            "750/750 [==============================] - 4s 5ms/step - loss: 0.0994 - accuracy: 0.9719 - val_loss: 0.0943 - val_accuracy: 0.9749\n",
            "Epoch 4/5\n",
            "750/750 [==============================] - 4s 5ms/step - loss: 0.0760 - accuracy: 0.9779 - val_loss: 0.0898 - val_accuracy: 0.9758\n",
            "Epoch 5/5\n",
            "750/750 [==============================] - 3s 4ms/step - loss: 0.0634 - accuracy: 0.9812 - val_loss: 0.0774 - val_accuracy: 0.9774\n"
          ]
        }
      ]
    },
    {
      "cell_type": "markdown",
      "metadata": {
        "id": "HV82KqvQp14p"
      },
      "source": [
        "### Let's plot our model Predictions!"
      ]
    },
    {
      "cell_type": "code",
      "metadata": {
        "id": "tPh0nr6yp14M",
        "colab": {
          "base_uri": "https://localhost:8080/",
          "height": 559
        },
        "outputId": "7f2f2e80-29de-4235-aec3-9a98b8970145"
      },
      "source": [
        "#plot loss and accuracy at each epoch\n",
        "import matplotlib.pyplot as plt\n",
        "%matplotlib inline\n",
        "\n",
        "plt.figure()\n",
        "plt.xlabel('Epochs')\n",
        "plt.ylabel('Loss')\n",
        "plt.plot(hist.history['loss'])\n",
        "plt.plot(hist.history['val_loss'])\n",
        "plt.legend(['Training', 'Validation'])\n",
        "\n",
        "plt.figure()\n",
        "plt.xlabel('Epochs')\n",
        "plt.ylabel('Accuracy')\n",
        "plt.plot(hist.history['accuracy'])\n",
        "plt.plot(hist.history['val_accuracy'])\n",
        "plt.legend(['Training', 'Validation'], loc='lower right')"
      ],
      "execution_count": null,
      "outputs": [
        {
          "output_type": "execute_result",
          "data": {
            "text/plain": [
              "<matplotlib.legend.Legend at 0x7f14bc132d10>"
            ]
          },
          "metadata": {},
          "execution_count": 18
        },
        {
          "output_type": "display_data",
          "data": {
            "text/plain": [
              "<Figure size 432x288 with 1 Axes>"
            ],
            "image/png": "[encoded data removed]"
          },
          "metadata": {
            "needs_background": "light"
          }
        },
        {
          "output_type": "display_data",
          "data": {
            "text/plain": [
              "<Figure size 432x288 with 1 Axes>"
            ],
            "image/png": "[encoded data removed]"
          },
          "metadata": {
            "needs_background": "light"
          }
        }
      ]
    },
    {
      "cell_type": "markdown",
      "metadata": {
        "id": "-ztF6POhp14U"
      },
      "source": [
        "### Step 4: Evaluate"
      ]
    },
    {
      "cell_type": "code",
      "metadata": {
        "id": "QHjxbdbkp14Y",
        "colab": {
          "base_uri": "https://localhost:8080/"
        },
        "outputId": "91d1b07f-9e60-41e1-a510-5c4acf3e7719"
      },
      "source": [
        "print('Available Metrics in Model: {}'.format(model.metrics_names))"
      ],
      "execution_count": null,
      "outputs": [
        {
          "output_type": "stream",
          "name": "stdout",
          "text": [
            "Available Metrics in Model: ['loss', 'accuracy']\n"
          ]
        }
      ]
    },
    {
      "cell_type": "code",
      "metadata": {
        "id": "K0jp62qWp14h",
        "colab": {
          "base_uri": "https://localhost:8080/"
        },
        "outputId": "a8fa5944-4a2b-4e9a-ef84-d74886d16d9e"
      },
      "source": [
        "# Evaluating the model on the test data    \n",
        "loss, accuracy = model.evaluate(X_test, Y_test, verbose=0)\n",
        "print('Test Loss:', loss)\n",
        "print('Test Accuracy:', accuracy)"
      ],
      "execution_count": null,
      "outputs": [
        {
          "output_type": "stream",
          "name": "stdout",
          "text": [
            "Test Loss: 0.06986350566148758\n",
            "Test Accuracy: 0.9782000184059143\n"
          ]
        }
      ]
    },
    {
      "cell_type": "markdown",
      "metadata": {
        "id": "_glScDT_p15A"
      },
      "source": [
        "# Adding more Dense Layers"
      ]
    },
    {
      "cell_type": "code",
      "metadata": {
        "id": "VYU6j6WJp15E"
      },
      "source": [
        "model = Sequential()\n",
        "model.add(Conv2D(nb_filters, (nb_conv, nb_conv),\n",
        "                 padding='valid', input_shape=shape_ord))\n",
        "model.add(Activation('relu'))\n",
        "\n",
        "model.add(Flatten())\n",
        "model.add(Dense(128))\n",
        "model.add(Activation('relu'))\n",
        "\n",
        "model.add(Dense(nb_classes))\n",
        "model.add(Activation('softmax'))"
      ],
      "execution_count": null,
      "outputs": []
    },
    {
      "cell_type": "code",
      "metadata": {
        "id": "rRR1Si9Zp15P",
        "colab": {
          "base_uri": "https://localhost:8080/"
        },
        "outputId": "2c8800e7-f4f0-4900-b51c-5ec7cc5c0e96"
      },
      "source": [
        "model.compile(loss='categorical_crossentropy',\n",
        "              optimizer='sgd',\n",
        "              metrics=['accuracy'])\n",
        "\n",
        "model.fit(X_train, Y_train, batch_size=batch_size, \n",
        "          epochs=nb_epoch,verbose=1,\n",
        "          validation_data=(X_test, Y_test))"
      ],
      "execution_count": null,
      "outputs": [
        {
          "output_type": "stream",
          "name": "stdout",
          "text": [
            "Epoch 1/5\n",
            "938/938 [==============================] - 4s 4ms/step - loss: 0.4935 - accuracy: 0.8705 - val_loss: 0.2550 - val_accuracy: 0.9265\n",
            "Epoch 2/5\n",
            "938/938 [==============================] - 4s 4ms/step - loss: 0.2409 - accuracy: 0.9305 - val_loss: 0.2053 - val_accuracy: 0.9412\n",
            "Epoch 3/5\n",
            "938/938 [==============================] - 4s 4ms/step - loss: 0.1866 - accuracy: 0.9466 - val_loss: 0.1951 - val_accuracy: 0.9434\n",
            "Epoch 4/5\n",
            "938/938 [==============================] - 4s 4ms/step - loss: 0.1533 - accuracy: 0.9557 - val_loss: 0.1406 - val_accuracy: 0.9595\n",
            "Epoch 5/5\n",
            "938/938 [==============================] - 4s 4ms/step - loss: 0.1298 - accuracy: 0.9626 - val_loss: 0.1267 - val_accuracy: 0.9621\n"
          ]
        },
        {
          "output_type": "execute_result",
          "data": {
            "text/plain": [
              "<keras.callbacks.History at 0x7f14a81bacd0>"
            ]
          },
          "metadata": {},
          "execution_count": 22
        }
      ]
    },
    {
      "cell_type": "code",
      "metadata": {
        "id": "YdvG5sVTp15h",
        "colab": {
          "base_uri": "https://localhost:8080/"
        },
        "outputId": "fadc74a9-3ee3-4a88-af6d-4b64def1a4f2"
      },
      "source": [
        "#Evaluating the model on the test data    \n",
        "score, accuracy = model.evaluate(X_test, Y_test, verbose=0)\n",
        "print('Test score:', score)\n",
        "print('Test accuracy:', accuracy)"
      ],
      "execution_count": null,
      "outputs": [
        {
          "output_type": "stream",
          "name": "stdout",
          "text": [
            "Test score: 0.12665961682796478\n",
            "Test accuracy: 0.9621000289916992\n"
          ]
        }
      ]
    },
    {
      "cell_type": "markdown",
      "metadata": {
        "id": "dprCaPrnp16T"
      },
      "source": [
        "# Adding more Convolution Layers and Max Pooling\n",
        "\n",
        "---\n",
        "\n"
      ]
    },
    {
      "cell_type": "code",
      "metadata": {
        "id": "VU402dZkp16V"
      },
      "source": [
        "model = Sequential()\n",
        "model.add(Conv2D(nb_filters, (nb_conv, nb_conv),\n",
        "                 padding='valid', input_shape=shape_ord))\n",
        "model.add(Activation('relu'))\n",
        "model.add(MaxPooling2D(pool_size=(nb_pool, nb_pool)))\n",
        "\n",
        "model.add(Conv2D(nb_filters, (nb_conv, nb_conv)))\n",
        "model.add(Activation('relu'))\n",
        "model.add(MaxPooling2D(pool_size=(nb_pool, nb_pool)))\n",
        "  \n",
        "model.add(Flatten())\n",
        "model.add(Dense(128))\n",
        "model.add(Activation('relu'))\n",
        "model.add(Dense(nb_classes))\n",
        "model.add(Activation('softmax'))"
      ],
      "execution_count": null,
      "outputs": []
    },
    {
      "cell_type": "code",
      "metadata": {
        "id": "Q3UeAGHyp16a",
        "colab": {
          "base_uri": "https://localhost:8080/"
        },
        "outputId": "7020e9be-b1d7-4e87-8004-fc084042271d"
      },
      "source": [
        "model.compile(loss='categorical_crossentropy',\n",
        "              optimizer='sgd',\n",
        "              metrics=['accuracy'])\n",
        "\n",
        "model.fit(X_train, Y_train, batch_size=batch_size, \n",
        "          epochs=nb_epoch,verbose=1,\n",
        "          validation_data=(X_test, Y_test))"
      ],
      "execution_count": null,
      "outputs": [
        {
          "output_type": "stream",
          "name": "stdout",
          "text": [
            "Epoch 1/5\n",
            "938/938 [==============================] - 5s 5ms/step - loss: 0.8079 - accuracy: 0.7655 - val_loss: 0.2627 - val_accuracy: 0.9230\n",
            "Epoch 2/5\n",
            "938/938 [==============================] - 4s 4ms/step - loss: 0.2088 - accuracy: 0.9383 - val_loss: 0.1456 - val_accuracy: 0.9586\n",
            "Epoch 3/5\n",
            "938/938 [==============================] - 4s 4ms/step - loss: 0.1454 - accuracy: 0.9568 - val_loss: 0.1270 - val_accuracy: 0.9600\n",
            "Epoch 4/5\n",
            "938/938 [==============================] - 4s 4ms/step - loss: 0.1156 - accuracy: 0.9651 - val_loss: 0.1001 - val_accuracy: 0.9694\n",
            "Epoch 5/5\n",
            "938/938 [==============================] - 4s 4ms/step - loss: 0.0989 - accuracy: 0.9701 - val_loss: 0.0962 - val_accuracy: 0.9712\n"
          ]
        },
        {
          "output_type": "execute_result",
          "data": {
            "text/plain": [
              "<keras.callbacks.History at 0x7f14a8044650>"
            ]
          },
          "metadata": {},
          "execution_count": 25
        }
      ]
    },
    {
      "cell_type": "code",
      "metadata": {
        "id": "3BhwVa_Yp16k",
        "colab": {
          "base_uri": "https://localhost:8080/"
        },
        "outputId": "ba302f2e-4231-418f-c83d-6e091d9a2a13"
      },
      "source": [
        "#Evaluating the model on the test data    \n",
        "score, accuracy = model.evaluate(X_test, Y_test, verbose=0)\n",
        "print('Test score:', score)\n",
        "print('Test accuracy:', accuracy)"
      ],
      "execution_count": null,
      "outputs": [
        {
          "output_type": "stream",
          "name": "stdout",
          "text": [
            "Test score: 0.09620118141174316\n",
            "Test accuracy: 0.9711999893188477\n"
          ]
        }
      ]
    },
    {
      "cell_type": "markdown",
      "metadata": {
        "id": "5NolY3iup16r"
      },
      "source": [
        "# Exercise\n",
        "\n",
        "The above code has been written as a function. \n",
        "\n",
        "Change some of the **hyperparameters** and see what happens. "
      ]
    },
    {
      "cell_type": "code",
      "metadata": {
        "id": "Pd6L9j3fp16t"
      },
      "source": [
        "# Function for constructing the convolution neural network\n",
        "# Feel free to add parameters, if you want\n",
        "\n",
        "def build_model():\n",
        "    \"\"\"\"\"\"\n",
        "    model = Sequential()\n",
        "    model.add(Conv2D(nb_filters, (nb_conv, nb_conv), \n",
        "                     padding='valid',\n",
        "                     input_shape=shape_ord))\n",
        "    model.add(Activation('relu'))\n",
        "    model.add(Conv2D(nb_filters, (nb_conv, nb_conv)))\n",
        "    model.add(Activation('relu'))\n",
        "    model.add(MaxPooling2D(pool_size=(nb_pool, nb_pool)))\n",
        "    \n",
        "    model.add(Flatten())\n",
        "    model.add(Dense(128))\n",
        "    model.add(Activation('relu'))\n",
        "    model.add(Dense(nb_classes))\n",
        "    model.add(Activation('softmax'))\n",
        "    \n",
        "    model.compile(loss='categorical_crossentropy',\n",
        "              optimizer='sgd',\n",
        "              metrics=['accuracy'])\n",
        "\n",
        "    model.fit(X_train, Y_train, batch_size=batch_size, \n",
        "              epochs=nb_epoch,verbose=1,\n",
        "              validation_data=(X_test, Y_test))\n",
        "          \n",
        "\n",
        "    #Evaluating the model on the test data    \n",
        "    score, accuracy = model.evaluate(X_test, Y_test, verbose=0)\n",
        "    print('Test score:', score)\n",
        "    print('Test accuracy:', accuracy)"
      ],
      "execution_count": null,
      "outputs": []
    },
    {
      "cell_type": "code",
      "metadata": {
        "id": "qlcFcQ71p169",
        "colab": {
          "base_uri": "https://localhost:8080/"
        },
        "outputId": "c911e50c-438c-4f86-db56-971b44a7b27f"
      },
      "source": [
        "#Timing how long it takes to build the model and test it.\n",
        "%timeit -n1 -r1 build_model() # time a single loop of the model in the function. "
      ],
      "execution_count": null,
      "outputs": [
        {
          "output_type": "stream",
          "text": [
            "Epoch 1/5\n",
            "938/938 [==============================] - 4s 4ms/step - loss: 0.6130 - accuracy: 0.8151 - val_loss: 0.2723 - val_accuracy: 0.9211\n",
            "Epoch 2/5\n",
            "938/938 [==============================] - 4s 4ms/step - loss: 0.2077 - accuracy: 0.9382 - val_loss: 0.1841 - val_accuracy: 0.9450\n",
            "Epoch 3/5\n",
            "938/938 [==============================] - 4s 4ms/step - loss: 0.1541 - accuracy: 0.9539 - val_loss: 0.1451 - val_accuracy: 0.9555\n",
            "Epoch 4/5\n",
            "938/938 [==============================] - 4s 4ms/step - loss: 0.1259 - accuracy: 0.9619 - val_loss: 0.1219 - val_accuracy: 0.9639\n",
            "Epoch 5/5\n",
            "938/938 [==============================] - 4s 4ms/step - loss: 0.1079 - accuracy: 0.9672 - val_loss: 0.1265 - val_accuracy: 0.9576\n",
            "Test score: 0.12647204101085663\n",
            "Test accuracy: 0.9575999975204468\n",
            "1 loop, best of 1: 19.3 s per loop\n"
          ],
          "name": "stdout"
        }
      ]
    },
    {
      "cell_type": "code",
      "metadata": {
        "id": "hbPDGCMDrGcf"
      },
      "source": [
        "model.save(\"hand_written_digits_keras.h5\") # save model to single HDF5 file"
      ],
      "execution_count": null,
      "outputs": []
    },
    {
      "cell_type": "code",
      "metadata": {
        "id": "-F6BTJtLrx7G"
      },
      "source": [
        "from keras.models import load_model\n",
        "\n",
        "# returns a compiled model\n",
        "# identical to the previous one\n",
        "modelload = load_model(\"hand_written_digits_keras.h5\")"
      ],
      "execution_count": null,
      "outputs": []
    },
    {
      "cell_type": "code",
      "metadata": {
        "id": "sMh8YBDdr-Ln"
      },
      "source": [
        "from skimage import io\n",
        "from skimage.transform import rescale,resize\n",
        "import numpy\n",
        "from skimage.color import rgb2gray\n",
        "image_file_type=\"jpg\"\n",
        "\n",
        "img = io.imread(\"img_2.jpg\")\n",
        "\n",
        "fixed_size=(32,32)\n",
        "#img=reshape(img,-1)\n",
        "resized_image=resize(img, fixed_size) #reshaping image\n",
        "\n",
        "resized_image.shape\n"
      ],
      "execution_count": null,
      "outputs": []
    },
    {
      "cell_type": "code",
      "metadata": {
        "id": "4_KBM3nQssdz",
        "colab": {
          "base_uri": "https://localhost:8080/",
          "height": 34
        },
        "outputId": "363f220c-c256-4e12-a184-eee66d8aad98"
      },
      "source": [
        "# load_model_sample.py\n",
        "from keras.models import load_model\n",
        "from keras.preprocessing import image\n",
        "import numpy as np\n",
        "\n",
        "\n",
        "fixed_size=(28,28)\n",
        "\n",
        "def load_image(img_path, fixed_size,show=False):\n",
        "    img = image.load_img(img_path, target_size=fixed_size,color_mode='grayscale')\n",
        "    img_tensor = image.img_to_array(img)                    # (height, width, channels)\n",
        "    img_tensor = np.expand_dims(img_tensor, axis=0)\n",
        "             # (1, height, width, channels), add a dimension because the model expects this shape: (batch_size, height, width, channels)\n",
        "    img_tensor = (img_tensor-img_tensor.min())/(img_tensor.max()-img_tensor.min())     # models expect values between 0,1                          \n",
        "    return img_tensor\n",
        "\n",
        "\n",
        "# load model\n",
        "modelload = load_model(\"hand_written_digits_keras.h5\")\n",
        "\n",
        "# image path\n",
        "img_path = 'img_2.jpg'    \n",
        "\n",
        "# load a single image\n",
        "new_image = load_image(img_path, fixed_size)\n",
        "\n",
        "# check prediction\n",
        "modelload.predict_classes(new_image)"
      ],
      "execution_count": null,
      "outputs": [
        {
          "output_type": "execute_result",
          "data": {
            "text/plain": [
              "array([0])"
            ]
          },
          "metadata": {
            "tags": []
          },
          "execution_count": 42
        }
      ]
    },
    {
      "cell_type": "code",
      "metadata": {
        "id": "9yN4VpYkz6sk"
      },
      "source": [
        "# What would color image preprocessing look like?\n",
        "\n",
        "# Import image, load to array of shape height, width, channels, then min/max transform.\n",
        "from keras.preprocessing import image\n",
        "import numpy as np\n",
        "from PIL import Image\n",
        "\n",
        "def load_image(img_path):\n",
        "        img = Image.open(img_path).convert(\"RGB\").resize((192,192)) # import image, make sure it's RGB and resize to height and width you want.\n",
        "        img = (np.float32(img)-np.float32(img).min())/(np.float32(img).max()-np.float32(img).min()) # min max transformation\n",
        "        img=img.reshape((192,192,3)) # Create final shape as array with correct dimensions for Keras\n",
        "        return img\n",
        "\n",
        "# read in all images from filenames\n",
        "\n",
        "preprocessed_image_data=list(map(load_image, listoffilepaths)) \n",
        "\n",
        "# Object needs to be an array rather than a list for Keras (map returns to list object)\n",
        "X= np.array(preprocessed_image_data) # Assigning to X to highlight that this represents feature input data for our model"
      ],
      "execution_count": null,
      "outputs": []
    },
    {
      "cell_type": "markdown",
      "metadata": {
        "id": "7xZ1bJlRp17J"
      },
      "source": [
        "---"
      ]
    }
  ]
}