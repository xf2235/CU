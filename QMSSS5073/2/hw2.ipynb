{
 "cells": [
  {
   "cell_type": "markdown",
   "id": "1eb52ff8-026d-45cf-987e-767740d9ae0f",
   "metadata": {},
   "source": [
    "# HW2"
   ]
  },
  {
   "cell_type": "markdown",
   "id": "3c41f49c-c4c4-46a4-ad26-d15112a3f136",
   "metadata": {},
   "source": [
    "## Part 1"
   ]
  },
  {
   "cell_type": "code",
   "execution_count": 217,
   "id": "6f160d61-66aa-4467-ad4e-8ef5d460590e",
   "metadata": {},
   "outputs": [],
   "source": [
    "import pandas as pd\n",
    "import numpy as np\n",
    "import matplotlib.pyplot as plt\n",
    "from statistics import mean \n",
    "from sklearn.model_selection import train_test_split\n",
    "from sklearn.model_selection import cross_val_score\n",
    "from sklearn.model_selection import KFold\n",
    "from sklearn.model_selection import RepeatedKFold\n",
    "from sklearn.model_selection import StratifiedKFold\n",
    "from sklearn.neighbors import KNeighborsRegressor as KNN\n",
    "from sklearn.linear_model import LinearRegression as LM\n",
    "from sklearn.linear_model import Ridge\n",
    "from sklearn.linear_model import Lasso\n",
    "from sklearn.preprocessing import StandardScaler\n",
    "from sklearn.model_selection import GridSearchCV\n",
    "from sklearn.linear_model import LogisticRegression as GLM\n",
    "from sklearn.neighbors import KNeighborsClassifier as KNC\n",
    "%matplotlib inline"
   ]
  },
  {
   "cell_type": "code",
   "execution_count": 218,
   "id": "5ba91671-f030-417c-a5d8-76cc9dd2e675",
   "metadata": {},
   "outputs": [
    {
     "data": {
      "text/html": [
       "<div>\n",
       "<style scoped>\n",
       "    .dataframe tbody tr th:only-of-type {\n",
       "        vertical-align: middle;\n",
       "    }\n",
       "\n",
       "    .dataframe tbody tr th {\n",
       "        vertical-align: top;\n",
       "    }\n",
       "\n",
       "    .dataframe thead th {\n",
       "        text-align: right;\n",
       "    }\n",
       "</style>\n",
       "<table border=\"1\" class=\"dataframe\">\n",
       "  <thead>\n",
       "    <tr style=\"text-align: right;\">\n",
       "      <th></th>\n",
       "      <th>distcod</th>\n",
       "      <th>county</th>\n",
       "      <th>district</th>\n",
       "      <th>grspan</th>\n",
       "      <th>enrltot</th>\n",
       "      <th>teachers</th>\n",
       "      <th>calwpct</th>\n",
       "      <th>mealpct</th>\n",
       "      <th>computer</th>\n",
       "      <th>testscr</th>\n",
       "      <th>compstu</th>\n",
       "      <th>expnstu</th>\n",
       "      <th>str</th>\n",
       "      <th>avginc</th>\n",
       "      <th>elpct</th>\n",
       "      <th>readscr</th>\n",
       "      <th>mathscr</th>\n",
       "    </tr>\n",
       "  </thead>\n",
       "  <tbody>\n",
       "    <tr>\n",
       "      <th>0</th>\n",
       "      <td>75119</td>\n",
       "      <td>Alameda</td>\n",
       "      <td>Sunol Glen Unified</td>\n",
       "      <td>KK-08</td>\n",
       "      <td>195</td>\n",
       "      <td>10.900000</td>\n",
       "      <td>0.510200</td>\n",
       "      <td>2.040800</td>\n",
       "      <td>67</td>\n",
       "      <td>690.799988</td>\n",
       "      <td>0.343590</td>\n",
       "      <td>6384.911133</td>\n",
       "      <td>17.889910</td>\n",
       "      <td>22.690001</td>\n",
       "      <td>0.000000</td>\n",
       "      <td>691.599976</td>\n",
       "      <td>690.000000</td>\n",
       "    </tr>\n",
       "    <tr>\n",
       "      <th>1</th>\n",
       "      <td>61499</td>\n",
       "      <td>Butte</td>\n",
       "      <td>Manzanita Elementary</td>\n",
       "      <td>KK-08</td>\n",
       "      <td>240</td>\n",
       "      <td>11.150000</td>\n",
       "      <td>15.416700</td>\n",
       "      <td>47.916698</td>\n",
       "      <td>101</td>\n",
       "      <td>661.200012</td>\n",
       "      <td>0.420833</td>\n",
       "      <td>5099.380859</td>\n",
       "      <td>21.524664</td>\n",
       "      <td>9.824000</td>\n",
       "      <td>4.583333</td>\n",
       "      <td>660.500000</td>\n",
       "      <td>661.900024</td>\n",
       "    </tr>\n",
       "    <tr>\n",
       "      <th>2</th>\n",
       "      <td>61549</td>\n",
       "      <td>Butte</td>\n",
       "      <td>Thermalito Union Elementary</td>\n",
       "      <td>KK-08</td>\n",
       "      <td>1550</td>\n",
       "      <td>82.900002</td>\n",
       "      <td>55.032299</td>\n",
       "      <td>76.322601</td>\n",
       "      <td>169</td>\n",
       "      <td>643.599976</td>\n",
       "      <td>0.109032</td>\n",
       "      <td>5501.954590</td>\n",
       "      <td>18.697226</td>\n",
       "      <td>8.978000</td>\n",
       "      <td>30.000002</td>\n",
       "      <td>636.299988</td>\n",
       "      <td>650.900024</td>\n",
       "    </tr>\n",
       "    <tr>\n",
       "      <th>3</th>\n",
       "      <td>61457</td>\n",
       "      <td>Butte</td>\n",
       "      <td>Golden Feather Union Elementary</td>\n",
       "      <td>KK-08</td>\n",
       "      <td>243</td>\n",
       "      <td>14.000000</td>\n",
       "      <td>36.475399</td>\n",
       "      <td>77.049202</td>\n",
       "      <td>85</td>\n",
       "      <td>647.700012</td>\n",
       "      <td>0.349794</td>\n",
       "      <td>7101.831055</td>\n",
       "      <td>17.357143</td>\n",
       "      <td>8.978000</td>\n",
       "      <td>0.000000</td>\n",
       "      <td>651.900024</td>\n",
       "      <td>643.500000</td>\n",
       "    </tr>\n",
       "    <tr>\n",
       "      <th>4</th>\n",
       "      <td>61523</td>\n",
       "      <td>Butte</td>\n",
       "      <td>Palermo Union Elementary</td>\n",
       "      <td>KK-08</td>\n",
       "      <td>1335</td>\n",
       "      <td>71.500000</td>\n",
       "      <td>33.108601</td>\n",
       "      <td>78.427002</td>\n",
       "      <td>171</td>\n",
       "      <td>640.849976</td>\n",
       "      <td>0.128090</td>\n",
       "      <td>5235.987793</td>\n",
       "      <td>18.671329</td>\n",
       "      <td>9.080333</td>\n",
       "      <td>13.857677</td>\n",
       "      <td>641.799988</td>\n",
       "      <td>639.900024</td>\n",
       "    </tr>\n",
       "  </tbody>\n",
       "</table>\n",
       "</div>"
      ],
      "text/plain": [
       "   distcod   county                         district grspan  enrltot  \\\n",
       "0    75119  Alameda               Sunol Glen Unified  KK-08      195   \n",
       "1    61499    Butte             Manzanita Elementary  KK-08      240   \n",
       "2    61549    Butte      Thermalito Union Elementary  KK-08     1550   \n",
       "3    61457    Butte  Golden Feather Union Elementary  KK-08      243   \n",
       "4    61523    Butte         Palermo Union Elementary  KK-08     1335   \n",
       "\n",
       "    teachers    calwpct    mealpct  computer     testscr   compstu  \\\n",
       "0  10.900000   0.510200   2.040800        67  690.799988  0.343590   \n",
       "1  11.150000  15.416700  47.916698       101  661.200012  0.420833   \n",
       "2  82.900002  55.032299  76.322601       169  643.599976  0.109032   \n",
       "3  14.000000  36.475399  77.049202        85  647.700012  0.349794   \n",
       "4  71.500000  33.108601  78.427002       171  640.849976  0.128090   \n",
       "\n",
       "       expnstu        str     avginc      elpct     readscr     mathscr  \n",
       "0  6384.911133  17.889910  22.690001   0.000000  691.599976  690.000000  \n",
       "1  5099.380859  21.524664   9.824000   4.583333  660.500000  661.900024  \n",
       "2  5501.954590  18.697226   8.978000  30.000002  636.299988  650.900024  \n",
       "3  7101.831055  17.357143   8.978000   0.000000  651.900024  643.500000  \n",
       "4  5235.987793  18.671329   9.080333  13.857677  641.799988  639.900024  "
      ]
     },
     "execution_count": 218,
     "metadata": {},
     "output_type": "execute_result"
    }
   ],
   "source": [
    "# read caschool and take off replicated serial as index\n",
    "caschool = pd.read_csv(\"https://vincentarelbundock.github.io/Rdatasets/csv/Ecdat/Caschool.csv\")\n",
    "caschool = caschool.iloc[:,1:]\n",
    "caschool.head()"
   ]
  },
  {
   "cell_type": "markdown",
   "id": "12bdbd36-d2d2-4197-88d7-203be75e37b4",
   "metadata": {},
   "source": [
    "### 1.1 Visualize the univariate distribution of the target feature and each of the three continuous explanatory variables that you think are likely to have a relationship with the target feature.   "
   ]
  },
  {
   "cell_type": "code",
   "execution_count": 220,
   "id": "20be516e-49df-4b84-a0fc-45680ce463c7",
   "metadata": {},
   "outputs": [
    {
     "data": {
      "text/plain": [
       "Text(0, 0.5, 'Count')"
      ]
     },
     "execution_count": 220,
     "metadata": {},
     "output_type": "execute_result"
    },
    {
     "data": {
      "image/png": "[encoded data removed]",
      "text/plain": [
       "<Figure size 432x288 with 1 Axes>"
      ]
     },
     "metadata": {
      "needs_background": "light"
     },
     "output_type": "display_data"
    }
   ],
   "source": [
    "caschool.testscr.hist()\n",
    "plt.xlabel('Average test score (read.scr+math.scr)/2')\n",
    "plt.ylabel('Count')"
   ]
  },
  {
   "cell_type": "code",
   "execution_count": 221,
   "id": "9c00f50e-e625-4369-bf5d-567fe87dc312",
   "metadata": {},
   "outputs": [
    {
     "data": {
      "text/plain": [
       "Text(0, 0.5, 'Count')"
      ]
     },
     "execution_count": 221,
     "metadata": {},
     "output_type": "execute_result"
    },
    {
     "data": {
      "image/png": "[encoded data removed]",
      "text/plain": [
       "<Figure size 432x288 with 1 Axes>"
      ]
     },
     "metadata": {
      "needs_background": "light"
     },
     "output_type": "display_data"
    }
   ],
   "source": [
    "caschool.compstu.hist()\n",
    "plt.xlabel('Computer per student')\n",
    "plt.ylabel('Count')"
   ]
  },
  {
   "cell_type": "code",
   "execution_count": 222,
   "id": "19756b4f-025b-4d05-bcf4-1417984d86ce",
   "metadata": {},
   "outputs": [
    {
     "data": {
      "text/plain": [
       "Text(0, 0.5, 'Count')"
      ]
     },
     "execution_count": 222,
     "metadata": {},
     "output_type": "execute_result"
    },
    {
     "data": {
      "image/png": "[encoded data removed]",
      "text/plain": [
       "<Figure size 432x288 with 1 Axes>"
      ]
     },
     "metadata": {
      "needs_background": "light"
     },
     "output_type": "display_data"
    }
   ],
   "source": [
    "caschool.expnstu.hist()\n",
    "plt.xlabel('Expenditure per student')\n",
    "plt.ylabel('Count')"
   ]
  },
  {
   "cell_type": "code",
   "execution_count": 223,
   "id": "1220800c-8089-4e4c-a23e-a8096cd62d7d",
   "metadata": {},
   "outputs": [
    {
     "data": {
      "text/plain": [
       "Text(0, 0.5, 'Count')"
      ]
     },
     "execution_count": 223,
     "metadata": {},
     "output_type": "execute_result"
    },
    {
     "data": {
      "image/png": "[encoded data removed]",
      "text/plain": [
       "<Figure size 432x288 with 1 Axes>"
      ]
     },
     "metadata": {
      "needs_background": "light"
     },
     "output_type": "display_data"
    }
   ],
   "source": [
    "caschool.str.hist()\n",
    "plt.xlabel('Student teacher ratio')\n",
    "plt.ylabel('Count')"
   ]
  },
  {
   "cell_type": "markdown",
   "id": "9964edb1-70a8-4994-87c5-9d8282bebf8e",
   "metadata": {},
   "source": [
    "### 1.2 Visualize the dependency of the target on each feature from 1.1."
   ]
  },
  {
   "cell_type": "code",
   "execution_count": 224,
   "id": "0b641326-4dd8-417f-9634-d03310d26edb",
   "metadata": {},
   "outputs": [
    {
     "data": {
      "text/plain": [
       "Text(0, 0.5, 'Percent qualifying for reduced-price lunch')"
      ]
     },
     "execution_count": 224,
     "metadata": {},
     "output_type": "execute_result"
    },
    {
     "data": {
      "image/png": "[encoded data removed]",
      "text/plain": [
       "<Figure size 432x288 with 1 Axes>"
      ]
     },
     "metadata": {
      "needs_background": "light"
     },
     "output_type": "display_data"
    }
   ],
   "source": [
    "plt.scatter(caschool.mealpct, caschool.testscr)\n",
    "plt.title('Average test score by Percent qualifying for reduced-price lunch')\n",
    "plt.xlabel('Average test score (read.scr+math.scr)/2')\n",
    "plt.ylabel('Percent qualifying for reduced-price lunch')"
   ]
  },
  {
   "cell_type": "code",
   "execution_count": 225,
   "id": "9f6c021d-1b5f-4d1f-afbe-ad4e22c42d9e",
   "metadata": {},
   "outputs": [
    {
     "data": {
      "text/plain": [
       "Text(0, 0.5, 'District average income')"
      ]
     },
     "execution_count": 225,
     "metadata": {},
     "output_type": "execute_result"
    },
    {
     "data": {
      "image/png": "[encoded data removed]",
      "text/plain": [
       "<Figure size 432x288 with 1 Axes>"
      ]
     },
     "metadata": {
      "needs_background": "light"
     },
     "output_type": "display_data"
    }
   ],
   "source": [
    "plt.scatter(caschool.avginc, caschool.testscr)\n",
    "plt.title('Average test score by district average income')\n",
    "plt.xlabel('Average test score (read.scr+math.scr)/2')\n",
    "plt.ylabel('District average income')"
   ]
  },
  {
   "cell_type": "code",
   "execution_count": 226,
   "id": "a864dd69-d858-427c-9e4e-6abcb997f2d6",
   "metadata": {},
   "outputs": [
    {
     "data": {
      "text/plain": [
       "Text(0, 0.5, 'Percent of English learners')"
      ]
     },
     "execution_count": 226,
     "metadata": {},
     "output_type": "execute_result"
    },
    {
     "data": {
      "image/png": "[encoded data removed]",
      "text/plain": [
       "<Figure size 432x288 with 1 Axes>"
      ]
     },
     "metadata": {
      "needs_background": "light"
     },
     "output_type": "display_data"
    }
   ],
   "source": [
    "plt.scatter(caschool.elpct, caschool.testscr)\n",
    "plt.title('Average test score by percent of English learners')\n",
    "plt.xlabel('Average test score (read.scr+math.scr)/2')\n",
    "plt.ylabel('Percent of English learners')"
   ]
  },
  {
   "cell_type": "markdown",
   "id": "a1143d3b-282f-42e9-8a96-03bd0703202c",
   "metadata": {},
   "source": [
    "### 1.3 Split data in training and test set. Build models that evaluate the relationship between all available X variables in the California test dataset and the target variable. Evaluate KNN for regression, Linear Regression (OLS), Ridge, and Lasso using cross-validation with the default parameters. Does scaling the data with the StandardScaler help?"
   ]
  },
  {
   "cell_type": "code",
   "execution_count": 239,
   "id": "0c829bed-adba-443d-bea8-94e9815fc851",
   "metadata": {},
   "outputs": [],
   "source": [
    "# generate iv/dv\n",
    "X = caschool.drop(['distcod','county','district','grspan','testscr','readscr','mathscr'], axis=1)\n",
    "y = caschool.testscr"
   ]
  },
  {
   "cell_type": "code",
   "execution_count": 240,
   "id": "2299d09b-2049-465e-a15f-ade2ff64798b",
   "metadata": {},
   "outputs": [
    {
     "data": {
      "text/plain": [
       "(315, 10)"
      ]
     },
     "execution_count": 240,
     "metadata": {},
     "output_type": "execute_result"
    }
   ],
   "source": [
    "# split train & test\n",
    "X_train, X_test, y_train, y_test = train_test_split(X, y, train_size=0.75, random_state=3)\n",
    "X_train.shape"
   ]
  },
  {
   "cell_type": "code",
   "execution_count": 241,
   "id": "1affb52e-b763-4064-8245-e176ea3a9e54",
   "metadata": {},
   "outputs": [],
   "source": [
    "# create cv\n",
    "kfold = KFold(n_splits=5)\n",
    "skfold = StratifiedKFold(n_splits=5, shuffle=True)\n",
    "rkf = RepeatedKFold(n_splits=5, n_repeats=10)"
   ]
  },
  {
   "cell_type": "code",
   "execution_count": 242,
   "id": "f97a7484-67cc-4795-b707-225fcc155ec7",
   "metadata": {},
   "outputs": [
    {
     "name": "stdout",
     "output_type": "stream",
     "text": [
      "knn algorithm\n",
      "KFold: -0.004972701872224117\n",
      "RepeatedKFold: -0.024620987262821203\n"
     ]
    }
   ],
   "source": [
    "# knn algorithm\n",
    "np.random.seed(23)\n",
    "knn = KNN(n_neighbors=5)\n",
    "knn_kfold = mean(cross_val_score(knn, X_train, y_train, cv=kfold))\n",
    "knn_rkfold = mean(cross_val_score(knn, X_train, y_train, cv=rkf))\n",
    "print(\"knn algorithm\")\n",
    "print(\"KFold: {}\".format(knn_kfold))\n",
    "print(\"RepeatedKFold: {}\".format(knn_rkfold))"
   ]
  },
  {
   "cell_type": "code",
   "execution_count": 243,
   "id": "5ce86be7-e4df-4f7c-9f77-fdefe438a384",
   "metadata": {
    "tags": []
   },
   "outputs": [
    {
     "name": "stdout",
     "output_type": "stream",
     "text": [
      "linear regression\n",
      "KFold: 0.7910219660775242\n",
      "RepeatedKFold: 0.7836687968977649\n"
     ]
    }
   ],
   "source": [
    "# linear regression\n",
    "reg = LM()\n",
    "lm_kfold = mean(cross_val_score(reg, X_train, y_train, cv=kfold))\n",
    "lm_rkfold = mean(cross_val_score(reg, X_train, y_train, cv=rkf))\n",
    "print(\"linear regression\")\n",
    "print(\"KFold: {}\".format(lm_kfold))\n",
    "print(\"RepeatedKFold: {}\".format(lm_rkfold))"
   ]
  },
  {
   "cell_type": "code",
   "execution_count": 244,
   "id": "18344c5a-8682-4aef-bac9-bf1ecc9b0143",
   "metadata": {},
   "outputs": [
    {
     "name": "stdout",
     "output_type": "stream",
     "text": [
      "ridge regression\n",
      "Training set score: 0.8029115850522787\n",
      "Test set score: 0.8255426669973926\n"
     ]
    }
   ],
   "source": [
    "# ridge regression\n",
    "ridge = Ridge()\n",
    "ridge.fit(X_train, y_train)\n",
    "ridge_train = ridge.score(X_train, y_train)\n",
    "ridge_test = ridge.score(X_test, y_test)\n",
    "print(\"ridge regression\")\n",
    "print(\"Training set score: {}\".format(ridge_train))\n",
    "print(\"Test set score: {}\".format(ridge_test))"
   ]
  },
  {
   "cell_type": "code",
   "execution_count": 245,
   "id": "22f6ddba-ee6f-4e41-b20a-00adbc91fd3e",
   "metadata": {},
   "outputs": [
    {
     "name": "stdout",
     "output_type": "stream",
     "text": [
      "lasso algorithm\n",
      "Training set score: 0.7991806682958165\n",
      "Test set score: 0.8345802541393493\n",
      "Number of features used: 7\n"
     ]
    }
   ],
   "source": [
    "# lasso algorithm\n",
    "lasso = Lasso().fit(X_train, y_train)\n",
    "lasso_train = lasso.score(X_train, y_train)\n",
    "lasso_test = lasso.score(X_test, y_test)\n",
    "num_fea_used = np.sum(lasso.coef_ != 0)\n",
    "print(\"lasso algorithm\")\n",
    "print(\"Training set score: {}\".format(lasso_train))\n",
    "print(\"Test set score: {}\".format(lasso_test))\n",
    "print(\"Number of features used: {}\".format(num_fea_used))"
   ]
  },
  {
   "cell_type": "code",
   "execution_count": 249,
   "id": "6d7fbfc3-5c4c-4ec1-a134-2df7325d26cd",
   "metadata": {},
   "outputs": [],
   "source": [
    "scaler = StandardScaler()\n",
    "scaler.fit(X_train)\n",
    "X_train_scaled = scaler.transform(X_train)\n",
    "X_test_scaled = scaler.transform(X_test)"
   ]
  },
  {
   "cell_type": "code",
   "execution_count": 73,
   "id": "86285b20-4fc1-47bc-91ea-175b2b259617",
   "metadata": {},
   "outputs": [
    {
     "name": "stdout",
     "output_type": "stream",
     "text": [
      "knn algorithm after scaler\n",
      "KFold: -0.13340158674133132\n",
      "RepeatedKFold: -0.15015145458144996\n"
     ]
    }
   ],
   "source": [
    "# knn algorithm after scaler\n",
    "np.random.seed(23)\n",
    "knn = KNN(n_neighbors=5)\n",
    "knn_kfold_as = mean(cross_val_score(knn, X_train_scaled, y_train, cv=kfold))\n",
    "knn_rkfold_as = mean(cross_val_score(knn, X_train_scaled, y_train, cv=rkf))\n",
    "print(\"knn algorithm after scaler\")\n",
    "print(\"KFold: {}\".format(knn_kfold_as))\n",
    "print(\"RepeatedKFold: {}\".format(knn_rkfold_as))"
   ]
  },
  {
   "cell_type": "code",
   "execution_count": 74,
   "id": "723dcf93-0f93-4919-95fb-12f88c93ac45",
   "metadata": {
    "tags": []
   },
   "outputs": [
    {
     "name": "stdout",
     "output_type": "stream",
     "text": [
      "linear regression after scaler\n",
      "KFold: 0.7910219660775242\n",
      "RepeatedKFold: 0.7836687968977649\n"
     ]
    }
   ],
   "source": [
    "# linear regression after scaler\n",
    "reg = LM()\n",
    "lm_kfold_as = mean(cross_val_score(reg, X_train_scaled, y_train, cv=kfold))\n",
    "lm_rkfold_as = mean(cross_val_score(reg, X_train_scaled, y_train, cv=rkf))\n",
    "print(\"linear regression after scaler\")\n",
    "print(\"KFold: {}\".format(lm_kfold))\n",
    "print(\"RepeatedKFold: {}\".format(lm_rkfold))"
   ]
  },
  {
   "cell_type": "code",
   "execution_count": 75,
   "id": "a9cb5dca-9a91-43ad-91a5-f18f391fa30c",
   "metadata": {},
   "outputs": [
    {
     "name": "stdout",
     "output_type": "stream",
     "text": [
      "ridge regression after scaler\n",
      "Training set score: 0.8029115850522787\n",
      "Test set score: 0.8255426669973926\n"
     ]
    }
   ],
   "source": [
    "# ridge regression after scaler\n",
    "ridge = Ridge()\n",
    "ridge.fit(X_train_scaled, y_train)\n",
    "ridge_train_as = ridge.score(X_train_scaled, y_train)\n",
    "ridge_test_as = ridge.score(X_test_scaled, y_test)\n",
    "print(\"ridge regression after scaler\")\n",
    "print(\"Training set score: {}\".format(ridge_train))\n",
    "print(\"Test set score: {}\".format(ridge_test))"
   ]
  },
  {
   "cell_type": "code",
   "execution_count": 76,
   "id": "26971274-737b-42ff-882e-6da570c502b4",
   "metadata": {},
   "outputs": [
    {
     "name": "stdout",
     "output_type": "stream",
     "text": [
      "lasso algorithm after scaler\n",
      "Training set score: 0.7991806682958165\n",
      "Test set score: 0.8345802541393493\n",
      "Number of features used: 7\n"
     ]
    }
   ],
   "source": [
    "# lasso algorithm after scaler\n",
    "lasso = Lasso().fit(X_train_scaled, y_train)\n",
    "lasso_train_as = lasso.score(X_train_scaled, y_train)\n",
    "lasso_test_as = lasso.score(X_test_scaled, y_test)\n",
    "num_fea_used_as = np.sum(lasso.coef_ != 0)\n",
    "print(\"lasso algorithm after scaler\")\n",
    "print(\"Training set score: {}\".format(lasso_train))\n",
    "print(\"Test set score: {}\".format(lasso_test))\n",
    "print(\"Number of features used: {}\".format(num_fea_used))"
   ]
  },
  {
   "cell_type": "code",
   "execution_count": 77,
   "id": "3599809c-6296-4e9e-bafb-706f3ebb8925",
   "metadata": {},
   "outputs": [
    {
     "data": {
      "text/html": [
       "<div>\n",
       "<style scoped>\n",
       "    .dataframe tbody tr th:only-of-type {\n",
       "        vertical-align: middle;\n",
       "    }\n",
       "\n",
       "    .dataframe tbody tr th {\n",
       "        vertical-align: top;\n",
       "    }\n",
       "\n",
       "    .dataframe thead th {\n",
       "        text-align: right;\n",
       "    }\n",
       "</style>\n",
       "<table border=\"1\" class=\"dataframe\">\n",
       "  <thead>\n",
       "    <tr style=\"text-align: right;\">\n",
       "      <th></th>\n",
       "      <th>before scaler</th>\n",
       "      <th>after scaler</th>\n",
       "    </tr>\n",
       "  </thead>\n",
       "  <tbody>\n",
       "    <tr>\n",
       "      <th>knn_kfold</th>\n",
       "      <td>-0.004973</td>\n",
       "      <td>-0.133402</td>\n",
       "    </tr>\n",
       "    <tr>\n",
       "      <th>knn_rkfold</th>\n",
       "      <td>-0.024621</td>\n",
       "      <td>-0.150151</td>\n",
       "    </tr>\n",
       "    <tr>\n",
       "      <th>lm_kfold</th>\n",
       "      <td>0.791022</td>\n",
       "      <td>0.792757</td>\n",
       "    </tr>\n",
       "    <tr>\n",
       "      <th>lm_rkfold</th>\n",
       "      <td>0.783669</td>\n",
       "      <td>0.786343</td>\n",
       "    </tr>\n",
       "    <tr>\n",
       "      <th>ridge_train</th>\n",
       "      <td>0.802912</td>\n",
       "      <td>0.104761</td>\n",
       "    </tr>\n",
       "    <tr>\n",
       "      <th>ridge_test</th>\n",
       "      <td>0.825543</td>\n",
       "      <td>-888.990486</td>\n",
       "    </tr>\n",
       "    <tr>\n",
       "      <th>lasso_train</th>\n",
       "      <td>0.799181</td>\n",
       "      <td>0.080985</td>\n",
       "    </tr>\n",
       "    <tr>\n",
       "      <th>lasso_test</th>\n",
       "      <td>0.834580</td>\n",
       "      <td>-0.013639</td>\n",
       "    </tr>\n",
       "  </tbody>\n",
       "</table>\n",
       "</div>"
      ],
      "text/plain": [
       "             before scaler  after scaler\n",
       "knn_kfold        -0.004973     -0.133402\n",
       "knn_rkfold       -0.024621     -0.150151\n",
       "lm_kfold          0.791022      0.792757\n",
       "lm_rkfold         0.783669      0.786343\n",
       "ridge_train       0.802912      0.104761\n",
       "ridge_test        0.825543   -888.990486\n",
       "lasso_train       0.799181      0.080985\n",
       "lasso_test        0.834580     -0.013639"
      ]
     },
     "execution_count": 77,
     "metadata": {},
     "output_type": "execute_result"
    }
   ],
   "source": [
    "sclaer_com = pd.DataFrame({'before scaler': pd.Series([knn_kfold, knn_rkfold, lm_kfold, lm_rkfold, ridge_train, ridge_test, lasso_train, lasso_test],\n",
    "              index = ['knn_kfold', 'knn_rkfold', 'lm_kfold', 'lm_rkfold', 'ridge_train', 'ridge_test', 'lasso_train', 'lasso_test']),\n",
    "             'after scaler': pd.Series([knn_kfold_as, knn_rkfold_as, lm_kfold_as, lm_rkfold_as, ridge_train_as, ridge_test_as, lasso_train_as, lasso_test_as],\n",
    "             index = ['knn_kfold', 'knn_rkfold', 'lm_kfold', 'lm_rkfold', 'ridge_train', 'ridge_test', 'lasso_train', 'lasso_test'])\n",
    "             })\n",
    "sclaer_com"
   ]
  },
  {
   "cell_type": "markdown",
   "id": "923e2ea5-7b23-4217-b183-db27894e6f1c",
   "metadata": {},
   "source": [
    "#### As we can see from above scaler comparsion data frame, StandardScaler works various in different model.\n",
    "- Not much difference (<0.001): lm_kfold, lm_rkfold, ridge_train, ridge_test, lasso_train\n",
    "- Better(>=0.001): knn_kfold, knn_rkfold, lasso_test"
   ]
  },
  {
   "cell_type": "markdown",
   "id": "2b3c37b3-3a0e-468e-a24d-513a2f134159",
   "metadata": {},
   "source": [
    "### 1.4 Tune the parameters of the models where possible using GridSearchCV. Do the results improve?"
   ]
  },
  {
   "cell_type": "code",
   "execution_count": 78,
   "id": "ac15fc25-e0f1-428a-9d03-dae4aecd2707",
   "metadata": {},
   "outputs": [
    {
     "name": "stdout",
     "output_type": "stream",
     "text": [
      "{'kneighborsregressor__n_neighbors': 9}\n",
      "0.8039568361272176\n"
     ]
    }
   ],
   "source": [
    "from sklearn.pipeline import make_pipeline\n",
    "knn_pipe = make_pipeline(StandardScaler(), KNN())\n",
    "\n",
    "#refer to step name with two underscores before argument name when...\n",
    "#you build a parameter grid\n",
    "\n",
    "param_grid = {'kneighborsregressor__n_neighbors': range(1, 10)}\n",
    "grid = GridSearchCV(knn_pipe, param_grid, cv=10)\n",
    "grid.fit(X_train, y_train)\n",
    "best_nn_knn = grid.best_params_\n",
    "best_knn = grid.score(X_test, y_test)\n",
    "print(best_nn_knn)\n",
    "print(best_knn)"
   ]
  },
  {
   "cell_type": "code",
   "execution_count": 79,
   "id": "4fa090be-545b-4454-86fb-27babe34ae1f",
   "metadata": {
    "tags": []
   },
   "outputs": [
    {
     "name": "stdout",
     "output_type": "stream",
     "text": [
      "{'linearregression__fit_intercept': True, 'linearregression__n_jobs': 0.0, 'linearregression__normalize': False}\n",
      "0.8154571538826472\n"
     ]
    }
   ],
   "source": [
    "lm_pipe = make_pipeline(StandardScaler(), LM())\n",
    "\n",
    "alpha_grid = {'linearregression__fit_intercept':[True, False],\n",
    "             'linearregression__normalize':[True, False],\n",
    "             'linearregression__n_jobs':np.arange(0,10,0.1)}\n",
    "grid = GridSearchCV(lm_pipe, param_grid=alpha_grid)\n",
    "grid.fit(X_train, y_train)\n",
    "best_alpha_lm = grid.best_params_\n",
    "best_lm = grid.score(X_test, y_test)\n",
    "print(best_alpha_lm)\n",
    "print(best_lm)"
   ]
  },
  {
   "cell_type": "code",
   "execution_count": 80,
   "id": "350410e1-fc13-49c3-8dd6-1621d6284d7d",
   "metadata": {},
   "outputs": [
    {
     "name": "stdout",
     "output_type": "stream",
     "text": [
      "{'ridge__alpha': 9.600000000000001}\n",
      "0.8195881320983868\n"
     ]
    }
   ],
   "source": [
    "ridge_pipe = make_pipeline(StandardScaler(), Ridge())\n",
    "\n",
    "alpha_grid = {'ridge__alpha':np.arange(0,10,0.1)}\n",
    "grid = GridSearchCV(ridge_pipe, param_grid=alpha_grid)\n",
    "grid.fit(X_train, y_train)\n",
    "best_alpha_ridge = grid.best_params_\n",
    "best_ridge = grid.score(X_test, y_test)\n",
    "print(best_alpha_ridge)\n",
    "print(best_ridge)"
   ]
  },
  {
   "cell_type": "code",
   "execution_count": 81,
   "id": "eff797bd-a15b-4c98-b3b1-9bfa7a5346b0",
   "metadata": {},
   "outputs": [
    {
     "name": "stdout",
     "output_type": "stream",
     "text": [
      "{'lasso__alpha': 0.1}\n",
      "0.818844490474484\n"
     ]
    }
   ],
   "source": [
    "import warnings\n",
    "warnings.filterwarnings('ignore')\n",
    "lasso_pipe = make_pipeline(StandardScaler(), Lasso())\n",
    "\n",
    "alpha_grid = {'lasso__alpha':np.arange(0,10,0.1)}\n",
    "grid = GridSearchCV(lasso_pipe, param_grid=alpha_grid)\n",
    "grid.fit(X_train, y_train)\n",
    "best_alpha_lasso = grid.best_params_\n",
    "best_lasso = grid.score(X_test, y_test)\n",
    "print(best_alpha_lasso)\n",
    "print(best_lasso)"
   ]
  },
  {
   "cell_type": "code",
   "execution_count": 82,
   "id": "824bc834-6b1d-4cdc-b689-e910bd542dc7",
   "metadata": {},
   "outputs": [
    {
     "data": {
      "text/html": [
       "<div>\n",
       "<style scoped>\n",
       "    .dataframe tbody tr th:only-of-type {\n",
       "        vertical-align: middle;\n",
       "    }\n",
       "\n",
       "    .dataframe tbody tr th {\n",
       "        vertical-align: top;\n",
       "    }\n",
       "\n",
       "    .dataframe thead th {\n",
       "        text-align: right;\n",
       "    }\n",
       "</style>\n",
       "<table border=\"1\" class=\"dataframe\">\n",
       "  <thead>\n",
       "    <tr style=\"text-align: right;\">\n",
       "      <th></th>\n",
       "      <th>before scaler</th>\n",
       "      <th>afrer scaler</th>\n",
       "      <th>gridseachcv</th>\n",
       "    </tr>\n",
       "  </thead>\n",
       "  <tbody>\n",
       "    <tr>\n",
       "      <th>knn</th>\n",
       "      <td>-0.004973</td>\n",
       "      <td>-0.133402</td>\n",
       "      <td>0.803957</td>\n",
       "    </tr>\n",
       "    <tr>\n",
       "      <th>lm</th>\n",
       "      <td>0.791022</td>\n",
       "      <td>0.792757</td>\n",
       "      <td>0.815457</td>\n",
       "    </tr>\n",
       "    <tr>\n",
       "      <th>ridge</th>\n",
       "      <td>0.825543</td>\n",
       "      <td>-888.990486</td>\n",
       "      <td>0.819588</td>\n",
       "    </tr>\n",
       "    <tr>\n",
       "      <th>lasso</th>\n",
       "      <td>0.834580</td>\n",
       "      <td>-0.013639</td>\n",
       "      <td>0.818844</td>\n",
       "    </tr>\n",
       "  </tbody>\n",
       "</table>\n",
       "</div>"
      ],
      "text/plain": [
       "       before scaler  afrer scaler  gridseachcv\n",
       "knn        -0.004973     -0.133402     0.803957\n",
       "lm          0.791022      0.792757     0.815457\n",
       "ridge       0.825543   -888.990486     0.819588\n",
       "lasso       0.834580     -0.013639     0.818844"
      ]
     },
     "execution_count": 82,
     "metadata": {},
     "output_type": "execute_result"
    }
   ],
   "source": [
    "comparison = {'before scaler': [knn_kfold, lm_kfold, ridge_test, lasso_test],\n",
    "             'afrer scaler': [knn_kfold_as, lm_kfold_as, ridge_test_as, lasso_test_as],\n",
    "             'gridseachcv': [best_knn, best_lm, best_ridge, best_lasso]}\n",
    "com = pd.DataFrame(comparison, index=['knn', 'lm', 'ridge', 'lasso'])\n",
    "com"
   ]
  },
  {
   "cell_type": "markdown",
   "id": "37b71710-0f4e-40df-ab25-90d6dd331aa1",
   "metadata": {},
   "source": [
    "- All results improve using GridSearchCV except lasso"
   ]
  },
  {
   "cell_type": "markdown",
   "id": "044daf3b-b05f-4aa1-9314-f86aa32457b3",
   "metadata": {},
   "source": [
    "### 1.5 Compare the coefficients of your two best linear models (not knn), do they agree on which features are important?"
   ]
  },
  {
   "cell_type": "code",
   "execution_count": 83,
   "id": "164022ff-156d-44c4-9b9e-8cf71620300b",
   "metadata": {},
   "outputs": [
    {
     "name": "stdout",
     "output_type": "stream",
     "text": [
      "Test accuracy: 0.8195881320983868\n"
     ]
    },
    {
     "data": {
      "text/plain": [
       "array([8, 5, 6, 0, 1, 4, 7, 2, 9, 3], dtype=int64)"
      ]
     },
     "execution_count": 83,
     "metadata": {},
     "output_type": "execute_result"
    }
   ],
   "source": [
    "# ridge regression\n",
    "ridge_pipe = make_pipeline(StandardScaler(), Ridge(alpha=best_alpha_ridge['ridge__alpha']))\n",
    "\n",
    "ridge_pipe.fit(X_train, y_train)\n",
    "best_ridge = ridge_pipe.score(X_test, y_test)\n",
    "print('Test accuracy: {}'.format(best_ridge))\n",
    "np.argsort(ridge_pipe['ridge'].coef_)[::-1]\n",
    "\n",
    "# ridge regression\n",
    "# ridge = Ridge(alpha=best_alpha_ridge['ridge__alpha'])\n",
    "# ridge.fit(X_train,y_train)\n",
    "# print('Test accuracy: {}'.format(ridge.score(X_test,y_test)))\n",
    "# np.argsort(ridge.coef_)[::-1]"
   ]
  },
  {
   "cell_type": "code",
   "execution_count": 84,
   "id": "ddb9e545-330a-41c1-b52d-b963c5c76930",
   "metadata": {},
   "outputs": [
    {
     "name": "stdout",
     "output_type": "stream",
     "text": [
      "Test accuracy: 0.818844490474484\n"
     ]
    },
    {
     "data": {
      "text/plain": [
       "array([8, 5, 6, 4, 1, 0, 7, 2, 9, 3], dtype=int64)"
      ]
     },
     "execution_count": 84,
     "metadata": {},
     "output_type": "execute_result"
    }
   ],
   "source": [
    "# lasso algorithm\n",
    "import warnings\n",
    "warnings.filterwarnings('ignore')\n",
    "lasso_pipe = make_pipeline(StandardScaler(), Lasso(alpha=best_alpha_lasso['lasso__alpha']))\n",
    "\n",
    "lasso_pipe.fit(X_train, y_train)\n",
    "best_lasso = grid.score(X_test, y_test)\n",
    "print('Test accuracy: {}'.format(best_lasso))\n",
    "np.argsort(lasso_pipe['lasso'].coef_)[::-1]\n",
    "\n",
    "# lasso algorithm\n",
    "# lasso = Lasso(alpha=best_alpha_lasso['lasso__alpha']).fit(X_train, y_train)\n",
    "# print('Test accuracy:', lasso.score(X_test,y_test))\n",
    "# np.argsort(lasso.coef_)[::-1]"
   ]
  },
  {
   "cell_type": "markdown",
   "id": "ae3be2ad-0ba7-48ec-95cd-e49ef063be7b",
   "metadata": {},
   "source": [
    "### 1.6 Discuss which final model you would choose to predict new data"
   ]
  },
  {
   "cell_type": "markdown",
   "id": "84b028be-fb9b-4e99-8973-0b2bd25bec2f",
   "metadata": {},
   "source": [
    "- I would use Ridge Regression to be my final since it have best accuracy after tuning models."
   ]
  },
  {
   "cell_type": "markdown",
   "id": "9db7b87a-7fd2-4de4-988a-6e2924ec758d",
   "metadata": {},
   "source": [
    "## Part 2"
   ]
  },
  {
   "cell_type": "markdown",
   "id": "d7f2bb09-8293-4264-af51-f2b317c8087f",
   "metadata": {},
   "source": [
    "### 2.1 Visualize the univariate distribution of the target feature and each of the three explanatory variables that you think are likely to have a relationship with the target feature.   "
   ]
  },
  {
   "cell_type": "code",
   "execution_count": 85,
   "id": "8d23fe6e-11d2-4269-b7f5-472a2a3bb734",
   "metadata": {},
   "outputs": [
    {
     "data": {
      "text/html": [
       "<div>\n",
       "<style scoped>\n",
       "    .dataframe tbody tr th:only-of-type {\n",
       "        vertical-align: middle;\n",
       "    }\n",
       "\n",
       "    .dataframe tbody tr th {\n",
       "        vertical-align: top;\n",
       "    }\n",
       "\n",
       "    .dataframe thead th {\n",
       "        text-align: right;\n",
       "    }\n",
       "</style>\n",
       "<table border=\"1\" class=\"dataframe\">\n",
       "  <thead>\n",
       "    <tr style=\"text-align: right;\">\n",
       "      <th></th>\n",
       "      <th>fixed acidity</th>\n",
       "      <th>volatile acidity</th>\n",
       "      <th>citric acid</th>\n",
       "      <th>residual sugar</th>\n",
       "      <th>chlorides</th>\n",
       "      <th>free sulfur dioxide</th>\n",
       "      <th>total sulfur dioxide</th>\n",
       "      <th>density</th>\n",
       "      <th>pH</th>\n",
       "      <th>sulphates</th>\n",
       "      <th>alcohol</th>\n",
       "      <th>quality</th>\n",
       "      <th>winetype</th>\n",
       "    </tr>\n",
       "  </thead>\n",
       "  <tbody>\n",
       "    <tr>\n",
       "      <th>0</th>\n",
       "      <td>7.4</td>\n",
       "      <td>0.70</td>\n",
       "      <td>0.00</td>\n",
       "      <td>1.9</td>\n",
       "      <td>0.076</td>\n",
       "      <td>11.0</td>\n",
       "      <td>34.0</td>\n",
       "      <td>0.9978</td>\n",
       "      <td>3.51</td>\n",
       "      <td>0.56</td>\n",
       "      <td>9.4</td>\n",
       "      <td>5</td>\n",
       "      <td>1</td>\n",
       "    </tr>\n",
       "    <tr>\n",
       "      <th>1</th>\n",
       "      <td>7.8</td>\n",
       "      <td>0.88</td>\n",
       "      <td>0.00</td>\n",
       "      <td>2.6</td>\n",
       "      <td>0.098</td>\n",
       "      <td>25.0</td>\n",
       "      <td>67.0</td>\n",
       "      <td>0.9968</td>\n",
       "      <td>3.20</td>\n",
       "      <td>0.68</td>\n",
       "      <td>9.8</td>\n",
       "      <td>5</td>\n",
       "      <td>1</td>\n",
       "    </tr>\n",
       "    <tr>\n",
       "      <th>2</th>\n",
       "      <td>7.8</td>\n",
       "      <td>0.76</td>\n",
       "      <td>0.04</td>\n",
       "      <td>2.3</td>\n",
       "      <td>0.092</td>\n",
       "      <td>15.0</td>\n",
       "      <td>54.0</td>\n",
       "      <td>0.9970</td>\n",
       "      <td>3.26</td>\n",
       "      <td>0.65</td>\n",
       "      <td>9.8</td>\n",
       "      <td>5</td>\n",
       "      <td>1</td>\n",
       "    </tr>\n",
       "    <tr>\n",
       "      <th>3</th>\n",
       "      <td>11.2</td>\n",
       "      <td>0.28</td>\n",
       "      <td>0.56</td>\n",
       "      <td>1.9</td>\n",
       "      <td>0.075</td>\n",
       "      <td>17.0</td>\n",
       "      <td>60.0</td>\n",
       "      <td>0.9980</td>\n",
       "      <td>3.16</td>\n",
       "      <td>0.58</td>\n",
       "      <td>9.8</td>\n",
       "      <td>6</td>\n",
       "      <td>1</td>\n",
       "    </tr>\n",
       "    <tr>\n",
       "      <th>4</th>\n",
       "      <td>7.4</td>\n",
       "      <td>0.70</td>\n",
       "      <td>0.00</td>\n",
       "      <td>1.9</td>\n",
       "      <td>0.076</td>\n",
       "      <td>11.0</td>\n",
       "      <td>34.0</td>\n",
       "      <td>0.9978</td>\n",
       "      <td>3.51</td>\n",
       "      <td>0.56</td>\n",
       "      <td>9.4</td>\n",
       "      <td>5</td>\n",
       "      <td>1</td>\n",
       "    </tr>\n",
       "  </tbody>\n",
       "</table>\n",
       "</div>"
      ],
      "text/plain": [
       "   fixed acidity  volatile acidity  citric acid  residual sugar  chlorides  \\\n",
       "0            7.4              0.70         0.00             1.9      0.076   \n",
       "1            7.8              0.88         0.00             2.6      0.098   \n",
       "2            7.8              0.76         0.04             2.3      0.092   \n",
       "3           11.2              0.28         0.56             1.9      0.075   \n",
       "4            7.4              0.70         0.00             1.9      0.076   \n",
       "\n",
       "   free sulfur dioxide  total sulfur dioxide  density    pH  sulphates  \\\n",
       "0                 11.0                  34.0   0.9978  3.51       0.56   \n",
       "1                 25.0                  67.0   0.9968  3.20       0.68   \n",
       "2                 15.0                  54.0   0.9970  3.26       0.65   \n",
       "3                 17.0                  60.0   0.9980  3.16       0.58   \n",
       "4                 11.0                  34.0   0.9978  3.51       0.56   \n",
       "\n",
       "   alcohol  quality  winetype  \n",
       "0      9.4        5         1  \n",
       "1      9.8        5         1  \n",
       "2      9.8        5         1  \n",
       "3      9.8        6         1  \n",
       "4      9.4        5         1  "
      ]
     },
     "execution_count": 85,
     "metadata": {},
     "output_type": "execute_result"
    }
   ],
   "source": [
    "red = pd.read_csv('https://archive.ics.uci.edu/ml/machine-learning-databases/wine-quality/winequality-red.csv',sep = ';')\n",
    "white = pd.read_csv('https://archive.ics.uci.edu/ml/machine-learning-databases/wine-quality/winequality-white.csv',sep = ';') \n",
    "red['winetype'] = 1\n",
    "white['winetype'] = 0\n",
    "red.head()"
   ]
  },
  {
   "cell_type": "code",
   "execution_count": 86,
   "id": "36f22b77-f66f-4f41-be96-7b09ab9c26b1",
   "metadata": {},
   "outputs": [
    {
     "data": {
      "text/html": [
       "<div>\n",
       "<style scoped>\n",
       "    .dataframe tbody tr th:only-of-type {\n",
       "        vertical-align: middle;\n",
       "    }\n",
       "\n",
       "    .dataframe tbody tr th {\n",
       "        vertical-align: top;\n",
       "    }\n",
       "\n",
       "    .dataframe thead th {\n",
       "        text-align: right;\n",
       "    }\n",
       "</style>\n",
       "<table border=\"1\" class=\"dataframe\">\n",
       "  <thead>\n",
       "    <tr style=\"text-align: right;\">\n",
       "      <th></th>\n",
       "      <th>fixed acidity</th>\n",
       "      <th>volatile acidity</th>\n",
       "      <th>citric acid</th>\n",
       "      <th>residual sugar</th>\n",
       "      <th>chlorides</th>\n",
       "      <th>free sulfur dioxide</th>\n",
       "      <th>total sulfur dioxide</th>\n",
       "      <th>density</th>\n",
       "      <th>pH</th>\n",
       "      <th>sulphates</th>\n",
       "      <th>alcohol</th>\n",
       "      <th>quality</th>\n",
       "      <th>winetype</th>\n",
       "    </tr>\n",
       "  </thead>\n",
       "  <tbody>\n",
       "    <tr>\n",
       "      <th>0</th>\n",
       "      <td>7.0</td>\n",
       "      <td>0.27</td>\n",
       "      <td>0.36</td>\n",
       "      <td>20.7</td>\n",
       "      <td>0.045</td>\n",
       "      <td>45.0</td>\n",
       "      <td>170.0</td>\n",
       "      <td>1.0010</td>\n",
       "      <td>3.00</td>\n",
       "      <td>0.45</td>\n",
       "      <td>8.8</td>\n",
       "      <td>6</td>\n",
       "      <td>0</td>\n",
       "    </tr>\n",
       "    <tr>\n",
       "      <th>1</th>\n",
       "      <td>6.3</td>\n",
       "      <td>0.30</td>\n",
       "      <td>0.34</td>\n",
       "      <td>1.6</td>\n",
       "      <td>0.049</td>\n",
       "      <td>14.0</td>\n",
       "      <td>132.0</td>\n",
       "      <td>0.9940</td>\n",
       "      <td>3.30</td>\n",
       "      <td>0.49</td>\n",
       "      <td>9.5</td>\n",
       "      <td>6</td>\n",
       "      <td>0</td>\n",
       "    </tr>\n",
       "    <tr>\n",
       "      <th>2</th>\n",
       "      <td>8.1</td>\n",
       "      <td>0.28</td>\n",
       "      <td>0.40</td>\n",
       "      <td>6.9</td>\n",
       "      <td>0.050</td>\n",
       "      <td>30.0</td>\n",
       "      <td>97.0</td>\n",
       "      <td>0.9951</td>\n",
       "      <td>3.26</td>\n",
       "      <td>0.44</td>\n",
       "      <td>10.1</td>\n",
       "      <td>6</td>\n",
       "      <td>0</td>\n",
       "    </tr>\n",
       "    <tr>\n",
       "      <th>3</th>\n",
       "      <td>7.2</td>\n",
       "      <td>0.23</td>\n",
       "      <td>0.32</td>\n",
       "      <td>8.5</td>\n",
       "      <td>0.058</td>\n",
       "      <td>47.0</td>\n",
       "      <td>186.0</td>\n",
       "      <td>0.9956</td>\n",
       "      <td>3.19</td>\n",
       "      <td>0.40</td>\n",
       "      <td>9.9</td>\n",
       "      <td>6</td>\n",
       "      <td>0</td>\n",
       "    </tr>\n",
       "    <tr>\n",
       "      <th>4</th>\n",
       "      <td>7.2</td>\n",
       "      <td>0.23</td>\n",
       "      <td>0.32</td>\n",
       "      <td>8.5</td>\n",
       "      <td>0.058</td>\n",
       "      <td>47.0</td>\n",
       "      <td>186.0</td>\n",
       "      <td>0.9956</td>\n",
       "      <td>3.19</td>\n",
       "      <td>0.40</td>\n",
       "      <td>9.9</td>\n",
       "      <td>6</td>\n",
       "      <td>0</td>\n",
       "    </tr>\n",
       "  </tbody>\n",
       "</table>\n",
       "</div>"
      ],
      "text/plain": [
       "   fixed acidity  volatile acidity  citric acid  residual sugar  chlorides  \\\n",
       "0            7.0              0.27         0.36            20.7      0.045   \n",
       "1            6.3              0.30         0.34             1.6      0.049   \n",
       "2            8.1              0.28         0.40             6.9      0.050   \n",
       "3            7.2              0.23         0.32             8.5      0.058   \n",
       "4            7.2              0.23         0.32             8.5      0.058   \n",
       "\n",
       "   free sulfur dioxide  total sulfur dioxide  density    pH  sulphates  \\\n",
       "0                 45.0                 170.0   1.0010  3.00       0.45   \n",
       "1                 14.0                 132.0   0.9940  3.30       0.49   \n",
       "2                 30.0                  97.0   0.9951  3.26       0.44   \n",
       "3                 47.0                 186.0   0.9956  3.19       0.40   \n",
       "4                 47.0                 186.0   0.9956  3.19       0.40   \n",
       "\n",
       "   alcohol  quality  winetype  \n",
       "0      8.8        6         0  \n",
       "1      9.5        6         0  \n",
       "2     10.1        6         0  \n",
       "3      9.9        6         0  \n",
       "4      9.9        6         0  "
      ]
     },
     "execution_count": 86,
     "metadata": {},
     "output_type": "execute_result"
    }
   ],
   "source": [
    "white.head()"
   ]
  },
  {
   "cell_type": "code",
   "execution_count": 87,
   "id": "d27f6bda-81dc-4d5b-90b6-0b80a7e98bf8",
   "metadata": {},
   "outputs": [
    {
     "data": {
      "text/plain": [
       "(6497, 13)"
      ]
     },
     "execution_count": 87,
     "metadata": {},
     "output_type": "execute_result"
    }
   ],
   "source": [
    "wine = pd.concat([red,white])\n",
    "wine.shape"
   ]
  },
  {
   "cell_type": "markdown",
   "id": "bf14b9ef-4f77-43da-9dc8-ec87ca29a394",
   "metadata": {},
   "source": [
    "### 2.1 Visualize the univariate distribution of the target feature and each of the three explanatory variables that you think are likely to have a relationship with the target feature. "
   ]
  },
  {
   "cell_type": "code",
   "execution_count": 88,
   "id": "90b29a3c-6320-4045-9550-a5f87800ded6",
   "metadata": {},
   "outputs": [
    {
     "data": {
      "image/png": "[encoded data removed]",
      "text/plain": [
       "<Figure size 432x288 with 1 Axes>"
      ]
     },
     "metadata": {
      "needs_background": "light"
     },
     "output_type": "display_data"
    }
   ],
   "source": [
    "plt.xlabel('fixed acidity')\n",
    "plt.ylabel('count')\n",
    "plt.hist(wine['fixed acidity'])\n",
    "plt.show()"
   ]
  },
  {
   "cell_type": "code",
   "execution_count": 89,
   "id": "1a8e1fd4-c57b-4add-8aca-8a2e8b2d791f",
   "metadata": {},
   "outputs": [
    {
     "data": {
      "image/png": "[encoded data removed]",
      "text/plain": [
       "<Figure size 432x288 with 1 Axes>"
      ]
     },
     "metadata": {
      "needs_background": "light"
     },
     "output_type": "display_data"
    }
   ],
   "source": [
    "plt.xlabel('free sulfur dioxide')\n",
    "plt.ylabel('count')\n",
    "plt.hist(wine['free sulfur dioxide'])\n",
    "plt.show()"
   ]
  },
  {
   "cell_type": "code",
   "execution_count": 90,
   "id": "f7e62453-2f19-470c-b291-09079500e4fb",
   "metadata": {},
   "outputs": [
    {
     "data": {
      "image/png": "[encoded data removed]",
      "text/plain": [
       "<Figure size 432x288 with 1 Axes>"
      ]
     },
     "metadata": {
      "needs_background": "light"
     },
     "output_type": "display_data"
    }
   ],
   "source": [
    "plt.xlabel('pH')\n",
    "plt.ylabel('count')\n",
    "plt.hist(wine.pH)\n",
    "plt.show()"
   ]
  },
  {
   "cell_type": "markdown",
   "id": "879d38e1-2f3a-4c30-98ca-64fabfc674fd",
   "metadata": {},
   "source": [
    "### 2.2 Split data into training and test set. Build models that evaluate the relationship between all available X variables in the dataset and the target variable. Evaluate Logistic Regression, Penalized Logistic Regression, and KNN for classification using cross-validation. How different are the results? How does scaling the data with StandardScaler influence the results?"
   ]
  },
  {
   "cell_type": "code",
   "execution_count": 91,
   "id": "6db1d060-23f4-4f52-95ee-1d58f52fe1fc",
   "metadata": {},
   "outputs": [],
   "source": [
    "X = wine.drop('winetype', axis=1)\n",
    "y = wine.winetype\n",
    "X_train, X_test, y_train, y_test = train_test_split(X, y)"
   ]
  },
  {
   "cell_type": "code",
   "execution_count": 131,
   "id": "cff2224a-e3ab-4d5a-ab1a-bc70a5b6ad53",
   "metadata": {},
   "outputs": [
    {
     "name": "stdout",
     "output_type": "stream",
     "text": [
      "KNN\n",
      "arrcuracy: 0.9483076923076923\n"
     ]
    },
    {
     "data": {
      "text/plain": [
       "0.9365772653082715"
      ]
     },
     "execution_count": 131,
     "metadata": {},
     "output_type": "execute_result"
    }
   ],
   "source": [
    "knc = KNC()\n",
    "knc.fit(X_train,y_train)\n",
    "knc_test = knc.score(X_test,y_test)\n",
    "knc_test_cv = mean(cross_val_score(knc, X_train, y_train))\n",
    "print('KNN\\narrcuracy: {}'.format(knc_test))\n",
    "knc_test_cv"
   ]
  },
  {
   "cell_type": "code",
   "execution_count": 127,
   "id": "43a9758d-256d-40b6-9989-b0f8f303c0be",
   "metadata": {},
   "outputs": [
    {
     "name": "stdout",
     "output_type": "stream",
     "text": [
      "Logistic Regression\n",
      "accuracy: 0.9858461538461538\n"
     ]
    },
    {
     "data": {
      "text/plain": [
       "0.9778326751961249"
      ]
     },
     "execution_count": 127,
     "metadata": {},
     "output_type": "execute_result"
    }
   ],
   "source": [
    "glm = GLM(penalty='none')\n",
    "glm.fit(X_train, y_train)\n",
    "glm_none = glm.score(X_test,y_test)\n",
    "glm_none_cv = mean(cross_val_score(glm, X_train, y_train))\n",
    "print('Logistic Regression\\naccuracy: {}'.format(glm_none))\n",
    "glm_none_cv"
   ]
  },
  {
   "cell_type": "code",
   "execution_count": 128,
   "id": "f26e3b16-755f-4718-b78f-c9452ec23d51",
   "metadata": {
    "tags": []
   },
   "outputs": [
    {
     "name": "stdout",
     "output_type": "stream",
     "text": [
      "Logistic Regression\n",
      "accuracy: 0.9932307692307693\n"
     ]
    },
    {
     "data": {
      "text/plain": [
       "0.9839905228241984"
      ]
     },
     "execution_count": 128,
     "metadata": {},
     "output_type": "execute_result"
    }
   ],
   "source": [
    "glm_lasso = GLM(penalty='l1', solver='liblinear')\n",
    "glm_lasso.fit(X_train, y_train)\n",
    "glm_l1 = glm_lasso.score(X_test,y_test)\n",
    "glm_l1_cv = mean(cross_val_score(glm_lasso, X_train, y_train))\n",
    "print('Logistic Regression\\naccuracy: {}'.format(glm_l1))\n",
    "glm_l1_cv"
   ]
  },
  {
   "cell_type": "code",
   "execution_count": 129,
   "id": "cef5dd83-bf13-4c17-b32d-7fd9894fb726",
   "metadata": {},
   "outputs": [
    {
     "name": "stdout",
     "output_type": "stream",
     "text": [
      "Logistic Regression\n",
      "accuracy: 0.984\n"
     ]
    },
    {
     "data": {
      "text/plain": [
       "0.9735224556415522"
      ]
     },
     "execution_count": 129,
     "metadata": {},
     "output_type": "execute_result"
    }
   ],
   "source": [
    "glm_ridge = GLM(penalty='l2')\n",
    "glm_ridge.fit(X_train, y_train)\n",
    "glm_l2 = glm_ridge.score(X_test,y_test)\n",
    "glm_l2_cv = mean(cross_val_score(glm_ridge, X_train, y_train))\n",
    "print('Logistic Regression\\naccuracy: {}'.format(glm_l2))\n",
    "glm_l2_cv"
   ]
  },
  {
   "cell_type": "code",
   "execution_count": 132,
   "id": "c6edd7d2-5648-4752-bf8a-57f0f16415ed",
   "metadata": {},
   "outputs": [],
   "source": [
    "# scale\n",
    "scaler = StandardScaler()\n",
    "\n",
    "scaler.fit(X_train)\n",
    "X_train_scaled = scaler.transform(X_train)\n",
    "X_test_scaled = scaler.transform(X_test)"
   ]
  },
  {
   "cell_type": "code",
   "execution_count": 133,
   "id": "7a833faf-30b9-44c6-a328-cfbf8a642eb4",
   "metadata": {},
   "outputs": [
    {
     "name": "stdout",
     "output_type": "stream",
     "text": [
      "Logistic Regression after scaler\n",
      "accuracy: 0.9944615384615385\n"
     ]
    },
    {
     "data": {
      "text/plain": [
       "0.9940485442004949"
      ]
     },
     "execution_count": 133,
     "metadata": {},
     "output_type": "execute_result"
    }
   ],
   "source": [
    "glm = GLM(penalty='none')\n",
    "glm.fit(X_train_scaled, y_train)\n",
    "glm_none_scaled = glm.score(X_test_scaled,y_test)\n",
    "glm_none_scaled_cv = mean(cross_val_score(glm, X_train_scaled, y_train))\n",
    "print('Logistic Regression after scaler\\naccuracy: {}'.format(glm_none_scaled))\n",
    "glm_none_scaled_cv"
   ]
  },
  {
   "cell_type": "code",
   "execution_count": 134,
   "id": "54a858c2-661b-44c3-b4e4-d0433d525a65",
   "metadata": {
    "tags": []
   },
   "outputs": [
    {
     "name": "stdout",
     "output_type": "stream",
     "text": [
      "Logistic Regression after scaler\n",
      "accuracy: 0.9956923076923077\n"
     ]
    },
    {
     "data": {
      "text/plain": [
       "0.9938429947875533"
      ]
     },
     "execution_count": 134,
     "metadata": {},
     "output_type": "execute_result"
    }
   ],
   "source": [
    "glm_lasso = GLM(penalty='l1', solver='liblinear')\n",
    "glm_lasso.fit(X_train_scaled, y_train)\n",
    "glm_l1_scaled = glm_lasso.score(X_test_scaled,y_test)\n",
    "glm_l1_scaled_cv = mean(cross_val_score(glm_lasso, X_train_scaled, y_train))\n",
    "print('Logistic Regression after scaler\\naccuracy: {}'.format(glm_l1_scaled))\n",
    "glm_l1_scaled_cv"
   ]
  },
  {
   "cell_type": "code",
   "execution_count": 135,
   "id": "d4fdb05d-6a88-4693-8f09-49475d858230",
   "metadata": {},
   "outputs": [
    {
     "name": "stdout",
     "output_type": "stream",
     "text": [
      "Logistic Regression after scaler\n",
      "accuracy: 0.9956923076923077\n"
     ]
    },
    {
     "data": {
      "text/plain": [
       "0.9926113831411573"
      ]
     },
     "execution_count": 135,
     "metadata": {},
     "output_type": "execute_result"
    }
   ],
   "source": [
    "glm_ridge = GLM(penalty='l2')\n",
    "glm_ridge.fit(X_train_scaled, y_train)\n",
    "glm_l2_scaled = glm_ridge.score(X_test_scaled,y_test)\n",
    "glm_l2_scaled_cv = mean(cross_val_score(glm_ridge, X_train_scaled, y_train))\n",
    "print('Logistic Regression after scaler\\naccuracy: {}'.format(glm_l2_scaled))\n",
    "glm_l2_scaled_cv"
   ]
  },
  {
   "cell_type": "code",
   "execution_count": 137,
   "id": "87462c38-f8d0-4a36-957a-a2e84fa35004",
   "metadata": {},
   "outputs": [
    {
     "name": "stdout",
     "output_type": "stream",
     "text": [
      "KNN after scaler\n",
      "arrcuracy: 0.9932307692307693\n"
     ]
    },
    {
     "data": {
      "text/plain": [
       "0.9928163007423787"
      ]
     },
     "execution_count": 137,
     "metadata": {},
     "output_type": "execute_result"
    }
   ],
   "source": [
    "knc = KNC()\n",
    "knc.fit(X_train_scaled,y_train)\n",
    "knc_scaled = knc.score(X_test_scaled,y_test)\n",
    "knc_scaled_cv = mean(cross_val_score(knc, X_train_scaled, y_train))\n",
    "print('KNN after scaler\\narrcuracy: {}'.format(knc_scaled))\n",
    "knc_scaled_cv"
   ]
  },
  {
   "cell_type": "code",
   "execution_count": 140,
   "id": "66eff765-2e3a-405c-b71d-b18d96062c6a",
   "metadata": {},
   "outputs": [
    {
     "data": {
      "text/html": [
       "<div>\n",
       "<style scoped>\n",
       "    .dataframe tbody tr th:only-of-type {\n",
       "        vertical-align: middle;\n",
       "    }\n",
       "\n",
       "    .dataframe tbody tr th {\n",
       "        vertical-align: top;\n",
       "    }\n",
       "\n",
       "    .dataframe thead th {\n",
       "        text-align: right;\n",
       "    }\n",
       "</style>\n",
       "<table border=\"1\" class=\"dataframe\">\n",
       "  <thead>\n",
       "    <tr style=\"text-align: right;\">\n",
       "      <th></th>\n",
       "      <th>before scaler</th>\n",
       "      <th>afrer scaler</th>\n",
       "    </tr>\n",
       "  </thead>\n",
       "  <tbody>\n",
       "    <tr>\n",
       "      <th>knc</th>\n",
       "      <td>0.936577</td>\n",
       "      <td>0.992816</td>\n",
       "    </tr>\n",
       "    <tr>\n",
       "      <th>glm_none</th>\n",
       "      <td>0.977833</td>\n",
       "      <td>0.994049</td>\n",
       "    </tr>\n",
       "    <tr>\n",
       "      <th>l1</th>\n",
       "      <td>0.983991</td>\n",
       "      <td>0.992611</td>\n",
       "    </tr>\n",
       "    <tr>\n",
       "      <th>l2</th>\n",
       "      <td>0.973522</td>\n",
       "      <td>0.992611</td>\n",
       "    </tr>\n",
       "  </tbody>\n",
       "</table>\n",
       "</div>"
      ],
      "text/plain": [
       "          before scaler  afrer scaler\n",
       "knc            0.936577      0.992816\n",
       "glm_none       0.977833      0.994049\n",
       "l1             0.983991      0.992611\n",
       "l2             0.973522      0.992611"
      ]
     },
     "execution_count": 140,
     "metadata": {},
     "output_type": "execute_result"
    }
   ],
   "source": [
    "comparison = {'before scaler': [knc_test_cv, glm_none_cv, glm_l1_cv, glm_l2_cv],\n",
    "             'afrer scaler': [knc_scaled_cv, glm_none_scaled_cv, glm_l2_scaled_cv, glm_l2_scaled_cv]}\n",
    "com = pd.DataFrame(comparison, index=['knc', 'glm_none', 'l1', 'l2'])\n",
    "com"
   ]
  },
  {
   "cell_type": "markdown",
   "id": "455721f9-0e2b-4bd1-a42d-a2b65bcba8e5",
   "metadata": {},
   "source": [
    "- StandardScaler improves the accuracy on both model."
   ]
  },
  {
   "cell_type": "markdown",
   "id": "b375d8d5-e9c0-4dcf-a633-228ff4d2d96c",
   "metadata": {},
   "source": [
    "### 2.3 Tune the parameters where possible using GridSearchCV. Do the results improve?"
   ]
  },
  {
   "cell_type": "code",
   "execution_count": 153,
   "id": "8fcd4860-997f-4bec-947a-83f07fa7c4b1",
   "metadata": {},
   "outputs": [
    {
     "name": "stdout",
     "output_type": "stream",
     "text": [
      "{'n_neighbors': 2}\n"
     ]
    },
    {
     "data": {
      "text/plain": [
       "0.9942521964520147"
      ]
     },
     "execution_count": 153,
     "metadata": {},
     "output_type": "execute_result"
    }
   ],
   "source": [
    "param_grid = {'n_neighbors': range(1, 10)}\n",
    "\n",
    "grid = GridSearchCV(KNC(), param_grid=param_grid, cv=10)\n",
    "grid.fit(X_train_scaled, y_train)\n",
    "print(grid.best_params_)\n",
    "grid.best_score_"
   ]
  },
  {
   "cell_type": "code",
   "execution_count": 154,
   "id": "2ebe0e0a-d7b7-470b-8901-e1da8d5c0dd4",
   "metadata": {},
   "outputs": [
    {
     "name": "stdout",
     "output_type": "stream",
     "text": [
      "{'C': 0.0, 'penalty': 'none'}\n"
     ]
    },
    {
     "data": {
      "text/plain": [
       "0.9938427811626889"
      ]
     },
     "execution_count": 154,
     "metadata": {},
     "output_type": "execute_result"
    }
   ],
   "source": [
    "c_space = np.arange(0,10,0.5)\n",
    "param_grid = {'C': c_space, 'penalty': ['none', 'l1', 'l2']}\n",
    "\n",
    "grid = GridSearchCV(GLM(), param_grid, cv=10)\n",
    "grid.fit(X_train_scaled, y_train)\n",
    "print(grid.best_params_)\n",
    "grid.best_score_"
   ]
  },
  {
   "cell_type": "markdown",
   "id": "307edcc5-39bd-4c65-bf0a-056b8fc69468",
   "metadata": {},
   "source": [
    " - Both the results improve"
   ]
  },
  {
   "cell_type": "markdown",
   "id": "bb24f6b0-cfa1-440e-afec-ac5783295430",
   "metadata": {},
   "source": [
    "### 2.4 Change the cross-validation strategy in GridSearchCV from ‘stratified k-fold’ to ‘kfold’ with shuffling. Do the parameters for models that can be tuned change?"
   ]
  },
  {
   "cell_type": "code",
   "execution_count": 155,
   "id": "369a9c98-4874-480a-807f-c32fbefc712e",
   "metadata": {},
   "outputs": [],
   "source": [
    "# create cv\n",
    "kfold = KFold(n_splits=5)\n",
    "skfold = StratifiedKFold(n_splits=5, shuffle=True)\n",
    "rkf = RepeatedKFold(n_splits=5, n_repeats=10)"
   ]
  },
  {
   "cell_type": "code",
   "execution_count": 175,
   "id": "e98ff630-c69a-422a-8796-ff267f5363f7",
   "metadata": {},
   "outputs": [
    {
     "name": "stdout",
     "output_type": "stream",
     "text": [
      "skfold_param: {'n_neighbors': 4}\n"
     ]
    },
    {
     "data": {
      "text/plain": [
       "0.9940481229926815"
      ]
     },
     "execution_count": 175,
     "metadata": {},
     "output_type": "execute_result"
    }
   ],
   "source": [
    "param_grid = {'n_neighbors': range(1, 10)}\n",
    "grid = GridSearchCV(KNC(), param_grid=param_grid, cv=skfold)\n",
    "grid.fit(X_train_scaled, y_train)\n",
    "knc_skfold_best_param = grid.best_params_\n",
    "knc_skfold_best_sc = grid.best_score_\n",
    "print(f\"skfold_param: {knc_skfold_best_param}\")\n",
    "knc_skfold_best_sc"
   ]
  },
  {
   "cell_type": "code",
   "execution_count": 184,
   "id": "58ef7e20-f22f-4068-9b6f-f2d93eb858a0",
   "metadata": {},
   "outputs": [
    {
     "name": "stdout",
     "output_type": "stream",
     "text": [
      "kfold_param: {'n_neighbors': 4}\n"
     ]
    },
    {
     "data": {
      "text/plain": [
       "0.994253040593903"
      ]
     },
     "execution_count": 184,
     "metadata": {},
     "output_type": "execute_result"
    }
   ],
   "source": [
    "param_grid = {'n_neighbors': range(1, 10)}\n",
    "grid = GridSearchCV(KNC(), param_grid=param_grid, cv=kfold)\n",
    "grid.fit(X_train_scaled, y_train)\n",
    "knc_kfold_best_param = grid.best_params_\n",
    "knc_kfold_best_sc = grid.best_score_\n",
    "print(f\"kfold_param: {knc_kfold_best_param}\")\n",
    "knc_kfold_best_sc"
   ]
  },
  {
   "cell_type": "code",
   "execution_count": 179,
   "id": "23c8971c-ded0-49be-812a-36909d3d8ab8",
   "metadata": {},
   "outputs": [
    {
     "name": "stdout",
     "output_type": "stream",
     "text": [
      "skfold_param: {'C': 5.7, 'penalty': 'l2'}\n"
     ]
    },
    {
     "data": {
      "text/plain": [
       "0.9938427841836465"
      ]
     },
     "execution_count": 179,
     "metadata": {},
     "output_type": "execute_result"
    }
   ],
   "source": [
    "c = np.arange(0,10,0.1)\n",
    "param_grid = {'C': c, 'penalty': ['none', 'l1', 'l2']}\n",
    "\n",
    "grid = GridSearchCV(GLM(), param_grid, cv = skfold)\n",
    "grid.fit(X_train_scaled, y_train)\n",
    "glm_skfold_best_param = grid.best_params_\n",
    "glm_skfold_best_sc = grid.best_score_\n",
    "print(f\"skfold_param: {glm_skfold_best_param}\")\n",
    "glm_skfold_best_sc"
   ]
  },
  {
   "cell_type": "code",
   "execution_count": 180,
   "id": "bba0be0a-7a5b-46c7-894c-fe6340bc15ce",
   "metadata": {},
   "outputs": [
    {
     "name": "stdout",
     "output_type": "stream",
     "text": [
      "kfold_param: {'C': 0.0, 'penalty': 'none'}\n"
     ]
    },
    {
     "data": {
      "text/plain": [
       "0.9940485442004949"
      ]
     },
     "execution_count": 180,
     "metadata": {},
     "output_type": "execute_result"
    }
   ],
   "source": [
    "c = np.arange(0,10,0.1)\n",
    "param_grid = {'C': c, 'penalty': ['none', 'l1', 'l2']}\n",
    "\n",
    "grid = GridSearchCV(GLM(), param_grid, cv = kfold)\n",
    "grid.fit(X_train_scaled, y_train)\n",
    "glm_kfold_best_param = grid.best_params_\n",
    "glm_kfold_best_sc = grid.best_score_\n",
    "print(f\"kfold_param: {glm_kfold_best_param}\")\n",
    "glm_kfold_best_sc"
   ]
  },
  {
   "cell_type": "code",
   "execution_count": 186,
   "id": "61665d65-9a21-4cde-a589-d2f636469e37",
   "metadata": {},
   "outputs": [
    {
     "data": {
      "text/html": [
       "<div>\n",
       "<style scoped>\n",
       "    .dataframe tbody tr th:only-of-type {\n",
       "        vertical-align: middle;\n",
       "    }\n",
       "\n",
       "    .dataframe tbody tr th {\n",
       "        vertical-align: top;\n",
       "    }\n",
       "\n",
       "    .dataframe thead th {\n",
       "        text-align: right;\n",
       "    }\n",
       "</style>\n",
       "<table border=\"1\" class=\"dataframe\">\n",
       "  <thead>\n",
       "    <tr style=\"text-align: right;\">\n",
       "      <th></th>\n",
       "      <th>skfold</th>\n",
       "      <th>kfold</th>\n",
       "    </tr>\n",
       "  </thead>\n",
       "  <tbody>\n",
       "    <tr>\n",
       "      <th>knc_best_param</th>\n",
       "      <td>{'n_neighbors': 4}</td>\n",
       "      <td>{'n_neighbors': 4}</td>\n",
       "    </tr>\n",
       "    <tr>\n",
       "      <th>knc_best_sc</th>\n",
       "      <td>0.994048</td>\n",
       "      <td>0.994253</td>\n",
       "    </tr>\n",
       "    <tr>\n",
       "      <th>glm_best_param</th>\n",
       "      <td>{'C': 5.7, 'penalty': 'l2'}</td>\n",
       "      <td>{'C': 0.0, 'penalty': 'none'}</td>\n",
       "    </tr>\n",
       "    <tr>\n",
       "      <th>glm_best_sc</th>\n",
       "      <td>0.993843</td>\n",
       "      <td>0.994049</td>\n",
       "    </tr>\n",
       "  </tbody>\n",
       "</table>\n",
       "</div>"
      ],
      "text/plain": [
       "                                     skfold                          kfold\n",
       "knc_best_param           {'n_neighbors': 4}             {'n_neighbors': 4}\n",
       "knc_best_sc                        0.994048                       0.994253\n",
       "glm_best_param  {'C': 5.7, 'penalty': 'l2'}  {'C': 0.0, 'penalty': 'none'}\n",
       "glm_best_sc                        0.993843                       0.994049"
      ]
     },
     "execution_count": 186,
     "metadata": {},
     "output_type": "execute_result"
    }
   ],
   "source": [
    "comparison = {'skfold': [knc_skfold_best_param, knc_skfold_best_sc, glm_skfold_best_param, glm_skfold_best_sc],\n",
    "             'kfold': [knc_kfold_best_param, knc_kfold_best_sc, glm_kfold_best_param, glm_kfold_best_sc]}\n",
    "com = pd.DataFrame(comparison, index=['knc_best_param', 'knc_best_sc', 'glm_best_param', 'glm_best_sc'])\n",
    "com"
   ]
  },
  {
   "cell_type": "markdown",
   "id": "5827af75-df34-4025-9690-ffaf4b5c299a",
   "metadata": {},
   "source": [
    "- The parameters for models change in Logistic Regression but not for KNeighborsClassifier from ‘stratified k-fold’ to ‘kfold’ with shuffling."
   ]
  },
  {
   "cell_type": "markdown",
   "id": "bd4a2d18-5ea0-43e5-9bd7-a0dabfaae8c0",
   "metadata": {},
   "source": [
    "### 2.5 Lastly, compare the coefficients for Logistic Regression and Penalized Logistic Regression and among all models you experimented with, discuss which final model you would choose to predict new data."
   ]
  },
  {
   "cell_type": "code",
   "execution_count": 214,
   "id": "6a1ac0bd-a8fc-42b2-9676-2804bae0167d",
   "metadata": {},
   "outputs": [
    {
     "name": "stdout",
     "output_type": "stream",
     "text": [
      "{'C': 0.0, 'penalty': 'none'}\n"
     ]
    },
    {
     "data": {
      "text/plain": [
       "0.9940485442004949"
      ]
     },
     "execution_count": 214,
     "metadata": {},
     "output_type": "execute_result"
    }
   ],
   "source": [
    "c = np.arange(0,10,0.1)\n",
    "param_grid = {'C': c, 'penalty': ['none', 'l1', 'l2']}\n",
    "\n",
    "grid = GridSearchCV(GLM(), param_grid)\n",
    "grid.fit(X_train_scaled, y_train)\n",
    "lr_best_param = grid.best_params_\n",
    "lr_best_sc = grid.best_score_\n",
    "print(lr_best_param)\n",
    "lr_best_sc"
   ]
  },
  {
   "cell_type": "code",
   "execution_count": 215,
   "id": "800cfbfc-268e-4e00-bc12-53f6a88e4032",
   "metadata": {},
   "outputs": [
    {
     "name": "stdout",
     "output_type": "stream",
     "text": [
      "with penalty accuracy: 0.9944615384615385\n"
     ]
    }
   ],
   "source": [
    "glm_p = GLM(C=lr_best_param['C'],penalty=lr_best_param['penalty'])\n",
    "glm_p.fit(X_train_scaled, y_train)\n",
    "print('with penalty accuracy: {}'.format(glm_p.score(X_test_scaled,y_test)))\n",
    "glm_coef = glm_p.coef_"
   ]
  },
  {
   "cell_type": "code",
   "execution_count": 216,
   "id": "6fb004dc-e2e7-4870-bfff-fa717324c064",
   "metadata": {},
   "outputs": [
    {
     "name": "stdout",
     "output_type": "stream",
     "text": [
      "no penalty accuracy: 0.9944615384615385\n"
     ]
    }
   ],
   "source": [
    "glm_p = GLM(C=lr_best_param['C'],penalty='none')\n",
    "glm_p.fit(X_train_scaled, y_train)\n",
    "print('no penalty accuracy:', glm_p.score(X_test_scaled,y_test))\n",
    "glm_coef1 = glm_p.coef_"
   ]
  },
  {
   "cell_type": "code",
   "execution_count": 262,
   "id": "1dd3bdc3-d54c-42cf-81df-6f5999164736",
   "metadata": {},
   "outputs": [
    {
     "name": "stdout",
     "output_type": "stream",
     "text": [
      "[[ 3  6  0  2  8 11  9  4  5  1 10  7]]\n",
      "[[ 3  6  0  2  8 11  9  4  5  1 10  7]]\n"
     ]
    }
   ],
   "source": [
    "print(np.argsort(glm_coef)[::-1])\n",
    "print(np.argsort(glm_coef1)[::-1])"
   ]
  },
  {
   "cell_type": "markdown",
   "id": "16124b5a-c7ad-43ba-8f16-77a9f7794f50",
   "metadata": {},
   "source": [
    "- The LogisticRegression and penalized LogisticRegression agree on the same the feature.Logistic Regression model have higher accuracy, I would choose LogisticRegression to predict new data."
   ]
  },
  {
   "cell_type": "code",
   "execution_count": 263,
   "id": "97038d75-1ff2-4655-8e07-1f9bbca4b0c9",
   "metadata": {},
   "outputs": [
    {
     "data": {
      "text/html": [
       "<div>\n",
       "<style scoped>\n",
       "    .dataframe tbody tr th:only-of-type {\n",
       "        vertical-align: middle;\n",
       "    }\n",
       "\n",
       "    .dataframe tbody tr th {\n",
       "        vertical-align: top;\n",
       "    }\n",
       "\n",
       "    .dataframe thead th {\n",
       "        text-align: right;\n",
       "    }\n",
       "</style>\n",
       "<table border=\"1\" class=\"dataframe\">\n",
       "  <thead>\n",
       "    <tr style=\"text-align: right;\">\n",
       "      <th></th>\n",
       "      <th>word_freq_make:</th>\n",
       "      <th>word_freq_address:</th>\n",
       "      <th>word_freq_all:</th>\n",
       "      <th>word_freq_3d:</th>\n",
       "      <th>word_freq_our:</th>\n",
       "      <th>word_freq_over:</th>\n",
       "      <th>word_freq_remove:</th>\n",
       "      <th>word_freq_internet:</th>\n",
       "      <th>word_freq_order:</th>\n",
       "      <th>word_freq_mail:</th>\n",
       "      <th>...</th>\n",
       "      <th>char_freq_;:</th>\n",
       "      <th>char_freq_(:</th>\n",
       "      <th>char_freq_[:</th>\n",
       "      <th>char_freq_!:</th>\n",
       "      <th>char_freq_$:</th>\n",
       "      <th>char_freq_#:</th>\n",
       "      <th>capital_run_length_average:</th>\n",
       "      <th>capital_run_length_longest:</th>\n",
       "      <th>capital_run_length_total:</th>\n",
       "      <th>spam</th>\n",
       "    </tr>\n",
       "  </thead>\n",
       "  <tbody>\n",
       "    <tr>\n",
       "      <th>0</th>\n",
       "      <td>0.00</td>\n",
       "      <td>0.64</td>\n",
       "      <td>0.64</td>\n",
       "      <td>0.0</td>\n",
       "      <td>0.32</td>\n",
       "      <td>0.00</td>\n",
       "      <td>0.00</td>\n",
       "      <td>0.00</td>\n",
       "      <td>0.00</td>\n",
       "      <td>0.00</td>\n",
       "      <td>...</td>\n",
       "      <td>0.00</td>\n",
       "      <td>0.000</td>\n",
       "      <td>0.0</td>\n",
       "      <td>0.778</td>\n",
       "      <td>0.000</td>\n",
       "      <td>0.000</td>\n",
       "      <td>3.756</td>\n",
       "      <td>61</td>\n",
       "      <td>278</td>\n",
       "      <td>1</td>\n",
       "    </tr>\n",
       "    <tr>\n",
       "      <th>1</th>\n",
       "      <td>0.21</td>\n",
       "      <td>0.28</td>\n",
       "      <td>0.50</td>\n",
       "      <td>0.0</td>\n",
       "      <td>0.14</td>\n",
       "      <td>0.28</td>\n",
       "      <td>0.21</td>\n",
       "      <td>0.07</td>\n",
       "      <td>0.00</td>\n",
       "      <td>0.94</td>\n",
       "      <td>...</td>\n",
       "      <td>0.00</td>\n",
       "      <td>0.132</td>\n",
       "      <td>0.0</td>\n",
       "      <td>0.372</td>\n",
       "      <td>0.180</td>\n",
       "      <td>0.048</td>\n",
       "      <td>5.114</td>\n",
       "      <td>101</td>\n",
       "      <td>1028</td>\n",
       "      <td>1</td>\n",
       "    </tr>\n",
       "    <tr>\n",
       "      <th>2</th>\n",
       "      <td>0.06</td>\n",
       "      <td>0.00</td>\n",
       "      <td>0.71</td>\n",
       "      <td>0.0</td>\n",
       "      <td>1.23</td>\n",
       "      <td>0.19</td>\n",
       "      <td>0.19</td>\n",
       "      <td>0.12</td>\n",
       "      <td>0.64</td>\n",
       "      <td>0.25</td>\n",
       "      <td>...</td>\n",
       "      <td>0.01</td>\n",
       "      <td>0.143</td>\n",
       "      <td>0.0</td>\n",
       "      <td>0.276</td>\n",
       "      <td>0.184</td>\n",
       "      <td>0.010</td>\n",
       "      <td>9.821</td>\n",
       "      <td>485</td>\n",
       "      <td>2259</td>\n",
       "      <td>1</td>\n",
       "    </tr>\n",
       "    <tr>\n",
       "      <th>3</th>\n",
       "      <td>0.00</td>\n",
       "      <td>0.00</td>\n",
       "      <td>0.00</td>\n",
       "      <td>0.0</td>\n",
       "      <td>0.63</td>\n",
       "      <td>0.00</td>\n",
       "      <td>0.31</td>\n",
       "      <td>0.63</td>\n",
       "      <td>0.31</td>\n",
       "      <td>0.63</td>\n",
       "      <td>...</td>\n",
       "      <td>0.00</td>\n",
       "      <td>0.137</td>\n",
       "      <td>0.0</td>\n",
       "      <td>0.137</td>\n",
       "      <td>0.000</td>\n",
       "      <td>0.000</td>\n",
       "      <td>3.537</td>\n",
       "      <td>40</td>\n",
       "      <td>191</td>\n",
       "      <td>1</td>\n",
       "    </tr>\n",
       "    <tr>\n",
       "      <th>4</th>\n",
       "      <td>0.00</td>\n",
       "      <td>0.00</td>\n",
       "      <td>0.00</td>\n",
       "      <td>0.0</td>\n",
       "      <td>0.63</td>\n",
       "      <td>0.00</td>\n",
       "      <td>0.31</td>\n",
       "      <td>0.63</td>\n",
       "      <td>0.31</td>\n",
       "      <td>0.63</td>\n",
       "      <td>...</td>\n",
       "      <td>0.00</td>\n",
       "      <td>0.135</td>\n",
       "      <td>0.0</td>\n",
       "      <td>0.135</td>\n",
       "      <td>0.000</td>\n",
       "      <td>0.000</td>\n",
       "      <td>3.537</td>\n",
       "      <td>40</td>\n",
       "      <td>191</td>\n",
       "      <td>1</td>\n",
       "    </tr>\n",
       "    <tr>\n",
       "      <th>5</th>\n",
       "      <td>0.00</td>\n",
       "      <td>0.00</td>\n",
       "      <td>0.00</td>\n",
       "      <td>0.0</td>\n",
       "      <td>1.85</td>\n",
       "      <td>0.00</td>\n",
       "      <td>0.00</td>\n",
       "      <td>1.85</td>\n",
       "      <td>0.00</td>\n",
       "      <td>0.00</td>\n",
       "      <td>...</td>\n",
       "      <td>0.00</td>\n",
       "      <td>0.223</td>\n",
       "      <td>0.0</td>\n",
       "      <td>0.000</td>\n",
       "      <td>0.000</td>\n",
       "      <td>0.000</td>\n",
       "      <td>3.000</td>\n",
       "      <td>15</td>\n",
       "      <td>54</td>\n",
       "      <td>1</td>\n",
       "    </tr>\n",
       "  </tbody>\n",
       "</table>\n",
       "<p>6 rows × 58 columns</p>\n",
       "</div>"
      ],
      "text/plain": [
       "   word_freq_make:  word_freq_address:  word_freq_all:  word_freq_3d:  \\\n",
       "0             0.00                0.64            0.64            0.0   \n",
       "1             0.21                0.28            0.50            0.0   \n",
       "2             0.06                0.00            0.71            0.0   \n",
       "3             0.00                0.00            0.00            0.0   \n",
       "4             0.00                0.00            0.00            0.0   \n",
       "5             0.00                0.00            0.00            0.0   \n",
       "\n",
       "   word_freq_our:  word_freq_over:  word_freq_remove:  word_freq_internet:  \\\n",
       "0            0.32             0.00               0.00                 0.00   \n",
       "1            0.14             0.28               0.21                 0.07   \n",
       "2            1.23             0.19               0.19                 0.12   \n",
       "3            0.63             0.00               0.31                 0.63   \n",
       "4            0.63             0.00               0.31                 0.63   \n",
       "5            1.85             0.00               0.00                 1.85   \n",
       "\n",
       "   word_freq_order:  word_freq_mail:  ...  char_freq_;:  char_freq_(:  \\\n",
       "0              0.00             0.00  ...          0.00         0.000   \n",
       "1              0.00             0.94  ...          0.00         0.132   \n",
       "2              0.64             0.25  ...          0.01         0.143   \n",
       "3              0.31             0.63  ...          0.00         0.137   \n",
       "4              0.31             0.63  ...          0.00         0.135   \n",
       "5              0.00             0.00  ...          0.00         0.223   \n",
       "\n",
       "   char_freq_[:  char_freq_!:  char_freq_$:  char_freq_#:  \\\n",
       "0           0.0         0.778         0.000         0.000   \n",
       "1           0.0         0.372         0.180         0.048   \n",
       "2           0.0         0.276         0.184         0.010   \n",
       "3           0.0         0.137         0.000         0.000   \n",
       "4           0.0         0.135         0.000         0.000   \n",
       "5           0.0         0.000         0.000         0.000   \n",
       "\n",
       "   capital_run_length_average:  capital_run_length_longest:  \\\n",
       "0                        3.756                           61   \n",
       "1                        5.114                          101   \n",
       "2                        9.821                          485   \n",
       "3                        3.537                           40   \n",
       "4                        3.537                           40   \n",
       "5                        3.000                           15   \n",
       "\n",
       "   capital_run_length_total:  spam  \n",
       "0                        278     1  \n",
       "1                       1028     1  \n",
       "2                       2259     1  \n",
       "3                        191     1  \n",
       "4                        191     1  \n",
       "5                         54     1  \n",
       "\n",
       "[6 rows x 58 columns]"
      ]
     },
     "execution_count": 263,
     "metadata": {},
     "output_type": "execute_result"
    }
   ],
   "source": [
    "spam = pd.read_csv('C:/Users/Administrator/Desktop/CU/CU_SM2022/QMSSS5073_001_2022_2 - MACHINE LEARNING SOC SCI/mt/spam_dataset.csv')\n",
    "spam.head(6)"
   ]
  },
  {
   "cell_type": "code",
   "execution_count": 294,
   "id": "b1f2a8c4-1b5a-40b7-8f42-78a8c1c1813a",
   "metadata": {},
   "outputs": [
    {
     "data": {
      "text/plain": [
       "Index(['word_freq_make:', 'word_freq_address:', 'word_freq_all:',\n",
       "       'word_freq_3d:', 'word_freq_our:', 'word_freq_over:',\n",
       "       'word_freq_remove:', 'word_freq_internet:', 'word_freq_order:',\n",
       "       'word_freq_mail:', 'word_freq_receive:', 'word_freq_will:',\n",
       "       'word_freq_people:', 'word_freq_report:', 'word_freq_addresses:',\n",
       "       'word_freq_free:', 'word_freq_business:', 'word_freq_email:',\n",
       "       'word_freq_you:', 'word_freq_credit:', 'word_freq_your:',\n",
       "       'word_freq_font:', 'word_freq_000:', 'word_freq_money:',\n",
       "       'word_freq_hp:', 'word_freq_hpl:', 'word_freq_george:',\n",
       "       'word_freq_650:', 'word_freq_lab:', 'word_freq_labs:',\n",
       "       'word_freq_telnet:', 'word_freq_857:', 'word_freq_data:',\n",
       "       'word_freq_415:', 'word_freq_85:', 'word_freq_technology:',\n",
       "       'word_freq_1999:', 'word_freq_parts:', 'word_freq_pm:',\n",
       "       'word_freq_direct:', 'word_freq_cs:', 'word_freq_meeting:',\n",
       "       'word_freq_original:', 'word_freq_project:', 'word_freq_re:',\n",
       "       'word_freq_edu:', 'word_freq_table:', 'word_freq_conference:',\n",
       "       'char_freq_;:', 'char_freq_(:', 'char_freq_[:', 'char_freq_!:',\n",
       "       'char_freq_$:', 'char_freq_#:', 'capital_run_length_average:',\n",
       "       'capital_run_length_longest:', 'capital_run_length_total:', 'spam'],\n",
       "      dtype='object')"
      ]
     },
     "execution_count": 294,
     "metadata": {},
     "output_type": "execute_result"
    }
   ],
   "source": [
    "spam.columns"
   ]
  },
  {
   "cell_type": "code",
   "execution_count": 338,
   "id": "978aa03d-5eb6-4afe-82b8-c04b4c828f9f",
   "metadata": {},
   "outputs": [
    {
     "data": {
      "text/plain": [
       "<matplotlib.collections.PathCollection at 0x2b705ccda00>"
      ]
     },
     "execution_count": 338,
     "metadata": {},
     "output_type": "execute_result"
    },
    {
     "data": {
      "image/png": "[encoded data removed]",
      "text/plain": [
       "<Figure size 432x288 with 1 Axes>"
      ]
     },
     "metadata": {
      "needs_background": "light"
     },
     "output_type": "display_data"
    }
   ],
   "source": [
    "import matplotlib.pyplot as plt\n",
    "plt.scatter(spam['word_freq_business:'], spam.spam)"
   ]
  },
  {
   "cell_type": "code",
   "execution_count": null,
   "id": "f68f007a-4010-4655-9fe0-5cb20c3308dd",
   "metadata": {},
   "outputs": [],
   "source": []
  }
 ],
 "metadata": {
  "kernelspec": {
   "display_name": "Python 3 (ipykernel)",
   "language": "python",
   "name": "python3"
  },
  "language_info": {
   "codemirror_mode": {
    "name": "ipython",
    "version": 3
   },
   "file_extension": ".py",
   "mimetype": "text/x-python",
   "name": "python",
   "nbconvert_exporter": "python",
   "pygments_lexer": "ipython3",
   "version": "3.9.7"
  }
 },
 "nbformat": 4,
 "nbformat_minor": 5
}
